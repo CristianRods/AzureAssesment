{
    "metadata": {
        "kernelspec": {
            "name": "SQL",
            "display_name": "SQL",
            "language": "sql"
        },
        "language_info": {
            "name": "sql",
            "version": ""
        }
    },
    "nbformat_minor": 2,
    "nbformat": 4,
    "cells": [
        {
            "cell_type": "code",
            "source": [
                "Exec sp_helpdb"
            ],
            "metadata": {
                "azdata_cell_guid": "4570cc2c-a29c-4bca-a66e-8dee66972323"
            },
            "outputs": [],
            "execution_count": null
        }
    ]
}