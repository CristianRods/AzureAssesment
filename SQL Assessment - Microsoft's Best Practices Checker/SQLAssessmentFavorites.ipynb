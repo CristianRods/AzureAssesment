{
    "metadata": {
        "kernelspec": {
            "name": "powershell",
            "display_name": "PowerShell",
            "language": "powershell"
        },
        "language_info": {
            "name": "powershell",
            "codemirror_mode": "shell",
            "mimetype": "text/x-sh",
            "file_extension": ".ps1"
        },
        "extensions": {
            "azuredatastudio": {
                "version": 1,
                "views": []
            }
        }
    },
    "nbformat_minor": 2,
    "nbformat": 4,
    "cells": [
        {
            "cell_type": "markdown",
            "source": [
                "## Looking at Few Favorite Rules\n",
                "\n",
                "### SQLAssessmentFavortes.ipynb\n",
                "\n",
                "Written  by:\n",
                "\n",
                "Taiob Ali\n",
                "\n",
                "Last Modified: September 8 th 2021"
            ],
            "metadata": {
                "azdata_cell_guid": "9d499135-1319-4b78-ad4d-9970818cf5fe"
            },
            "attachments": {}
        },
        {
            "cell_type": "code",
            "source": [
                "# Uncomment and run Install-Module only the first time \r\n",
                "# Install-Module -Name SqlServer -AllowClobber -Force\r\n",
                "Import-Module -Name SqlServer\r\n",
                "Get-Module"
            ],
            "metadata": {
                "azdata_cell_guid": "dc017f20-9fb5-4084-b066-a458423186ab",
                "tags": []
            },
            "outputs": [],
            "execution_count": null
        },
        {
            "cell_type": "code",
            "source": [
                "# Declare variables\r\n",
                "$serverInstance = Get-SqlInstance -ServerInstance 'localhost\\SQL2019'\r\n",
                "$database = Get-SqlDatabase -ServerInstance 'localhost\\SQL2019' -Name SqlAssessmentDemo\r\n",
                "$samplesPath='C:\\SQLAsmnt\\CustomizationSamples'"
            ],
            "metadata": {
                "azdata_cell_guid": "8c0170c4-9503-480b-a8fe-c5e51a12aebb"
            },
            "outputs": [],
            "execution_count": null
        },
        {
            "cell_type": "code",
            "source": [
                "# Run a rule by its id (DeprecatedFeatures)\r\n",
                "Invoke-SqlAssessment $serverInstance -Check DeprecatedFeatures"
            ],
            "metadata": {
                "azdata_cell_guid": "6e3c724b-2fd6-41ab-8ea3-d396a0d5aa36"
            },
            "outputs": [],
            "execution_count": null
        },
        {
            "cell_type": "code",
            "source": [
                "# Run a rule by its id (TempDBFilesNotSameSize)\r\n",
                "Invoke-SqlAssessment $serverInstance -Check TempDBFilesNotSameSize"
            ],
            "metadata": {
                "azdata_cell_guid": "be06400f-915e-4bea-acb1-7f4d2482dfe7",
                "tags": []
            },
            "outputs": [],
            "execution_count": null
        },
        {
            "cell_type": "code",
            "source": [
                "# Run a rule by its id (LoginEqPassword)\r\n",
                "Invoke-SqlAssessment $serverInstance -Check 'LoginEqPassword' -Configuration $(join-path $samplesPath \"EnableLoginEqPassword.json\")"
            ],
            "metadata": {
                "azdata_cell_guid": "c412aa4e-6d66-4fa7-9d91-a2084de44a5d"
            },
            "outputs": [],
            "execution_count": null
        },
        {
            "cell_type": "code",
            "source": [
                "# Run a rule by its id (DuplicateIndexes)\r\n",
                "\r\n",
                "Invoke-SqlAssessment $database -Check DuplicateIndexes"
            ],
            "metadata": {
                "azdata_cell_guid": "b2771f2c-1c4d-4758-88f0-36ebcd16e916",
                "tags": []
            },
            "outputs": [],
            "execution_count": null
        },
        {
            "cell_type": "code",
            "source": [
                "# Run a rule by its id (UnusedIndex)\r\n",
                "Invoke-SqlAssessment $database -Check UnusedIndex"
            ],
            "metadata": {
                "azdata_cell_guid": "f2c1a567-6d1a-4a09-878b-738cd456027e"
            },
            "outputs": [],
            "execution_count": null
        },
        {
            "cell_type": "markdown",
            "source": [
                "Setting the 'max server memory' value too high can cause a single instance of SQL Server to compete for memory with other SQL Server instances hosted on the same machine. However, setting this value too low could cause significant memory pressure and performance problems."
            ],
            "metadata": {
                "azdata_cell_guid": "561c460f-107e-48e9-86d0-d7b7fdfacfcd"
            },
            "attachments": {}
        },
        {
            "cell_type": "code",
            "source": [
                "# Run a rule by its id (MaxMemory)\r\n",
                "Invoke-SqlAssessment $serverInstance -Check MaxMemory"
            ],
            "metadata": {
                "azdata_cell_guid": "b408fd8c-b92a-44a1-8840-b50a60a21289"
            },
            "outputs": [],
            "execution_count": null
        },
        {
            "cell_type": "code",
            "source": [
                "Invoke-SqlAssessment $serverInstance -Check PowerPlanSchemeNotRecommended"
            ],
            "metadata": {
                "azdata_cell_guid": "d0e5ba50-8bcf-4c7a-9061-7fe118f8b411"
            },
            "outputs": [],
            "execution_count": null
        },
        {
            "cell_type": "code",
            "source": [
                "# list all available power plans\r\n",
                "powercfg /list"
            ],
            "metadata": {
                "azdata_cell_guid": "1151e4fc-50aa-492e-bedc-83afc358135a"
            },
            "outputs": [],
            "execution_count": null
        },
        {
            "cell_type": "code",
            "source": [
                "# Switch power plan to 'High Performance'\r\n",
                "powercfg.exe -SETACTIVE 8c5e7fda-e8bf-4a96-9a85-a6e23a8c635c"
            ],
            "metadata": {
                "azdata_cell_guid": "593adf72-1b9f-46bc-b060-e2e0d33a4e75"
            },
            "outputs": [],
            "execution_count": null
        },
        {
            "cell_type": "markdown",
            "source": [
                "Revert to balance power plan for future demo"
            ],
            "metadata": {
                "azdata_cell_guid": "3039588c-560a-4733-b2ac-5b773abee863"
            },
            "attachments": {}
        },
        {
            "cell_type": "code",
            "source": [
                "# Switch power plan to 'High Performance'\r\n",
                "powercfg.exe -SETACTIVE 381b4222-f694-41f0-9685-ff5bb260df2e"
            ],
            "metadata": {
                "azdata_cell_guid": "74b4fe39-f365-429d-85cc-cfcb400e49c2"
            },
            "outputs": [],
            "execution_count": null
        }
    ]
}