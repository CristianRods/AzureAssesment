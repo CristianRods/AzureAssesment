{
    "metadata": {
        "kernelspec": {
            "name": "python3",
            "display_name": "Python 3",
            "language": "python"
        },
        "language_info": {
            "name": "python",
            "version": "3.6.6",
            "mimetype": "text/x-python",
            "codemirror_mode": {
                "name": "ipython",
                "version": 3
            },
            "pygments_lexer": "ipython3",
            "nbconvert_exporter": "python",
            "file_extension": ".py"
        }
    },
    "nbformat_minor": 2,
    "nbformat": 4,
    "cells": [
        {
            "cell_type": "markdown",
            "source": [
                "## Downloaded from [https://notebooks.azure.com/ManojRaheja/projects/KustoMagicSamples/html/Getting%20Started%20with%20kqlmagic%20on%20Azure%20Data%20Explorer.ipynb](https://notebooks.azure.com/ManojRaheja/projects/KustoMagicSamples/html/Getting%20Started%20with%20kqlmagic%20on%20Azure%20Data%20Explorer.ipynb)\n",
                "\n",
                "  \n",
                "\n",
                "## Edited by Taiob Ali\n",
                "\n",
                "### November 20th 2020\n",
                "\n",
                "  \n",
                "\n",
                "# Introduction\n",
                "\n",
                "Jupyter supports magic functions that extends the capabilities of kernel by supporting additional commands that are not natively supported by the kernel. kqlmagic helps you to extend the capabilities of Python kernel in Jupyter Notebook and allows you to run Kusto Query Language queries natively. It supports Azure Data Explorer, Application Insights, and Log Analytics as data sources to run queries against.\n",
                "\n",
                "This tutorial demonstrates some of the key capabilities of kqlmagic querying data from Azure Data Explorer. Please refer the following sample notebooks to learn all the available commands.\n",
                "\n",
                "- [Get Started with Kqlmagic for Azure Data Explorer](https://mybinder.org/v2/gh/Microsoft/jupyter-Kqlmagic/master?filepath=notebooks%2FQuickStart.ipynb)\n",
                "- [Get Started with Kqlmagic for Application Insights](https://mybinder.org/v2/gh/Microsoft/jupyter-Kqlmagic/master?filepath=notebooks%2FQuickStartAI.ipynb)\n",
                "- [Get Started with Kqlmagic for Log Analytics](https://mybinder.org/v2/gh/Microsoft/jupyter-Kqlmagic/master?filepath=notebooks%2FQuickStartLA.ipynb)\n",
                "- [Parametrize your Kqlmagic query with Python](https://mybinder.org/v2/gh/Microsoft/jupyter-Kqlmagic/master?filepath=notebooks%2FParametrizeYourQuery.ipynb)\n",
                "- [Choose colors palette for your Kqlmagic query chart result](https://mybinder.org/v2/gh/Microsoft/jupyter-Kqlmagic/master?filepath=notebooks%2FColorYourCharts.ipynb)"
            ],
            "metadata": {
                "azdata_cell_guid": "7f1a1940-fc67-4d11-b077-4efaeb43b9ac"
            }
        },
        {
            "cell_type": "markdown",
            "source": [
                "# Prerequisite"
            ],
            "metadata": {
                "azdata_cell_guid": "71bf473c-3238-4c67-aa5b-a132854d7ebb"
            }
        },
        {
            "cell_type": "markdown",
            "source": [
                "### Install kqlmagic library"
            ],
            "metadata": {
                "azdata_cell_guid": "4c922b08-8257-4317-b328-3a7851da83a6"
            }
        },
        {
            "cell_type": "code",
            "source": [
                "!pip install Kqlmagic --no-cache-dir  --upgrade"
            ],
            "metadata": {
                "trusted": true,
                "azdata_cell_guid": "4dc6e162-96ec-4f31-835b-811ddfe4bd20"
            },
            "outputs": [],
            "execution_count": null
        },
        {
            "cell_type": "markdown",
            "source": [
                "### Load kqlmagic"
            ],
            "metadata": {
                "azdata_cell_guid": "ce0928f9-d4c3-4c9d-ae1d-4ee13b4aedac"
            }
        },
        {
            "cell_type": "code",
            "source": [
                "reload_ext Kqlmagic"
            ],
            "metadata": {
                "trusted": true,
                "azdata_cell_guid": "acb90494-8fe8-4a93-bf2e-faa3a8c0494f"
            },
            "outputs": [],
            "execution_count": null
        },
        {
            "cell_type": "markdown",
            "source": [
                "## Connect to the Azure Data Explorer Help cluster\n",
                "\n",
                "Following command connect to the Samples database hosted on Help cluster. For non-Microsoft AAD users, please replace the tenant name “Microsoft.com” with your AAD Tenant."
            ],
            "metadata": {
                "azdata_cell_guid": "efcfebf5-3668-4040-ab74-86ad948cdb59"
            }
        },
        {
            "cell_type": "code",
            "source": [
                "%kql AzureDataExplorer://tenant=\"Microsoft.com\";code;cluster='help';database='Samples'"
            ],
            "metadata": {
                "trusted": true,
                "azdata_cell_guid": "5501ac33-c283-46f4-a0d0-7747f9b602f2"
            },
            "outputs": [],
            "execution_count": null
        },
        {
            "cell_type": "markdown",
            "source": [
                "# Query and visualize\n",
                "\n",
                "In this section we will look at how to query and visualize data using kql render command and visualize data using ploy.ly library. All with an integrated experience using native KQL <a href=\"https://docs.microsoft.com/azure/kusto/query/renderoperator\" data-href=\"https://docs.microsoft.com/azure/kusto/query/renderoperator\" title=\"https://docs.microsoft.com/azure/kusto/query/renderoperator\">render operator.</a> kqlmagic supports most charts except timepivot, pivotchart, and ladderchart and all render with attributes are supported except: kind, ysplit, and accumulate."
            ],
            "metadata": {
                "azdata_cell_guid": "2e3fd75a-228d-4a39-b22a-10281669e758"
            }
        },
        {
            "cell_type": "markdown",
            "source": [
                "### Query and render piechart"
            ],
            "metadata": {
                "azdata_cell_guid": "ea102088-8bbd-47d4-ab47-d66de5215a14"
            }
        },
        {
            "cell_type": "code",
            "source": [
                "%%kql \n",
                "StormEvents \n",
                "| summarize statecount=count() by State\n",
                "| sort by statecount \n",
                "| limit 10"
            ],
            "metadata": {
                "trusted": true,
                "azdata_cell_guid": "f6f58b15-3d70-44ee-9687-0f68c724c6e5"
            },
            "outputs": [],
            "execution_count": null
        },
        {
            "cell_type": "markdown",
            "source": [
                "### Query and render timechart\n",
                "\n",
                "Here is another example of rendering timechart. These charts are interactive, try zooming in a specific time by selecting the time range."
            ],
            "metadata": {
                "azdata_cell_guid": "03be49bf-0fd4-4327-a74d-b471da71afe0"
            }
        },
        {
            "cell_type": "code",
            "source": [
                "%%kql\n",
                "StormEvents\n",
                "| summarize count() by bin(StartTime,7d)\n",
                "| render timechart"
            ],
            "metadata": {
                "trusted": true,
                "azdata_cell_guid": "5caeaeb1-c2e0-4817-8052-4390654a031b"
            },
            "outputs": [],
            "execution_count": null
        },
        {
            "cell_type": "markdown",
            "source": [
                "# Customize the chart colors\n",
                "\n",
                "If you don’t like the default color plate, you can customize the charts by setting the palette options. Let’s look at all the palette available to us. To learn more, please refer this sample notebook: <a href=\"https://mybinder.org/v2/gh/Microsoft/jupyter-Kqlmagic/master?filepath=notebooks%2FColorYourCharts.ipynb\" data-href=\"https://mybinder.org/v2/gh/Microsoft/jupyter-Kqlmagic/master?filepath=notebooks%2FColorYourCharts.ipynb\" title=\"https://mybinder.org/v2/gh/Microsoft/jupyter-Kqlmagic/master?filepath=notebooks%2FColorYourCharts.ipynb\">Choose colors palette for your Kqlmagic query chart result</a>"
            ],
            "metadata": {
                "azdata_cell_guid": "44679e81-bccc-4655-97fc-210235569588"
            }
        },
        {
            "cell_type": "code",
            "source": [
                "%kql --palettes -popup_window"
            ],
            "metadata": {
                "trusted": true,
                "azdata_cell_guid": "05caefc8-4675-4ce0-96d7-bb88cb542c16"
            },
            "outputs": [],
            "execution_count": null
        },
        {
            "cell_type": "markdown",
            "source": [
                "Let’s choose “cool” color palettes and render the query again."
            ],
            "metadata": {
                "azdata_cell_guid": "e91c1864-7cd1-4c0d-902e-aea21cfbee56"
            }
        },
        {
            "cell_type": "code",
            "source": [
                "%%kql -palette_name \"cool\"\n",
                "StormEvents \n",
                "| summarize statecount=count() by State\n",
                "| sort by statecount \n",
                "| limit 10\n",
                "| render piechart title=\"My Pie Chart by State\""
            ],
            "metadata": {
                "trusted": true,
                "azdata_cell_guid": "4511ba7f-65c4-4529-b184-b25792cc0d41"
            },
            "outputs": [],
            "execution_count": null
        },
        {
            "cell_type": "markdown",
            "source": [
                "# Connect to demo workspace <a href=\"https://aka.ms/LADemo\" data-href=\"https://aka.ms/LADemo\" title=\"https://aka.ms/LADemo\">https://aka.ms/LADemo</a>."
            ],
            "metadata": {
                "azdata_cell_guid": "dba654a4-96e8-481d-836c-23e7a8d4f699"
            }
        },
        {
            "cell_type": "code",
            "source": [
                "%kql loganalytics://workspace='DEMO_WORKSPACE';appkey='DEMO_KEY';alias='myworkspace'"
            ],
            "metadata": {
                "azdata_cell_guid": "1b67c0e2-dfd2-4528-8722-eee147ef4678"
            },
            "outputs": [],
            "execution_count": null
        },
        {
            "cell_type": "markdown",
            "source": [
                "# Query Demo workspace"
            ],
            "metadata": {
                "azdata_cell_guid": "96721120-bce7-4368-9db0-9dddc2b28cff"
            }
        },
        {
            "cell_type": "markdown",
            "source": [
                "Take/Limit are synonyms ([https://docs.microsoft.com/en-us/azure/kusto/query/takeoperator](https://docs.microsoft.com/en-us/azure/kusto/query/takeoperator))\n",
                "\n",
                "Take isused to graba random number of rows from the input data\n",
                "\n",
                "There is no guarantee which records are returned, unless the source data is sorted\n",
                "\n",
                "Take can be combined with other language operators"
            ],
            "metadata": {
                "azdata_cell_guid": "70a307bf-6e63-4a79-acdf-4eb9268873c3"
            }
        },
        {
            "cell_type": "code",
            "source": [
                "%%kql\r\n",
                "AzureMetrics\r\n",
                "| where TimeGenerated >= ago(1h)\r\n",
                "| where (MetricName == \"CPU Credits Remaining\"\r\n",
                "         or\r\n",
                "         MetricName == \"Percentage CPU\"\r\n",
                "         )\r\n",
                "| where Average > 10\r\n",
                "| take 10"
            ],
            "metadata": {
                "azdata_cell_guid": "10fc494f-a63b-4857-b7e9-69568352ec3f"
            },
            "outputs": [],
            "execution_count": null
        },
        {
            "cell_type": "markdown",
            "source": [
                "# How To Connect to Log Analytics Workspace"
            ],
            "metadata": {
                "azdata_cell_guid": "37550bc1-75cc-4283-9cd5-d9042e69133f"
            }
        },
        {
            "cell_type": "markdown",
            "source": [
                "## Connecting using client secret\n",
                "\n",
                "To understand details about the connection string I followed the document [Connecting to Log Analytics using Azure Data Studio and KQL](https://www.red-gate.com/simple-talk/blogs/connecting-log-analytics-using-azure-data-studio-kql/) by Dennes Torres\n",
                "\n",
                "You need change the values as described in the above article in order for this to work."
            ],
            "metadata": {
                "azdata_cell_guid": "ff44cfae-a649-4287-955b-2e6eb6c772c9"
            }
        },
        {
            "cell_type": "code",
            "source": [
                "%kql loganalytics://tenant='d5b50601-6698-4f8f-beb6-1799fee4dc80';clientid='7b1fcde4-b8c5-479d-9896-5c767a19fe7a';clientsecret='f.4g9_kHqq1AU48M90T8kilP~_VsRnd9om';workspace='576e1cba-2d04-459e-b457-fe157e632dea';alias='Sqlalertdemo2'"
            ],
            "metadata": {
                "azdata_cell_guid": "c603e523-cf5c-4c69-8b34-7393ed9a9178"
            },
            "outputs": [],
            "execution_count": null
        },
        {
            "cell_type": "markdown",
            "source": [
                "## Connecting using user authentication\n",
                "\n",
                "Ref: [Demo: Querying Log Analytics with Kqlmagic with AAD User Auth](https://github.com/MsSQLGirl/jubilant-data-wizards/blob/main/Simple%20Demo/KQL%20Notebooks/Demo-KqlmagicLogAnalyticsWithUserAuth.ipynb)"
            ],
            "metadata": {
                "azdata_cell_guid": "03f7e79d-3b3e-47b1-a4af-3a0f639db35b"
            }
        },
        {
            "cell_type": "code",
            "source": [
                "%kql loganalytics://code;tenant='d5b50601-6698-4f8f-beb6-1799fee4dc80';workspace='e196c4e4-0aee-4f03-bb73-d20651fe8e48';alias='demoAlias'"
            ],
            "metadata": {
                "azdata_cell_guid": "1ff48504-2ae2-4e24-9277-db07529f6de1"
            },
            "outputs": [],
            "execution_count": null
        },
        {
            "cell_type": "markdown",
            "source": [
                "### Looking it top 10 collected metrics in last 24 hours"
            ],
            "metadata": {
                "azdata_cell_guid": "e1d9fbfd-682a-4c6b-a966-fbcf83561721"
            }
        },
        {
            "cell_type": "code",
            "source": [
                "%%kql\r\n",
                "AzureMetrics \r\n",
                "| where TimeGenerated > ago(24h) \r\n",
                "| limit 10"
            ],
            "metadata": {
                "azdata_cell_guid": "026c8627-9d17-4c45-a287-fd465e26913b",
                "tags": []
            },
            "outputs": [],
            "execution_count": null
        },
        {
            "cell_type": "markdown",
            "source": [
                "### Looking at Deadlock for last one hour"
            ],
            "metadata": {
                "azdata_cell_guid": "68647fb3-c5c9-42f8-8fdb-fa1c068ed25d"
            }
        },
        {
            "cell_type": "code",
            "source": [
                "%%kql\r\n",
                "AzureDiagnostics \r\n",
                "| where  Category == 'Deadlocks' \r\n",
                "| where TimeGenerated > ago(1h)"
            ],
            "metadata": {
                "azdata_cell_guid": "5de3b9af-57bb-4dc3-8c64-245f061433a6"
            },
            "outputs": [],
            "execution_count": null
        },
        {
            "cell_type": "markdown",
            "source": [
                "# Next steps\n",
                "\n",
                "Run the help command to know more and explore the following sample notebooks that contains all the supported features.\n",
                "\n",
                "- [Get Started with Kqlmagic for Azure Data Explorer](https://mybinder.org/v2/gh/Microsoft/jupyter-Kqlmagic/master?filepath=notebooks%2FQuickStart.ipynb)\n",
                "- [Get Started with Kqlmagic for Application Insights](https://mybinder.org/v2/gh/Microsoft/jupyter-Kqlmagic/master?filepath=notebooks%2FQuickStartAI.ipynb)\n",
                "- [Get Started with Kqlmagic for Log Analytics](https://mybinder.org/v2/gh/Microsoft/jupyter-Kqlmagic/master?filepath=notebooks%2FQuickStartLA.ipynb)\n",
                "- [Parametrize your Kqlmagic query with Python](https://mybinder.org/v2/gh/Microsoft/jupyter-Kqlmagic/master?filepath=notebooks%2FParametrizeYourQuery.ipynb)\n",
                "- [Choose colors palette for your Kqlmagic query chart result](https://mybinder.org/v2/gh/Microsoft/jupyter-Kqlmagic/master?filepath=notebooks%2FColorYourCharts.ipynb)"
            ],
            "metadata": {
                "azdata_cell_guid": "d6a46c26-13e8-4da1-880a-4fcec748ef65"
            }
        },
        {
            "cell_type": "code",
            "source": [
                "%kql --help \"help\""
            ],
            "metadata": {
                "trusted": true,
                "scrolled": true,
                "azdata_cell_guid": "0031d551-4855-423d-b251-af3f6b20a907"
            },
            "outputs": [],
            "execution_count": null
        }
    ]
}