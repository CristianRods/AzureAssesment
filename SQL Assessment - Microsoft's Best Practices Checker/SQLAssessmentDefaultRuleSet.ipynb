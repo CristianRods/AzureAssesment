{
    "metadata": {
        "kernelspec": {
            "name": "SQL",
            "display_name": "SQL",
            "language": "sql"
        },
        "language_info": {
            "name": "sql",
            "version": ""
        }
    },
    "nbformat_minor": 2,
    "nbformat": 4,
    "cells": [
        {
            "cell_type": "markdown",
            "source": [
                "## Looking at Default Ruleset Metrics\n",
                "\n",
                "### SQLAssessmentDefaultRuleSet.ipynb\n",
                "\n",
                "Written  by:\n",
                "\n",
                "Taiob Ali\n",
                "\n",
                "July 15th 2021\n",
                "\n",
                "I loaded defualt rule set to a database table from [here](https://github.com/microsoft/sql-server-samples/tree/master/samples/manage/sql-assessment-api).\n",
                "\n",
                "Let's look at some metrics about the default ruleset."
            ],
            "metadata": {
                "azdata_cell_guid": "6ee59295-c94b-4238-9377-30cdeb0236bd"
            }
        },
        {
            "cell_type": "code",
            "source": [
                "SELECT \r\n",
                "  COUNT(*) AS [howManyRules]\r\n",
                "FROM [SqlAssessmentDemo].[dbo].[ruleset]"
            ],
            "metadata": {
                "azdata_cell_guid": "1f6bc437-ac30-4603-89e1-3e8290f5ecdf"
            },
            "outputs": [],
            "execution_count": null
        },
        {
            "cell_type": "code",
            "source": [
                "SELECT TOP 5\r\n",
                "  *\r\n",
                "FROM [SqlAssessmentDemo].[dbo].[ruleset]"
            ],
            "metadata": {
                "azdata_cell_guid": "7410955b-14a9-47bd-b9d8-deaec1dcd64a"
            },
            "outputs": [],
            "execution_count": null
        },
        {
            "cell_type": "code",
            "source": [
                "SELECT \r\n",
                "  DISTINCT target_type\r\n",
                "FROM [SqlAssessmentDemo].[dbo].[ruleset]"
            ],
            "metadata": {
                "azdata_cell_guid": "fe6ca436-2184-4674-a8c7-35cc4ed45749"
            },
            "outputs": [],
            "execution_count": null
        },
        {
            "cell_type": "code",
            "source": [
                "SELECT \r\n",
                "  level, \r\n",
                "  COUNT (*) AS [howManyPerLevel]\r\n",
                "FROM [SqlAssessmentDemo].[dbo].[ruleset]\r\n",
                "GROUP BY [level]"
            ],
            "metadata": {
                "azdata_cell_guid": "954ff9c0-511a-4cc1-bcdf-65bdb689e268"
            },
            "outputs": [
                {
                    "output_type": "display_data",
                    "data": {
                        "text/html": "(3 rows affected)"
                    },
                    "metadata": {}
                },
                {
                    "output_type": "display_data",
                    "data": {
                        "text/html": "Total execution time: 00:00:00.019"
                    },
                    "metadata": {}
                },
                {
                    "output_type": "execute_result",
                    "metadata": {},
                    "execution_count": 10,
                    "data": {
                        "application/vnd.dataresource+json": {
                            "schema": {
                                "fields": [
                                    {
                                        "name": "level"
                                    },
                                    {
                                        "name": "howManyPerLevel"
                                    }
                                ]
                            },
                            "data": [
                                {
                                    "0": "Critical",
                                    "1": "2"
                                },
                                {
                                    "0": "Information",
                                    "1": "22"
                                },
                                {
                                    "0": "Warning",
                                    "1": "179"
                                }
                            ]
                        },
                        "text/html": [
                            "<table>",
                            "<tr><th>level</th><th>howManyPerLevel</th></tr>",
                            "<tr><td>Critical</td><td>2</td></tr>",
                            "<tr><td>Information</td><td>22</td></tr>",
                            "<tr><td>Warning</td><td>179</td></tr>",
                            "</table>"
                        ]
                    }
                }
            ],
            "execution_count": 10
        },
        {
            "cell_type": "markdown",
            "source": [
                "Created a pull request to remove the extra quote from around Windows."
            ],
            "metadata": {
                "azdata_cell_guid": "4d0536a4-c30a-41a6-ac5b-a17de1bff8ab"
            }
        },
        {
            "cell_type": "code",
            "source": [
                "SELECT \r\n",
                "  target_platform, \r\n",
                "  COUNT (*) AS [howManyPerPlatform] \r\n",
                "FROM [SqlAssessmentDemo].[dbo].[ruleset]\r\n",
                "GROUP BY target_platform"
            ],
            "metadata": {
                "azdata_cell_guid": "ed9289ac-a6c3-48b6-ac0d-5489559065a4"
            },
            "outputs": [],
            "execution_count": null
        },
        {
            "cell_type": "markdown",
            "source": [
                "I did reach out to the product team about 5 rules with NULL <span style=\"color: rgb(255, 255, 255); font-family: Consolas, &quot;Courier New&quot;, monospace; white-space: pre;\">target_engineEdition. This will be fixed during next release.</span>"
            ],
            "metadata": {
                "azdata_cell_guid": "7af802fb-e03a-4e55-8319-c59a0a410eeb"
            }
        },
        {
            "cell_type": "code",
            "source": [
                "SELECT \r\n",
                "  target_engineEdition, \r\n",
                "  COUNT (*) AS [howManyPerEngEdition] \r\n",
                "FROM [SqlAssessmentDemo].[dbo].[ruleset]\r\n",
                "GROUP BY target_engineEdition"
            ],
            "metadata": {
                "azdata_cell_guid": "764f511a-b241-4440-8302-92ee1ce8dcd8"
            },
            "outputs": [],
            "execution_count": null
        },
        {
            "cell_type": "code",
            "source": [
                "SELECT \r\n",
                "  SUBSTRING (target_version, CHARINDEX('1',target_version, 1) , 2) AS [SQLVersion], \r\n",
                "  COUNT(*) AS [howManyPerVerison]\r\n",
                "FROM [SqlAssessmentDemo].[dbo].[ruleset]\r\n",
                "WHERE target_version IS NOT NULL\r\n",
                "GROUP BY SUBSTRING (target_version, CHARINDEX('1',target_version, 1) , 2)"
            ],
            "metadata": {
                "azdata_cell_guid": "a2d494e9-7e02-4958-9409-e90f7c5b80be"
            },
            "outputs": [],
            "execution_count": null
        },
        {
            "cell_type": "markdown",
            "source": [
                "## My Favorites"
            ],
            "metadata": {
                "azdata_cell_guid": "2f2eb2b0-1631-48fa-b9a8-a18f340253c6"
            }
        },
        {
            "cell_type": "code",
            "source": [
                "SELECT\r\n",
                "  *\r\n",
                "FROM [SqlAssessmentDemo].[dbo].[ruleSet]\r\n",
                "WHERE id IN \r\n",
                "    (\r\n",
                "      'DeprecatedFeatures', \r\n",
                "      'LatestCU', \r\n",
                "      'TempDBFilesNotSameSize',\r\n",
                "      'DuplicateIndexes',\r\n",
                "      'UnusedIndex',\r\n",
                "      'WeakPassword',\r\n",
                "      'MaxMemory',\r\n",
                "      'PowerPlanSchemeNotRecommended',\r\n",
                "      'LoginEqPassword'\r\n",
                "    )"
            ],
            "metadata": {
                "azdata_cell_guid": "334bf813-397d-4273-aca1-20cb04c1400b"
            },
            "outputs": [],
            "execution_count": null
        }
    ]
}