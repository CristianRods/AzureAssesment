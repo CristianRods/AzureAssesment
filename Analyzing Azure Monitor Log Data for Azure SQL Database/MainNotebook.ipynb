{
    "metadata": {
        "kernelspec": {
            "name": "SQL",
            "display_name": "SQL",
            "language": "sql"
        },
        "language_info": {
            "name": "sql",
            "version": ""
        }
    },
    "nbformat_minor": 2,
    "nbformat": 4,
    "cells": [
        {
            "cell_type": "markdown",
            "source": [
                "![alt text](Title.jpg \"Title Slide\")"
            ],
            "metadata": {
                "azdata_cell_guid": "889d9014-2e01-4429-b374-091599551a0c"
            },
            "attachments": {}
        },
        {
            "cell_type": "markdown",
            "source": [
                "# **<u>Abstract</u>**\n",
                "\n",
                "### Kusto is a service for storing and running interactive analytics over Big Data. Kusto was designed from scratch to be a “big data” repository for Azure and easy to query using Kusto Query Language (KQL). As we progress in our migration to the cloud, we learn new ways to monitor and alert resources and services. Microsoft has consolidated many services under the umbrella of ‘Azure Monitor.’ Whether you are detecting and diagnosing issues across applications and dependencies,’ ‘correlating infrastructure issues with Azure Monitor for VMs,’ ‘drill into your SQL database monitoring data with Log Analytics, you will be using ‘Azure Monitor.’ Azure Monitor uses a version of the KQL used by Azure Data Explorer.\n",
                "\n",
                "### In this 100% demo session, I will show you:\n",
                "\n",
                "1. How to enable event logging (auditing and diagnostic) for the Azure SQL database? \n",
                "2. How do you consume the data once you enable event logging? \n",
                "3. How do you find anomalies to alert on, establish a baseline, look at trends? \n",
                "4. How do you consume this using python and kql notebook from Azure Data Studio using kql magic, kql kernel, and the recently released Azure Monitor Logs extension?"
            ],
            "metadata": {
                "azdata_cell_guid": "d3df1845-bf52-4cb2-ad66-ae5862abdb0f"
            },
            "attachments": {}
        },
        {
            "cell_type": "markdown",
            "source": [
                "## Why Kusto?\n",
                "\n",
                "WhyKusto.ipynb"
            ],
            "metadata": {
                "azdata_cell_guid": "d2364831-66ef-4ab5-8bd9-3a6705591adc"
            },
            "attachments": {}
        },
        {
            "cell_type": "markdown",
            "source": [
                "## 1\\. How to enable event logging (auditing and diagnostic) for the Azure SQL database?\n",
                "\n",
                "Run following files before starting the demo\n",
                "\n",
                "- Setup.ipynb\n",
                "- Create a workbook (name SQLPass2022DemoWorkbook) using the code from: https://github.com/microsoft/AzureMonitorCommunity/tree/master/Azure%20Services/SQL%20databases/Workbooks/galleryTemplate\n",
                "- Setup1.sql\n",
                "- Setup2.sql"
            ],
            "metadata": {
                "azdata_cell_guid": "74b43ca3-cd5c-46f3-b7b1-b38b778a179a"
            },
            "attachments": {}
        },
        {
            "cell_type": "markdown",
            "source": [
                "## 2\\. How do you consume the data once you enable event logging?\n",
                "\n",
                "- Show Solution \"Azure SQL Analytics (Preview)\" in portal \n",
                "- Show workbook SQLPass2022DemoWorkbook, created during setup\n",
                "- Open ConsumeDataWithKQL.kql in portal"
            ],
            "metadata": {
                "azdata_cell_guid": "3c39045e-85cf-4fd0-8e8b-67a638c6a850"
            },
            "attachments": {}
        },
        {
            "cell_type": "markdown",
            "source": [
                "## 3\\. How do you find anomalies to alert on, establish a baseline, look at trends?\n",
                "\n",
                "- Open Baseline.kql in portal"
            ],
            "metadata": {
                "azdata_cell_guid": "370f2390-bb42-4fd4-a83d-7aebc6ca5b51"
            },
            "attachments": {}
        },
        {
            "cell_type": "markdown",
            "source": [
                "## 4\\. How do you consume this using python and kql notebook from Azure Data Studio using kql magic, kql kernel, and the recently released Azure Monitor Logs extension?\n",
                "\n",
                "- Demokqlmagic.ipynb\n",
                "- DemokqlExtension.ipynb\n",
                "- DemoAzureMonitorLogExtension.ipynb"
            ],
            "metadata": {
                "azdata_cell_guid": "812a71c8-69f7-4789-b6df-0b5477a12091"
            },
            "attachments": {}
        },
        {
            "cell_type": "markdown",
            "source": [
                "# **<u>Reference</u>**\n",
                "\n",
                "- [Monitoring and performance tuning in Azure SQL Database and Azure SQL Managed Instance](https://learn.microsoft.com/en-us/azure/azure-sql/database/monitor-tune-overview?view=azuresql)\n",
                "- [Kusto Query Language (KQL) overview](https://learn.microsoft.com/en-us/azure/data-explorer/kusto/query/)\n",
                "- [Use a Jupyter Notebook and kqlmagic extension to analyze data in Azure Data Explorer](https://learn.microsoft.com/en-us/azure/data-explorer/kqlmagic)\n",
                "- [Kusto (KQL) extension for Azure Data Studio (Preview)](https://learn.microsoft.com/en-us/sql/azure-data-studio/extensions/kusto-extension?view=sql-server-ver15)\n",
                "- [Azure Monitor Logs extension for Azure Data Studio (Preview)](https://learn.microsoft.com/en-us/sql/azure-data-studio/extensions/azure-monitor-logs-extension?view=sql-server-ver15)"
            ],
            "metadata": {
                "azdata_cell_guid": "03f2bc69-ee5a-46c4-8409-7c0730d6fe80"
            },
            "attachments": {}
        },
        {
            "cell_type": "markdown",
            "source": [
                "![alt text](SessionEvaluation.jpg \"Slide1\")"
            ],
            "metadata": {
                "azdata_cell_guid": "20f54c22-7cbf-4776-8cb1-8715043132bb"
            },
            "attachments": {}
        },
        {
            "cell_type": "markdown",
            "source": [
                "![alt text](ThankYou.jpg \"ThankYou\")"
            ],
            "metadata": {
                "azdata_cell_guid": "b58277a9-209d-4b18-a014-85315910d8c8"
            },
            "attachments": {}
        }
    ]
}