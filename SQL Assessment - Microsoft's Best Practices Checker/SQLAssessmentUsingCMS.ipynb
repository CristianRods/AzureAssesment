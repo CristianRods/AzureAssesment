{
    "metadata": {
        "kernelspec": {
            "name": "powershell",
            "display_name": "PowerShell",
            "language": "powershell"
        },
        "language_info": {
            "name": "powershell",
            "codemirror_mode": "shell",
            "mimetype": "text/x-sh",
            "file_extension": ".ps1"
        }
    },
    "nbformat_minor": 2,
    "nbformat": 4,
    "cells": [
        {
            "cell_type": "markdown",
            "source": [
                "## Running Assessment for all SQL Servers\n",
                "\n",
                "- Using Central Management Server\n",
                "- Using [DBTOOLS funciton](https://www.powershellgallery.com/packages/dbatools/0.9.196/Content/functions%5CGet-DbaRegisteredServer.ps1)\n",
                "- Saving result to database table\n",
                "- Purge resutl based on retention"
            ],
            "metadata": {
                "azdata_cell_guid": "180310a8-8ea6-47e7-8e34-7b6e1c060457"
            }
        },
        {
            "cell_type": "code",
            "source": [
                "# Use Group switch if you only want to run on certain groups\r\n",
                "# See the function for other switches\r\n",
                "$DBServers = Get-DbaRegisteredServer -SqlInstance CMSServer -Group DEV\r\n",
                "\r\n",
                "  Foreach ($Server in $DBServers)\r\n",
                "  {\r\n",
                "      Write-host -nonewline \".\"\r\n",
                "      #-- Make Sure Server is available before connecting\r\n",
                "      $SQLManagementInstance = \"ServerName where you want the result to be saved\"\r\n",
                "   \r\n",
                "      Get-SqlInstance -ServerInstance $($Server.ServerName) | \r\n",
                "      Invoke-SqlAssessment -FlattenOutput |\r\n",
                "\r\n",
                "Write-SqlTableData -ServerInstance $SQLManagementInstance -DatabaseName SQLAssessmentDemo -SchemaName Assessment -TableName Results -Force\r\n",
                "\r\n",
                " $Query=@\"\r\n",
                "IF OBJECT_ID('SQLAssessmentDemo..Assessment.Results') IS NULL\r\n",
                "CREATE TABLE [Assessment].[Results](\r\n",
                "\t[CheckName] [nvarchar](max) NOT NULL,\r\n",
                "\t[CheckId] [nvarchar](max) NOT NULL,\r\n",
                "\t[RulesetName] [nvarchar](max) NOT NULL,\r\n",
                "\t[RulesetVersion] [nvarchar](max) NOT NULL,\r\n",
                "\t[Severity] [nvarchar](max) NOT NULL,\r\n",
                "\t[Message] [nvarchar](max) NOT NULL,\r\n",
                "\t[TargetPath] [nvarchar](max) NOT NULL,\r\n",
                "\t[TargetType] [nvarchar](max) NOT NULL,\r\n",
                "\t[HelpLink] [nvarchar](max) NOT NULL,\r\n",
                "\t[Timestamp] [datetimeoffset](7) NOT NULL\r\n",
                ") ON [PRIMARY] TEXTIMAGE_ON [PRIMARY]\r\n",
                "\r\n",
                "\r\n",
                "\r\n",
                "IF OBJECT_ID('SQLAssessmentDemo..Assessment.Results_Archive') IS NULL\r\n",
                "CREATE TABLE [Assessment].[Results_Archive](\r\n",
                "\t[CheckName] [nvarchar](max) NOT NULL,\r\n",
                "\t[CheckId] [nvarchar](max) NOT NULL,\r\n",
                "\t[RulesetName] [nvarchar](max) NOT NULL,\r\n",
                "\t[RulesetVersion] [nvarchar](max) NOT NULL,\r\n",
                "\t[Severity] [nvarchar](max) NOT NULL,\r\n",
                "\t[Message] [nvarchar](max) NOT NULL,\r\n",
                "\t[TargetPath] [nvarchar](max) NOT NULL,\r\n",
                "\t[TargetType] [nvarchar](max) NOT NULL,\r\n",
                "\t[HelpLink] [nvarchar](max) NOT NULL,\r\n",
                "\t[Timestamp] [datetimeoffset](7) NOT NULL\r\n",
                ") ON [PRIMARY] TEXTIMAGE_ON [PRIMARY]\r\n",
                "\r\n",
                "INSERT INTO [Assessment].[Results]\r\n",
                "SELECT * FROM [Assessment].[Results]\r\n",
                "--Adjust result retention period\r\n",
                "DELETE FROM [Assessment].[Results_Archive] WHERE RecCreatedDt< GETDATE()-7\r\n",
                "\r\n",
                "TRUNCATE TABLE SQLAssessmentDemo..[Assessment].[Results]\r\n",
                "\"@\r\n",
                "\r\n",
                "}"
            ],
            "metadata": {
                "azdata_cell_guid": "18440651-b7fe-4a41-95d6-b4257c29058d"
            },
            "outputs": [],
            "execution_count": null
        }
    ]
}