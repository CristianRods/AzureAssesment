{
    "metadata": {
        "kernelspec": {
            "name": "powershell",
            "display_name": "PowerShell",
            "language": "powershell"
        },
        "language_info": {
            "name": "powershell",
            "codemirror_mode": "shell",
            "mimetype": "text/x-sh",
            "file_extension": ".ps1"
        }
    },
    "nbformat_minor": 2,
    "nbformat": 4,
    "cells": [
        {
            "cell_type": "markdown",
            "source": [
                "# SQL Assessment API Tutorial\n",
                "\n",
                "This notebook is copied from :  \n",
                "<span style=\"font-size:14px;\"><a href=\"https://github.com/microsoft/sql-server-samples/tree/master/samples/manage/sql-assessment-api/notebooks\" title=\"https://github.com/microsoft/sql-server-samples/tree/master/samples/manage/sql-assessment-api/notebooks\" rel=\"nofollow\">https://github.com/microsoft/sql-server-samples/tree/master/samples/manage/sql-assessment-api/notebooks</a></span>\n",
                "\n",
                "Modified by:\n",
                "\n",
                "Taiob Ali\n",
                "\n",
                "Last Modified: August 11 th 2021  \n",
                "\n",
                "You can use this tutorial to understand how to assess your SQL Server configuration for best practices. In this tutorial, you will learn:\n",
                "\n",
                "1. How to install PowerShell SqlServer module that includes SQL Assessment API cmdlets.\n",
                "2. How to assess your SQL Server and databases\n",
                "3. How to save results in a sql table and graph over results\n",
                "4. How to customize rules by disabling some rules, adding new ones, and changing thresholds\n",
                "\n",
                "Supported products and platforms: SQL Server 2012 and up, both on Windows and Linux. Azure SQL DB Managed Instance. More products to come.\n",
                "\n",
                "Microsoft ruleset ([ruleset.json](https://github.com/microsoft/sql-server-samples/blob/master/samples/manage/sql-assessment-api/ruleset.json)) is published on SQL Assessment API GitHub repo and continuously improved.\n",
                "\n",
                "Useful links at the bottom of the tutorial."
            ],
            "metadata": {
                "azdata_cell_guid": "0b04834e-defa-4af2-9d95-a8aaa27e5f7b"
            },
            "attachments": {}
        },
        {
            "cell_type": "markdown",
            "source": [
                "### Quick primer on cmdlets\n",
                "\n",
                "There are two cmdlets:\n",
                "\n",
                "1. [Get-SqlAssessmentItem](https://docs.microsoft.com/en-us/powershell/module/sqlserver/get-sqlassessmentitem?view=sqlserver-ps) shows a list of available rules for a given object (5 kinds of objects is currently supported as input: Server, RegisteredServer, Database, AvailabilityGroup, Filegroup; the default ruleset contains rules for Server/RegisteredServer and Database only). Every rule has a target that describes what kind of SQL objects this rule applies to: Object Type, Object Name, SQL Server version, SQL Server platform, SQL Server engine edition. So by the availability of a rule, we mean that when you run Get-SqlAssessmentItem or Invoke-SqlAssessment, the API first verifies what rules apply for the given object.\n",
                "    \n",
                "2. [Invoke-SqlAssessment](https://docs.microsoft.com/en-us/powershell/module/sqlserver/invoke-sqlassessment?view=sqlserver-ps) performs an assessment of a passed object and provides the results. It's worthwhile to mention that assessment is invoked for a passed object only, so if you want to assess a SQL Server instance and all its databases, run the cmdlet with the instance object as input and then run it with the databases as input. We'll show you different ways of doing this below."
            ],
            "metadata": {
                "azdata_cell_guid": "424b5be9-3f95-4fa0-b630-b5507a0e5db2"
            }
        },
        {
            "cell_type": "markdown",
            "source": [
                "### 1. Setup\r\n",
                "You need to install PowerShell SqlServer module using the following command. It is a good practice to run Import-Module at the beginning of your session as well. Get-Module will show you the version you have installed. The minimum version you want is 21.1.18206 — it is the version of SqlServer module containing SQL Assessment API GA. You can [read more](https://docs.microsoft.com/sql/powershell/download-sql-server-ps-module) about installing and updating the SqlServer module on docs."
            ],
            "metadata": {
                "azdata_cell_guid": "9575ad0b-daca-48ac-84f1-59431afd1387"
            }
        },
        {
            "cell_type": "code",
            "source": [
                "# Uncomment and run Install-Module only the first time \r\n",
                "# Install-Module -Name SqlServer -AllowClobber -Force\r\n",
                "Import-Module -Name SqlServer\r\n",
                "Get-Module"
            ],
            "metadata": {
                "azdata_cell_guid": "bf6a34ad-a006-4b24-858d-5d08b760b231"
            },
            "outputs": [],
            "execution_count": null
        },
        {
            "cell_type": "markdown",
            "source": [
                "### 2. Invoke an assessment for SQL Server instance\r\n",
                "There are various ways to run the assessment cmdlet. The following statements give recommendations for a local default instance. Pick whatever style works for your script.\r\n",
                "\r\n",
                "Server and RegisteredServer objects are interchangeable, so you can pass any to the SQL Assessment cmdlets to assess a SQL Server instance."
            ],
            "metadata": {
                "azdata_cell_guid": "a34fa4e1-bf4e-44c9-9274-3fca29a6c535"
            }
        },
        {
            "cell_type": "markdown",
            "source": [
                "### Reason you see this warning?\n",
                "\n",
                "```\n",
                "WARNING: Checks 'DiskPartitionAlignment' and 'NtfsBlockSizeNotFormatted' have been skipped because they need access to WMI\n",
                "```\n",
                "```\n",
                "WARNING: Checks 'AgentSvcStoped' and 'BrowserSvcStoped' have been skipped because they need access to PowerShell\n",
                "```\n",
                "\n",
                "**I did reach out to the product team and got following response:**\n",
                "\n",
                "The current implementation has only one way to get to WMI. It uses xp\\_cmdshell extended procedure to run a PowerShell script on the server. The script obtains data from WMI and returns it to the engine. This workflow is used even while accessing a local instance. \n",
                "\n",
                "We are now working on direct access to WMI and registry on local and remote machines using .NET APIs, but it's still under development. I understand the current implementation is not very convenient as xp\\_cmdshell should be disabled for security reasons. Please, be careful and disable xp\\_cmdshell while not running the assessment."
            ],
            "metadata": {
                "azdata_cell_guid": "b1b94ed6-ae2f-41e2-a440-28465f3ecbfe"
            }
        },
        {
            "cell_type": "code",
            "source": [
                "# Option 1\r\n",
                "Get-SqlInstance -ServerInstance 'localhost\\SQL2019' | Invoke-SqlAssessment"
            ],
            "metadata": {
                "azdata_cell_guid": "07bf073e-9268-4e6b-b142-9c9fa8dc78ca"
            },
            "outputs": [],
            "execution_count": null
        },
        {
            "cell_type": "code",
            "source": [
                "# Option 2\r\n",
                "$serverInstance = Get-SqlInstance -ServerInstance 'localhost\\SQL2019'\r\n",
                "Invoke-SqlAssessment $serverInstance"
            ],
            "metadata": {
                "azdata_cell_guid": "5f30b889-22cb-4f15-9729-adc555fafd8f"
            },
            "outputs": [],
            "execution_count": null
        },
        {
            "cell_type": "code",
            "source": [
                "# Option 3\r\n",
                "Get-Item SQLSERVER:\\SQL\\localhost\\SQL2019 | Invoke-SqlAssessment"
            ],
            "metadata": {
                "azdata_cell_guid": "5e69dad3-0501-4501-bb7d-656fbac1d90e"
            },
            "outputs": [],
            "execution_count": null
        },
        {
            "cell_type": "code",
            "source": [
                "# Option 4\r\n",
                "Invoke-SqlAssessment SQLSERVER:\\SQL\\localhost\\SQL2019"
            ],
            "metadata": {
                "azdata_cell_guid": "f9241df5-8945-453b-90e1-5e724c76cf89"
            },
            "outputs": [],
            "execution_count": null
        },
        {
            "cell_type": "code",
            "source": [
                "# Option 5\r\n",
                "cd SQLSERVER:\\SQL\\localhost\\SQL2019\r\n",
                "Invoke-SqlAssessment -Verbose"
            ],
            "metadata": {
                "azdata_cell_guid": "e0e5d1bc-c5ec-4952-a658-e01d9d51f5d6"
            },
            "outputs": [],
            "execution_count": null
        },
        {
            "cell_type": "code",
            "source": [
                "# Option 6\r\n",
                "cd SQLSERVER:\\SQL\\localhost\r\n",
                "Get-Item SQL2019 | Invoke-SqlAssessment"
            ],
            "metadata": {
                "azdata_cell_guid": "4a5cbed3-b75c-411b-89bf-9cbd06656dd4"
            },
            "outputs": [],
            "execution_count": null
        },
        {
            "cell_type": "markdown",
            "source": [
                "### 3\\. Invoke an assessment for SQL Server on Azure Virtual Machines"
            ],
            "metadata": {
                "azdata_cell_guid": "563524dc-cdaf-4978-af38-b4a993e93259"
            }
        },
        {
            "cell_type": "code",
            "source": [
                "$User = \"taiob\"\r\n",
                "$password = Get-Content \"C:\\password.txt\"\r\n",
                "$PWord = ConvertTo-SecureString -String $password -AsPlainText -Force\r\n",
                "$Credential = New-Object -TypeName System.Management.Automation.PSCredential -ArgumentList $User, $PWord\r\n",
                "Get-SqlInstance -Credential $Credential -ServerInstance '13.92.191.169' | Invoke-SqlAssessment"
            ],
            "metadata": {
                "azdata_cell_guid": "da921145-dee9-4deb-982d-e92d39fe8c35"
            },
            "outputs": [],
            "execution_count": null
        },
        {
            "cell_type": "markdown",
            "source": [
                "### 4\\. Invoke an assessment for SQL Server database\n",
                "\n",
                "You need to run Invoke-SqlAssessment against a database object to get database specific recommendations. Again, there are various ways of accomplishing this. Below are some examples."
            ],
            "metadata": {
                "azdata_cell_guid": "d5253a77-1c77-45d4-9d96-552024662463"
            }
        },
        {
            "cell_type": "code",
            "source": [
                "# Option 1\r\n",
                "$database = Get-SqlDatabase -ServerInstance 'localhost\\SQL2019' -Name master\r\n",
                "Invoke-SqlAssessment $database -Verbose"
            ],
            "metadata": {
                "azdata_cell_guid": "50d4d023-fbda-4b9d-8263-9aeab26759e7"
            },
            "outputs": [],
            "execution_count": null
        },
        {
            "cell_type": "code",
            "source": [
                "# Option 2\r\n",
                "Invoke-SqlAssessment SQLSERVER:\\SQL\\localhost\\SQL2019\\Databases\\WideWorldImporters -Verbose"
            ],
            "metadata": {
                "azdata_cell_guid": "ad2f5c1b-3d94-4939-b2bb-f51e6b140924",
                "tags": []
            },
            "outputs": [],
            "execution_count": null
        },
        {
            "cell_type": "code",
            "source": [
                "# Option 3\r\n",
                "cd SQLSERVER:\\SQL\\localhost\\SQL2019\\Databases\\AdventureWorks\r\n",
                "Invoke-SqlAssessment"
            ],
            "metadata": {
                "azdata_cell_guid": "4677c0f0-8d75-404f-8add-b484394d16a4"
            },
            "outputs": [],
            "execution_count": null
        },
        {
            "cell_type": "code",
            "source": [
                "# Get recommendations for all databases on local instance:\r\n",
                "Get-SqlDatabase -ServerInstance 'localhost\\SQL2019' | Invoke-SqlAssessment"
            ],
            "metadata": {
                "azdata_cell_guid": "b374c2ec-8d2e-4c35-a48a-c427dec9c21c",
                "tags": []
            },
            "outputs": [],
            "execution_count": null
        },
        {
            "cell_type": "markdown",
            "source": [
                "### 5\\. Browse applicable rules\n",
                "\n",
                "The full Microsoft ruleset is in [ruleset.json](https://github.com/microsoft/sql-server-samples/blob/master/samples/manage/sql-assessment-api/ruleset.json) in the GitHub repo. If you want to list the rules that apply to a particular instance or database, you can use Get-SqlAssessmentItem cmdlet. Below are some different ways of listing the rules."
            ],
            "metadata": {
                "azdata_cell_guid": "97414396-2557-44c4-80e2-5afa6a5a5516"
            }
        },
        {
            "cell_type": "code",
            "source": [
                "# Get all rules available for an object (Server):\r\n",
                "$serverInstance = Get-SqlInstance -ServerInstance 'localhost\\SQL2019'\r\n",
                "Get-SqlAssessmentItem $serverInstance | Select Id, Description"
            ],
            "metadata": {
                "azdata_cell_guid": "56b4a035-658b-4bc4-8870-90823b8c2549"
            },
            "outputs": [],
            "execution_count": null
        },
        {
            "cell_type": "code",
            "source": [
                "# Get all rules available for an object (Database):\r\n",
                "cd SQLSERVER:\\SQL\\localhost\\SQL2019\\Databases\\master\r\n",
                "Get-SqlAssessmentItem"
            ],
            "metadata": {
                "azdata_cell_guid": "40c0cfcc-2323-4908-8112-039c8b9dcc8d",
                "tags": []
            },
            "outputs": [],
            "execution_count": null
        },
        {
            "cell_type": "code",
            "source": [
                "# Option 2\r\n",
                "# Get all rules available for an object (Database):\r\n",
                "# Run this again with -MinSeverity Warning\r\n",
                "$db = Get-SqlDatabase WideWorldImporters -ServerInstance localhost\\SQL2019\r\n",
                "Get-SqlAssessmentItem $db -MinSeverity Warning\r\n",
                "#Get-SqlAssessmentItem $db -MinSeverity Critical"
            ],
            "metadata": {
                "azdata_cell_guid": "4ca35545-7de4-4523-89ec-b0f2d8cb02c3",
                "tags": []
            },
            "outputs": [],
            "execution_count": null
        },
        {
            "cell_type": "code",
            "source": [
                "# Get all rules by a specific tag\r\n",
                "$serverInstance = Get-SqlInstance -ServerInstance 'localhost\\SQL2019'\r\n",
                "Get-SqlAssessmentItem $serverInstance -Check TraceFlag"
            ],
            "metadata": {
                "azdata_cell_guid": "b1274ddb-b9f7-4bb0-bb69-4b8c403f0b6a"
            },
            "outputs": [],
            "execution_count": null
        },
        {
            "cell_type": "markdown",
            "source": [
                "### 6\\. Run a specific rule\n",
                "\n",
                "If you want to check a particular rule (maybe after you fixed it), you can run it by its name. You can also specify several rules in the -Check parameter, just delimit them by commas.\n",
                "\n",
                "Every rule in the default ruleset has tags to group them into logical sets. In the example below, we look for backup related issues only. Backup value used for the -Check parameter is a tag. You can use both rule names and tags at the same time in a comma delimited list."
            ],
            "metadata": {
                "azdata_cell_guid": "0267d880-c35e-4fbf-90db-dd9120194da9"
            }
        },
        {
            "cell_type": "code",
            "source": [
                "# Run a rule by its id\r\n",
                "$serverInstance = Get-SqlInstance -ServerInstance 'localhost\\SQL2019'\r\n",
                "Invoke-SqlAssessment $serverInstance -Check TF634"
            ],
            "metadata": {
                "azdata_cell_guid": "02638a85-ca44-4e34-88fa-e8eea85f4304"
            },
            "outputs": [],
            "execution_count": null
        },
        {
            "cell_type": "code",
            "source": [
                "# Run a group of rules using their tag\r\n",
                "$databases = Get-SqlDatabase -ServerInstance 'localhost\\SQL2019'\r\n",
                "Invoke-SqlAssessment $databases -Check Backup"
            ],
            "metadata": {
                "azdata_cell_guid": "09c8991d-1b92-4630-9a87-5361f04e2c36",
                "tags": []
            },
            "outputs": [],
            "execution_count": null
        },
        {
            "cell_type": "code",
            "source": [
                "# Run interactively selected checks\n",
                "$serverInstance = Get-SqlInstance -ServerInstance 'localhost\\SQL2019'\n",
                "$checks = Get-SqlAssessmentItem $serverInstance | Select Id, Description | Out-GridView -PassThru\n",
                "Invoke-SqlAssessment $serverInstance -Check $checks"
            ],
            "metadata": {
                "azdata_cell_guid": "a6272a09-3640-4817-9b3d-c7bd46325095"
            },
            "outputs": [],
            "execution_count": null
        },
        {
            "cell_type": "markdown",
            "source": [
                "### 7\\. Store results in a table\n",
                "\n",
                "You probably want to save the results of an assessment to analyze and process later on. You can pipe the results of Invoke-SqlAssessment cmdlet into a table using Write-SqlTableData cmdlet. If the table doesn't exist, it creates the table and then inserts the results. If the table exists (subsequent runs), it appends the results to the table. Just remember to use -FlattenOutput parameter as it makes the Invoke-SqlAssessment output sutiable for Write-SqlTableData."
            ],
            "metadata": {
                "azdata_cell_guid": "289f9e4a-29c4-4da3-a52d-71b95ddaf3df"
            }
        },
        {
            "cell_type": "code",
            "source": [
                "Get-SqlInstance -ServerInstance 'localhost\\SQL2019' | Invoke-SqlAssessment -FlattenOutput |\r\n",
                "Write-SqlTableData -ServerInstance 'localhost\\SQL2019' -DatabaseName SQLAssessmentDemo -SchemaName dbo -TableName Results -Force"
            ],
            "metadata": {
                "azdata_cell_guid": "695f924d-0729-4ebb-ba83-bba43ed8a9c7"
            },
            "outputs": [],
            "execution_count": null
        },
        {
            "cell_type": "markdown",
            "source": [
                "## Customization\n",
                "\n",
                "In this section you will learn how to customize existing rules and create new ones.\n",
                "\n",
                "As a prerequisite, make sure to grab the JSON files in the CustomizationSamples folder and place them in an accessible path and then edit the first script below to point at the right path and server instance for your environment. By default, we use in this notebook the following parameters:\n",
                "\n",
                "- SQL Instance to assess is \"localhost\\\\sql2019\"\n",
                "- JSON samples and DLLs are available by path \"C:\\\\SQLAsmnt\\\\CustomizationSamples\"\n",
                "\n",
                "The final code block in this notebook has its own prerequisites, please complete them prior to running it:\n",
                "\n",
                "- There are 2 dlls in CustomizationSamples folder. They both should be unblocked: [https://stackoverflow.com/questions/34400546/could-not-load-file-or-assembly-operation-is-not-supported-exception-from-hres/45221477](https://stackoverflow.com/questions/34400546/could-not-load-file-or-assembly-operation-is-not-supported-exception-from-hres/45221477)\n",
                "- Then open CustomRuleCLRProbe.json and make sure that assembly key contains the right path to TestsProbeLibrary.dll, double backslashes are required.\n",
                "\n",
                "We encourage you to look into every JSON sample so you can understand better the making of customizations for SQL Assessment."
            ],
            "metadata": {
                "azdata_cell_guid": "3cfbe027-21f0-40be-b6f0-b871360aff5d"
            }
        },
        {
            "cell_type": "markdown",
            "source": [
                "### Customizing Existing Rules\n",
                "\n",
                "- Will modify existing FullBackup Rule\n",
                "- Change override threshold from 7 to 3 days\n",
                "- Will override only for certain database"
            ],
            "metadata": {
                "azdata_cell_guid": "ddecbffe-4dc8-4275-a5e4-b41c3ff5a8df"
            }
        },
        {
            "cell_type": "code",
            "source": [
                "$databases = Get-SqlDatabase -ServerInstance 'localhost\\SQL2019' \r\n",
                "$databases | Format-Table"
            ],
            "metadata": {
                "azdata_cell_guid": "9bb0ca1a-ea0c-4507-9657-ac7c27eb0ac1",
                "tags": []
            },
            "outputs": [],
            "execution_count": null
        },
        {
            "cell_type": "code",
            "source": [
                "Invoke-SqlAssessment $databases -Check FullBackup | \r\n",
                "Select-Object TargetObject, Message"
            ],
            "metadata": {
                "azdata_cell_guid": "5c01bce0-990e-4505-a34c-f4d7b3f9c952"
            },
            "outputs": [],
            "execution_count": null
        },
        {
            "cell_type": "code",
            "source": [
                "$samplesPath='C:\\Presentation\\SQL Assessment - Microsoft''s Best Practices Checker'\r\n",
                "$samplesPath"
            ],
            "metadata": {
                "azdata_cell_guid": "5195aa32-d0ea-47d1-9ffa-4ced3391131f"
            },
            "outputs": [],
            "execution_count": null
        },
        {
            "cell_type": "markdown",
            "source": [
                "Create the override file from 7 to 3 days and run the below command"
            ],
            "metadata": {
                "azdata_cell_guid": "5cb2df16-836a-451e-ade2-c4e9926b6a56"
            }
        },
        {
            "cell_type": "code",
            "source": [
                "Invoke-SqlAssessment $databases -Check FullBackup -Configuration $(join-path $samplesPath \"FullBackupOverride.json\") | \r\n",
                "Select-Object TargetObject, Message"
            ],
            "metadata": {
                "azdata_cell_guid": "11d31eb0-c55a-4962-a3e3-21268423d012"
            },
            "outputs": [],
            "execution_count": null
        },
        {
            "cell_type": "markdown",
            "source": [
                "Can I create the override for one or more selected database?\n",
                "\n",
                "Add this to the override file.\n",
                "\n",
                "```\n",
                " \"targetFilter\": {          \"name\": [\"DWDiagnostics\"]        }\n",
                "```"
            ],
            "metadata": {
                "azdata_cell_guid": "7997af0d-438d-42e4-b5fc-4ba0e476fbc8"
            }
        },
        {
            "cell_type": "code",
            "source": [
                "Invoke-SqlAssessment $databases -Check FullBackup -Configuration $(join-path $samplesPath \"FullBackupOverrideOneDB.json\") | \r\n",
                "Select-Object TargetObject, Message"
            ],
            "metadata": {
                "azdata_cell_guid": "fd00287b-1ee1-45ad-9989-b50795e574e9",
                "tags": []
            },
            "outputs": [],
            "execution_count": null
        },
        {
            "cell_type": "code",
            "source": [
                "Get-SqlInstance -ServerInstance 'localhost\\SQL2019' | Invoke-SqlAssessment -Check MaxMemory "
            ],
            "metadata": {
                "azdata_cell_guid": "1dc88112-f81a-4d63-bdb9-086ae4780121"
            },
            "outputs": [],
            "execution_count": null
        },
        {
            "cell_type": "markdown",
            "source": [
                "Override the server level max memory value"
            ],
            "metadata": {
                "azdata_cell_guid": "098e705b-d8bb-470a-b018-3377d3046057"
            },
            "attachments": {}
        },
        {
            "cell_type": "code",
            "source": [
                "Get-SqlInstance -ServerInstance 'localhost\\SQL2019'| Invoke-SqlAssessment -Check MaxMemory -Configuration $(join-path $samplesPath \"MaxMemoryOverride.json\") "
            ],
            "metadata": {
                "azdata_cell_guid": "5d1769a1-2335-4cab-b103-8eac15ac5169"
            },
            "outputs": [],
            "execution_count": null
        },
        {
            "cell_type": "markdown",
            "source": [
                "### Disabling/Enabling rules"
            ],
            "metadata": {
                "azdata_cell_guid": "88318608-c678-4692-8315-c205933331cf"
            }
        },
        {
            "cell_type": "code",
            "source": [
                "#Setup three parameters that are used in all the customization examples below\r\n",
                "#$samplesPath='<replace this with the path to customization json files, e.g. \"C:\\SQLAsmnt\\CustomizationSamples\">' \r\n",
                "# Copy the files from https://github.com/microsoft/sql-server-samples/tree/master/samples/manage/sql-assessment-api/notebooks/CustomizationSamples to this folder\r\n",
                "\r\n",
                "$samplesPath='C:\\SQLAsmnt\\CustomizationSamples'\r\n",
                "$samplesPath\r\n",
                "\r\n",
                "$serverInstance = Get-SqlInstance -ServerInstance 'localhost\\SQL2019'\r\n",
                "#$serverInstance = Get-SqlInstance -ServerInstance '.\\sql2017express'\r\n",
                "$serverInstance\r\n",
                "\r\n",
                "$sqlDbMaster = $serverInstance | Get-SqlDatabase -Name master\r\n",
                "$sqlDbMaster"
            ],
            "metadata": {
                "azdata_cell_guid": "5df878e7-8204-45c8-8bb2-4861131f3588",
                "tags": []
            },
            "outputs": [],
            "execution_count": null
        },
        {
            "cell_type": "code",
            "source": [
                "# Disable a single rule using its ID (TF634)\r\n",
                "# To see this in action, make sure you have trace flag 634 turned on in the instance you are testing. Otherwise this rule will not fire even when enabled.\r\n",
                "# You will see that TF634 is not enabled (On=False)\r\n",
                "Get-SqlAssessmentItem $serverInstance -Configuration $(join-path $samplesPath \"DisableTF634.json\")"
            ],
            "metadata": {
                "azdata_cell_guid": "7a2a90f0-8341-4cd8-81a3-1fdedbd1adb6",
                "tags": []
            },
            "outputs": [],
            "execution_count": null
        },
        {
            "cell_type": "markdown",
            "source": [
                "Turn on trace flag 634\n",
                "\n",
                "```\n",
                "DBCC traceon (634,-1);GO\n",
                "```"
            ],
            "metadata": {
                "azdata_cell_guid": "90703759-0231-4d8d-8204-66297fbdf346"
            }
        },
        {
            "cell_type": "code",
            "source": [
                "# Run a rule by its name\r\n",
                "$serverInstance = Get-SqlInstance -ServerInstance 'localhost\\SQL2019'\r\n",
                "Invoke-SqlAssessment $serverInstance -Check TF634"
            ],
            "metadata": {
                "azdata_cell_guid": "cf4ad61b-ac4c-4752-9328-7caeaa7ffebf"
            },
            "outputs": [],
            "execution_count": null
        },
        {
            "cell_type": "code",
            "source": [
                "# Disable all Trace Flag rules using a tag\r\n",
                "# You will see that all TF rules are set to False (disabled)\r\n",
                "Get-SqlAssessmentItem $serverInstance -Configuration $(join-path $samplesPath \"DisableAllTF.json\")"
            ],
            "metadata": {
                "azdata_cell_guid": "35ee6731-70dd-42b9-b041-f3b09ac02a4d",
                "tags": []
            },
            "outputs": [],
            "execution_count": null
        },
        {
            "cell_type": "code",
            "source": [
                "# Combine configurations\r\n",
                "# This example disables all trace flag rules except for performance-related ones using tags. \r\n",
                "# The order of json files is important. First we disable all TF rules, then enable performance rules which re-enables performance-related TF rules.\r\n",
                "Get-SqlAssessmentItem $serverInstance -Configuration $(join-path $samplesPath \"DisableAllTF.json\"), $(join-path $samplesPath \"EnablePerformance.json\")"
            ],
            "metadata": {
                "azdata_cell_guid": "4f79d729-4a3b-47a6-8cb3-d4a5b0c2db05"
            },
            "outputs": [],
            "execution_count": null
        },
        {
            "cell_type": "markdown",
            "source": [
                "### Creating a new rule\r\n",
                "The rules are defined in json files. In this example, we are creating a rule that checks for available database space. Go ahead and examine CustomRuleTSQLProbe.json.\r\n",
                "\r\n",
                "A rule has many components such as which ruleset it belongs to, what type of objects, editions, versions, platforms it targets as well as more obvious components such as id, name, description, etc. \r\n",
                "\r\n",
                "Condition is what gets evaluated. When an expression in Condition returns false, it means that the rule is violated and the user gets a recommendation from this rule. \r\n",
                "\r\n",
                "Probe is what gets the data to be evaluated in the condition. Probes can be SQL or CLR. SQL probe is a T-SQL query to pull the required data right out of SQL Server. \r\n",
                "CLR probe is a reference to a .NET or Core assembly with a call to a method inside the library.  "
            ],
            "metadata": {
                "azdata_cell_guid": "0d79fec1-d64d-4580-abfa-0c367a6f20f8"
            }
        },
        {
            "cell_type": "code",
            "source": [
                "# Create a new rule with TSQL probe\r\n",
                "# This rule applies to databases and uses a TSQL statement to get the data for the rule. \r\n",
                "Invoke-SqlAssessment $sqlDbMaster -configuration $(join-path $samplesPath \"CustomRuleTSQLProbe.json\")"
            ],
            "metadata": {
                "azdata_cell_guid": "1df3379f-e5fe-47ea-a43e-920265f3d0e2",
                "tags": []
            },
            "outputs": [],
            "execution_count": null
        },
        {
            "cell_type": "code",
            "source": [
                "# Override threshold parameter\r\n",
                "# CustomRuleThresholdChange.json defines a new threshold value for DBSpaceAvailable rule created above\r\n",
                "Invoke-SqlAssessment $sqlDbMaster -configuration $(join-path $samplesPath \"CustomRuleTSQLProbe.json\"),$(join-path $samplesPath \"CustomRuleThresholdChange.json\")"
            ],
            "metadata": {
                "azdata_cell_guid": "953cd87b-4311-4553-9170-e219c231642a"
            },
            "outputs": [],
            "execution_count": null
        },
        {
            "cell_type": "markdown",
            "source": [
                "## Probe types\r\n",
                "### CmdShell\r\n",
                "Create a new rule with CmdShell probe. CmdShell probe executes a CMD.EXE shell command and returns lines of text in variable @stdout. Use 'CMDSHELL' instead of 'SQL' in probe definition to load a .cmd file. Use Regex parser transformation to extract data from @stdout\r\n",
                ""
            ],
            "metadata": {
                "azdata_cell_guid": "86aed978-b91a-47f0-8a78-f8254c5ec6f1"
            }
        },
        {
            "cell_type": "code",
            "source": [
                "#Create new rule with cmd probe type. It runs 'dir' cmd command and checks that resulted list is'n empty.\r\n",
                "#Make sure that xp_cmdshell is enabled\r\n",
                "Invoke-SqlAssessment $serverInstance -configuration $(join-path $samplesPath \"CustomRuleCmdShellProbe.json\")"
            ],
            "metadata": {
                "azdata_cell_guid": "a75ebf02-e27e-4d19-b306-ce4e04481acd"
            },
            "outputs": [],
            "execution_count": null
        },
        {
            "cell_type": "markdown",
            "source": [
                "### PowerShell\r\n",
                "\r\n",
                "PowerShell probe executes a command in PowerShell on target machine and returns pipeline output in @Output variable.\r\n",
                "Use $ (dollar) sign to access probe parameters passed from checks.\r\n",
                "Use . (dot) to access properties of the output object. For example, if returned object is string, then @Output.Length returns its length."
            ],
            "metadata": {
                "azdata_cell_guid": "4450f005-b008-4464-8b83-059b5d3fa8f6"
            }
        },
        {
            "cell_type": "code",
            "source": [
                "#Create new rule with Powershell probe type.\r\n",
                "#It runs query to get major PS version\r\n",
                "#Make sure that xp_cmdshell is enabled and PS execution policy is RemoteSigned or Unrestricted.\r\n",
                "Invoke-SqlAssessment $serverInstance -configuration $(join-path $samplesPath \"CustomRulePowerShellProbe.json\")"
            ],
            "metadata": {
                "azdata_cell_guid": "0be17782-0051-4d49-931e-a29aaca34d02"
            },
            "outputs": [],
            "execution_count": null
        },
        {
            "cell_type": "markdown",
            "source": [
                "### Registry\r\n",
                "\r\n",
                "Registry probe obtains data from target machine's registry.  The key name will be returned in @RegistryKeyName. Use * (asterisk) symbol to enumerate all keys."
            ],
            "metadata": {
                "azdata_cell_guid": "9277b49b-7f19-4d9b-8e37-d3592962c03f"
            }
        },
        {
            "cell_type": "code",
            "source": [
                "#Create new rule with Registry probe\r\n",
                "Invoke-SqlAssessment $serverInstance -configuration $(join-path $samplesPath \"CustomRuleRegistryProbe.json\")"
            ],
            "metadata": {
                "azdata_cell_guid": "6a100496-4356-4e15-b857-4cdf44177010",
                "tags": []
            },
            "outputs": [],
            "execution_count": null
        },
        {
            "cell_type": "markdown",
            "source": [
                "### WMI\r\n",
                "\r\n",
                "WMI probe runs a WMI query and returns results in @Output variable in the same way as a PowerShell probe does.\r\n",
                "Use $ (dollar) sign to access probe parameters passed from checks."
            ],
            "metadata": {
                "azdata_cell_guid": "3a03fb80-361d-4b41-9a52-a2eedd1e85a0"
            }
        },
        {
            "cell_type": "code",
            "source": [
                "#Create new rule with WMI probe\r\n",
                "#Make sure that xp_cmdshell is enabled.\r\n",
                "Invoke-SqlAssessment $serverInstance -configuration $(join-path $samplesPath \"CustomRuleWmiProbe.json\")"
            ],
            "metadata": {
                "azdata_cell_guid": "143eea26-62d1-40e8-a97a-9f1ed8ac2532"
            },
            "outputs": [],
            "execution_count": null
        },
        {
            "cell_type": "markdown",
            "source": [
                "### Managed code probe\r\n",
                "\r\n",
                "For CLR probe use \"External\" probe type."
            ],
            "metadata": {
                "azdata_cell_guid": "815584d6-ceac-4160-ba9a-020c59e14221"
            }
        },
        {
            "cell_type": "code",
            "source": [
                "# Create a new rule with CLR probe. CustomRuleCLRProbe.json, in addition to a check with a CLR probe, contains an ovveride to disable all the rules of the DefaultRuleset.\r\n",
                "# !!! Complete the prerequisites below before running this block.\r\n",
                "# !!! There are 2 dlls in CustomizationSamples folder. Make sure that they both are not blocked: https://stackoverflow.com/questions/34400546/could-not-load-file-or-assembly-operation-is-not-supported-exception-from-hres/45221477\r\n",
                "# !!! Then open CustomRuleCLRProbe.json in the same folder and make sure that assembly key contains the right path to TestsProbeLibrary.dll, double slashes are required.\r\n",
                "# !!! You're all set. Run this block\r\n",
                "Invoke-SqlAssessment $serverInstance -configuration $(join-path $samplesPath \"CustomRuleCLRProbe.json\")"
            ],
            "metadata": {
                "azdata_cell_guid": "bcff0e69-65e8-4b44-90b8-83f1241589bd"
            },
            "outputs": [],
            "execution_count": null
        },
        {
            "cell_type": "markdown",
            "source": [
                "## Useful links about SQL Assessment API\r\n",
                "\r\n",
                "- [Docs online page](https://docs.microsoft.com/sql/sql-assessment-api/sql-assessment-api-overview)\r\n",
                "- [GitHub repo](http://aka.ms/sql-assessment-api)\r\n",
                "- [SQL Server blog with release announcements and other useful information](https://techcommunity.microsoft.com/t5/SQL-Server/bg-p/SQLServer) "
            ],
            "metadata": {
                "azdata_cell_guid": "2c572e58-0281-432f-b400-70b55b719b7e"
            }
        }
    ]
}