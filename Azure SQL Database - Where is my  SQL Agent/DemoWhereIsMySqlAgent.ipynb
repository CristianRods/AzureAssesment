{
    "metadata": {
        "kernelspec": {
            "name": "powershell",
            "display_name": "PowerShell",
            "language": "powershell"
        },
        "language_info": {
            "name": "powershell",
            "codemirror_mode": "shell",
            "mimetype": "text/x-sh",
            "file_extension": ".ps1"
        }
    },
    "nbformat_minor": 2,
    "nbformat": 4,
    "cells": [
        {
            "cell_type": "markdown",
            "source": [
                "# DemoWhereIsMySqlAgent.ipynb\n",
                "\n",
                "<span style=\"font-size: 14px;\">Written by Taiob&nbsp; Ali</span>\n",
                "\n",
                "<span style=\"font-size: 14px;\">SqlWorldWide.com</span>"
            ],
            "metadata": {
                "azdata_cell_guid": "4f689a32-5eef-4bde-ada4-3c5221f24be1"
            }
        },
        {
            "cell_type": "markdown",
            "source": [
                "## Set up Demo"
            ],
            "metadata": {
                "azdata_cell_guid": "b3b5c655-201b-4e65-bc38-c2c9c81363db"
            }
        },
        {
            "cell_type": "markdown",
            "source": [
                "Setup section of the notebook will create:\n",
                "\n",
                "-  A resource group\n",
                "- Two logical SQL server\n",
                "- Few sample databases\n",
                "- SQL Elastic Pool\n",
                "- Clean up code at the end\n",
                "\n",
                "<mark>Script can take between 40~50 minutes during my test. Mileage will vary in your case</mark>\n",
                "\n",
                "Credit:\n",
                "\n",
                "- [https://docs.microsoft.com/en-us/azure/sql-database/sql-database-get-started-powershell](https://docs.microsoft.com/en-us/azure/sql-database/sql-database-get-started-powershell)\n",
                "- [https://gallery.technet.microsoft.com/scriptcenter/Get-ExternalPublic-IP-c1b601bb](https://gallery.technet.microsoft.com/scriptcenter/Get-ExternalPublic-IP-c1b601bb)"
            ],
            "metadata": {
                "azdata_cell_guid": "7ed25c73-d2c2-42b9-8c02-24a524394e2c"
            }
        },
        {
            "cell_type": "markdown",
            "source": [
                "<span style=\"color: rgb(23, 23, 23); font-family: &quot;Segoe UI&quot;, SegoeUI, &quot;Helvetica Neue&quot;, Helvetica, Arial, sans-serif; font-size: 16px; background-color: rgb(226, 218, 241);\">PowerShell 7 and later is the recommended version of PowerShell for use with Az PowerShell on all platforms.</span>\n",
                "\n",
                "To check the version of PowerShell running on your machine, run the following command.\n",
                "\n",
                "If you have an outdated version, upgrade from:  \n",
                "[https://github.com/PowerShell/PowerShell](https://github.com/PowerShell/PowerShell)"
            ],
            "metadata": {
                "azdata_cell_guid": "b22016a4-77a7-4bfe-a6c3-43f9625e8874"
            }
        },
        {
            "cell_type": "code",
            "source": [
                "$PSVersionTable.PSVersion"
            ],
            "metadata": {
                "azdata_cell_guid": "38d635bf-787e-4a55-968f-87af306d58f7"
            },
            "outputs": [
{
    "name": "stdout",
    "text": "\nMajor  Minor  Build  Revision\n-----  -----  -----  --------\n5      1      19041  610     \n\n\n",
    "output_type": "stream"
}
],
            "execution_count": null
        },
        {
            "cell_type": "markdown",
            "source": [
                "Install Az Module if you do not have it.  \n",
                "<span style=\"font-size: 14px;\">https://docs.microsoft.com/en-us/powershell/azure/install-az-ps?view=azps-5.4.0</span>"
            ],
            "metadata": {
                "azdata_cell_guid": "493ce44b-7fe2-4d67-95bf-5d5da425d353"
            }
        },
        {
            "cell_type": "markdown",
            "source": [
                "<span style=\"font-size: 14px;\">If you've disabled module autoloading, manually import the module with `Import-Module -Name Az`. Because of the way the module is structured, this can take a few seconds.</span>"
            ],
            "metadata": {
                "azdata_cell_guid": "83433f01-9174-4273-aeb3-93510f3e0257"
            }
        },
        {
            "cell_type": "code",
            "source": [
                "Import-Module -name Az "
            ],
            "metadata": {
                "azdata_cell_guid": "1b0b6ea4-0b95-4086-89a0-f747621523cf"
            },
            "outputs": [],
            "execution_count": null
        },
        {
            "cell_type": "markdown",
            "source": [
                "<span style=\"font-size: 14px;\">Setup your Debug Preference</span>\n",
                "\n",
                "[https://docs.microsoft.com/en-us/powershell/module/microsoft.powershell.core/about/about\\_preference\\_variables?view=powershell-7.1#debugpreference](https://docs.microsoft.com/en-us/powershell/module/microsoft.powershell.core/about/about_preference_variables?view=powershell-7.1#debugpreference)  \n",
                "<span style=\"font-size: 14px;\">This example shows the effect of `$DebugPreference` with the Continue value. The debug message is displayed and the command continues to process.</span>"
            ],
            "metadata": {
                "azdata_cell_guid": "17ffb175-bd04-4f2e-a295-2d06ae311a6b"
            }
        },
        {
            "cell_type": "code",
            "source": [
                "$DebugPreference = \"Continue\"\r\n",
                "Write-Debug -Message \"Hello, World\""
            ],
            "metadata": {
                "azdata_cell_guid": "c2d9d805-a52d-44ad-9dc6-3dd7d599e472"
            },
            "outputs": [],
            "execution_count": null
        },
        {
            "cell_type": "markdown",
            "source": [
                "<span style=\"font-size: 14px;\">Sign in to Azure</span>"
            ],
            "metadata": {
                "azdata_cell_guid": "724d0ca0-b6fb-47d1-858e-a450a42b3418"
            }
        },
        {
            "cell_type": "code",
            "source": [
                "Connect-AzAccount"
            ],
            "metadata": {
                "azdata_cell_guid": "f70699b1-014b-4809-92dd-1e50145bc676"
            },
            "outputs": [
{
    "name": "stdout",
    "text": ". {\n",
    "output_type": "stream"
}, {
    "name": "stdout",
    "text": ">> Connect-AzAccount\n>> }\n>> \n",
    "output_type": "stream"
}, {
    "name": "stdout",
    "text": "WARNING: TenantId 'd5b50601-6698-4f8f-beb6-1799fee4dc80' contains more than one active subscription. First one will be \nselected for further use. To select another subscription, use Set-AzContext.\n",
    "output_type": "stream"
}, {
    "name": "stdout",
    "text": "\n",
    "output_type": "stream"
}, {
    "name": "stdout",
    "text": "Account                  SubscriptionName         TenantId                             Environment\n-------                  ----------------         --------                             -----------\ntaiobmdjamshed@yahoo.com Visual Studio Enterprise d5b50601-6698-4f8f-beb6-1799fee4dc80 AzureCloud \n\n\n",
    "output_type": "stream"
}
],
            "execution_count": 1
        },
        {
            "cell_type": "markdown",
            "source": [
                "If you need to seethe list of your subscription\n",
                "\n",
                "<span style=\"color: rgb(106, 153, 85);\">$SubscriptionList=Get-AzSubscription</span><span style=\"color: rgb(106, 153, 85);\">$SubscriptionList</span>\n",
                "\n",
                "Use below code if you have multiple subscription and you want to use a particular one"
            ],
            "metadata": {
                "azdata_cell_guid": "8c6d9551-de6e-423f-943d-7b97228f7616"
            }
        },
        {
            "cell_type": "code",
            "source": [
                "Set-AzContext -SubscriptionId '18d92f52-ac34-4379-ab8b-5a5106f1c54e'"
            ],
            "metadata": {
                "azdata_cell_guid": "99c0c16d-46a6-45aa-8c07-f2db40b37611"
            },
            "outputs": [
{
    "name": "stdout",
    "text": "\nName                                     Account             SubscriptionName    Environment         TenantId          \n----                                     -------             ----------------    -----------         --------          \nVisual Studio Enterprise (18d92f52-ac... taiobmdjamshed@y... Visual Studio En... AzureCloud          d5b50601-6698-4...\n",
    "output_type": "stream"
}, {
    "name": "stdout",
    "text": "\n\n",
    "output_type": "stream"
}
],
            "execution_count": 2
        },
        {
            "cell_type": "markdown",
            "source": [
                "Declare Variables"
            ],
            "metadata": {
                "azdata_cell_guid": "5e472d4b-f65e-4f1d-971f-288dbf7d1480"
            }
        },
        {
            "cell_type": "code",
            "source": [
                "$resourceGroupName = \"sqlagentdemo\"\r\n",
                "$primaryLocation = \"East US\"  \r\n",
                "$elasticPoolName = \"sqlagentdemo\"\r\n",
                "$jobServerName = \"ugdemojobserver\"\r\n",
                "$targetServerName = \"ugdemotargetserver\"\r\n",
                "$adminlogin = \"taiob\"\r\n",
                "$password = Get-Content \"C:\\password.txt\"\r\n",
                "$ipinfo = Invoke-RestMethod http://ipinfo.io/json \r\n",
                "$startip = $ipinfo.ip\r\n",
                "$endip = $ipinfo.ip \r\n",
                "$jobDatabase = \"jobdatabase\"\r\n",
                "$collectionDatabase = \"dbawarehouse\"\r\n",
                "$databaseName1 = \"adventureworks\"\r\n",
                "$databaseName2 = \"WideWorldImporters\"\r\n",
                "$localInstanceName = 'DESKTOP-50O69FS\\SQL2019'\r\n",
                "$localDatabaseName = 'dbadatabase'\r\n",
                "$localTableName = 'databasesize'\r\n",
                "$automationAccountName = \"ugdemo2\"\r\n",
                "$credentialName = \"sqlservercredentials\""
            ],
            "metadata": {
                "azdata_cell_guid": "fde91e31-1885-4c81-a2e6-01b02664a030",
                "tags": []
            },
            "outputs": [
{
    "name": "stdout",
    "text": "",
    "output_type": "stream"
}
],
            "execution_count": 3
        },
        {
            "cell_type": "markdown",
            "source": [
                "Check if Resource group exists. If exist delete the resource group.\n",
                "\n",
                "Create a new Resource group"
            ],
            "metadata": {
                "azdata_cell_guid": "28960be9-260e-4191-be58-2478d5a7b49b"
            }
        },
        {
            "cell_type": "code",
            "source": [
                "$resGrpChk = Get-AzResourceGroup `\r\n",
                "    -Name $resourceGroupName `\r\n",
                "    -ev notPresent `\r\n",
                "    -ea 0\r\n",
                "\r\n",
                "if ($resGrpChk) {  \r\n",
                "    #Delete resource group\r\n",
                "    Remove-AzResourceGroup `\r\n",
                "        -Name $resourceGroupName -Confirm   \r\n",
                "    Write-Host 'Resource group deleted' `\r\n",
                "        -fore white `\r\n",
                "        -back green\r\n",
                "}\r\n",
                "\r\n",
                "New-AzResourceGroup `\r\n",
                "    -Name $resourceGroupName `\r\n",
                "    -Location \"East US 2\"    \r\n",
                "Write-Host 'Resource group created' `\r\n",
                "    -fore white `\r\n",
                "    -back green"
            ],
            "metadata": {
                "azdata_cell_guid": "01befb39-8532-4a19-a607-022966d33507"
            },
            "outputs": [
{
    "name": "stdout",
    "text": "\n\nResourceGroupName : sqlagentdemo\nLocation          : eastus2\nProvisioningState : Succeeded\nTags              : \nResourceId        : /subscriptions/18d92f52-ac34-4379-ab8b-5a5106f1c54e/resourceGroups/sqlagentdemo\n\n",
    "output_type": "stream"
}, {
    "name": "stdout",
    "text": "Resource group created\n\n\n",
    "output_type": "stream"
}
],
            "execution_count": 4
        },
        {
            "cell_type": "markdown",
            "source": [
                "- <span style=\"font-size: 14px;\">Creating job server</span>\n",
                "- <span style=\"font-size: 14px;\">Configure server firewall rule for job server</span>\n",
                "- <span style=\"font-size: 14px;\">Create an empty database to hold job metadata</span>\n",
                "- <span style=\"font-size: 14px;\">Create an empty database to hold job output</span>"
            ],
            "metadata": {
                "azdata_cell_guid": "c3ddbe2b-de27-49a5-9eff-59388786c45a"
            }
        },
        {
            "cell_type": "code",
            "source": [
                "New-AzSqlServer `\r\n",
                "    -ResourceGroupName $resourceGroupName `\r\n",
                "    -ServerName $jobServerName `\r\n",
                "    -Location $primaryLocation `\r\n",
                "    -SqlAdministratorCredentials $(New-Object -TypeName System.Management.Automation.PSCredential `\r\n",
                "    -ArgumentList $adminlogin, $(ConvertTo-SecureString -String $password -AsPlainText -Force))\r\n",
                "\r\n",
                "#Configure a server firewall rule for job server\r\n",
                "New-AzSqlServerFirewallRule `\r\n",
                "    -ResourceGroupName $resourceGroupName `\r\n",
                "    -ServerName $jobServerName `\r\n",
                "    -FirewallRuleName \"TaiobDesktop\" `\r\n",
                "    -StartIpAddress $startip `\r\n",
                "    -EndIpAddress $endip\r\n",
                "\r\n",
                "# This is done to allow access to Azure Services\r\n",
                "New-AzSqlServerFirewallRule `\r\n",
                "    -ServerName $jobServerName `\r\n",
                "    -ResourceGroupName $resourceGroupName  `\r\n",
                "    -AllowAllAzureIPs\r\n",
                "\r\n",
                "New-AzSqlDatabase  -ResourceGroupName $resourceGroupName `\r\n",
                "    -ServerName $jobServerName `\r\n",
                "    -DatabaseName $jobDatabase `\r\n",
                "    -Edition \"Standard\" `\r\n",
                "    -RequestedServiceObjectiveName \"S0\" `\r\n",
                "    -MaxSizeBytes 10737418240 \r\n",
                "\r\n",
                "New-AzSqlDatabase  -ResourceGroupName $resourceGroupName `\r\n",
                "    -ServerName $jobServerName `\r\n",
                "    -DatabaseName $collectionDatabase `\r\n",
                "    -Edition \"Standard\" `\r\n",
                "    -RequestedServiceObjectiveName \"S0\" `\r\n",
                "    -MaxSizeBytes 10737418240 "
            ],
            "metadata": {
                "azdata_cell_guid": "43c18c3a-77b6-4ccb-920a-0c145d50f57a",
                "tags": []
            },
            "outputs": [
{
    "name": "stdout",
    "text": "\n\nResourceGroupName        : sqlagentdemo\nServerName               : ugdemojobserver\nLocation                 : eastus\nSqlAdministratorLogin    : taiob\nSqlAdministratorPassword : \nServerVersion            : 12.0\nTags                     : \nIdentity                 : \nFullyQualifiedDomainName : ugdemojobserver.database.windows.net\nResourceId               : /subscriptions/18d92f52-ac34-4379-ab8b-5a5106f1c54e/resourceGroups/sqlagentdemo/providers/Mi\n                           crosoft.Sql/servers/ugdemojobserver\nMinimalTlsVersion        : \nPublicNetworkAccess      : Enabled\n\n",
    "output_type": "stream"
}, {
    "name": "stdout",
    "text": "ResourceGroupName : sqlagentdemo\nServerName        : ugdemojobserver\nStartIpAddress    : 71.174.126.37\nEndIpAddress      : 71.174.126.37\nFirewallRuleName  : TaiobDesktop\n\n",
    "output_type": "stream"
}, {
    "name": "stdout",
    "text": "ResourceGroupName : sqlagentdemo\nServerName        : ugdemojobserver\nStartIpAddress    : 0.0.0.0\nEndIpAddress      : 0.0.0.0\nFirewallRuleName  : AllowAllAzureIPs\n\n",
    "output_type": "stream"
}, {
    "name": "stdout",
    "text": "ResourceGroupName             : sqlagentdemo\nServerName                    : ugdemojobserver\nDatabaseName                  : jobdatabase\nLocation                      : eastus\nDatabaseId                    : dc569730-4186-4685-ad9f-95d2079e24a1\nEdition                       : Standard\nCollationName                 : SQL_Latin1_General_CP1_CI_AS\nCatalogCollation              : \nMaxSizeBytes                  : 10737418240\nStatus                        : Online\nCreationDate                  : 3/8/2021 11:15:38 PM\nCurrentServiceObjectiveId     : 00000000-0000-0000-0000-000000000000\nCurrentServiceObjectiveName   : S0\nRequestedServiceObjectiveName : S0\nRequestedServiceObjectiveId   : \nElasticPoolName               : \nEarliestRestoreDate           : 3/8/2021 11:45:38 PM\nTags                          : \nResourceId                    : /subscriptions/18d92f52-ac34-4379-ab8b-5a5106f1c54e/resourceGroups/sqlagentdemo/provide\n                                rs/Microsoft.Sql/servers/ugdemojobserver/databases/jobdatabase\nCreateMode                    : \nReadScale                     : Disabled\nZoneRedundant                 : False\nCapacity                      : 10\nFamily                        : \nSkuName                       : Standard\nLicenseType                   : \nAutoPauseDelayInMinutes       : \nMinimumCapacity               : \nReadReplicaCount              : \nHighAvailabilityReplicaCount  : \nBackupStorageRedundancy       : Geo\nSecondaryType                 : \n\n",
    "output_type": "stream"
}, {
    "name": "stdout",
    "text": "ResourceGroupName             : sqlagentdemo\nServerName                    : ugdemojobserver\nDatabaseName                  : dbawarehouse\nLocation                      : eastus\nDatabaseId                    : 8c19faaa-2868-4f3e-a3a9-e13d7dcf915d\nEdition                       : Standard\nCollationName                 : SQL_Latin1_General_CP1_CI_AS\nCatalogCollation              : \nMaxSizeBytes                  : 10737418240\nStatus                        : Online\nCreationDate                  : 3/8/2021 11:16:37 PM\nCurrentServiceObjectiveId     : 00000000-0000-0000-0000-000000000000\nCurrentServiceObjectiveName   : S0\nRequestedServiceObjectiveName : S0\nRequestedServiceObjectiveId   : \nElasticPoolName               : \nEarliestRestoreDate           : 3/8/2021 11:46:37 PM\nTags                          : \nResourceId                    : /subscriptions/18d92f52-ac34-4379-ab8b-5a5106f1c54e/resourceGroups/sqlagentdemo/provide\n                                rs/Microsoft.Sql/servers/ugdemojobserver/databases/dbawarehouse\nCreateMode                    : \nReadScale                     : Disabled\nZoneRedundant                 : False\nCapacity                      : 10\nFamily                        : \nSkuName                       : Standard\nLicenseType                   : \nAutoPauseDelayInMinutes       : \nMinimumCapacity               : \nReadReplicaCount              : \nHighAvailabilityReplicaCount  : \nBackupStorageRedundancy       : Geo\nSecondaryType                 : \n\n",
    "output_type": "stream"
}, {
    "name": "stdout",
    "text": "\n\n",
    "output_type": "stream"
}
],
            "execution_count": 5
        },
        {
            "cell_type": "markdown",
            "source": [
                "- <span style=\"font-size: 14px;\">Create target server</span>\n",
                "- <span style=\"font-size: 14px;\">Configure server firewall rule for target server<br></span>\n",
                "- <span style=\"font-size: 14px;\">Create a database using adventureworks smaple</span>\n",
                "- <span style=\"font-size: 14px;\">Create a database for runbook demo&nbsp;</span>"
            ],
            "metadata": {
                "azdata_cell_guid": "60446c50-e2df-4fb3-bdfc-bfa255fbfa31"
            }
        },
        {
            "cell_type": "code",
            "source": [
                "New-AzSqlServer `\r\n",
                "    -ResourceGroupName $resourceGroupName `\r\n",
                "    -ServerName $targetServerName `\r\n",
                "    -Location $primaryLocation `\r\n",
                "    -SqlAdministratorCredentials $(New-Object -TypeName System.Management.Automation.PSCredential `\r\n",
                "    -ArgumentList $adminlogin, $(ConvertTo-SecureString -String $password -AsPlainText -Force))\r\n",
                "\r\n",
                "#Configure a server firewall rule for target server\r\n",
                "New-AzSqlServerFirewallRule `\r\n",
                "    -ResourceGroupName $resourceGroupName `\r\n",
                "    -ServerName $targetServerName `\r\n",
                "    -FirewallRuleName \"TaiobDesktop\" `\r\n",
                "    -StartIpAddress $startip `\r\n",
                "    -EndIpAddress $endip\r\n",
                "\r\n",
                "#This is done to allow access to Azure Services \r\n",
                "New-AzSqlServerFirewallRule `\r\n",
                "    -ServerName $targetServerName `\r\n",
                "    -ResourceGroupName $resourceGroupName  `\r\n",
                "    -AllowAllAzureIPs\r\n",
                "\r\n",
                "New-AzSqlDatabase  `\r\n",
                "    -ResourceGroupName $resourceGroupName `\r\n",
                "    -ServerName $targetServerName `\r\n",
                "    -DatabaseName $databasename1 `\r\n",
                "    -Edition \"Standard\" `\r\n",
                "    -RequestedServiceObjectiveName \"S0\" `\r\n",
                "    -MaxSizeBytes 10737418240 `\r\n",
                "    -SampleName \"AdventureWorksLT\"\r\n",
                "\r\n",
                "New-AzSqlDatabase  `\r\n",
                "    -ResourceGroupName $resourceGroupName `\r\n",
                "    -ServerName $targetServerName `\r\n",
                "    -DatabaseName testRunBookDB `\r\n",
                "    -Edition \"Standard\" `\r\n",
                "    -RequestedServiceObjectiveName \"S0\" `\r\n",
                "    -MaxSizeBytes 10737418240 `"
            ],
            "metadata": {
                "azdata_cell_guid": "a18d7d9b-4f32-4c24-b190-d9097d1806a6"
            },
            "outputs": [
{
    "name": "stdout",
    "text": ". {\n>> New-AzSqlServer `\n>>     -ResourceGroupName $resourceGroupName `\n>>     -ServerName $targetServerName `\n>>     -Location $primaryLocation `\n>>     -SqlAdministratorCredentials $(New-Object -TypeName System.Management.Automation.PSCredential `\n>>     -ArgumentList $adminlogin, $(ConvertTo-SecureString -String $password -AsPlainText -Force))\n>> \n>> #Configure a server firewall rule for target server\n>> New-AzSqlServerFirewallRule `\n>>     -ResourceGroupName $resourceGroupName `\n>>     -ServerName $targetServerName `\n>>     -FirewallRuleName \"TaiobDesktop\" `\n>>     -StartIpAddress $startip `\n>>     -EndIpAddress $endip\n>> \n>> #This is done to allow access to Azure Services \n>> New-AzSqlServerFirewallRule `\n>>     -ServerName $targetServerName `\n>>     -ResourceGroupName $resourceGroupName  `\n>>     -AllowAllAzureIPs\n>> \n>> New-AzSqlDatabase  `\n>>     -ResourceGroupName $resourceGroupName `\n>>     -ServerName",
    "output_type": "stream"
}, {
    "name": "stdout",
    "text": " $targetServerName `\n>>     -DatabaseName $databasename1 `\n>>     -Edition \"Standard\" `\n>>     -RequestedServiceObjectiveName \"S0\" `\n>>     -MaxSizeBytes 10737418240 `\n>>     -SampleName \"AdventureWorksLT\"\n>> \n>> New-AzSqlDatabase  `\n>>     -ResourceGroupName $resourceGroupName `\n>>     -ServerName $targetServerName `\n>>     -DatabaseName testRunBookDB `\n>>     -Edition \"Standard\" `\n>>     -RequestedServiceObjectiveName \"S0\" `\n>>     -MaxSizeBytes 10737418240 `\n>> }\n>> \n",
    "output_type": "stream"
}, {
    "name": "stdout",
    "text": "\n\nResourceGroupName        : sqlagentdemo\nServerName               : ugdemotargetserver\nLocation                 : eastus\nSqlAdministratorLogin    : taiob\nSqlAdministratorPassword : \nServerVersion            : 12.0\nTags                     : \nIdentity                 : \nFullyQualifiedDomainName : ugdemotargetserver.database.windows.net\nResourceId               : /subscriptions/18d92f52-ac34-4379-ab8b-5a5106f1c54e/resourceGroups/sqlagentdemo/providers/Mi\n                           crosoft.Sql/servers/ugdemotargetserver\nMinimalTlsVersion        : \nPublicNetworkAccess      : Enabled\n\n",
    "output_type": "stream"
}, {
    "name": "stdout",
    "text": "ResourceGroupName : sqlagentdemo\nServerName        : ugdemotargetserver\nStartIpAddress    : 71.174.126.37\nEndIpAddress      : 71.174.126.37\nFirewallRuleName  : TaiobDesktop\n\n",
    "output_type": "stream"
}, {
    "name": "stdout",
    "text": "ResourceGroupName : sqlagentdemo\nServerName        : ugdemotargetserver\nStartIpAddress    : 0.0.0.0\nEndIpAddress      : 0.0.0.0\nFirewallRuleName  : AllowAllAzureIPs\n\n",
    "output_type": "stream"
}, {
    "name": "stdout",
    "text": "ResourceGroupName             : sqlagentdemo\nServerName                    : ugdemotargetserver\nDatabaseName                  : adventureworks\nLocation                      : eastus\nDatabaseId                    : 17723696-129c-44bf-8080-861c14ef720e\nEdition                       : Standard\nCollationName                 : SQL_Latin1_General_CP1_CI_AS\nCatalogCollation              : \nMaxSizeBytes                  : 10737418240\nStatus                        : Online\nCreationDate                  : 3/8/2021 11:19:04 PM\nCurrentServiceObjectiveId     : 00000000-0000-0000-0000-000000000000\nCurrentServiceObjectiveName   : S0\nRequestedServiceObjectiveName : S0\nRequestedServiceObjectiveId   : \nElasticPoolName               : \nEarliestRestoreDate           : 3/8/2021 11:49:04 PM\nTags                          : \nResourceId                    : /subscriptions/18d92f52-ac34-4379-ab8b-5a5106f1c54e/resourceGroups/sqlagentdemo/provide\n                                rs/Microsoft.Sql/servers/ugdemotargetserver/databases/adventureworks\nCreateMode                    : \nReadScale                     : Disabled\nZoneRedundant                 : False\nCapacity                      : 10\nFamily                        : \nSkuName                       : Standard\nLicenseType                   : \nAutoPauseDelayInMinutes       : \nMinimumCapacity               : \nReadReplicaCount              : \nHighAvailabilityReplicaCount  : \nBackupStorageRedundancy       : Geo\nSecondaryType                 : \n\n",
    "output_type": "stream"
}, {
    "name": "stdout",
    "text": "ResourceGroupName             : sqlagentdemo\nServerName                    : ugdemotargetserver\nDatabaseName                  : testRunBookDB\nLocation                      : eastus\nDatabaseId                    : 00369034-7dc4-4ebd-9f07-537b9d261c15\nEdition                       : Standard\nCollationName                 : SQL_Latin1_General_CP1_CI_AS\nCatalogCollation              : \nMaxSizeBytes                  : 10737418240\nStatus                        : Online\nCreationDate                  : 3/8/2021 11:20:05 PM\nCurrentServiceObjectiveId     : 00000000-0000-0000-0000-000000000000\nCurrentServiceObjectiveName   : S0\nRequestedServiceObjectiveName : S0\nRequestedServiceObjectiveId   : \nElasticPoolName               : \nEarliestRestoreDate           : 3/8/2021 11:50:05 PM\nTags                          : \nResourceId                    : /subscriptions/18d92f52-ac34-4379-ab8b-5a5106f1c54e/resourceGroups/sqlagentdemo/provide\n                                rs/Microsoft.Sql/servers/ugdemotargetserver/databases/testRunBookDB\nCreateMode                    : \nReadScale                     : Disabled\nZoneRedundant                 : False\nCapacity                      : 10\nFamily                        : \nSkuName                       : Standard\nLicenseType                   : \nAutoPauseDelayInMinutes       : \nMinimumCapacity               : \nReadReplicaCount              : \nHighAvailabilityReplicaCount  : \nBackupStorageRedundancy       : Geo\nSecondaryType                 : \n\n",
    "output_type": "stream"
}, {
    "name": "stdout",
    "text": "\n\n",
    "output_type": "stream"
}
],
            "execution_count": 6
        },
        {
            "cell_type": "markdown",
            "source": [
                "<span style=\"font-size: 14px;\">Create a database using wideworldimporters bacpac file</span>\n",
                "\n",
                "<span style=\"font-size: 14px;\">https://github.com/Microsoft/sql-server-samples/releases/download/wide-world-importers-v1.0/WideWorldImporters-Standard.bacpac</span>"
            ],
            "metadata": {
                "azdata_cell_guid": "0daa96ec-9caf-4eca-8f70-fbb5722b3dc5"
            }
        },
        {
            "cell_type": "code",
            "source": [
                "[Net.ServicePointManager]::SecurityProtocol = [Net.SecurityProtocolType]::Tls12\r\n",
                "$url = \"http://github.com/Microsoft/sql-server-samples/releases/download/wide-world-importers-v1.0/WideWorldImporters-Standard.bacpac\"\r\n",
                "$output = \"c:\\WideWorldImporters-Standard.bacpac\"\r\n",
                "Invoke-WebRequest -Uri $url -OutFile $output\r\n",
                "Set-Location \"C:\\Program Files (x86)\\Microsoft SQL Server\\140\\DAC\\bin\\\"\r\n",
                "\r\n",
                ".\\sqlpackage.exe /a:Import /sf:$output /tsn:\"$targetServerName.database.windows.net\" `\r\n",
                "    /tdn:$databaseName2 /tu:$adminlogin /tp:$password\r\n",
                "    "
            ],
            "metadata": {
                "azdata_cell_guid": "3ce4a0a4-5671-4d2f-8e07-6612c341a93a"
            },
            "outputs": [
{
    "name": "stdout",
    "text": ". {\n>> [Net.ServicePointManager]::SecurityProtocol = [Net.SecurityProtocolType]::Tls12\n>> $url = \"http://github.com/Microsoft/sql-server-samples/releases/download/wide-world-importers-v1.0/WideWorldImporters-Standard.bacpac\"\n>> $output = \"c:\\WideWorldImporters-Standard.bacpac\"\n>> Invoke-WebRequest -Uri $url -OutFile $output\n>> Set-Location \"C:\\Program Files (x86)\\Microsoft SQL Server\\140\\DAC\\bin\\\"\n>> \n",
    "output_type": "stream"
}, {
    "name": "stdout",
    "text": ">> .\\sqlpackage.exe /a:Import /sf:$output /tsn:\"$targetServerName.database.windows.net\" `\n>>     /tdn:$databaseName2 /tu:$adminlogin /tp:$password\n>>     \n>> }\n>> \n",
    "output_type": "stream"
}, {
    "name": "stdout",
    "text": "Importing to database 'WideWorldImporters' on server 'ugdemotargetserver.database.windows.net'.\n",
    "output_type": "stream"
}, {
    "name": "stdout",
    "text": "Creating deployment plan\nInitializing deployment\n",
    "output_type": "stream"
}, {
    "name": "stdout",
    "text": "*** A project which specifies SQL Server 2016 as the target platform may experience compatibility issues with Microsoft Azure SQL Database v12.\n",
    "output_type": "stream"
}, {
    "name": "stdout",
    "text": "Verifying deployment plan\nAnalyzing deployment plan\n",
    "output_type": "stream"
}, {
    "name": "stdout",
    "text": "Importing package schema and data into database\nUpdating database\n",
    "output_type": "stream"
}, {
    "name": "stdout",
    "text": "Importing data\n",
    "output_type": "stream"
}, {
    "name": "stdout",
    "text": "Processing Import.\n",
    "output_type": "stream"
}, {
    "name": "stdout",
    "text": "Disabling indexes.\nDisabling index 'FK_Application_Cities_StateProvinceID'.\nDisabling index 'UQ_Application_Countries_CountryName'.\nDisabling index 'UQ_Application_Countries_FormalName'.\nDisabling index 'UQ_Application_DeliveryMethods_DeliveryMethodName'.\n",
    "output_type": "stream"
}, {
    "name": "stdout",
    "text": "Disabling index 'UQ_Application_PaymentMethods_PaymentMethodName'.\nDisabling index 'IX_Application_People_FullName'.\nDisabling index 'IX_Application_People_IsEmployee'.\nDisabling index 'IX_Application_People_IsSalesperson'.\nDisabling index 'IX_Application_People_Perf_20160301_05'.\n",
    "output_type": "stream"
}, {
    "name": "stdout",
    "text": "Disabling index 'FK_Application_StateProvinces_CountryID'.\nDisabling index 'IX_Application_StateProvinces_SalesTerritory'.\nDisabling index 'UQ_Application_StateProvinces_StateProvinceName'.\nDisabling index 'FK_Application_SystemParameters_DeliveryCityID'.\n",
    "output_type": "stream"
}, {
    "name": "stdout",
    "text": "Disabling index 'FK_Application_SystemParameters_PostalCityID'.\nDisabling index 'UQ_Application_TransactionTypes_TransactionTypeName'.\nDisabling index 'FK_Purchasing_PurchaseOrderLines_PackageTypeID'.\nDisabling index 'FK_Purchasing_PurchaseOrderLines_PurchaseOrderID'.\nDisabling index 'FK_Purchasing_PurchaseOrderLines_StockItemID'.\n",
    "output_type": "stream"
}, {
    "name": "stdout",
    "text": "Disabling index 'IX_Purchasing_PurchaseOrderLines_Perf_20160301_4'.\nDisabling index 'FK_Purchasing_PurchaseOrders_ContactPersonID'.\nDisabling index 'FK_Purchasing_PurchaseOrders_DeliveryMethodID'.\nDisabling index 'FK_Purchasing_PurchaseOrders_SupplierID'.\n",
    "output_type": "stream"
}, {
    "name": "stdout",
    "text": "Disabling index 'UQ_Purchasing_SupplierCategories_SupplierCategoryName'.\nDisabling index 'FK_Purchasing_Suppliers_AlternateContactPersonID'.\nDisabling index 'FK_Purchasing_Suppliers_DeliveryCityID'.\nDisabling index 'FK_Purchasing_Suppliers_DeliveryMethodID'.\n",
    "output_type": "stream"
}, {
    "name": "stdout",
    "text": "Disabling index 'FK_Purchasing_Suppliers_PostalCityID'.\nDisabling index 'FK_Purchasing_Suppliers_PrimaryContactPersonID'.\nDisabling index 'FK_Purchasing_Suppliers_SupplierCategoryID'.\nDisabling index 'UQ_Purchasing_Suppliers_SupplierName'.\n",
    "output_type": "stream"
}, {
    "name": "stdout",
    "text": "Disabling index 'FK_Purchasing_SupplierTransactions_PaymentMethodID'.\nDisabling index 'FK_Purchasing_SupplierTransactions_PurchaseOrderID'.\nDisabling index 'FK_Purchasing_SupplierTransactions_SupplierID'.\nDisabling index 'FK_Purchasing_SupplierTransactions_TransactionTypeID'.\n",
    "output_type": "stream"
}, {
    "name": "stdout",
    "text": "Disabling index 'IX_Purchasing_SupplierTransactions_IsFinalized'.\nDisabling index 'UQ_Sales_BuyingGroups_BuyingGroupName'.\nDisabling index 'UQ_Sales_CustomerCategories_CustomerCategoryName'.\nDisabling index 'FK_Sales_Customers_AlternateContactPersonID'.\n",
    "output_type": "stream"
}, {
    "name": "stdout",
    "text": "Disabling index 'FK_Sales_Customers_BuyingGroupID'.\nDisabling index 'FK_Sales_Customers_CustomerCategoryID'.\nDisabling index 'FK_Sales_Customers_DeliveryCityID'.\nDisabling index 'FK_Sales_Customers_DeliveryMethodID'.\nDisabling index 'FK_Sales_Customers_PostalCityID'.\n",
    "output_type": "stream"
}, {
    "name": "stdout",
    "text": "Disabling index 'FK_Sales_Customers_PrimaryContactPersonID'.\nDisabling index 'IX_Sales_Customers_Perf_20160301_06'.\nDisabling index 'UQ_Sales_Customers_CustomerName'.\nDisabling index 'FK_Sales_CustomerTransactions_CustomerID'.\n",
    "output_type": "stream"
}, {
    "name": "stdout",
    "text": "Disabling index 'FK_Sales_CustomerTransactions_InvoiceID'.\nDisabling index 'FK_Sales_CustomerTransactions_PaymentMethodID'.\nDisabling index 'FK_Sales_CustomerTransactions_TransactionTypeID'.\nDisabling index 'IX_Sales_CustomerTransactions_IsFinalized'.\nDisabling index 'FK_Sales_InvoiceLines_InvoiceID'.\n",
    "output_type": "stream"
}, {
    "name": "stdout",
    "text": "Disabling index 'FK_Sales_InvoiceLines_PackageTypeID'.\nDisabling index 'FK_Sales_InvoiceLines_StockItemID'.\nDisabling index 'FK_Sales_Invoices_AccountsPersonID'.\nDisabling index 'FK_Sales_Invoices_BillToCustomerID'.\n",
    "output_type": "stream"
}, {
    "name": "stdout",
    "text": "Disabling index 'FK_Sales_Invoices_ContactPersonID'.\nDisabling index 'FK_Sales_Invoices_CustomerID'.\nDisabling index 'FK_Sales_Invoices_DeliveryMethodID'.\nDisabling index 'FK_Sales_Invoices_OrderID'.\n",
    "output_type": "stream"
}, {
    "name": "stdout",
    "text": "Disabling index 'FK_Sales_Invoices_PackedByPersonID'.\nDisabling index 'FK_Sales_Invoices_SalespersonPersonID'.\nDisabling index 'IX_Sales_Invoices_ConfirmedDeliveryTime'.\nDisabling index 'FK_Sales_OrderLines_OrderID'.\n",
    "output_type": "stream"
}, {
    "name": "stdout",
    "text": "Disabling index 'FK_Sales_OrderLines_PackageTypeID'.\nDisabling index 'IX_Sales_OrderLines_AllocatedStockItems'.\nDisabling index 'IX_Sales_OrderLines_Perf_20160301_01'.\nDisabling index 'IX_Sales_OrderLines_Perf_20160301_02'.\n",
    "output_type": "stream"
}, {
    "name": "stdout",
    "text": "Disabling index 'FK_Sales_Orders_ContactPersonID'.\nDisabling index 'FK_Sales_Orders_CustomerID'.\nDisabling index 'FK_Sales_Orders_PickedByPersonID'.\nDisabling index 'FK_Sales_Orders_SalespersonPersonID'.\nDisabling index 'FK_Sales_SpecialDeals_BuyingGroupID'.\n",
    "output_type": "stream"
}, {
    "name": "stdout",
    "text": "Disabling index 'FK_Sales_SpecialDeals_CustomerCategoryID'.\nDisabling index 'FK_Sales_SpecialDeals_CustomerID'.\nDisabling index 'FK_Sales_SpecialDeals_StockGroupID'.\nDisabling index 'FK_Sales_SpecialDeals_StockItemID'.\n",
    "output_type": "stream"
}, {
    "name": "stdout",
    "text": "Disabling index 'IX_Warehouse_ColdRoomTemperatures_ColdRoomSensorNumber'.\nDisabling index 'UQ_Warehouse_Colors_ColorName'.\nDisabling index 'UQ_Warehouse_PackageTypes_PackageTypeName'.\nDisabling index 'UQ_Warehouse_StockGroups_StockGroupName'.\n",
    "output_type": "stream"
}, {
    "name": "stdout",
    "text": "Disabling index 'FK_Warehouse_StockItems_ColorID'.\nDisabling index 'FK_Warehouse_StockItems_OuterPackageID'.\nDisabling index 'FK_Warehouse_StockItems_SupplierID'.\nDisabling index 'FK_Warehouse_StockItems_UnitPackageID'.\nDisabling index 'UQ_Warehouse_StockItems_StockItemName'.\n",
    "output_type": "stream"
}, {
    "name": "stdout",
    "text": "Disabling index 'UQ_StockItemStockGroups_StockGroupID_Lookup'.\nDisabling index 'UQ_StockItemStockGroups_StockItemID_Lookup'.\nDisabling index 'FK_Warehouse_StockItemTransactions_CustomerID'.\nDisabling index 'FK_Warehouse_StockItemTransactions_InvoiceID'.\n",
    "output_type": "stream"
}, {
    "name": "stdout",
    "text": "Disabling index 'FK_Warehouse_StockItemTransactions_PurchaseOrderID'.\nDisabling index 'FK_Warehouse_StockItemTransactions_StockItemID'.\nDisabling index 'FK_Warehouse_StockItemTransactions_SupplierID'.\nDisabling index 'FK_Warehouse_StockItemTransactions_TransactionTypeID'.\n",
    "output_type": "stream"
}, {
    "name": "stdout",
    "text": "Processing Table '[Application].[Cities]'.\n",
    "output_type": "stream"
}, {
    "name": "stdout",
    "text": "Processing Table '[Application].[Cities_Archive]'.\n",
    "output_type": "stream"
}, {
    "name": "stdout",
    "text": "Processing Table '[Application].[Countries]'.\n",
    "output_type": "stream"
}, {
    "name": "stdout",
    "text": "Processing Table '[Application].[Countries_Archive]'.\n",
    "output_type": "stream"
}, {
    "name": "stdout",
    "text": "Processing Table '[Application].[DeliveryMethods]'.\n",
    "output_type": "stream"
}, {
    "name": "stdout",
    "text": "Processing Table '[Application].[DeliveryMethods_Archive]'.\n",
    "output_type": "stream"
}, {
    "name": "stdout",
    "text": "Processing Table '[Application].[PaymentMethods]'.\n",
    "output_type": "stream"
}, {
    "name": "stdout",
    "text": "Processing Table '[Application].[PaymentMethods_Archive]'.\n",
    "output_type": "stream"
}, {
    "name": "stdout",
    "text": "Processing Table '[Application].[People]'.\n",
    "output_type": "stream"
}, {
    "name": "stdout",
    "text": "Processing Table '[Application].[People_Archive]'.\n",
    "output_type": "stream"
}, {
    "name": "stdout",
    "text": "Processing Table '[Application].[StateProvinces]'.\n",
    "output_type": "stream"
}, {
    "name": "stdout",
    "text": "Processing Table '[Application].[StateProvinces_Archive]'.\n",
    "output_type": "stream"
}, {
    "name": "stdout",
    "text": "Processing Table '[Application].[SystemParameters]'.\n",
    "output_type": "stream"
}, {
    "name": "stdout",
    "text": "Processing Table '[Application].[TransactionTypes]'.\n",
    "output_type": "stream"
}, {
    "name": "stdout",
    "text": "Processing Table '[Application].[TransactionTypes_Archive]'.\n",
    "output_type": "stream"
}, {
    "name": "stdout",
    "text": "Processing Table '[Purchasing].[PurchaseOrderLines]'.\n",
    "output_type": "stream"
}, {
    "name": "stdout",
    "text": "Processing Table '[Purchasing].[PurchaseOrders]'.\n",
    "output_type": "stream"
}, {
    "name": "stdout",
    "text": "Processing Table '[Purchasing].[SupplierCategories]'.\n",
    "output_type": "stream"
}, {
    "name": "stdout",
    "text": "Processing Table '[Purchasing].[SupplierCategories_Archive]'.\n",
    "output_type": "stream"
}, {
    "name": "stdout",
    "text": "Processing Table '[Purchasing].[Suppliers]'.\n",
    "output_type": "stream"
}, {
    "name": "stdout",
    "text": "Processing Table '[Purchasing].[Suppliers_Archive]'.\n",
    "output_type": "stream"
}, {
    "name": "stdout",
    "text": "Processing Table '[Purchasing].[SupplierTransactions]'.\n",
    "output_type": "stream"
}, {
    "name": "stdout",
    "text": "Processing Table '[Sales].[BuyingGroups]'.\n",
    "output_type": "stream"
}, {
    "name": "stdout",
    "text": "Processing Table '[Sales].[BuyingGroups_Archive]'.\nProcessing Table '[Sales].[CustomerCategories]'.\n",
    "output_type": "stream"
}, {
    "name": "stdout",
    "text": "Processing Table '[Sales].[CustomerCategories_Archive]'.\n",
    "output_type": "stream"
}, {
    "name": "stdout",
    "text": "Processing Table '[Sales].[Customers]'.\n",
    "output_type": "stream"
}, {
    "name": "stdout",
    "text": "Processing Table '[Sales].[Customers_Archive]'.\n",
    "output_type": "stream"
}, {
    "name": "stdout",
    "text": "Processing Table '[Sales].[CustomerTransactions]'.\n",
    "output_type": "stream"
}, {
    "name": "stdout",
    "text": "Processing Table '[Sales].[InvoiceLines]'.\n",
    "output_type": "stream"
}, {
    "name": "stdout",
    "text": "Processing Table '[Sales].[Invoices]'.\n",
    "output_type": "stream"
}, {
    "name": "stdout",
    "text": "Processing Table '[Sales].[OrderLines]'.\n",
    "output_type": "stream"
}, {
    "name": "stdout",
    "text": "Processing Table '[Sales].[Orders]'.\n",
    "output_type": "stream"
}, {
    "name": "stdout",
    "text": "Processing Table '[Sales].[SpecialDeals]'.\n",
    "output_type": "stream"
}, {
    "name": "stdout",
    "text": "Processing Table '[Warehouse].[ColdRoomTemperatures]'.\n",
    "output_type": "stream"
}, {
    "name": "stdout",
    "text": "Processing Table '[Warehouse].[ColdRoomTemperatures_Archive]'.\n",
    "output_type": "stream"
}, {
    "name": "stdout",
    "text": "Processing Table '[Warehouse].[Colors]'.\n",
    "output_type": "stream"
}, {
    "name": "stdout",
    "text": "Processing Table '[Warehouse].[Colors_Archive]'.\n",
    "output_type": "stream"
}, {
    "name": "stdout",
    "text": "Processing Table '[Warehouse].[PackageTypes]'.\n",
    "output_type": "stream"
}, {
    "name": "stdout",
    "text": "Processing Table '[Warehouse].[PackageTypes_Archive]'.\nProcessing Table '[Warehouse].[StockGroups]'.\n",
    "output_type": "stream"
}, {
    "name": "stdout",
    "text": "Processing Table '[Warehouse].[StockGroups_Archive]'.\n",
    "output_type": "stream"
}, {
    "name": "stdout",
    "text": "Processing Table '[Warehouse].[StockItemHoldings]'.\n",
    "output_type": "stream"
}, {
    "name": "stdout",
    "text": "Processing Table '[Warehouse].[StockItems]'.\n",
    "output_type": "stream"
}, {
    "name": "stdout",
    "text": "Processing Table '[Warehouse].[StockItems_Archive]'.\n",
    "output_type": "stream"
}, {
    "name": "stdout",
    "text": "Processing Table '[Warehouse].[StockItemStockGroups]'.\n",
    "output_type": "stream"
}, {
    "name": "stdout",
    "text": "Processing Table '[Warehouse].[StockItemTransactions]'.\n",
    "output_type": "stream"
}, {
    "name": "stdout",
    "text": "Processing Table '[Warehouse].[VehicleTemperatures]'.\n",
    "output_type": "stream"
}, {
    "name": "stdout",
    "text": "Enabling indexes.\nEnabling index 'FK_Application_Cities_StateProvinceID'.\n",
    "output_type": "stream"
}, {
    "name": "stdout",
    "text": "Enabling index 'UQ_Application_Countries_CountryName'.\n",
    "output_type": "stream"
}, {
    "name": "stdout",
    "text": "Enabling index 'UQ_Application_Countries_FormalName'.\nEnabling index 'UQ_Application_DeliveryMethods_DeliveryMethodName'.\nEnabling index 'UQ_Application_PaymentMethods_PaymentMethodName'.\n",
    "output_type": "stream"
}, {
    "name": "stdout",
    "text": "Enabling index 'IX_Application_People_FullName'.\nEnabling index 'IX_Application_People_IsEmployee'.\nEnabling index 'IX_Application_People_IsSalesperson'.\n",
    "output_type": "stream"
}, {
    "name": "stdout",
    "text": "Enabling index 'IX_Application_People_Perf_20160301_05'.\nEnabling index 'FK_Application_StateProvinces_CountryID'.\nEnabling index 'IX_Application_StateProvinces_SalesTerritory'.\n",
    "output_type": "stream"
}, {
    "name": "stdout",
    "text": "Enabling index 'UQ_Application_StateProvinces_StateProvinceName'.\nEnabling index 'FK_Application_SystemParameters_DeliveryCityID'.\nEnabling index 'FK_Application_SystemParameters_PostalCityID'.\n",
    "output_type": "stream"
}, {
    "name": "stdout",
    "text": "Enabling index 'UQ_Application_TransactionTypes_TransactionTypeName'.\nEnabling index 'FK_Purchasing_PurchaseOrderLines_PackageTypeID'.\n",
    "output_type": "stream"
}, {
    "name": "stdout",
    "text": "Enabling index 'FK_Purchasing_PurchaseOrderLines_PurchaseOrderID'.\nEnabling index 'FK_Purchasing_PurchaseOrderLines_StockItemID'.\n",
    "output_type": "stream"
}, {
    "name": "stdout",
    "text": "Enabling index 'IX_Purchasing_PurchaseOrderLines_Perf_20160301_4'.\nEnabling index 'FK_Purchasing_PurchaseOrders_ContactPersonID'.\n",
    "output_type": "stream"
}, {
    "name": "stdout",
    "text": "Enabling index 'FK_Purchasing_PurchaseOrders_DeliveryMethodID'.\n",
    "output_type": "stream"
}, {
    "name": "stdout",
    "text": "Enabling index 'FK_Purchasing_PurchaseOrders_SupplierID'.\n",
    "output_type": "stream"
}, {
    "name": "stdout",
    "text": "Enabling index 'UQ_Purchasing_SupplierCategories_SupplierCategoryName'.\nEnabling index 'FK_Purchasing_Suppliers_AlternateContactPersonID'.\nEnabling index 'FK_Purchasing_Suppliers_DeliveryCityID'.\n",
    "output_type": "stream"
}, {
    "name": "stdout",
    "text": "Enabling index 'FK_Purchasing_Suppliers_DeliveryMethodID'.\nEnabling index 'FK_Purchasing_Suppliers_PostalCityID'.\nEnabling index 'FK_Purchasing_Suppliers_PrimaryContactPersonID'.\n",
    "output_type": "stream"
}, {
    "name": "stdout",
    "text": "Enabling index 'FK_Purchasing_Suppliers_SupplierCategoryID'.\nEnabling index 'UQ_Purchasing_Suppliers_SupplierName'.\nEnabling index 'FK_Purchasing_SupplierTransactions_PaymentMethodID'.\n",
    "output_type": "stream"
}, {
    "name": "stdout",
    "text": "Enabling index 'FK_Purchasing_SupplierTransactions_PurchaseOrderID'.\nEnabling index 'FK_Purchasing_SupplierTransactions_SupplierID'.\nEnabling index 'FK_Purchasing_SupplierTransactions_TransactionTypeID'.\n",
    "output_type": "stream"
}, {
    "name": "stdout",
    "text": "Enabling index 'IX_Purchasing_SupplierTransactions_IsFinalized'.\nEnabling index 'UQ_Sales_BuyingGroups_BuyingGroupName'.\nEnabling index 'UQ_Sales_CustomerCategories_CustomerCategoryName'.\n",
    "output_type": "stream"
}, {
    "name": "stdout",
    "text": "Enabling index 'FK_Sales_Customers_AlternateContactPersonID'.\nEnabling index 'FK_Sales_Customers_BuyingGroupID'.\nEnabling index 'FK_Sales_Customers_CustomerCategoryID'.\n",
    "output_type": "stream"
}, {
    "name": "stdout",
    "text": "Enabling index 'FK_Sales_Customers_DeliveryCityID'.\nEnabling index 'FK_Sales_Customers_DeliveryMethodID'.\nEnabling index 'FK_Sales_Customers_PostalCityID'.\n",
    "output_type": "stream"
}, {
    "name": "stdout",
    "text": "Enabling index 'FK_Sales_Customers_PrimaryContactPersonID'.\nEnabling index 'IX_Sales_Customers_Perf_20160301_06'.\n",
    "output_type": "stream"
}, {
    "name": "stdout",
    "text": "Enabling index 'UQ_Sales_Customers_CustomerName'.\nEnabling index 'FK_Sales_CustomerTransactions_CustomerID'.\n",
    "output_type": "stream"
}, {
    "name": "stdout",
    "text": "Enabling index 'FK_Sales_CustomerTransactions_InvoiceID'.\n",
    "output_type": "stream"
}, {
    "name": "stdout",
    "text": "Enabling index 'FK_Sales_CustomerTransactions_PaymentMethodID'.\n",
    "output_type": "stream"
}, {
    "name": "stdout",
    "text": "Enabling index 'FK_Sales_CustomerTransactions_TransactionTypeID'.\n",
    "output_type": "stream"
}, {
    "name": "stdout",
    "text": "Enabling index 'IX_Sales_CustomerTransactions_IsFinalized'.\n",
    "output_type": "stream"
}, {
    "name": "stdout",
    "text": "Enabling index 'FK_Sales_InvoiceLines_InvoiceID'.\n",
    "output_type": "stream"
}, {
    "name": "stdout",
    "text": "Enabling index 'FK_Sales_InvoiceLines_PackageTypeID'.\n",
    "output_type": "stream"
}, {
    "name": "stdout",
    "text": "Enabling index 'FK_Sales_InvoiceLines_StockItemID'.\n",
    "output_type": "stream"
}, {
    "name": "stdout",
    "text": "Enabling index 'FK_Sales_Invoices_AccountsPersonID'.\n",
    "output_type": "stream"
}, {
    "name": "stdout",
    "text": "Enabling index 'FK_Sales_Invoices_BillToCustomerID'.\n",
    "output_type": "stream"
}, {
    "name": "stdout",
    "text": "Enabling index 'FK_Sales_Invoices_ContactPersonID'.\n",
    "output_type": "stream"
}, {
    "name": "stdout",
    "text": "Enabling index 'FK_Sales_Invoices_CustomerID'.\n",
    "output_type": "stream"
}, {
    "name": "stdout",
    "text": "Enabling index 'FK_Sales_Invoices_DeliveryMethodID'.\n",
    "output_type": "stream"
}, {
    "name": "stdout",
    "text": "Enabling index 'FK_Sales_Invoices_OrderID'.\n",
    "output_type": "stream"
}, {
    "name": "stdout",
    "text": "Enabling index 'FK_Sales_Invoices_PackedByPersonID'.\n",
    "output_type": "stream"
}, {
    "name": "stdout",
    "text": "Enabling index 'FK_Sales_Invoices_SalespersonPersonID'.\n",
    "output_type": "stream"
}, {
    "name": "stdout",
    "text": "Enabling index 'IX_Sales_Invoices_ConfirmedDeliveryTime'.\n",
    "output_type": "stream"
}, {
    "name": "stdout",
    "text": "Enabling index 'FK_Sales_OrderLines_OrderID'.\n",
    "output_type": "stream"
}, {
    "name": "stdout",
    "text": "Enabling index 'FK_Sales_OrderLines_PackageTypeID'.\n",
    "output_type": "stream"
}, {
    "name": "stdout",
    "text": "Enabling index 'IX_Sales_OrderLines_AllocatedStockItems'.\n",
    "output_type": "stream"
}, {
    "name": "stdout",
    "text": "Enabling index 'IX_Sales_OrderLines_Perf_20160301_01'.\n",
    "output_type": "stream"
}, {
    "name": "stdout",
    "text": "Enabling index 'IX_Sales_OrderLines_Perf_20160301_02'.\n",
    "output_type": "stream"
}, {
    "name": "stdout",
    "text": "Enabling index 'FK_Sales_Orders_ContactPersonID'.\n",
    "output_type": "stream"
}, {
    "name": "stdout",
    "text": "Enabling index 'FK_Sales_Orders_CustomerID'.\n",
    "output_type": "stream"
}, {
    "name": "stdout",
    "text": "Enabling index 'FK_Sales_Orders_PickedByPersonID'.\n",
    "output_type": "stream"
}, {
    "name": "stdout",
    "text": "Enabling index 'FK_Sales_Orders_SalespersonPersonID'.\n",
    "output_type": "stream"
}, {
    "name": "stdout",
    "text": "Enabling index 'FK_Sales_SpecialDeals_BuyingGroupID'.\nEnabling index 'FK_Sales_SpecialDeals_CustomerCategoryID'.\n",
    "output_type": "stream"
}, {
    "name": "stdout",
    "text": "Enabling index 'FK_Sales_SpecialDeals_CustomerID'.\nEnabling index 'FK_Sales_SpecialDeals_StockGroupID'.\nEnabling index 'FK_Sales_SpecialDeals_StockItemID'.\n",
    "output_type": "stream"
}, {
    "name": "stdout",
    "text": "Enabling index 'IX_Warehouse_ColdRoomTemperatures_ColdRoomSensorNumber'.\nEnabling index 'UQ_Warehouse_Colors_ColorName'.\nEnabling index 'UQ_Warehouse_PackageTypes_PackageTypeName'.\n",
    "output_type": "stream"
}, {
    "name": "stdout",
    "text": "Enabling index 'UQ_Warehouse_StockGroups_StockGroupName'.\nEnabling index 'FK_Warehouse_StockItems_ColorID'.\nEnabling index 'FK_Warehouse_StockItems_OuterPackageID'.\n",
    "output_type": "stream"
}, {
    "name": "stdout",
    "text": "Enabling index 'FK_Warehouse_StockItems_SupplierID'.\nEnabling index 'FK_Warehouse_StockItems_UnitPackageID'.\nEnabling index 'UQ_Warehouse_StockItems_StockItemName'.\n",
    "output_type": "stream"
}, {
    "name": "stdout",
    "text": "Enabling index 'UQ_StockItemStockGroups_StockGroupID_Lookup'.\nEnabling index 'UQ_StockItemStockGroups_StockItemID_Lookup'.\nEnabling index 'FK_Warehouse_StockItemTransactions_CustomerID'.\n",
    "output_type": "stream"
}, {
    "name": "stdout",
    "text": "Enabling index 'FK_Warehouse_StockItemTransactions_InvoiceID'.\n",
    "output_type": "stream"
}, {
    "name": "stdout",
    "text": "Enabling index 'FK_Warehouse_StockItemTransactions_PurchaseOrderID'.\n",
    "output_type": "stream"
}, {
    "name": "stdout",
    "text": "Enabling index 'FK_Warehouse_StockItemTransactions_StockItemID'.\n",
    "output_type": "stream"
}, {
    "name": "stdout",
    "text": "Enabling index 'FK_Warehouse_StockItemTransactions_SupplierID'.\n",
    "output_type": "stream"
}, {
    "name": "stdout",
    "text": "Enabling index 'FK_Warehouse_StockItemTransactions_TransactionTypeID'.\n",
    "output_type": "stream"
}, {
    "name": "stdout",
    "text": "Successfully imported database.\n",
    "output_type": "stream"
}
],
            "execution_count": 7
        },
        {
            "cell_type": "markdown",
            "source": [
                "- Create an elastic database pool for a SQL Database\n",
                "- Create an empty database name test1"
            ],
            "metadata": {
                "azdata_cell_guid": "e71a6114-f6d3-48bd-864d-cbe9392187c3"
            }
        },
        {
            "cell_type": "code",
            "source": [
                "New-AzSqlElasticPool `\r\n",
                "    -ResourceGroupName $resourceGroupName `\r\n",
                "    -ServerName $targetServerName `\r\n",
                "    -ElasticPoolName $elasticPoolName `\r\n",
                "    -Edition \"Standard\" `\r\n",
                "    -Dtu 400 `\r\n",
                "    -DatabaseDtuMin 10 `\r\n",
                "    -DatabaseDtuMax 100\r\n",
                "\r\n",
                "New-AzSqlDatabase  `\r\n",
                "    -ResourceGroupName $resourceGroupName `\r\n",
                "    -ServerName $targetServerName `\r\n",
                "    -DatabaseName \"test1\" `\r\n",
                "    -MaxSizeBytes 10737418240 `\r\n",
                "    -ElasticPoolName $elasticPoolName"
            ],
            "metadata": {
                "azdata_cell_guid": "b2689edc-6450-41ec-b2cd-1e5ca0cbebbd"
            },
            "outputs": [
{
    "name": "stdout",
    "text": "\n\nResourceId          : /subscriptions/18d92f52-ac34-4379-ab8b-5a5106f1c54e/resourceGroups/sqlagentdemo/providers/Microso\n                      ft.Sql/servers/ugdemotargetserver/elasticPools/sqlagentdemo\nResourceGroupName   : sqlagentdemo\nServerName          : ugdemotargetserver\nElasticPoolName     : sqlagentdemo\nLocation            : eastus\nCreationDate        : 3/8/2021 11:34:30 PM\nState               : Ready\nEdition             : Standard\nSkuName             : StandardPool\nDtu                 : 400\nDatabaseDtuMax      : 100\nDatabaseDtuMin      : 10\nCapacity            : 400\nDatabaseCapacityMin : 10\nDatabaseCapacityMax : 100\nFamily              : \nMaxSizeBytes        : 429496729600\nStorageMB           : 409600\nTags                : \nZoneRedundant       : False\nLicenseType         : \n\n",
    "output_type": "stream"
}, {
    "name": "stdout",
    "text": "ResourceGroupName             : sqlagentdemo\nServerName                    : ugdemotargetserver\nDatabaseName                  : test1\nLocation                      : eastus\nDatabaseId                    : 3ae1dd41-8e21-4749-9e90-6e04734a4730\nEdition                       : Standard\nCollationName                 : SQL_Latin1_General_CP1_CI_AS\nCatalogCollation              : \nMaxSizeBytes                  : 10737418240\nStatus                        : Online\nCreationDate                  : 3/8/2021 11:35:38 PM\nCurrentServiceObjectiveId     : 00000000-0000-0000-0000-000000000000\nCurrentServiceObjectiveName   : ElasticPool\nRequestedServiceObjectiveName : ElasticPool\nRequestedServiceObjectiveId   : \nElasticPoolName               : sqlagentdemo\nEarliestRestoreDate           : 3/9/2021 12:05:38 AM\nTags                          : \nResourceId                    : /subscriptions/18d92f52-ac34-4379-ab8b-5a5106f1c54e/resourceGroups/sqlagentdemo/provide\n                                rs/Microsoft.Sql/servers/ugdemotargetserver/databases/test1\nCreateMode                    : \nReadScale                     : Disabled\nZoneRedundant                 : False\nCapacity                      : 0\nFamily                        : \nSkuName                       : ElasticPool\nLicenseType                   : \nAutoPauseDelayInMinutes       : \nMinimumCapacity               : \nReadReplicaCount              : \nHighAvailabilityReplicaCount  : \nBackupStorageRedundancy       : Geo\nSecondaryType                 : \n\n",
    "output_type": "stream"
}, {
    "name": "stdout",
    "text": "\n\n",
    "output_type": "stream"
}
],
            "execution_count": 8
        },
        {
            "cell_type": "markdown",
            "source": [
                "To use Elastic Jobs, register the feature in your Azure subscription by running the following command (this only needs to be run once in each subscription where you want to use Elastic Jobs)"
            ],
            "metadata": {
                "azdata_cell_guid": "7e957850-39a4-4f10-9993-a6800ec070cb"
            }
        },
        {
            "cell_type": "code",
            "source": [
                "Register-AzProviderFeature `\r\n",
                "    -FeatureName sqldb-JobAccounts `\r\n",
                "    -ProviderNamespace Microsoft.Sql"
            ],
            "metadata": {
                "azdata_cell_guid": "9b47566f-129c-40c3-9a3b-1d62ce461a45"
            },
            "outputs": [],
            "execution_count": null
        },
        {
            "cell_type": "markdown",
            "source": [
                "## Demo starts here"
            ],
            "metadata": {
                "azdata_cell_guid": "a44e7123-f8bf-40d2-b6d5-0124523ae19b"
            }
        },
        {
            "cell_type": "markdown",
            "source": [
                "### Demo running script against Azure SQL Database using Linked Server\n",
                "\n",
                "Use NoteBook  1\\_LinkedServer.ipynb"
            ],
            "metadata": {
                "azdata_cell_guid": "279aebe4-9b31-4406-b3cb-9b06e758c524"
            }
        },
        {
            "cell_type": "markdown",
            "source": [
                "<h3>Demo how to run scripts against all Azure SQL Database in your tenant</h3>\n",
                "\n",
                "<span style=\"font-size: 14px;\">This script will&nbsp;&nbsp;</span> \n",
                "\n",
                "-  Iterate through all resource type SQL Server\n",
                "- Collect file size of from all Azure SQL Database from all Azure SQL Servers\n",
                "- Save the result in local On-Premises server"
            ],
            "metadata": {
                "azdata_cell_guid": "b0355185-202e-438b-bd68-2476b36be9fe"
            }
        },
        {
            "cell_type": "code",
            "source": [
                "\r\n",
                "# Putting my query in a variable\r\n",
                "$databaseQuery = \r\n",
                "\"\r\n",
                "SELECT \r\n",
                "\t\tGETDATE() AS collectedAT,\r\n",
                "\t\t@@SERVERNAME AS serverName, \r\n",
                "\t\tDB_NAME() AS databaseName, \r\n",
                "\t\tLEFT(a.name, 64) AS fileName,\r\n",
                "\t\ta.file_id AS fileId,\r\n",
                "\t\ta.size AS fileSizeMB,\r\n",
                "\t\tCONVERT(DECIMAL(12, 2), ROUND(FILEPROPERTY(a.name,'SpaceUsed')/ 128.000, 2)) AS spaceUsedMB,\r\n",
                "\t\tCONVERT(DECIMAL(12, 2), ROUND(( a.size - FILEPROPERTY(a.name,'SpaceUsed'))/ 128.000, 2)) AS freeSpaceMB,\r\n",
                "\t\tCONVERT(DECIMAL(12, 2), (CONVERT(DECIMAL(12, 2), ROUND((a.size - FILEPROPERTY(a.name,'SpaceUsed'))/128.000, 2))*100)/ CONVERT(DECIMAL(12, 2), ROUND(a.size / 128.000, 2))) as percentFree,\r\n",
                "\t\ta.physical_name AS physicalName \r\n",
                "FROM sys.database_files a\r\n",
                "\"\r\n",
                "\r\n",
                "$password = ConvertTo-SecureString -String $password -AsPlainText -Force\r\n",
                "#$databaseCredentials = Get-Credential -Message \"Please provide credentials for $SqlInstance\"\r\n",
                "$databaseCredentials = New-Object System.Management.Automation.PSCredential($adminlogin, $password) \r\n",
                "\r\n",
                "#Get all resources type SQL Server, loop through all SQL Server and collect size for each database\r\n",
                "$resources = Get-AzResource -ResourceGroupName 'sqlagentdemo' | Where-Object { $_.ResourceType -eq \"Microsoft.Sql/servers\" } | Select-Object name\r\n",
                "foreach ($SqlInstance in $resources) { \r\n",
                "    $SqlInstance = \"$($SqlInstance.Name).database.windows.net\"\r\n",
                "    $databases = Invoke-Sqlcmd -Query \"select name from sys.databases\" -ServerInstance $SqlInstance `\r\n",
                "        -Username $databaseCredentials.GetNetworkCredential().UserName `\r\n",
                "        -Password $databaseCredentials.GetNetworkCredential().Password `\r\n",
                "        -Database 'master'\r\n",
                "\r\n",
                "    foreach ($databaseName in $databases.name) {\r\n",
                "        Write-Host \"Query results for database $databaseName.`n\"\r\n",
                "        Invoke-Sqlcmd $databaseQuery -ServerInstance $SqlInstance `\r\n",
                "            -Username $databaseCredentials.GetNetworkCredential().UserName `\r\n",
                "            -Password $databaseCredentials.GetNetworkCredential().Password `\r\n",
                "            -Database $databaseName | `\r\n",
                "            Write-DbaDbTableData -SqlInstance $localInstanceName -Database $localDatabaseName -Table $localTableName\r\n",
                "    }\r\n",
                "}"
            ],
            "metadata": {
                "azdata_cell_guid": "6e996153-1937-4701-aaef-0a215141d4ef",
                "tags": []
            },
            "outputs": [
{
    "name": "stdout",
    "text": ". {\n>> \n>> # Putting my query in a variable\n>> $databaseQuery = \n>> \"\n>> SELECT \n>> \t\tGETDATE() AS collectedAT,\n>> \t\t@@SERVERNAME AS serverName, \n>> \t\tDB_NAME() AS databaseName, \n>> \t\tLEFT(a.name, 64) AS fileName,\n>> \t\ta.file_id AS fileId,\n>> \t\ta.size AS fileSizeMB,\n>> \t\tCONVERT(DECIMAL(12, 2), ROUND(FILEPROPERTY(a.name,'SpaceUsed')/ 128.000, 2)) AS spaceUsedMB,\n>> \t\tCONVERT(DECIMAL(12, 2), ROUND(( a.size - FILEPROPERTY(a.name,'SpaceUsed'))/ 128.000, 2)) AS freeSpaceMB,\n>> \t\tCONVERT(DECIMAL(12, 2), (CONVERT(DECIMAL(12, 2), ROUND((a.size - FILEPROPERTY(a.name,'SpaceUsed'))/128.000, 2))*100)/ CONVERT(DECIMAL(12, 2), ROUND(a.size / 128.000, 2))) as percentFree,\n>> \t\ta.physical_name AS physicalName \n>> FROM sys.database_files a\n>> \"\n>> \n>> $password = ConvertTo-SecureString -String $password -AsPlainText -Force\n>> #$databaseCredentials = Get-Credential -Message \"Please provide credentials for $Sq",
    "output_type": "stream"
}, {
    "name": "stdout",
    "text": "lInstance\"\n>> $databaseCredentials = New-Object System.Management.Automation.PSCredential($adminlogin, $password) \n>> \n>> #Get all resources type SQL Server, loop through all SQL Server and collect size for each database\n>> $resources = Get-AzResource -ResourceGroupName 'sqlagentdemo' | Where-Object { $_.ResourceType -eq \"Microsoft.Sql/servers\" } | Select-Object name\n>> foreach ($SqlInstance in $resources) { \n>>     $SqlInstance = \"$($SqlInstance.Name).database.windows.net\"\n>>     $databases = Invoke-Sqlcmd -Query \"select name from sys.databases\" -ServerInstance $SqlInstance `\n>>         -Username $databaseCredentials.GetNetworkCredential().UserName `\n>>         -Password $databaseCredentials.GetNetworkCredential().Password `\n>>         -Database 'master'\n>> \n>>     foreach ($databaseName in $databases.name) {\n>>         Write-Host \"Query results for database $databaseName.`n\"\n>>         Invoke-Sqlcmd $databaseQuery -ServerInstance $SqlInstance `\n>>             -Username $databaseCredentials.GetNetworkCredential().UserName `\n>>             -Password $databaseCredentials.GetNetworkCredential().Password `\n>>             -Database $databaseName | `\n>>             Write-DbaDbTableData -SqlInstance $localInstanceName -Database $localDatabaseName -Table $localTableName\n>>     }\n>> }\n>> }\n>> \n",
    "output_type": "stream"
}, {
    "name": "stdout",
    "text": "Query results for database master.\n\n",
    "output_type": "stream"
}, {
    "name": "stdout",
    "text": "Query results for database jobdatabase.\n\n",
    "output_type": "stream"
}, {
    "name": "stdout",
    "text": "Query results for database dbawarehouse.\n\n",
    "output_type": "stream"
}, {
    "name": "stdout",
    "text": "Query results for database master.\n\n",
    "output_type": "stream"
}, {
    "name": "stdout",
    "text": "Query results for database adventureworks.\n\n",
    "output_type": "stream"
}, {
    "name": "stdout",
    "text": "Query results for database testRunBookDB.\n\n",
    "output_type": "stream"
}, {
    "name": "stdout",
    "text": "Query results for database WideWorldImporters.\n\n",
    "output_type": "stream"
}, {
    "name": "stdout",
    "text": "Query results for database test1.\n\n",
    "output_type": "stream"
}, {
    "name": "stdout",
    "text": "",
    "output_type": "stream"
}
],
            "execution_count": 11
        },
        {
            "cell_type": "markdown",
            "source": [
                "See the result"
            ],
            "metadata": {
                "azdata_cell_guid": "69e4486b-5e5f-462a-8a59-7df77b21d45e"
            }
        },
        {
            "cell_type": "code",
            "source": [
                "Invoke-DbaQuery `\r\n",
                "    -SqlInstance $localInstanceName `\r\n",
                "    -Query 'SELECT TOP 20 * FROM DbaDatabase.dbo.databasesize ORDER BY collectedAT DESC ;' | Format-Table -AutoSize"
            ],
            "metadata": {
                "azdata_cell_guid": "58753c99-68c8-40cd-8cbe-6332af52c6ec"
            },
            "outputs": [
{
    "name": "stdout",
    "text": ". {\n",
    "output_type": "stream"
}, {
    "name": "stdout",
    "text": ">> Invoke-DbaQuery `\n>>     -SqlInstance $localInstanceName `\n>>     -Query 'SELECT TOP 20 * FROM DbaDatabase.dbo.databasesize ORDER BY collectedAT DESC ;' | Format-Table -AutoSize\n>> }\n>> \n",
    "output_type": "stream"
}, {
    "name": "stdout",
    "text": "\ncollectedAT          serverName         databaseName       fileName fileId fileSizeMB spaceUsedMB freeSpaceMB percentFr\n                                                                         ",
    "output_type": "stream"
}, {
    "name": "stdout",
    "text": "                                            ee\n-----------          ----------         ------------       -------- ------ ---------- ----------- ----------- ---------\n2/27/2021 5:28:41 PM ugdemotargetserver test1              data_0        1       4096       19.88       12.13     37.91\n2/27/2021 5:28:41 PM ugdemotargetserver test1              XTP       65537          0                                  \n2/27/2021 5:28:41 PM ugdemotargetserver test1              log           2       1024        1.74        6.26     78.25\n2/27/2021 5:28:40 PM ugdemotargetserver WideWorl",
    "output_type": "stream"
}, {
    "name": "stdout",
    "text": "dImporters data_0        1      88064      672.25       15.75      2.29\n2/27/2021 5:28:40 PM ugdemotargetserver WideWorldImporters XTP       65537          0                                  \n2/27/2021 5:28:40 PM ugdemotargetserver WideWorldImporters log           2     152576        6.38     1185.63     99.47\n2/27/2021 5:28:40 PM ugdemotargetserver testRunBookDB      data_0        1       4096       20.06       11.94     37.31\n2/27/2021 5:28:40 PM ugdemotargetserver testRunBookDB      XTP       65537          0                                  \n2/27/2021 5:28:40 PM ugdemotargetserver testRunBookDB      log           2       3072        6.75       17.25     71.88\n2/27/2021 5:28:38 PM ugdemotargetserver adventureworks     data_0        1       4096       26.88        5.13     16.03\n2/27/2021 5:28:38 ",
    "output_type": "stream"
}, {
    "name": "stdout",
    "text": "PM ugdemotargetserver adventureworks     XTP       65537          0                                  \n2/27/2021 5:28:38 PM ugdemotargetserver adventureworks     log           2       1024        1.51        6.49     81.13\n2/27/2021 5:28:38 PM ugdemotargetserver master             data_0        1       4096       21.13       10.88     34.00\n2/27/2021 5:28:38 PM ugdemotargetserver master             log           2       1024        0.48        7.52     94.00\n2/27/2021 5:28:37 PM ugdemojobserver    dbawarehouse       data_0        1       4096       20.75       11.25",
    "output_type": "stream"
}, {
    "name": "stdout",
    "text": "     35.16\n2/27/2021 5:28:37 PM ugdemojobserver    dbawarehouse       XTP       65537          0                                  \n2/27/2021 5:28:37 PM ugdemojobserver    dbawarehouse       log           2       1024        1.61        6.39     79.88\n2/27/2021 5:28:36 PM ugdemojobserver    jobdatabase        log  ",
    "output_type": "stream"
}, {
    "name": "stdout",
    "text": "         2       1024        2.49        5.51     68.88\n2/27/2021 5:28:36 PM ugdemojobserver    jobdatabase        data_0        1       4096       23.19        8.81     27.53\n2/27/2021 5:28:36 PM ugdemojobserver    jobdatabase        XTP       65537          0                                  \n\n\n",
    "output_type": "stream"
}
],
            "execution_count": 14
        },
        {
            "cell_type": "markdown",
            "source": [
                "### Demo  Windows Task Scheduler\n",
                "\n",
                "Run task: '3\\_WindowsTask\\_CollectAzureDatabaseSize' from Windows Task Scheduler\n",
                "\n",
                "  \n",
                "\n",
                "If we want to do  the same and we do not have any on-premises SQL Server; we can schedule the same using any windows host. Similary we can do from an IaaS VM.\n",
                "\n",
                "Following xml will create the task. You will need change few values.\n",
                "\n",
                "  \n",
                "\n",
                "<span style=\"font-size: 14px;\">&lt;?xml version=\"1.0\" encoding=\"UTF-16\"?&gt;</span>\n",
                "\n",
                "<span style=\"font-size: 14px;\">&lt;Task version=\"1.4\" xmlns=\"http://schemas.microsoft.com/windows/2004/02/mit/task\"&gt;</span>\n",
                "\n",
                " <span style=\"font-size: 14px;\">&nbsp; &lt;RegistrationInfo&gt;</span>\n",
                "\n",
                " <span style=\"font-size: 14px;\">&nbsp; &nbsp; &lt;Date&gt;2019-03-16T11:12:04.0903061&lt;/Date&gt;</span>\n",
                "\n",
                " <span style=\"font-size: 14px;\">&nbsp; &nbsp; &lt;Author&gt;MyLaptopName\\taiob&lt;/Author&gt;</span>\n",
                "\n",
                " <span style=\"font-size: 14px;\">&nbsp; &nbsp; &lt;URI&gt;\\3_WindowsTask_CollectAzureDatabaseSize&lt;/URI&gt;</span>\n",
                "\n",
                " <span style=\"font-size: 14px;\">&nbsp; &lt;/RegistrationInfo&gt;</span>\n",
                "\n",
                " <span style=\"font-size: 14px;\">&nbsp; &lt;Triggers&gt;</span>\n",
                "\n",
                " <span style=\"font-size: 14px;\">&nbsp; &nbsp; &lt;CalendarTrigger&gt;</span>\n",
                "\n",
                " <span style=\"font-size: 14px;\">&nbsp; &nbsp; &nbsp; &lt;StartBoundary&gt;2019-03-16T10:00:00-05:00&lt;/StartBoundary&gt;</span>\n",
                "\n",
                " <span style=\"font-size: 14px;\">&nbsp; &nbsp; &nbsp; &lt;Enabled&gt;true&lt;/Enabled&gt;</span>\n",
                "\n",
                " <span style=\"font-size: 14px;\">&nbsp; &nbsp; &nbsp; &lt;ScheduleByDay&gt;</span>\n",
                "\n",
                " <span style=\"font-size: 14px;\">&nbsp; &nbsp; &nbsp; &nbsp; &lt;DaysInterval&gt;1&lt;/DaysInterval&gt;</span>\n",
                "\n",
                " <span style=\"font-size: 14px;\">&nbsp; &nbsp; &nbsp; &lt;/ScheduleByDay&gt;</span>\n",
                "\n",
                " <span style=\"font-size: 14px;\">&nbsp; &nbsp; &lt;/CalendarTrigger&gt;</span>\n",
                "\n",
                " <span style=\"font-size: 14px;\">&nbsp; &lt;/Triggers&gt;</span>\n",
                "\n",
                " <span style=\"font-size: 14px;\">&nbsp; &lt;Principals&gt;</span>\n",
                "\n",
                " <span style=\"font-size: 14px;\">&nbsp; &nbsp; &lt;Principal id=\"Author\"&gt;</span>\n",
                "\n",
                " <span style=\"font-size: 14px;\">&nbsp; &nbsp; &nbsp; &lt;UserId&gt;S-1-5-21-1134363470-949122783-3418734209-1001&lt;/UserId&gt;</span>\n",
                "\n",
                " <span style=\"font-size: 14px;\">&nbsp; &nbsp; &nbsp; &lt;LogonType&gt;Password&lt;/LogonType&gt;</span>\n",
                "\n",
                " <span style=\"font-size: 14px;\">&nbsp; &nbsp; &nbsp; &lt;RunLevel&gt;HighestAvailable&lt;/RunLevel&gt;</span>\n",
                "\n",
                " <span style=\"font-size: 14px;\">&nbsp; &nbsp; &lt;/Principal&gt;</span>\n",
                "\n",
                " <span style=\"font-size: 14px;\">&nbsp; &lt;/Principals&gt;</span>\n",
                "\n",
                " <span style=\"font-size: 14px;\">&nbsp; &lt;Settings&gt;</span>\n",
                "\n",
                " <span style=\"font-size: 14px;\">&nbsp; &nbsp; &lt;MultipleInstancesPolicy&gt;IgnoreNew&lt;/MultipleInstancesPolicy&gt;</span>\n",
                "\n",
                " <span style=\"font-size: 14px;\">&nbsp; &nbsp; &lt;DisallowStartIfOnBatteries&gt;true&lt;/DisallowStartIfOnBatteries&gt;</span>\n",
                "\n",
                " <span style=\"font-size: 14px;\">&nbsp; &nbsp; &lt;StopIfGoingOnBatteries&gt;false&lt;/StopIfGoingOnBatteries&gt;</span>\n",
                "\n",
                " <span style=\"font-size: 14px;\">&nbsp; &nbsp; &lt;AllowHardTerminate&gt;true&lt;/AllowHardTerminate&gt;</span>\n",
                "\n",
                " <span style=\"font-size: 14px;\">&nbsp; &nbsp; &lt;StartWhenAvailable&gt;false&lt;/StartWhenAvailable&gt;</span>\n",
                "\n",
                " <span style=\"font-size: 14px;\">&nbsp; &nbsp; &lt;RunOnlyIfNetworkAvailable&gt;false&lt;/RunOnlyIfNetworkAvailable&gt;</span>\n",
                "\n",
                " <span style=\"font-size: 14px;\">&nbsp; &nbsp; &lt;IdleSettings&gt;</span>\n",
                "\n",
                " <span style=\"font-size: 14px;\">&nbsp; &nbsp; &nbsp; &lt;StopOnIdleEnd&gt;true&lt;/StopOnIdleEnd&gt;</span>\n",
                "\n",
                " <span style=\"font-size: 14px;\">&nbsp; &nbsp; &nbsp; &lt;RestartOnIdle&gt;false&lt;/RestartOnIdle&gt;</span>\n",
                "\n",
                " <span style=\"font-size: 14px;\">&nbsp; &nbsp; &lt;/IdleSettings&gt;</span>\n",
                "\n",
                " <span style=\"font-size: 14px;\">&nbsp; &nbsp; &lt;AllowStartOnDemand&gt;true&lt;/AllowStartOnDemand&gt;</span>\n",
                "\n",
                " <span style=\"font-size: 14px;\">&nbsp; &nbsp; &lt;Enabled&gt;true&lt;/Enabled&gt;</span>\n",
                "\n",
                " <span style=\"font-size: 14px;\">&nbsp; &nbsp; &lt;Hidden&gt;false&lt;/Hidden&gt;</span>\n",
                "\n",
                " <span style=\"font-size: 14px;\">&nbsp; &nbsp; &lt;RunOnlyIfIdle&gt;false&lt;/RunOnlyIfIdle&gt;</span>\n",
                "\n",
                " <span style=\"font-size: 14px;\">&nbsp; &nbsp; &lt;DisallowStartOnRemoteAppSession&gt;false&lt;/DisallowStartOnRemoteAppSession&gt;</span>\n",
                "\n",
                " <span style=\"font-size: 14px;\">&nbsp; &nbsp; &lt;UseUnifiedSchedulingEngine&gt;true&lt;/UseUnifiedSchedulingEngine&gt;</span>\n",
                "\n",
                " <span style=\"font-size: 14px;\">&nbsp; &nbsp; &lt;WakeToRun&gt;false&lt;/WakeToRun&gt;</span>\n",
                "\n",
                " <span style=\"font-size: 14px;\">&nbsp; &nbsp; &lt;ExecutionTimeLimit&gt;PT2H&lt;/ExecutionTimeLimit&gt;</span>\n",
                "\n",
                " <span style=\"font-size: 14px;\">&nbsp; &nbsp; &lt;Priority&gt;7&lt;/Priority&gt;</span>\n",
                "\n",
                " <span style=\"font-size: 14px;\">&nbsp; &nbsp; &lt;RestartOnFailure&gt;</span>\n",
                "\n",
                " <span style=\"font-size: 14px;\">&nbsp; &nbsp; &nbsp; &lt;Interval&gt;PT1M&lt;/Interval&gt;</span>\n",
                "\n",
                " <span style=\"font-size: 14px;\">&nbsp; &nbsp; &nbsp; &lt;Count&gt;3&lt;/Count&gt;</span>\n",
                "\n",
                " <span style=\"font-size: 14px;\">&nbsp; &nbsp; &lt;/RestartOnFailure&gt;</span>\n",
                "\n",
                " <span style=\"font-size: 14px;\">&nbsp; &lt;/Settings&gt;</span>\n",
                "\n",
                " <span style=\"font-size: 14px;\">&nbsp; &lt;Actions Context=\"Author\"&gt;</span>\n",
                "\n",
                " <span style=\"font-size: 14px;\">&nbsp; &nbsp; &lt;Exec&gt;</span>\n",
                "\n",
                " <span style=\"font-size: 14px;\">&nbsp; &nbsp; &nbsp; &lt;Command&gt;\"C:\\Program Files\\PowerShell\\7\\pwsh.exe\"&lt;/Command&gt;</span>\n",
                "\n",
                " <span style=\"font-size: 14px;\">&nbsp; &nbsp; &nbsp; &lt;Arguments&gt;-File \"C:\\Presentation\\Azure SQL Database - Where is my&nbsp; SQL Agent\\2_CollectDatabaseSize.ps1\"&lt;/Arguments&gt;</span>\n",
                "\n",
                " <span style=\"font-size: 14px;\">&nbsp; &nbsp; &lt;/Exec&gt;</span>\n",
                "\n",
                " <span style=\"font-size: 14px;\">&nbsp; &lt;/Actions&gt;</span>\n",
                "\n",
                "<span style=\"font-size: 14px;\">&lt;/Task&gt;</span>"
            ],
            "metadata": {
                "azdata_cell_guid": "ca98dcf9-35f3-487c-abaf-e5fb84ef1cb9"
            }
        },
        {
            "cell_type": "markdown",
            "source": [
                "### Demo  Azure Automation\n",
                "\n",
                "- Create an Automation account\n",
                "- Create an empty runbook type PowerShellWorkflow"
            ],
            "metadata": {
                "azdata_cell_guid": "69dc5b15-5d9d-4df4-b317-9325703f070b"
            }
        },
        {
            "cell_type": "code",
            "source": [
                "$automationAccountName = \"ugdemo2\"\r\n",
                "$credentialName = \"sqlservercredentials\"\r\n",
                "$password = Get-Content \"C:\\password.txt\"\r\n",
                "$passwordSecure =ConvertTo-SecureString $password -AsPlainText -Force\r\n",
                "$credential = New-Object -TypeName System.Management.Automation.PSCredential -ArgumentList $adminlogin, $passwordSecure\r\n",
                "\r\n",
                "#Creating an automation account\r\n",
                "New-AzAutomationAccount `\r\n",
                "    -ResourceGroupName $resourceGroupName `\r\n",
                "    -Name $automationAccountName `\r\n",
                "    -Location $primaryLocation\r\n",
                "\r\n",
                "#Creating credential\r\n",
                "New-AzAutomationCredential `\r\n",
                "    -AutomationAccountName $automationAccountName `\r\n",
                "    -Name $credentialName `\r\n",
                "    -Value $credential `\r\n",
                "    -ResourceGroupName $resourceGroupName\r\n",
                "\r\n",
                "#Creating a blank runbook\r\n",
                "New-AzAutomationRunbook `\r\n",
                "    -ResourceGroupName $resourceGroupName `\r\n",
                "    -AutomationAccountName $automationAccountName `\r\n",
                "    -Name 'Update-SQLIndexRunbook' `\r\n",
                "    -Type 'PowerShellWorkflow' `\r\n",
                "    -LogProgress $true `\r\n",
                "    -LogVerbose $true"
            ],
            "metadata": {
                "azdata_cell_guid": "b4f8169d-43ef-4c07-8e51-99d5b24a11d6"
            },
            "outputs": [
{
    "name": "stdout",
    "text": "\n\nSubscriptionId        : 18d92f52-ac34-4379-ab8b-5a5106f1c54e\nResourceGroupName     : sqlagentdemo\nAutomationAccountName : ugdemo2\nLocation              : East US\nState                 : Ok\nPlan                  : Basic\nCreationTime          : 2/27/2021 9:14:13 AM -05:00\nLastModifiedTime      : 2/27/2021 9:14:13 AM -05:00\nLastModifiedBy        : \nTags                  : {}\n\n",
    "output_type": "stream"
}, {
    "name": "stdout",
    "text": "UserName              : taiob\nResourceGroupName     : sqlagentdemo\nAutomationAccountName : ugdemo2\nName                  : sqlservercredentials\nCreationTime          : 2/27/2021 9:14:15 AM -05:00\nLastModifiedTime      : 2/27/2021 9:14:15 AM -05:00\nDescription           : \n\n",
    "output_type": "stream"
}, {
    "name": "stdout",
    "text": "Location              : East US\nTags                  : {}\nJobCount              : 0\nRunbookType           : PowerShellWorkflow\nParameters            : {}\nLogVerbose            : True\nLogProgress           : True\nLastModifiedBy        : \nState                 : New\nResourceGroupName     : sqlagentdemo\nAutomationAccountName : ugdemo2\nName                  : Update-SQLIndexRunbook\nCreationTime          : 2/27/2021 9:14:18 AM -05:00\nLastModifiedTime      : 2/27/2021 9:14:18 AM -05:00\nDescription           : \n\n",
    "output_type": "stream"
}, {
    "name": "stdout",
    "text": "\n\n",
    "output_type": "stream"
}
],
            "execution_count": 9
        },
        {
            "cell_type": "markdown",
            "source": [
                "Go to portal and demo runbook\n",
                "\n",
                "Replace the generic code with PowerShell code from below cell\n",
                "\n",
                "**Demo Runbook** using 3\\_TestRunBook.sql"
            ],
            "metadata": {
                "azdata_cell_guid": "f124db64-4c3f-44e6-b4aa-3e19e1540ae6"
            }
        },
        {
            "cell_type": "code",
            "source": [
                "<#\r\n",
                ".SYNOPSIS \r\n",
                "    Indexes tables in a database if they have a high fragmentation\r\n",
                "\r\n",
                ".DESCRIPTION\r\n",
                "    This runbook indexes all of the tables in a given database if the fragmentation is\r\n",
                "    above a certain percentage. \r\n",
                "    It highlights how to break up calls into smaller chunks, \r\n",
                "    in this case each table in a database, and use checkpoints. \r\n",
                "    This allows the runbook job to resume for the next chunk of work even if the \r\n",
                "    fairshare feature of Azure Automation puts the job back into the queue every 30 minutes\r\n",
                "\r\n",
                ".PARAMETER SqlServer\r\n",
                "    Name of the SqlServer\r\n",
                "\r\n",
                ".PARAMETER Database\r\n",
                "    Name of the database\r\n",
                "    \r\n",
                ".PARAMETER SQLCredentialName\r\n",
                "    Name of the Automation PowerShell credential setting from the Automation asset store. \r\n",
                "    This setting stores the username and password for the SQL Azure server\r\n",
                "\r\n",
                ".PARAMETER FragPercentage\r\n",
                "    Optional parameter for specifying over what percentage fragmentation to index database\r\n",
                "    Default is 20 percent\r\n",
                " \r\n",
                " .PARAMETER RebuildOffline\r\n",
                "    Optional parameter to rebuild indexes offline if online fails \r\n",
                "    Default is false\r\n",
                "    \r\n",
                " .PARAMETER Table\r\n",
                "    Optional parameter for specifying a specific table to index\r\n",
                "    Default is all tables\r\n",
                "    \r\n",
                ".PARAMETER SqlServerPort\r\n",
                "    Optional parameter for specifying the SQL port \r\n",
                "    Default is 1433\r\n",
                "    \r\n",
                ".EXAMPLE\r\n",
                "    Update-SQLIndexRunbook -SqlServer \"server.database.windows.net\" -Database \"Finance\" -SQLCredentialName \"FinanceCredentials\"\r\n",
                "\r\n",
                ".EXAMPLE\r\n",
                "    Update-SQLIndexRunbook -SqlServer \"server.database.windows.net\" -Database \"Finance\" -SQLCredentialName \"FinanceCredentials\" -FragPercentage 30\r\n",
                "\r\n",
                ".EXAMPLE\r\n",
                "    Update-SQLIndexRunbook -SqlServer \"server.database.windows.net\" -Database \"Finance\" -SQLCredentialName \"FinanceCredentials\" -Table \"Customers\" -RebuildOffline $True\r\n",
                "\r\n",
                ".NOTES\r\n",
                "    AUTHOR: System Center Automation Team\r\n",
                "    LASTEDIT: Oct 8th, 2014 \r\n",
                "    Modified By: Taiob Ali\r\n",
                "    Last Modified: March 2019\r\n",
                "#>\r\n",
                "workflow Update-SQLIndexRunbook\r\n",
                "{\r\n",
                "    param(\r\n",
                "        [parameter(Mandatory=$True)]\r\n",
                "        [string] $SqlServer = \"ugdemotargetserver.database.windows.net\",\r\n",
                "    \r\n",
                "        [parameter(Mandatory=$True)]\r\n",
                "        [string] $Database = \"testrunbookdb\",\r\n",
                "    \r\n",
                "        [parameter(Mandatory=$True)]\r\n",
                "        [string] $SQLCredentialName = \"sqlservercredentials\",\r\n",
                "            \r\n",
                "        [parameter(Mandatory=$False)]\r\n",
                "        [int] $FragPercentage = 20,\r\n",
                "\r\n",
                "        [parameter(Mandatory=$False)]\r\n",
                "        [int] $SqlServerPort = 1433,\r\n",
                "        \r\n",
                "        [parameter(Mandatory=$False)]\r\n",
                "        [boolean] $RebuildOffline = $False,\r\n",
                "\r\n",
                "        [parameter(Mandatory=$False)]\r\n",
                "        [string] $Table = \"testRebuild\"\r\n",
                "                  \r\n",
                "    )\r\n",
                "\r\n",
                "    # Get the stored username and password from the Automation credential\r\n",
                "    $SqlCredential = Get-AutomationPSCredential -Name $SQLCredentialName\r\n",
                "    if ($SqlCredential -eq $null)\r\n",
                "    {\r\n",
                "        throw \"Could not retrieve '$SQLCredentialName' credential asset. Check that you created this first in the Automation service.\"\r\n",
                "    }\r\n",
                "    \r\n",
                "    $SqlUsername = $SqlCredential.UserName \r\n",
                "    $SqlPass = $SqlCredential.GetNetworkCredential().Password\r\n",
                "    \r\n",
                "    $TableNames = Inlinescript {\r\n",
                "      \r\n",
                "        # Define the connection to the SQL Database\r\n",
                "        $Conn = New-Object System.Data.SqlClient.SqlConnection(\"Server=tcp:$using:SqlServer,$using:SqlServerPort;Database=$using:Database;User ID=$using:SqlUsername;Password=$using:SqlPass;Trusted_Connection=False;Encrypt=True;Connection Timeout=30;\")\r\n",
                "         \r\n",
                "        # Open the SQL connection\r\n",
                "        $Conn.Open()\r\n",
                "        \r\n",
                "        # SQL command to find tables and their average fragmentation\r\n",
                "        $SQLCommandString = @\"\r\n",
                "        SELECT a.object_id, avg_fragmentation_in_percent\r\n",
                "        FROM sys.dm_db_index_physical_stats (\r\n",
                "               DB_ID(N'$Database')\r\n",
                "             , OBJECT_ID(0)\r\n",
                "             , NULL\r\n",
                "             , NULL\r\n",
                "             , NULL) AS a\r\n",
                "        JOIN sys.indexes AS b \r\n",
                "        ON a.object_id = b.object_id AND a.index_id = b.index_id;\r\n",
                "\"@\r\n",
                "        # Return the tables with their corresponding average fragmentation\r\n",
                "        $Cmd=new-object system.Data.SqlClient.SqlCommand($SQLCommandString, $Conn)\r\n",
                "        $Cmd.CommandTimeout=120\r\n",
                "        \r\n",
                "        # Execute the SQL command\r\n",
                "        $FragmentedTable=New-Object system.Data.DataSet\r\n",
                "        $Da=New-Object system.Data.SqlClient.SqlDataAdapter($Cmd)\r\n",
                "        [void]$Da.fill($FragmentedTable)\r\n",
                "\r\n",
                " \r\n",
                "        # Get the list of tables with their object ids\r\n",
                "        $SQLCommandString = @\"\r\n",
                "        SELECT  t.name AS TableName, t.OBJECT_ID FROM sys.tables t\r\n",
                "\"@\r\n",
                "\r\n",
                "        $Cmd=new-object system.Data.SqlClient.SqlCommand($SQLCommandString, $Conn)\r\n",
                "        $Cmd.CommandTimeout=120\r\n",
                "\r\n",
                "        # Execute the SQL command\r\n",
                "        $TableSchema =New-Object system.Data.DataSet\r\n",
                "        $Da=New-Object system.Data.SqlClient.SqlDataAdapter($Cmd)\r\n",
                "        [void]$Da.fill($TableSchema)\r\n",
                "\r\n",
                "\r\n",
                "        # Return the table names that have high fragmentation\r\n",
                "        ForEach ($FragTable in $FragmentedTable.Tables[0])\r\n",
                "        {\r\n",
                "            Write-Verbose (\"Table Object ID:\" + $FragTable.Item(\"object_id\"))\r\n",
                "            Write-Verbose (\"Fragmentation:\" + $FragTable.Item(\"avg_fragmentation_in_percent\"))\r\n",
                "            \r\n",
                "            If ($FragTable.avg_fragmentation_in_percent -ge $Using:FragPercentage)\r\n",
                "            {\r\n",
                "                # Table is fragmented. Return this table for indexing by finding its name\r\n",
                "                ForEach($Id in $TableSchema.Tables[0])\r\n",
                "                {\r\n",
                "                    if ($Id.OBJECT_ID -eq $FragTable.object_id.ToString())\r\n",
                "                     {\r\n",
                "                        # Found the table name for this table object id. Return it\r\n",
                "                        Write-Verbose (\"Found a table to index! : \" +  $Id.Item(\"TableName\"))\r\n",
                "                        $Id.TableName\r\n",
                "                    }\r\n",
                "                }\r\n",
                "            }\r\n",
                "        }\r\n",
                "\r\n",
                "        $Conn.Close()\r\n",
                "    }\r\n",
                "\r\n",
                "    # If a specific table was specified, then find this table if it needs to indexed, otherwise\r\n",
                "    # set the TableNames to $null since we shouldn't process any other tables.\r\n",
                "    If ($Table)\r\n",
                "    {\r\n",
                "        Write-Verbose (\"Single Table specified: $Table\")\r\n",
                "        If ($TableNames -contains $Table)\r\n",
                "        {\r\n",
                "            $TableNames = $Table\r\n",
                "        }\r\n",
                "        Else\r\n",
                "        {\r\n",
                "            # Remove other tables since only a specific table was specified.\r\n",
                "            Write-Verbose (\"Table not found: $Table\")\r\n",
                "            $TableNames = $Null\r\n",
                "        }\r\n",
                "    }\r\n",
                "\r\n",
                "    # Interate through tables with high fragmentation and rebuild indexes\r\n",
                "    ForEach ($TableName in $TableNames)\r\n",
                "    {\r\n",
                "      Write-Verbose \"Creating checkpoint\"\r\n",
                "      Checkpoint-Workflow\r\n",
                "      Write-Verbose \"Indexing Table $TableName...\"\r\n",
                "      \r\n",
                "      InlineScript {\r\n",
                "          \r\n",
                "        $SQLCommandString = @\"\r\n",
                "        EXEC('ALTER INDEX ALL ON $Using:TableName REBUILD with (ONLINE=ON)')\r\n",
                "\"@\r\n",
                "\r\n",
                "        # Define the connection to the SQL Database\r\n",
                "        $Conn = New-Object System.Data.SqlClient.SqlConnection(\"Server=tcp:$using:SqlServer,$using:SqlServerPort;Database=$using:Database;User ID=$using:SqlUsername;Password=$using:SqlPass;Trusted_Connection=False;Encrypt=True;Connection Timeout=30;\")\r\n",
                "        \r\n",
                "        # Open the SQL connection\r\n",
                "        $Conn.Open()\r\n",
                "\r\n",
                "        # Define the SQL command to run. In this case we are getting the number of rows in the table\r\n",
                "        $Cmd=new-object system.Data.SqlClient.SqlCommand($SQLCommandString, $Conn)\r\n",
                "        # Set the Timeout to be less than 30 minutes since the job will get queued if > 30\r\n",
                "        # Setting to 25 minutes to be safe.\r\n",
                "        $Cmd.CommandTimeout=1500\r\n",
                "\r\n",
                "        # Execute the SQL command\r\n",
                "        Try \r\n",
                "        {\r\n",
                "            $Ds=New-Object system.Data.DataSet\r\n",
                "            $Da=New-Object system.Data.SqlClient.SqlDataAdapter($Cmd)\r\n",
                "            [void]$Da.fill($Ds)\r\n",
                "        }\r\n",
                "        Catch\r\n",
                "        {\r\n",
                "            if (($_.Exception -match \"offline\") -and ($Using:RebuildOffline) )\r\n",
                "            {\r\n",
                "                Write-Verbose (\"Building table $Using:TableName offline\")\r\n",
                "                $SQLCommandString = @\"\r\n",
                "                EXEC('ALTER INDEX ALL ON $Using:TableName REBUILD')\r\n",
                "\"@              \r\n",
                "\r\n",
                "                # Define the SQL command to run. \r\n",
                "                $Cmd=new-object system.Data.SqlClient.SqlCommand($SQLCommandString, $Conn)\r\n",
                "                # Set the Timeout to be less than 30 minutes since the job will get queued if > 30\r\n",
                "                # Setting to 25 minutes to be safe.\r\n",
                "                $Cmd.CommandTimeout=1500\r\n",
                "\r\n",
                "                # Execute the SQL command\r\n",
                "                $Ds=New-Object system.Data.DataSet\r\n",
                "                $Da=New-Object system.Data.SqlClient.SqlDataAdapter($Cmd)\r\n",
                "                [void]$Da.fill($Ds)\r\n",
                "            }\r\n",
                "            Else\r\n",
                "            {\r\n",
                "                # Will catch the exception here so other tables can be processed.\r\n",
                "                Write-Error \"Table $Using:TableName could not be indexed. Investigate indexing each index instead of the complete table $_\"\r\n",
                "             }\r\n",
                "        }\r\n",
                "        # Close the SQL connection\r\n",
                "        $Conn.Close()\r\n",
                "      }  \r\n",
                "    }\r\n",
                "\r\n",
                "    Write-Verbose \"Finished Indexing\"\r\n",
                "}\r\n",
                "\r\n",
                "\r\n",
                ""
            ],
            "metadata": {
                "azdata_cell_guid": "3a126a48-12aa-4efa-bf60-76f3c42b6bb5",
                "tags": []
            },
            "outputs": [],
            "execution_count": null
        },
        {
            "cell_type": "markdown",
            "source": [
                "### Demo Elastic Job Agent"
            ],
            "metadata": {
                "azdata_cell_guid": "385fbc59-3f18-469d-9c47-08f7d76a5549"
            }
        },
        {
            "cell_type": "markdown",
            "source": [
                "<span style=\"font-size: 14px;\">This script will create an</span> elastic job agent      \n",
                "\n",
                "<span style=\"font-size: 14px;\">Credit:</span>\n",
                "\n",
                "- <span style=\"font-size: 14px;\"><a href=\"https://docs.microsoft.com/en-us/azure/sql-database/elastic-jobs-powershell#create-the-elastic-job-agent\" data-href=\"https://docs.microsoft.com/en-us/azure/sql-database/elastic-jobs-powershell#create-the-elastic-job-agent\" title=\"https://docs.microsoft.com/en-us/azure/sql-database/elastic-jobs-powershell#create-the-elastic-job-agent\">https://docs.microsoft.com/en-us/azure/sql-database/elastic-jobs-powershell#create-the-elastic-job-agent</a></span>\n",
                "- <span style=\"font-size: 14px;\"><a href=\"https://docs.microsoft.com/en-us/powershell/module/az.sql/new-azsqlelasticjobagent?view=azps-5.4.0\" data-href=\"https://docs.microsoft.com/en-us/powershell/module/az.sql/new-azsqlelasticjobagent?view=azps-5.4.0\" title=\"https://docs.microsoft.com/en-us/powershell/module/az.sql/new-azsqlelasticjobagent?view=azps-5.4.0\">https://docs.microsoft.com/en-us/powershell/module/az.sql/new-azsqlelasticjobagent?view=azps-5.4.0</a></span> Use 4\\_ElasticJobAgent.sql to demo Elastic Job Agent"
            ],
            "metadata": {
                "azdata_cell_guid": "4e1270f0-6a85-4f40-b892-ed67210ccd22"
            }
        },
        {
            "cell_type": "code",
            "source": [
                "New-AzSqlElasticJobAgent `\r\n",
                "    -ResourceGroupName 'sqlagentdemo' `\r\n",
                "    -ServerName 'ugdemojobserver' `\r\n",
                "    -DatabaseName 'jobdatabase' `\r\n",
                "    -Name 'agentdemo'"
            ],
            "metadata": {
                "azdata_cell_guid": "5142098a-179c-48cc-918c-e27972495f82"
            },
            "outputs": [
{
    "name": "stdout",
    "text": "\n",
    "output_type": "stream"
}, {
    "name": "stdout",
    "text": "ResourceGroupName ServerName      DatabaseName AgentName State Tags\n----------------- ----------      ------------ --------- ----- ----\nsqlagentdemo      ugdemojobserver jobdatabase  agentdemo Ready     \n\n\n",
    "output_type": "stream"
}
],
            "execution_count": 10
        },
        {
            "cell_type": "markdown",
            "source": [
                "### Demo Azure Function"
            ],
            "metadata": {
                "azdata_cell_guid": "ad5aecc2-808b-41c2-9f53-ed33bc34dbab"
            }
        },
        {
            "cell_type": "markdown",
            "source": [
                "Create a function app in portal with 'Managed Servie Identity'"
            ],
            "metadata": {
                "azdata_cell_guid": "d54eff1f-383d-4e5b-afc6-61d0fccbc1dc"
            }
        },
        {
            "cell_type": "markdown",
            "source": [
                "<mark>Prerequisite:</mark>\n",
                "\n",
                "Create a function app in portal with 'Managed Servie Identity'  \n",
                "\n",
                "Name: SC2021\n",
                "\n",
                "Run the code in Azure SQL Server 'ugdemotargetserver.database.windows.net'  \n",
                "\n",
                "<span style=\"font-size: 14px;\">Database Name:testRunBookDB&nbsp;</span> \n",
                "\n",
                "`CREATE USER SC2021 FROM EXTERNAL PROVIDER`\n",
                "\n",
                "`GO`\n",
                "\n",
                "`ALTER ROLE db_owner ADD MEMBER SC2021`\n",
                "\n",
                "`GO`"
            ],
            "metadata": {
                "azdata_cell_guid": "637e14df-b79c-465d-8cc5-cf0fb28921e6"
            }
        },
        {
            "cell_type": "markdown",
            "source": [
                "<span style=\"font-size: 14px;\">Replace the built in code for Azure function</span>\n",
                "\n",
                "<span style=\"font-size: 14px;\">Please refer to my blog post about setting up a function app</span>\n",
                "\n",
                "<span style=\"font-size: 14px;\"><a href=\"http://sqlworldwide.com/how-to-use-managed-identity-with-azure-function-app/\" data-href=\"http://sqlworldwide.com/how-to-use-managed-identity-with-azure-function-app/\" title=\"http://sqlworldwide.com/how-to-use-managed-identity-with-azure-function-app/\">http://sqlworldwide.com/how-to-use-managed-identity-with-azure-function-app/</a></span>\n",
                "\n",
                "**Demo Azure Function** using 3\\_TestRunBook.sql"
            ],
            "metadata": {
                "azdata_cell_guid": "c02aab7b-f618-4aa4-af6c-d756f9f078fe"
            }
        },
        {
            "cell_type": "code",
            "source": [
                "# Input bindings are passed in via param block.\r\n",
                "param($Timer)\r\n",
                "\r\n",
                "# Get the current universal time in the default string format\r\n",
                "$currentUTCtime = (Get-Date).ToUniversalTime()\r\n",
                "\r\n",
                "# The 'IsPastDue' porperty is 'true' when the current function invocation is later than scheduled.\r\n",
                "if ($Timer.IsPastDue) {\r\n",
                "    Write-Host \"PowerShell timer is running late!\"\r\n",
                "}\r\n",
                "<#\r\n",
                " This function app is using 'Managed Service Identity' to connect to the Azure SQL Database\r\n",
                " In the interest of time I will not show the set up\r\n",
                " Please see details from my blog post:\r\n",
                " http://sqlworldwide.com/how-to-use-managed-identity-with-azure-function-app/\r\n",
                " \r\n",
                " Used help from following resources in setting up 'Managed Service Identity'\r\n",
                " https://docs.microsoft.com/en-us/azure/app-service/app-service-web-tutorial-connect-msi\r\n",
                " https://www.azurecorner.com/using-managed-service-identity-in-azure-functions-to-access-azure-sql-database/\r\n",
                " https://docs.microsoft.com/en-us/azure/app-service/overview-managed-identity?tabs=powershell\r\n",
                "#>\r\n",
                "\r\n",
                "$resourceURI = \"https://database.windows.net/\"\r\n",
                "$tokenAuthURI = $env:MSI_ENDPOINT + \"?resource=$resourceURI&api-version=2017-09-01\"\r\n",
                "$tokenResponse = Invoke-RestMethod -Method Get -Headers @{\"Secret\" = \"$env:MSI_SECRET\" } -Uri $tokenAuthURI\r\n",
                "$accessToken = $tokenResponse.access_token\r\n",
                "\r\n",
                "$SqlConnection = New-Object System.Data.SqlClient.SqlConnection\r\n",
                "$SqlConnection.ConnectionString = \"Data Source =ugdemotargetserver.database.windows.net ; Initial Catalog = testRunBookDB\"\r\n",
                "$SqlConnection.AccessToken = $AccessToken\r\n",
                "$SqlConnection.Open()\r\n",
                "\r\n",
                "$SqlCmd = New-Object System.Data.SqlClient.SqlCommand\r\n",
                "$SqlCmd.CommandText = \"ALTER INDEX ALL ON testRebuild REBUILD;\"\r\n",
                "$SqlCmd.Connection = $SqlConnection\r\n",
                "$SqlAdapter = New-Object System.Data.SqlClient.SqlDataAdapter\r\n",
                "$SqlAdapter.SelectCommand = $SqlCmd\r\n",
                "$DataSet = New-Object System.Data.DataSet\r\n",
                "$SqlAdapter.Fill($DataSet) "
            ],
            "metadata": {
                "azdata_cell_guid": "23dc83a6-a500-4fb9-af2c-d73f10e2d76a",
                "tags": []
            },
            "outputs": [],
            "execution_count": null
        },
        {
            "cell_type": "markdown",
            "source": [
                "<span style=\"font-size: 14px;\">Clean up by removing resource group name</span>"
            ],
            "metadata": {
                "azdata_cell_guid": "2eb90609-c0b8-4959-ad1e-d6b75409a866"
            }
        },
        {
            "cell_type": "code",
            "source": [
                "Remove-AzResourceGroup -ResourceGroupName $resourceGroupName"
            ],
            "metadata": {
                "azdata_cell_guid": "fd005df6-8d4a-4e3e-be9b-245725472e63"
            },
            "outputs": [],
            "execution_count": null
        }
    ]
}