{
    "metadata": {
        "kernelspec": {
            "name": "SQL",
            "display_name": "SQL",
            "language": "sql"
        },
        "language_info": {
            "name": "sql",
            "version": ""
        }
    },
    "nbformat_minor": 2,
    "nbformat": 4,
    "cells": [
        {
            "cell_type": "markdown",
            "source": [
                "I loaded defualt rule set to a database table from [here](https://github.com/microsoft/sql-server-samples/tree/master/samples/manage/sql-assessment-api).\n",
                "\n",
                "Let's look at some metrics about the ruleset."
            ],
            "metadata": {
                "azdata_cell_guid": "6ee59295-c94b-4238-9377-30cdeb0236bd"
            }
        },
        {
            "cell_type": "code",
            "source": [
                "SELECT \r\n",
                "  COUNT(*) AS [howManyRules]\r\n",
                "FROM [SqlAssessmentDemo].[dbo].[ruleset]"
            ],
            "metadata": {
                "azdata_cell_guid": "1f6bc437-ac30-4603-89e1-3e8290f5ecdf"
            },
            "outputs": [
                {
                    "output_type": "display_data",
                    "data": {
                        "text/html": "(1 row affected)"
                    },
                    "metadata": {}
                },
                {
                    "output_type": "display_data",
                    "data": {
                        "text/html": "Total execution time: 00:00:00.022"
                    },
                    "metadata": {}
                },
                {
                    "output_type": "execute_result",
                    "metadata": {},
                    "execution_count": 16,
                    "data": {
                        "application/vnd.dataresource+json": {
                            "schema": {
                                "fields": [
                                    {
                                        "name": "howManyRules"
                                    }
                                ]
                            },
                            "data": [
                                {
                                    "0": "203"
                                }
                            ]
                        },
                        "text/html": [
                            "<table>",
                            "<tr><th>howManyRules</th></tr>",
                            "<tr><td>203</td></tr>",
                            "</table>"
                        ]
                    }
                }
            ],
            "execution_count": 16
        },
        {
            "cell_type": "code",
            "source": [
                "SELECT TOP 5\r\n",
                "  *\r\n",
                "FROM [SqlAssessmentDemo].[dbo].[ruleset]"
            ],
            "metadata": {
                "azdata_cell_guid": "7410955b-14a9-47bd-b9d8-deaec1dcd64a"
            },
            "outputs": [
                {
                    "output_type": "display_data",
                    "data": {
                        "text/html": "(5 rows affected)"
                    },
                    "metadata": {}
                },
                {
                    "output_type": "display_data",
                    "data": {
                        "text/html": "Total execution time: 00:00:00.028"
                    },
                    "metadata": {}
                },
                {
                    "output_type": "execute_result",
                    "metadata": {},
                    "execution_count": 12,
                    "data": {
                        "application/vnd.dataresource+json": {
                            "schema": {
                                "fields": [
                                    {
                                        "name": "id"
                                    },
                                    {
                                        "name": "level"
                                    },
                                    {
                                        "name": "displayName"
                                    },
                                    {
                                        "name": "message"
                                    },
                                    {
                                        "name": "tags"
                                    },
                                    {
                                        "name": "description"
                                    },
                                    {
                                        "name": "helpLink"
                                    },
                                    {
                                        "name": "probes"
                                    },
                                    {
                                        "name": "target_type"
                                    },
                                    {
                                        "name": "target_platform"
                                    },
                                    {
                                        "name": "target_engineEdition"
                                    },
                                    {
                                        "name": "target_version"
                                    },
                                    {
                                        "name": "target_name_not"
                                    },
                                    {
                                        "name": "threshold"
                                    },
                                    {
                                        "name": "RetryCountPct"
                                    }
                                ]
                            },
                            "data": [
                                {
                                    "0": "AutoCreateStats",
                                    "1": "Warning",
                                    "2": "'Auto-Create Statistics' option should be on",
                                    "3": "Turn on 'Auto-Create Statistics' option to improve query performance",
                                    "4": "['DefaultRuleset', 'Performance', 'Statistics', 'QueryOptimizer']",
                                    "5": "The Query Optimizer determines whether an index is useful for a specific query by evaluating the stored statistics. If the statistics become out of date and significant changes have occurred against the underlying data, this can result in less than optimal query performance. In most cases, it's best to let SQL Server maintain the statistics. If you turn 'Auto Create Stats' and 'Auto Update Stats' off, then it is up to you to keep the statistics up-to-date somehow. Failure to do so will lead to poor query performance. Most applications should have these options ON. When the Auto Create statistics setting is ON, the Query Optimizer creates statistics on one or more columns of a table or an indexed view, as necessary, to improve query plans and query performance.",
                                    "6": "https://docs.microsoft.com/sql/relational-databases/statistics/statistics#CreateStatistics",
                                    "7": "['DatabaseConfiguration']",
                                    "8": "Database",
                                    "9": "['Windows', 'Linux']",
                                    "10": "OnPremises, ManagedInstance",
                                    "11": "[11.0,)",
                                    "12": "NULL",
                                    "13": "NULL",
                                    "14": "NULL"
                                },
                                {
                                    "0": "AutoUpdateStats",
                                    "1": "Warning",
                                    "2": "Auto-Update Statistics should be on",
                                    "3": "Turn on 'Auto-Update Statistics' option to improve query performance",
                                    "4": "['DefaultRuleset', 'Performance', 'Statistics', 'QueryOptimizer']",
                                    "5": "The Query Optimizer determines whether an index is useful for a specific query by evaluating the stored statistics. If the statistics become out of date and significant changes have occurred against the underlying data, this can result in less than optimal query performance. In most cases, it's best to let SQL Server maintain the statistics. If you turn 'Auto Create Stats' and 'Auto Update Stats' off, then it is up to you to keep the statistics up-to-date somehow. Failure to do so will lead to poor query performance. Most applications should have these options ON. When the Auto Update Statistics setting is ON, the Query Optimizer updates statistics when they are used by a query and when they might be out-of-date. Statistics become out-of-date after insert, update, delete, or merge operations change the data distribution in the table or indexed view. The Query Optimizer determines when statistics might be out-of-date by counting the number of data modifications since the last statistics update and comparing the number of modifications to a threshold. The threshold is based on the number of rows in the table or indexed view. The Query Optimizer checks for out-of-date statistics before compiling a query and before executing a cached query plan. Before compiling a query, the Query Optimizer uses the columns, tables, and indexed views in the query predicate to determine which statistics might be out-of-date. Before executing a cached query plan, the Database Engine verifies that the query plan references up-to-date statistics. The AUTO_UPDATE_STATISTICS option applies to statistics created for indexes, single-columns in query predicates, and statistics that are created by using the CREATE STATISTICS statement. This option also applies to filtered statistics.",
                                    "6": "https://docs.microsoft.com/sql/relational-databases/statistics/statistics#UpdateStatistics",
                                    "7": "['DatabaseConfiguration']",
                                    "8": "Database",
                                    "9": "['Windows', 'Linux']",
                                    "10": "OnPremises, ManagedInstance",
                                    "11": "[11.0,)",
                                    "12": "NULL",
                                    "13": "NULL",
                                    "14": "NULL"
                                },
                                {
                                    "0": "QueryStoreOn",
                                    "1": "Warning",
                                    "2": "Query Store should be active",
                                    "3": "Query Store operation mode should be 'Read Write' to keep performance analysis accurate",
                                    "4": "['DefaultRuleset', 'Performance', 'QueryStore', 'Statistics']",
                                    "5": "The Query Store feature provides you with insight on query plan choice and performance. It simplifies performance troubleshooting by helping you quickly find performance differences caused by query plan changes. Query Store automatically captures a history of queries, plans, and runtime statistics, and retains these for your review. It separates data by time windows so you can see database usage patterns and understand when query plan changes happened on the server. While Query Store collects queries, execution plans and statistics, its size in the database grows until this limit is reached. When that happens, Query Store automatically changes the operation mode to read-only and stops collecting new data, which means that your performance analysis is no longer accurate.",
                                    "6": "https://docs.microsoft.com/sql/relational-databases/performance/monitoring-performance-by-using-the-query-store",
                                    "7": "['DatabaseConfiguration']",
                                    "8": "Database",
                                    "9": "['Windows', 'Linux']",
                                    "10": "OnPremises, ManagedInstance",
                                    "11": "[13.0,)",
                                    "12": "['master', 'tempdb' ,'model']",
                                    "13": "NULL",
                                    "14": "NULL"
                                },
                                {
                                    "0": "TF174",
                                    "1": "Information",
                                    "2": "TF 174 increases plan cache bucket count",
                                    "3": "Enable trace flag 174 to increase plan cache bucket count",
                                    "4": "['DefaultRuleset', 'TraceFlag', 'Memory', 'Performance']",
                                    "5": "Trace Flag 174 increases the SQL Server plan cache bucket count from 40,009 to 160,001 on 64-bit systems. When the SQL Server plan cache reaches its entry limit, plans that have low cost must be evicted in order to insert new plans. This can cause severe contention on the SOS_CACHESTORE spinlock and a high CPU usage occurs in SQL Server. On 64-bit systems, the number of buckets for the SQL Server plan cache is 40,009. Therefore, the maximum number of entries that can fit inside the SQL Server plan cache is 160,036. Enabling trace flag 174 on high performance systems increases the size of the cache and can avoid SOS_CACHESTORE spinlock contention.",
                                    "6": "https://docs.microsoft.com/sql/t-sql/database-console-commands/dbcc-traceon-trace-flags-transact-sql",
                                    "7": "['EnabledGlobalTraceFlags']",
                                    "8": "Server",
                                    "9": "['Windows', 'Linux']",
                                    "10": "OnPremises",
                                    "11": "['[11.0.3368,12.0)', '[12.0.2480,13.0)', '[13.0,)']",
                                    "12": "NULL",
                                    "13": "NULL",
                                    "14": "NULL"
                                },
                                {
                                    "0": "TF634",
                                    "1": "Information",
                                    "2": "TF 634 disables background columnstore compression",
                                    "3": "Trace flag 634 disables background columnstore compression task. Check if you need to set non-default trace flag with current system build and configuration",
                                    "4": "['DefaultRuleset', 'TraceFlag', 'Memory', 'Performance']",
                                    "5": "Trace Flag 634 disables the background columnstore compression task. SQL Server periodically runs the Tuple Mover background task that compresses columnstore index rowgroups with uncompressed data, one such rowgroup at a time. Columnstore compression improves query performance but also consumes system resources. You can control the timing of columnstore compression manually, by disabling the background compression task with trace flag 634, and then explicitly invoking ALTER INDEX...REORGANIZE or ALTER INDEX...REBUILD at the time of your choice.",
                                    "6": "https://docs.microsoft.com/sql/t-sql/database-console-commands/dbcc-traceon-trace-flags-transact-sql",
                                    "7": "['EnabledGlobalTraceFlags']",
                                    "8": "Server",
                                    "9": "['Windows', 'Linux']",
                                    "10": "OnPremises",
                                    "11": "[11.0,)",
                                    "12": "NULL",
                                    "13": "NULL",
                                    "14": "NULL"
                                }
                            ]
                        },
                        "text/html": [
                            "<table>",
                            "<tr><th>id</th><th>level</th><th>displayName</th><th>message</th><th>tags</th><th>description</th><th>helpLink</th><th>probes</th><th>target_type</th><th>target_platform</th><th>target_engineEdition</th><th>target_version</th><th>target_name_not</th><th>threshold</th><th>RetryCountPct</th></tr>",
                            "<tr><td>AutoCreateStats</td><td>Warning</td><td>'Auto-Create Statistics' option should be on</td><td>Turn on 'Auto-Create Statistics' option to improve query performance</td><td>['DefaultRuleset', 'Performance', 'Statistics', 'QueryOptimizer']</td><td>The Query Optimizer determines whether an index is useful for a specific query by evaluating the stored statistics. If the statistics become out of date and significant changes have occurred against the underlying data, this can result in less than optimal query performance. In most cases, it's best to let SQL Server maintain the statistics. If you turn 'Auto Create Stats' and 'Auto Update Stats' off, then it is up to you to keep the statistics up-to-date somehow. Failure to do so will lead to poor query performance. Most applications should have these options ON. When the Auto Create statistics setting is ON, the Query Optimizer creates statistics on one or more columns of a table or an indexed view, as necessary, to improve query plans and query performance.</td><td>https://docs.microsoft.com/sql/relational-databases/statistics/statistics#CreateStatistics</td><td>['DatabaseConfiguration']</td><td>Database</td><td>['Windows', 'Linux']</td><td>OnPremises, ManagedInstance</td><td>[11.0,)</td><td>NULL</td><td>NULL</td><td>NULL</td></tr>",
                            "<tr><td>AutoUpdateStats</td><td>Warning</td><td>Auto-Update Statistics should be on</td><td>Turn on 'Auto-Update Statistics' option to improve query performance</td><td>['DefaultRuleset', 'Performance', 'Statistics', 'QueryOptimizer']</td><td>The Query Optimizer determines whether an index is useful for a specific query by evaluating the stored statistics. If the statistics become out of date and significant changes have occurred against the underlying data, this can result in less than optimal query performance. In most cases, it's best to let SQL Server maintain the statistics. If you turn 'Auto Create Stats' and 'Auto Update Stats' off, then it is up to you to keep the statistics up-to-date somehow. Failure to do so will lead to poor query performance. Most applications should have these options ON. When the Auto Update Statistics setting is ON, the Query Optimizer updates statistics when they are used by a query and when they might be out-of-date. Statistics become out-of-date after insert, update, delete, or merge operations change the data distribution in the table or indexed view. The Query Optimizer determines when statistics might be out-of-date by counting the number of data modifications since the last statistics update and comparing the number of modifications to a threshold. The threshold is based on the number of rows in the table or indexed view. The Query Optimizer checks for out-of-date statistics before compiling a query and before executing a cached query plan. Before compiling a query, the Query Optimizer uses the columns, tables, and indexed views in the query predicate to determine which statistics might be out-of-date. Before executing a cached query plan, the Database Engine verifies that the query plan references up-to-date statistics. The AUTO_UPDATE_STATISTICS option applies to statistics created for indexes, single-columns in query predicates, and statistics that are created by using the CREATE STATISTICS statement. This option also applies to filtered statistics.</td><td>https://docs.microsoft.com/sql/relational-databases/statistics/statistics#UpdateStatistics</td><td>['DatabaseConfiguration']</td><td>Database</td><td>['Windows', 'Linux']</td><td>OnPremises, ManagedInstance</td><td>[11.0,)</td><td>NULL</td><td>NULL</td><td>NULL</td></tr>",
                            "<tr><td>QueryStoreOn</td><td>Warning</td><td>Query Store should be active</td><td>Query Store operation mode should be 'Read Write' to keep performance analysis accurate</td><td>['DefaultRuleset', 'Performance', 'QueryStore', 'Statistics']</td><td>The Query Store feature provides you with insight on query plan choice and performance. It simplifies performance troubleshooting by helping you quickly find performance differences caused by query plan changes. Query Store automatically captures a history of queries, plans, and runtime statistics, and retains these for your review. It separates data by time windows so you can see database usage patterns and understand when query plan changes happened on the server. While Query Store collects queries, execution plans and statistics, its size in the database grows until this limit is reached. When that happens, Query Store automatically changes the operation mode to read-only and stops collecting new data, which means that your performance analysis is no longer accurate.</td><td>https://docs.microsoft.com/sql/relational-databases/performance/monitoring-performance-by-using-the-query-store</td><td>['DatabaseConfiguration']</td><td>Database</td><td>['Windows', 'Linux']</td><td>OnPremises, ManagedInstance</td><td>[13.0,)</td><td>['master', 'tempdb' ,'model']</td><td>NULL</td><td>NULL</td></tr>",
                            "<tr><td>TF174</td><td>Information</td><td>TF 174 increases plan cache bucket count</td><td>Enable trace flag 174 to increase plan cache bucket count</td><td>['DefaultRuleset', 'TraceFlag', 'Memory', 'Performance']</td><td>Trace Flag 174 increases the SQL Server plan cache bucket count from 40,009 to 160,001 on 64-bit systems. When the SQL Server plan cache reaches its entry limit, plans that have low cost must be evicted in order to insert new plans. This can cause severe contention on the SOS_CACHESTORE spinlock and a high CPU usage occurs in SQL Server. On 64-bit systems, the number of buckets for the SQL Server plan cache is 40,009. Therefore, the maximum number of entries that can fit inside the SQL Server plan cache is 160,036. Enabling trace flag 174 on high performance systems increases the size of the cache and can avoid SOS_CACHESTORE spinlock contention.</td><td>https://docs.microsoft.com/sql/t-sql/database-console-commands/dbcc-traceon-trace-flags-transact-sql</td><td>['EnabledGlobalTraceFlags']</td><td>Server</td><td>['Windows', 'Linux']</td><td>OnPremises</td><td>['[11.0.3368,12.0)', '[12.0.2480,13.0)', '[13.0,)']</td><td>NULL</td><td>NULL</td><td>NULL</td></tr>",
                            "<tr><td>TF634</td><td>Information</td><td>TF 634 disables background columnstore compression</td><td>Trace flag 634 disables background columnstore compression task. Check if you need to set non-default trace flag with current system build and configuration</td><td>['DefaultRuleset', 'TraceFlag', 'Memory', 'Performance']</td><td>Trace Flag 634 disables the background columnstore compression task. SQL Server periodically runs the Tuple Mover background task that compresses columnstore index rowgroups with uncompressed data, one such rowgroup at a time. Columnstore compression improves query performance but also consumes system resources. You can control the timing of columnstore compression manually, by disabling the background compression task with trace flag 634, and then explicitly invoking ALTER INDEX...REORGANIZE or ALTER INDEX...REBUILD at the time of your choice.</td><td>https://docs.microsoft.com/sql/t-sql/database-console-commands/dbcc-traceon-trace-flags-transact-sql</td><td>['EnabledGlobalTraceFlags']</td><td>Server</td><td>['Windows', 'Linux']</td><td>OnPremises</td><td>[11.0,)</td><td>NULL</td><td>NULL</td><td>NULL</td></tr>",
                            "</table>"
                        ]
                    }
                }
            ],
            "execution_count": 12
        },
        {
            "cell_type": "code",
            "source": [
                "SELECT \r\n",
                "  DISTINCT target_type\r\n",
                "FROM [SqlAssessmentDemo].[dbo].[ruleset]"
            ],
            "metadata": {
                "azdata_cell_guid": "fe6ca436-2184-4674-a8c7-35cc4ed45749"
            },
            "outputs": [
                {
                    "output_type": "display_data",
                    "data": {
                        "text/html": "(2 rows affected)"
                    },
                    "metadata": {}
                },
                {
                    "output_type": "display_data",
                    "data": {
                        "text/html": "Total execution time: 00:00:00.027"
                    },
                    "metadata": {}
                },
                {
                    "output_type": "execute_result",
                    "metadata": {},
                    "execution_count": 17,
                    "data": {
                        "application/vnd.dataresource+json": {
                            "schema": {
                                "fields": [
                                    {
                                        "name": "target_type"
                                    }
                                ]
                            },
                            "data": [
                                {
                                    "0": "Database"
                                },
                                {
                                    "0": "Server"
                                }
                            ]
                        },
                        "text/html": [
                            "<table>",
                            "<tr><th>target_type</th></tr>",
                            "<tr><td>Database</td></tr>",
                            "<tr><td>Server</td></tr>",
                            "</table>"
                        ]
                    }
                }
            ],
            "execution_count": 17
        },
        {
            "cell_type": "code",
            "source": [
                "SELECT \r\n",
                "  level, \r\n",
                "  COUNT (*) AS [howManyPerLevel]\r\n",
                "FROM [SqlAssessmentDemo].[dbo].[ruleset]\r\n",
                "GROUP BY [level]"
            ],
            "metadata": {
                "azdata_cell_guid": "954ff9c0-511a-4cc1-bcdf-65bdb689e268"
            },
            "outputs": [
                {
                    "output_type": "display_data",
                    "data": {
                        "text/html": "(3 rows affected)"
                    },
                    "metadata": {}
                },
                {
                    "output_type": "display_data",
                    "data": {
                        "text/html": "Total execution time: 00:00:00.023"
                    },
                    "metadata": {}
                },
                {
                    "output_type": "execute_result",
                    "metadata": {},
                    "execution_count": 13,
                    "data": {
                        "application/vnd.dataresource+json": {
                            "schema": {
                                "fields": [
                                    {
                                        "name": "level"
                                    },
                                    {
                                        "name": "howManyPerLevel"
                                    }
                                ]
                            },
                            "data": [
                                {
                                    "0": "Critical",
                                    "1": "2"
                                },
                                {
                                    "0": "Information",
                                    "1": "22"
                                },
                                {
                                    "0": "Warning",
                                    "1": "179"
                                }
                            ]
                        },
                        "text/html": [
                            "<table>",
                            "<tr><th>level</th><th>howManyPerLevel</th></tr>",
                            "<tr><td>Critical</td><td>2</td></tr>",
                            "<tr><td>Information</td><td>22</td></tr>",
                            "<tr><td>Warning</td><td>179</td></tr>",
                            "</table>"
                        ]
                    }
                }
            ],
            "execution_count": 13
        },
        {
            "cell_type": "markdown",
            "source": [
                "Created a pull request to remove the extra quote from around Windows."
            ],
            "metadata": {
                "azdata_cell_guid": "4d0536a4-c30a-41a6-ac5b-a17de1bff8ab"
            }
        },
        {
            "cell_type": "code",
            "source": [
                "SELECT \r\n",
                "  target_platform, \r\n",
                "  COUNT (*) AS [howManyPerPlatform] \r\n",
                "FROM [SqlAssessmentDemo].[dbo].[ruleset]\r\n",
                "GROUP BY target_platform"
            ],
            "metadata": {
                "azdata_cell_guid": "ed9289ac-a6c3-48b6-ac0d-5489559065a4"
            },
            "outputs": [
                {
                    "output_type": "display_data",
                    "data": {
                        "text/html": "(3 rows affected)"
                    },
                    "metadata": {}
                },
                {
                    "output_type": "display_data",
                    "data": {
                        "text/html": "Total execution time: 00:00:00.024"
                    },
                    "metadata": {}
                },
                {
                    "output_type": "execute_result",
                    "metadata": {},
                    "execution_count": 15,
                    "data": {
                        "application/vnd.dataresource+json": {
                            "schema": {
                                "fields": [
                                    {
                                        "name": "target_platform"
                                    },
                                    {
                                        "name": "howManyPerPlatform"
                                    }
                                ]
                            },
                            "data": [
                                {
                                    "0": "['Windows', 'Linux']",
                                    "1": "144"
                                },
                                {
                                    "0": "['Windows']",
                                    "1": "58"
                                },
                                {
                                    "0": "['Windows'']",
                                    "1": "1"
                                }
                            ]
                        },
                        "text/html": [
                            "<table>",
                            "<tr><th>target_platform</th><th>howManyPerPlatform</th></tr>",
                            "<tr><td>['Windows', 'Linux']</td><td>144</td></tr>",
                            "<tr><td>['Windows']</td><td>58</td></tr>",
                            "<tr><td>['Windows'']</td><td>1</td></tr>",
                            "</table>"
                        ]
                    }
                }
            ],
            "execution_count": 15
        },
        {
            "cell_type": "code",
            "source": [
                "SELECT \r\n",
                "  target_engineEdition, \r\n",
                "  COUNT (*) AS [howManyPerEngEdition] \r\n",
                "FROM [SqlAssessmentDemo].[dbo].[ruleset]\r\n",
                "GROUP BY target_engineEdition"
            ],
            "metadata": {
                "azdata_cell_guid": "764f511a-b241-4440-8302-92ee1ce8dcd8"
            },
            "outputs": [
                {
                    "output_type": "display_data",
                    "data": {
                        "text/html": "(3 rows affected)"
                    },
                    "metadata": {}
                },
                {
                    "output_type": "display_data",
                    "data": {
                        "text/html": "Total execution time: 00:00:00.013"
                    },
                    "metadata": {}
                },
                {
                    "output_type": "execute_result",
                    "metadata": {},
                    "execution_count": 10,
                    "data": {
                        "application/vnd.dataresource+json": {
                            "schema": {
                                "fields": [
                                    {
                                        "name": "target_engineEdition"
                                    },
                                    {
                                        "name": "howManyPerEngEdition"
                                    }
                                ]
                            },
                            "data": [
                                {
                                    "0": "NULL",
                                    "1": "5"
                                },
                                {
                                    "0": "OnPremises",
                                    "1": "121"
                                },
                                {
                                    "0": "OnPremises, ManagedInstance",
                                    "1": "77"
                                }
                            ]
                        },
                        "text/html": [
                            "<table>",
                            "<tr><th>target_engineEdition</th><th>howManyPerEngEdition</th></tr>",
                            "<tr><td>NULL</td><td>5</td></tr>",
                            "<tr><td>OnPremises</td><td>121</td></tr>",
                            "<tr><td>OnPremises, ManagedInstance</td><td>77</td></tr>",
                            "</table>"
                        ]
                    }
                }
            ],
            "execution_count": 10
        },
        {
            "cell_type": "code",
            "source": [
                "\r\n",
                "SELECT \r\n",
                "  SUBSTRING (target_version, CHARINDEX('1',target_version, 1) , 2) AS [SQLVersion], \r\n",
                "  COUNT(*) AS [howManyPerVerison]\r\n",
                "FROM [SqlAssessmentDemo].[dbo].[ruleset]\r\n",
                "WHERE target_version IS NOT NULL\r\n",
                "GROUP BY SUBSTRING (target_version, CHARINDEX('1',target_version, 1) , 2)"
            ],
            "metadata": {
                "azdata_cell_guid": "a2d494e9-7e02-4958-9409-e90f7c5b80be"
            },
            "outputs": [
{
    "output_type": "display_data",
    "data": {
        "text/html": "(3 rows affected)"
    },
    "metadata": {}
}, {
    "output_type": "display_data",
    "data": {
        "text/html": "Total execution time: 00:00:00.043"
    },
    "metadata": {}
}, {
    "output_type": "execute_result",
    "metadata": {},
    "execution_count": 18,
    "data": {
        "application/vnd.dataresource+json": {
            "schema": {
                "fields": [
                    {
                        "name": "SQLVersion"
                    },
                    {
                        "name": "howManyPerVerison"
                    }
                ]
            },
            "data": [
                {
                    "0": "11",
                    "1": "187"
                },
                {
                    "0": "12",
                    "1": "5"
                },
                {
                    "0": "13",
                    "1": "8"
                }
            ]
        },
        "text/html": [
            "<table>",
            "<tr><th>SQLVersion</th><th>howManyPerVerison</th></tr>",
            "<tr><td>11</td><td>187</td></tr>",
            "<tr><td>12</td><td>5</td></tr>",
            "<tr><td>13</td><td>8</td></tr>",
            "</table>"
        ]
    }
}
],
            "execution_count": 18
        }
    ]
}