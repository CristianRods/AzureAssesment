{
    "metadata": {
        "kernelspec": {
            "name": "python3",
            "display_name": "Python 3",
            "language": "python"
        },
        "language_info": {
            "name": "python",
            "version": "3.6.6",
            "mimetype": "text/x-python",
            "codemirror_mode": {
                "name": "ipython",
                "version": 3
            },
            "pygments_lexer": "ipython3",
            "nbconvert_exporter": "python",
            "file_extension": ".py"
        }
    },
    "nbformat_minor": 2,
    "nbformat": 4,
    "cells": [
        {
            "cell_type": "markdown",
            "source": [
                "# Using Kqlmagic to analyze Azure SQL logs and metrics\n",
                "\n",
                "Written by:  Julie Koesmarno\n",
                "\n",
                "Original Notebook: [Using Kqlmagic to analyze Azure SQL logs and metrics](https://github.com/MsSQLGirl/jubilant-data-wizards/blob/main/Simple%20Demo/Parameterization/SQLDBLog/AzureSQLLogsAndMetricsWithLogAnalytics.ipynb)\n",
                "\n",
                "Modifed by: Taiob  Ali  \n",
                "\n",
                "  \n",
                "\n",
                "There are two main tables in Azure Log Analytics (Azure Monitor Logs) workspace that capture Azure SQL events:\n",
                "\n",
                "1. AzureDiagnostics\n",
                "2. AzureMetric"
            ],
            "metadata": {
                "azdata_cell_guid": "2e215b87-477c-47c1-88fd-15701f9d849c"
            }
        },
        {
            "cell_type": "markdown",
            "source": [
                "## 1. Connect to Log Analytics workspace\r\n",
                "\r\n",
                "Workspace is similar to what a database is to SQL. You connect to Log Analytics workspace to start querying data. \r\n",
                "\r\n",
                "### 1.1 Load Kqlmagic\r\n",
                "Need to load Kqlmagic first before we can start writing queries."
            ],
            "metadata": {
                "azdata_cell_guid": "62a95fa9-3573-46fc-ba99-f8ea5ba0ea05"
            }
        },
        {
            "cell_type": "code",
            "source": [
                "!pip install Kqlmagic --no-cache-dir --upgrade"
            ],
            "metadata": {
                "azdata_cell_guid": "0e450b28-f974-4776-b257-94b6fcd3c77a"
            },
            "outputs": [],
            "execution_count": 5
        },
        {
            "cell_type": "code",
            "source": [
                "%reload_ext Kqlmagic"
            ],
            "metadata": {
                "azdata_cell_guid": "63832e62-7f15-4a78-ad31-43a6d90f0817",
                "language": "markdown"
            },
            "outputs": [
                {
                    "output_type": "display_data",
                    "data": {
                        "text/plain": "<IPython.core.display.HTML object>",
                        "text/html": "<html>\n            <head>\n            <title>Kqlmagic - banner</title>\n            <style>\n            .kql-magic-banner {\n                display: flex; \n                background-color: #d9edf7;\n            }\n            .kql-magic-banner > div {\n                margin: 10px; \n                padding: 20px; \n                color: #3a87ad; \n                font-size: 13px;\n            }\n            </style>\n            </head>\n            <body>\n                <div class='kql-magic-banner'>\n                    <div><img src='data:image/png;base64,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'></div>\n                    <div>\n                        <p>Kql Query Language, aka kql, is the query language for advanced analytics on Azure Monitor resources. The current supported data sources are \n                        Azure Data Explorer (Kusto), Log Analytics and Application Insights. To get more information execute '%kql --help \"kql\"'</p>\n                        <p>   \n                          &bull; \n                kql reference: Click on 'Help' tab > and Select 'kql reference' or execute '%kql --help \"kql\"'<br>\n                          &bull; \n                Kqlmagic configuration: execute '%config Kqlmagic'<br>\n                          &bull; \n                Kqlmagic usage: execute '%kql --usage'<br>\n                        </p> \n                    </div>\n                </div>\n            </body>\n            </html>"
                    },
                    "metadata": {}
                },
                {
                    "output_type": "display_data",
                    "data": {
                        "text/plain": "<IPython.core.display.HTML object>",
                        "text/html": "<html>\n        <head>\n            \n            \n        </head>\n        <body>\n            <div><p style='padding: 10px; color: #3a87ad; background-color: #d9edf7; border-color: #bce9f1'>Kqlmagic&nbsp;package&nbsp;is&nbsp;updated&nbsp;frequently.&nbsp;Run&nbsp;&apos;!pip&nbsp;install&nbsp;Kqlmagic&nbsp;--no-cache-dir&nbsp;--upgrade&apos;&nbsp;to&nbsp;use&nbsp;the&nbsp;latest&nbsp;version.<br>Kqlmagic&nbsp;version:&nbsp;0.1.113.post1,&nbsp;source:&nbsp;https://github.com/Microsoft/jupyter-Kqlmagic</p></div>\n        </body>\n        </html>"
                    },
                    "metadata": {}
                },
                {
                    "output_type": "display_data",
                    "data": {
                        "text/plain": "<IPython.core.display.HTML object>",
                        "text/html": "<!DOCTYPE html>\n            <html><body>\n            <div style='padding: 10px; color: #3a87ad; background-color: #d9edf7; border-color: #bce9f1'>\n            Click&nbsp;to&nbsp;find&nbsp;out&nbsp;what's&nbsp;new&nbsp;in&nbsp;Kqlmagic&nbsp;&nbsp;<a href='http://127.0.0.1:60574/webbrowser?url=http%3A//127.0.0.1%3A60574/files/.kqlmagic/temp_files/eea327d6-9c4a-4c79-ab76-760f5a544aa7/popup_what_new_history.html%3Fkernelid%3Deea327d6-9c4a-4c79-ab76-760f5a544aa7&kernelid=eea327d6-9c4a-4c79-ab76-760f5a544aa7' style='padding: 2px 6px 2px 6px; color: #333333; background-color: #EEEEEE; border-top: 1px solid #CCCCCC; border-right: 1px solid #333333; border-bottom: 1px solid #333333; border-left: 1px solid #CCCCCC' target='popup_what_new_history'>What's New? </a>\n            </div>\n            </body></html>"
                    },
                    "metadata": {}
                }
            ],
            "execution_count": 1
        },
        {
            "cell_type": "markdown",
            "source": [
                "### 1.2 Connect to the desired Log Analytics workspace"
            ],
            "metadata": {
                "azdata_cell_guid": "1ccf6cc8-49df-4c8c-8cf4-08b36776ec78"
            }
        },
        {
            "cell_type": "code",
            "source": [
                "# Initialize workspace ID to connect to, to analyzie Azure SQL log data\r\n",
                "\r\n",
                "workspaceID = 'e54e4c50-7ddf-460f-8ce7-a11763455210'"
            ],
            "metadata": {
                "azdata_cell_guid": "9e1a945d-2fc0-41e3-ab04-7456a2e25ac5",
                "tags": [
                    "parameters"
                ]
            },
            "outputs": [],
            "execution_count": 20
        },
        {
            "cell_type": "code",
            "source": [
                "%kql loganalytics://code;workspace=workspaceID;alias=\"Sqlalertdemo2\" -try-azcli_login //-!se"
            ],
            "metadata": {
                "azdata_cell_guid": "0d81236a-753a-4cf0-991c-a5f0a57493cd"
            },
            "outputs": [
                {
                    "output_type": "display_data",
                    "data": {
                        "text/plain": "<IPython.core.display.HTML object>",
                        "text/html": "<!DOCTYPE html>\n            <html><body>\n            <div style=''>\n            <a href='http://127.0.0.1:60574/webbrowser?url=http%3A//127.0.0.1%3A60574/files/.kqlmagic/temp_files/eea327d6-9c4a-4c79-ab76-760f5a544aa7/popup__myLogAnalyticsWorkspace_at_loganalytics_schema.html%3Fkernelid%3Deea327d6-9c4a-4c79-ab76-760f5a544aa7&kernelid=eea327d6-9c4a-4c79-ab76-760f5a544aa7' style='padding: 2px 6px 2px 6px; color: #333333; background-color: #EEEEEE; border-top: 1px solid #CCCCCC; border-right: 1px solid #333333; border-bottom: 1px solid #333333; border-left: 1px solid #CCCCCC' target='popup__myLogAnalyticsWorkspace_at_loganalytics_schema'>popup schema myLogAnalyticsWorkspace@loganalytics</a>\n            </div>\n            </body></html>"
                    },
                    "metadata": {}
                }
            ],
            "execution_count": 21
        },
        {
            "cell_type": "markdown",
            "source": [
                "## 2. Analyze events by Diagnostic Settings\n",
                "\n",
                "Let's do a simple query first to analyze the number of events by Operation Name. \n",
                "\n",
                "> **Note**: Each row in AzureDiagnostic represents an event for specific Operation or category. Some SQL actions may result in generating multiple events of different types.\n",
                "\n",
                ""
            ],
            "metadata": {
                "azdata_cell_guid": "eb6417a2-3f1d-4d21-9c2d-1ccd9f65f935"
            }
        },
        {
            "cell_type": "code",
            "source": [
                "%%kql \r\n",
                "AzureDiagnostics\r\n",
                "| summarize count() by OperationName"
            ],
            "metadata": {
                "azdata_cell_guid": "e0d388fb-3ba1-4579-81d4-e46b41063738"
            },
            "outputs": [
                {
                    "output_type": "display_data",
                    "data": {
                        "text/plain": "<IPython.core.display.HTML object>",
                        "text/html": "<html>\n        <head>\n            \n            \n        </head>\n        <body>\n            <div><p style='padding: 10px; color: #3a87ad; background-color: #d9edf7; border-color: #bce9f1'>&nbsp;*&nbsp;myLogAnalyticsWorkspace@loganalytics</p></div>\n        </body>\n        </html>"
                    },
                    "metadata": {}
                },
                {
                    "output_type": "display_data",
                    "data": {
                        "text/plain": "                      OperationName  count_\n0                        AuditEvent     237\n1                        ErrorEvent       1\n2     QueryStoreWaitStatisticsEvent       8\n3  QueryStoreRuntimeStatisticsEvent       2",
                        "text/html": "<div>\n<style scoped>\n    .dataframe tbody tr th:only-of-type {\n        vertical-align: middle;\n    }\n\n    .dataframe tbody tr th {\n        vertical-align: top;\n    }\n\n    .dataframe thead th {\n        text-align: right;\n    }\n</style>\n<table border=\"1\" class=\"dataframe\">\n  <thead>\n    <tr style=\"text-align: right;\">\n      <th></th>\n      <th>OperationName</th>\n      <th>count_</th>\n    </tr>\n  </thead>\n  <tbody>\n    <tr>\n      <th>0</th>\n      <td>AuditEvent</td>\n      <td>237</td>\n    </tr>\n    <tr>\n      <th>1</th>\n      <td>ErrorEvent</td>\n      <td>1</td>\n    </tr>\n    <tr>\n      <th>2</th>\n      <td>QueryStoreWaitStatisticsEvent</td>\n      <td>8</td>\n    </tr>\n    <tr>\n      <th>3</th>\n      <td>QueryStoreRuntimeStatisticsEvent</td>\n      <td>2</td>\n    </tr>\n  </tbody>\n</table>\n</div>",
                        "application/vnd.dataresource+json": {
                            "schema": {
                                "fields": [
                                    {
                                        "name": "OperationName",
                                        "type": "string"
                                    },
                                    {
                                        "name": "count_",
                                        "type": "integer"
                                    }
                                ],
                                "kqmagic_version": "0.1.113.post1"
                            },
                            "data": [
                                {
                                    "OperationName": "AuditEvent",
                                    "count_": 237
                                },
                                {
                                    "OperationName": "ErrorEvent",
                                    "count_": 1
                                },
                                {
                                    "OperationName": "QueryStoreWaitStatisticsEvent",
                                    "count_": 8
                                },
                                {
                                    "OperationName": "QueryStoreRuntimeStatisticsEvent",
                                    "count_": 2
                                }
                            ]
                        }
                    },
                    "metadata": {}
                },
                {
                    "output_type": "display_data",
                    "data": {
                        "text/plain": "<IPython.core.display.HTML object>",
                        "text/html": "<html>\n        <head>\n            \n            \n        </head>\n        <body>\n            <div><p style='padding: 10px; color: #3a87ad; background-color: #d9edf7; border-color: #bce9f1'>Done&nbsp;(00:01.161):&nbsp;4&nbsp;records</p></div>\n        </body>\n        </html>"
                    },
                    "metadata": {}
                },
                {
                    "output_type": "execute_result",
                    "execution_count": 22,
                    "data": {
                        "text/plain": "[{'OperationName': 'AuditEvent', 'count_': 237},\n {'OperationName': 'ErrorEvent', 'count_': 1},\n {'OperationName': 'QueryStoreWaitStatisticsEvent', 'count_': 8},\n {'OperationName': 'QueryStoreRuntimeStatisticsEvent', 'count_': 2}]",
                        "text/html": ""
                    },
                    "metadata": {}
                }
            ],
            "execution_count": 22
        },
        {
            "cell_type": "markdown",
            "source": [
                "\r\n",
                "The above query's equivalent in SQL is:\r\n",
                "```\r\n",
                "SELECT COUNT(*) AS [count_]\r\n",
                "FROM AzureDiagnostics\r\n",
                "GROUP BY OperationName\r\n",
                "```\r\n",
                ""
            ],
            "metadata": {
                "azdata_cell_guid": "70c58547-b1b4-4724-b20b-a5bfc11d4dc4"
            }
        },
        {
            "cell_type": "markdown",
            "source": [
                "Count my Azure SQL DB events by category / diagnostic settings."
            ],
            "metadata": {
                "azdata_cell_guid": "8303ed68-ca14-4063-8464-9492f9304121"
            }
        },
        {
            "cell_type": "code",
            "source": [
                "%%kql \r\n",
                "AzureDiagnostics\r\n",
                "| where LogicalServerName_s == \"sqlalertdemoserver\"\r\n",
                "| where TimeGenerated >= ago(5d)\r\n",
                "| summarize count() by Category\r\n",
                "| render barchart with (title = \"Azure SQL DB Diagnostic Category\")"
            ],
            "metadata": {
                "azdata_cell_guid": "6eaa8a7b-0b34-4a5a-b49b-80f9286539b2"
            },
            "outputs": [
                {
                    "output_type": "display_data",
                    "data": {
                        "text/plain": "<IPython.core.display.HTML object>",
                        "text/html": "<html>\n        <head>\n            \n            \n        </head>\n        <body>\n            <div><p style='padding: 10px; color: #3a87ad; background-color: #d9edf7; border-color: #bce9f1'>&nbsp;*&nbsp;myLogAnalyticsWorkspace@loganalytics</p></div>\n        </body>\n        </html>"
                    },
                    "metadata": {}
                },
                {
                    "output_type": "display_data",
                    "data": {
                        "application/vnd.plotly.v1+json": {
                            "config": {
                                "plotlyServerURL": "https://plot.ly"
                            },
                            "data": [
                                {
                                    "marker": {
                                        "color": "rgb(31, 118, 179)"
                                    },
                                    "name": "count_",
                                    "orientation": "h",
                                    "type": "bar",
                                    "x": [
                                        237,
                                        1,
                                        8,
                                        2
                                    ],
                                    "y": [
                                        "SQLSecurityAuditEvents",
                                        "Errors",
                                        "QueryStoreWaitStatistics",
                                        "QueryStoreRuntimeStatistics"
                                    ]
                                }
                            ],
                            "layout": {
                                "showlegend": true,
                                "template": {
                                    "data": {
                                        "bar": [
                                            {
                                                "error_x": {
                                                    "color": "#2a3f5f"
                                                },
                                                "error_y": {
                                                    "color": "#2a3f5f"
                                                },
                                                "marker": {
                                                    "line": {
                                                        "color": "#E5ECF6",
                                                        "width": 0.5
                                                    }
                                                },
                                                "type": "bar"
                                            }
                                        ],
                                        "barpolar": [
                                            {
                                                "marker": {
                                                    "line": {
                                                        "color": "#E5ECF6",
                                                        "width": 0.5
                                                    }
                                                },
                                                "type": "barpolar"
                                            }
                                        ],
                                        "carpet": [
                                            {
                                                "aaxis": {
                                                    "endlinecolor": "#2a3f5f",
                                                    "gridcolor": "white",
                                                    "linecolor": "white",
                                                    "minorgridcolor": "white",
                                                    "startlinecolor": "#2a3f5f"
                                                },
                                                "baxis": {
                                                    "endlinecolor": "#2a3f5f",
                                                    "gridcolor": "white",
                                                    "linecolor": "white",
                                                    "minorgridcolor": "white",
                                                    "startlinecolor": "#2a3f5f"
                                                },
                                                "type": "carpet"
                                            }
                                        ],
                                        "choropleth": [
                                            {
                                                "colorbar": {
                                                    "outlinewidth": 0,
                                                    "ticks": ""
                                                },
                                                "type": "choropleth"
                                            }
                                        ],
                                        "contour": [
                                            {
                                                "colorbar": {
                                                    "outlinewidth": 0,
                                                    "ticks": ""
                                                },
                                                "colorscale": [
                                                    [
                                                        0,
                                                        "#0d0887"
                                                    ],
                                                    [
                                                        0.1111111111111111,
                                                        "#46039f"
                                                    ],
                                                    [
                                                        0.2222222222222222,
                                                        "#7201a8"
                                                    ],
                                                    [
                                                        0.3333333333333333,
                                                        "#9c179e"
                                                    ],
                                                    [
                                                        0.4444444444444444,
                                                        "#bd3786"
                                                    ],
                                                    [
                                                        0.5555555555555556,
                                                        "#d8576b"
                                                    ],
                                                    [
                                                        0.6666666666666666,
                                                        "#ed7953"
                                                    ],
                                                    [
                                                        0.7777777777777778,
                                                        "#fb9f3a"
                                                    ],
                                                    [
                                                        0.8888888888888888,
                                                        "#fdca26"
                                                    ],
                                                    [
                                                        1,
                                                        "#f0f921"
                                                    ]
                                                ],
                                                "type": "contour"
                                            }
                                        ],
                                        "contourcarpet": [
                                            {
                                                "colorbar": {
                                                    "outlinewidth": 0,
                                                    "ticks": ""
                                                },
                                                "type": "contourcarpet"
                                            }
                                        ],
                                        "heatmap": [
                                            {
                                                "colorbar": {
                                                    "outlinewidth": 0,
                                                    "ticks": ""
                                                },
                                                "colorscale": [
                                                    [
                                                        0,
                                                        "#0d0887"
                                                    ],
                                                    [
                                                        0.1111111111111111,
                                                        "#46039f"
                                                    ],
                                                    [
                                                        0.2222222222222222,
                                                        "#7201a8"
                                                    ],
                                                    [
                                                        0.3333333333333333,
                                                        "#9c179e"
                                                    ],
                                                    [
                                                        0.4444444444444444,
                                                        "#bd3786"
                                                    ],
                                                    [
                                                        0.5555555555555556,
                                                        "#d8576b"
                                                    ],
                                                    [
                                                        0.6666666666666666,
                                                        "#ed7953"
                                                    ],
                                                    [
                                                        0.7777777777777778,
                                                        "#fb9f3a"
                                                    ],
                                                    [
                                                        0.8888888888888888,
                                                        "#fdca26"
                                                    ],
                                                    [
                                                        1,
                                                        "#f0f921"
                                                    ]
                                                ],
                                                "type": "heatmap"
                                            }
                                        ],
                                        "heatmapgl": [
                                            {
                                                "colorbar": {
                                                    "outlinewidth": 0,
                                                    "ticks": ""
                                                },
                                                "colorscale": [
                                                    [
                                                        0,
                                                        "#0d0887"
                                                    ],
                                                    [
                                                        0.1111111111111111,
                                                        "#46039f"
                                                    ],
                                                    [
                                                        0.2222222222222222,
                                                        "#7201a8"
                                                    ],
                                                    [
                                                        0.3333333333333333,
                                                        "#9c179e"
                                                    ],
                                                    [
                                                        0.4444444444444444,
                                                        "#bd3786"
                                                    ],
                                                    [
                                                        0.5555555555555556,
                                                        "#d8576b"
                                                    ],
                                                    [
                                                        0.6666666666666666,
                                                        "#ed7953"
                                                    ],
                                                    [
                                                        0.7777777777777778,
                                                        "#fb9f3a"
                                                    ],
                                                    [
                                                        0.8888888888888888,
                                                        "#fdca26"
                                                    ],
                                                    [
                                                        1,
                                                        "#f0f921"
                                                    ]
                                                ],
                                                "type": "heatmapgl"
                                            }
                                        ],
                                        "histogram": [
                                            {
                                                "marker": {
                                                    "colorbar": {
                                                        "outlinewidth": 0,
                                                        "ticks": ""
                                                    }
                                                },
                                                "type": "histogram"
                                            }
                                        ],
                                        "histogram2d": [
                                            {
                                                "colorbar": {
                                                    "outlinewidth": 0,
                                                    "ticks": ""
                                                },
                                                "colorscale": [
                                                    [
                                                        0,
                                                        "#0d0887"
                                                    ],
                                                    [
                                                        0.1111111111111111,
                                                        "#46039f"
                                                    ],
                                                    [
                                                        0.2222222222222222,
                                                        "#7201a8"
                                                    ],
                                                    [
                                                        0.3333333333333333,
                                                        "#9c179e"
                                                    ],
                                                    [
                                                        0.4444444444444444,
                                                        "#bd3786"
                                                    ],
                                                    [
                                                        0.5555555555555556,
                                                        "#d8576b"
                                                    ],
                                                    [
                                                        0.6666666666666666,
                                                        "#ed7953"
                                                    ],
                                                    [
                                                        0.7777777777777778,
                                                        "#fb9f3a"
                                                    ],
                                                    [
                                                        0.8888888888888888,
                                                        "#fdca26"
                                                    ],
                                                    [
                                                        1,
                                                        "#f0f921"
                                                    ]
                                                ],
                                                "type": "histogram2d"
                                            }
                                        ],
                                        "histogram2dcontour": [
                                            {
                                                "colorbar": {
                                                    "outlinewidth": 0,
                                                    "ticks": ""
                                                },
                                                "colorscale": [
                                                    [
                                                        0,
                                                        "#0d0887"
                                                    ],
                                                    [
                                                        0.1111111111111111,
                                                        "#46039f"
                                                    ],
                                                    [
                                                        0.2222222222222222,
                                                        "#7201a8"
                                                    ],
                                                    [
                                                        0.3333333333333333,
                                                        "#9c179e"
                                                    ],
                                                    [
                                                        0.4444444444444444,
                                                        "#bd3786"
                                                    ],
                                                    [
                                                        0.5555555555555556,
                                                        "#d8576b"
                                                    ],
                                                    [
                                                        0.6666666666666666,
                                                        "#ed7953"
                                                    ],
                                                    [
                                                        0.7777777777777778,
                                                        "#fb9f3a"
                                                    ],
                                                    [
                                                        0.8888888888888888,
                                                        "#fdca26"
                                                    ],
                                                    [
                                                        1,
                                                        "#f0f921"
                                                    ]
                                                ],
                                                "type": "histogram2dcontour"
                                            }
                                        ],
                                        "mesh3d": [
                                            {
                                                "colorbar": {
                                                    "outlinewidth": 0,
                                                    "ticks": ""
                                                },
                                                "type": "mesh3d"
                                            }
                                        ],
                                        "parcoords": [
                                            {
                                                "line": {
                                                    "colorbar": {
                                                        "outlinewidth": 0,
                                                        "ticks": ""
                                                    }
                                                },
                                                "type": "parcoords"
                                            }
                                        ],
                                        "pie": [
                                            {
                                                "automargin": true,
                                                "type": "pie"
                                            }
                                        ],
                                        "scatter": [
                                            {
                                                "marker": {
                                                    "colorbar": {
                                                        "outlinewidth": 0,
                                                        "ticks": ""
                                                    }
                                                },
                                                "type": "scatter"
                                            }
                                        ],
                                        "scatter3d": [
                                            {
                                                "line": {
                                                    "colorbar": {
                                                        "outlinewidth": 0,
                                                        "ticks": ""
                                                    }
                                                },
                                                "marker": {
                                                    "colorbar": {
                                                        "outlinewidth": 0,
                                                        "ticks": ""
                                                    }
                                                },
                                                "type": "scatter3d"
                                            }
                                        ],
                                        "scattercarpet": [
                                            {
                                                "marker": {
                                                    "colorbar": {
                                                        "outlinewidth": 0,
                                                        "ticks": ""
                                                    }
                                                },
                                                "type": "scattercarpet"
                                            }
                                        ],
                                        "scattergeo": [
                                            {
                                                "marker": {
                                                    "colorbar": {
                                                        "outlinewidth": 0,
                                                        "ticks": ""
                                                    }
                                                },
                                                "type": "scattergeo"
                                            }
                                        ],
                                        "scattergl": [
                                            {
                                                "marker": {
                                                    "colorbar": {
                                                        "outlinewidth": 0,
                                                        "ticks": ""
                                                    }
                                                },
                                                "type": "scattergl"
                                            }
                                        ],
                                        "scattermapbox": [
                                            {
                                                "marker": {
                                                    "colorbar": {
                                                        "outlinewidth": 0,
                                                        "ticks": ""
                                                    }
                                                },
                                                "type": "scattermapbox"
                                            }
                                        ],
                                        "scatterpolar": [
                                            {
                                                "marker": {
                                                    "colorbar": {
                                                        "outlinewidth": 0,
                                                        "ticks": ""
                                                    }
                                                },
                                                "type": "scatterpolar"
                                            }
                                        ],
                                        "scatterpolargl": [
                                            {
                                                "marker": {
                                                    "colorbar": {
                                                        "outlinewidth": 0,
                                                        "ticks": ""
                                                    }
                                                },
                                                "type": "scatterpolargl"
                                            }
                                        ],
                                        "scatterternary": [
                                            {
                                                "marker": {
                                                    "colorbar": {
                                                        "outlinewidth": 0,
                                                        "ticks": ""
                                                    }
                                                },
                                                "type": "scatterternary"
                                            }
                                        ],
                                        "surface": [
                                            {
                                                "colorbar": {
                                                    "outlinewidth": 0,
                                                    "ticks": ""
                                                },
                                                "colorscale": [
                                                    [
                                                        0,
                                                        "#0d0887"
                                                    ],
                                                    [
                                                        0.1111111111111111,
                                                        "#46039f"
                                                    ],
                                                    [
                                                        0.2222222222222222,
                                                        "#7201a8"
                                                    ],
                                                    [
                                                        0.3333333333333333,
                                                        "#9c179e"
                                                    ],
                                                    [
                                                        0.4444444444444444,
                                                        "#bd3786"
                                                    ],
                                                    [
                                                        0.5555555555555556,
                                                        "#d8576b"
                                                    ],
                                                    [
                                                        0.6666666666666666,
                                                        "#ed7953"
                                                    ],
                                                    [
                                                        0.7777777777777778,
                                                        "#fb9f3a"
                                                    ],
                                                    [
                                                        0.8888888888888888,
                                                        "#fdca26"
                                                    ],
                                                    [
                                                        1,
                                                        "#f0f921"
                                                    ]
                                                ],
                                                "type": "surface"
                                            }
                                        ],
                                        "table": [
                                            {
                                                "cells": {
                                                    "fill": {
                                                        "color": "#EBF0F8"
                                                    },
                                                    "line": {
                                                        "color": "white"
                                                    }
                                                },
                                                "header": {
                                                    "fill": {
                                                        "color": "#C8D4E3"
                                                    },
                                                    "line": {
                                                        "color": "white"
                                                    }
                                                },
                                                "type": "table"
                                            }
                                        ]
                                    },
                                    "layout": {
                                        "annotationdefaults": {
                                            "arrowcolor": "#2a3f5f",
                                            "arrowhead": 0,
                                            "arrowwidth": 1
                                        },
                                        "coloraxis": {
                                            "colorbar": {
                                                "outlinewidth": 0,
                                                "ticks": ""
                                            }
                                        },
                                        "colorscale": {
                                            "diverging": [
                                                [
                                                    0,
                                                    "#8e0152"
                                                ],
                                                [
                                                    0.1,
                                                    "#c51b7d"
                                                ],
                                                [
                                                    0.2,
                                                    "#de77ae"
                                                ],
                                                [
                                                    0.3,
                                                    "#f1b6da"
                                                ],
                                                [
                                                    0.4,
                                                    "#fde0ef"
                                                ],
                                                [
                                                    0.5,
                                                    "#f7f7f7"
                                                ],
                                                [
                                                    0.6,
                                                    "#e6f5d0"
                                                ],
                                                [
                                                    0.7,
                                                    "#b8e186"
                                                ],
                                                [
                                                    0.8,
                                                    "#7fbc41"
                                                ],
                                                [
                                                    0.9,
                                                    "#4d9221"
                                                ],
                                                [
                                                    1,
                                                    "#276419"
                                                ]
                                            ],
                                            "sequential": [
                                                [
                                                    0,
                                                    "#0d0887"
                                                ],
                                                [
                                                    0.1111111111111111,
                                                    "#46039f"
                                                ],
                                                [
                                                    0.2222222222222222,
                                                    "#7201a8"
                                                ],
                                                [
                                                    0.3333333333333333,
                                                    "#9c179e"
                                                ],
                                                [
                                                    0.4444444444444444,
                                                    "#bd3786"
                                                ],
                                                [
                                                    0.5555555555555556,
                                                    "#d8576b"
                                                ],
                                                [
                                                    0.6666666666666666,
                                                    "#ed7953"
                                                ],
                                                [
                                                    0.7777777777777778,
                                                    "#fb9f3a"
                                                ],
                                                [
                                                    0.8888888888888888,
                                                    "#fdca26"
                                                ],
                                                [
                                                    1,
                                                    "#f0f921"
                                                ]
                                            ],
                                            "sequentialminus": [
                                                [
                                                    0,
                                                    "#0d0887"
                                                ],
                                                [
                                                    0.1111111111111111,
                                                    "#46039f"
                                                ],
                                                [
                                                    0.2222222222222222,
                                                    "#7201a8"
                                                ],
                                                [
                                                    0.3333333333333333,
                                                    "#9c179e"
                                                ],
                                                [
                                                    0.4444444444444444,
                                                    "#bd3786"
                                                ],
                                                [
                                                    0.5555555555555556,
                                                    "#d8576b"
                                                ],
                                                [
                                                    0.6666666666666666,
                                                    "#ed7953"
                                                ],
                                                [
                                                    0.7777777777777778,
                                                    "#fb9f3a"
                                                ],
                                                [
                                                    0.8888888888888888,
                                                    "#fdca26"
                                                ],
                                                [
                                                    1,
                                                    "#f0f921"
                                                ]
                                            ]
                                        },
                                        "colorway": [
                                            "#636efa",
                                            "#EF553B",
                                            "#00cc96",
                                            "#ab63fa",
                                            "#FFA15A",
                                            "#19d3f3",
                                            "#FF6692",
                                            "#B6E880",
                                            "#FF97FF",
                                            "#FECB52"
                                        ],
                                        "font": {
                                            "color": "#2a3f5f"
                                        },
                                        "geo": {
                                            "bgcolor": "white",
                                            "lakecolor": "white",
                                            "landcolor": "#E5ECF6",
                                            "showlakes": true,
                                            "showland": true,
                                            "subunitcolor": "white"
                                        },
                                        "hoverlabel": {
                                            "align": "left"
                                        },
                                        "hovermode": "closest",
                                        "mapbox": {
                                            "style": "light"
                                        },
                                        "paper_bgcolor": "white",
                                        "plot_bgcolor": "#E5ECF6",
                                        "polar": {
                                            "angularaxis": {
                                                "gridcolor": "white",
                                                "linecolor": "white",
                                                "ticks": ""
                                            },
                                            "bgcolor": "#E5ECF6",
                                            "radialaxis": {
                                                "gridcolor": "white",
                                                "linecolor": "white",
                                                "ticks": ""
                                            }
                                        },
                                        "scene": {
                                            "xaxis": {
                                                "backgroundcolor": "#E5ECF6",
                                                "gridcolor": "white",
                                                "gridwidth": 2,
                                                "linecolor": "white",
                                                "showbackground": true,
                                                "ticks": "",
                                                "zerolinecolor": "white"
                                            },
                                            "yaxis": {
                                                "backgroundcolor": "#E5ECF6",
                                                "gridcolor": "white",
                                                "gridwidth": 2,
                                                "linecolor": "white",
                                                "showbackground": true,
                                                "ticks": "",
                                                "zerolinecolor": "white"
                                            },
                                            "zaxis": {
                                                "backgroundcolor": "#E5ECF6",
                                                "gridcolor": "white",
                                                "gridwidth": 2,
                                                "linecolor": "white",
                                                "showbackground": true,
                                                "ticks": "",
                                                "zerolinecolor": "white"
                                            }
                                        },
                                        "shapedefaults": {
                                            "line": {
                                                "color": "#2a3f5f"
                                            }
                                        },
                                        "ternary": {
                                            "aaxis": {
                                                "gridcolor": "white",
                                                "linecolor": "white",
                                                "ticks": ""
                                            },
                                            "baxis": {
                                                "gridcolor": "white",
                                                "linecolor": "white",
                                                "ticks": ""
                                            },
                                            "bgcolor": "#E5ECF6",
                                            "caxis": {
                                                "gridcolor": "white",
                                                "linecolor": "white",
                                                "ticks": ""
                                            }
                                        },
                                        "title": {
                                            "x": 0.05
                                        },
                                        "xaxis": {
                                            "automargin": true,
                                            "gridcolor": "white",
                                            "linecolor": "white",
                                            "ticks": "",
                                            "title": {
                                                "standoff": 15
                                            },
                                            "zerolinecolor": "white",
                                            "zerolinewidth": 2
                                        },
                                        "yaxis": {
                                            "automargin": true,
                                            "gridcolor": "white",
                                            "linecolor": "white",
                                            "ticks": "",
                                            "title": {
                                                "standoff": 15
                                            },
                                            "zerolinecolor": "white",
                                            "zerolinewidth": 2
                                        }
                                    }
                                },
                                "title": {
                                    "text": "Azure SQL DB Diagnostic Category"
                                },
                                "xaxis": {
                                    "ticksuffix": "",
                                    "title": {
                                        "text": "count_"
                                    },
                                    "type": "linear"
                                },
                                "yaxis": {
                                    "title": {
                                        "text": "Category"
                                    },
                                    "type": "category"
                                }
                            }
                        }
                    },
                    "metadata": {}
                },
                {
                    "output_type": "display_data",
                    "data": {
                        "text/plain": "<IPython.core.display.HTML object>",
                        "text/html": "<html>\n        <head>\n            \n            \n        </head>\n        <body>\n            <div><p style='padding: 10px; color: #3a87ad; background-color: #d9edf7; border-color: #bce9f1'>Done&nbsp;(00:01.141):&nbsp;4&nbsp;records</p></div>\n        </body>\n        </html>"
                    },
                    "metadata": {}
                },
                {
                    "output_type": "execute_result",
                    "execution_count": 24,
                    "data": {
                        "text/plain": "[{'Category': 'SQLSecurityAuditEvents', 'count_': 237},\n {'Category': 'Errors', 'count_': 1},\n {'Category': 'QueryStoreWaitStatistics', 'count_': 8},\n {'Category': 'QueryStoreRuntimeStatistics', 'count_': 2}]",
                        "text/html": ""
                    },
                    "metadata": {}
                }
            ],
            "execution_count": 24
        },
        {
            "cell_type": "markdown",
            "source": [
                "## 3. Performance troubleshooting Query (from Azure Portal)\n",
                "\n",
                "Potentially a query or deadlock on the system that could lead to poor performance. The following is a query suggested by Azure Portal."
            ],
            "metadata": {
                "azdata_cell_guid": "3e2e80b4-88b4-494e-931e-15a4139389d7"
            }
        },
        {
            "cell_type": "code",
            "source": [
                "%%kql \r\n",
                "AzureMetrics\r\n",
                "| where ResourceProvider == \"MICROSOFT.SQL\"\r\n",
                "| where TimeGenerated >=ago(1d)\r\n",
                "| where MetricName in ('deadlock')\r\n",
                "| parse _ResourceId with * \"/microsoft.sql/servers/\" Resource // subtract Resource name for _ResourceId\r\n",
                "| summarize Deadlock_max_60Mins = max(Maximum) by Resource, MetricName"
            ],
            "metadata": {
                "azdata_cell_guid": "d7bc7a1e-c348-448b-af47-b310a0fe55e7"
            },
            "outputs": [
                {
                    "output_type": "display_data",
                    "data": {
                        "text/plain": "<IPython.core.display.HTML object>",
                        "text/html": "<html>\n        <head>\n            \n            \n        </head>\n        <body>\n            <div><p style='padding: 10px; color: #3a87ad; background-color: #d9edf7; border-color: #bce9f1'>&nbsp;*&nbsp;myLogAnalyticsWorkspace@loganalytics</p></div>\n        </body>\n        </html>"
                    },
                    "metadata": {}
                },
                {
                    "output_type": "display_data",
                    "data": {
                        "text/plain": "Empty DataFrame\nColumns: [Resource, MetricName, Deadlock_max_60Mins]\nIndex: []",
                        "text/html": "<div>\n<style scoped>\n    .dataframe tbody tr th:only-of-type {\n        vertical-align: middle;\n    }\n\n    .dataframe tbody tr th {\n        vertical-align: top;\n    }\n\n    .dataframe thead th {\n        text-align: right;\n    }\n</style>\n<table border=\"1\" class=\"dataframe\">\n  <thead>\n    <tr style=\"text-align: right;\">\n      <th></th>\n      <th>Resource</th>\n      <th>MetricName</th>\n      <th>Deadlock_max_60Mins</th>\n    </tr>\n  </thead>\n  <tbody>\n  </tbody>\n</table>\n</div>",
                        "application/vnd.dataresource+json": {
                            "schema": {
                                "fields": [
                                    {
                                        "name": "Resource",
                                        "type": "string"
                                    },
                                    {
                                        "name": "MetricName",
                                        "type": "string"
                                    },
                                    {
                                        "name": "Deadlock_max_60Mins",
                                        "type": "number"
                                    }
                                ],
                                "kqmagic_version": "0.1.113.post1"
                            },
                            "data": []
                        }
                    },
                    "metadata": {}
                },
                {
                    "output_type": "display_data",
                    "data": {
                        "text/plain": "<IPython.core.display.HTML object>",
                        "text/html": "<html>\n        <head>\n            \n            \n        </head>\n        <body>\n            <div><p style='padding: 10px; color: #3a87ad; background-color: #d9edf7; border-color: #bce9f1'>Done&nbsp;(00:01.174):&nbsp;0&nbsp;records</p></div>\n        </body>\n        </html>"
                    },
                    "metadata": {}
                },
                {
                    "output_type": "execute_result",
                    "execution_count": 27,
                    "data": {
                        "text/plain": "[]",
                        "text/html": ""
                    },
                    "metadata": {}
                }
            ],
            "execution_count": 27
        },
        {
            "cell_type": "markdown",
            "source": [
                "# AzureMetrics\r\n",
                "\r\n",
                "This is a sample query to dig into AzureMetrics"
            ],
            "metadata": {
                "azdata_cell_guid": "188a4592-423d-44b6-ad47-902101257761"
            }
        },
        {
            "cell_type": "code",
            "source": [
                "%%kql \r\n",
                "AzureMetrics\r\n",
                "| project-away TenantId, ResourceId, SubscriptionId, _ResourceId, ResourceGroup // Don't show sensitive columns :) \r\n",
                "| project TimeGenerated, MetricName, Total, Count, UnitName\r\n",
                "| take 10\r\n",
                ""
            ],
            "metadata": {
                "azdata_cell_guid": "1ac3f92f-b292-4c74-8020-47de93aebb6f"
            },
            "outputs": [
                {
                    "output_type": "display_data",
                    "data": {
                        "text/plain": "<IPython.core.display.HTML object>",
                        "text/html": "<html>\n        <head>\n            \n            \n        </head>\n        <body>\n            <div><p style='padding: 10px; color: #3a87ad; background-color: #d9edf7; border-color: #bce9f1'>&nbsp;*&nbsp;myLogAnalyticsWorkspace@loganalytics</p></div>\n        </body>\n        </html>"
                    },
                    "metadata": {}
                },
                {
                    "output_type": "display_data",
                    "data": {
                        "text/plain": "              TimeGenerated                  MetricName       Total  Count  \\\n0 2021-05-11 18:45:00+00:00                     storage  21430272.0    1.0   \n1 2021-05-11 18:45:00+00:00  physical_data_read_percent         0.0    4.0   \n2 2021-05-11 18:45:00+00:00                   dtu_limit        10.0    1.0   \n3 2021-05-11 18:45:00+00:00           log_write_percent         0.0    4.0   \n4 2021-05-11 18:45:00+00:00                 cpu_percent         0.0    4.0   \n5 2021-05-11 18:45:00+00:00     dtu_consumption_percent         0.0    4.0   \n6 2021-05-11 18:45:00+00:00         xtp_storage_percent         0.0    4.0   \n7 2021-05-11 18:45:00+00:00             workers_percent         0.0    4.0   \n8 2021-05-11 18:45:00+00:00       connection_successful         1.0    1.0   \n9 2021-05-11 18:45:00+00:00             storage_percent         0.0    1.0   \n\n  UnitName  \n0    Bytes  \n1  Percent  \n2    Count  \n3  Percent  \n4  Percent  \n5  Percent  \n6  Percent  \n7  Percent  \n8    Count  \n9  Percent  ",
                        "text/html": "<div>\n<style scoped>\n    .dataframe tbody tr th:only-of-type {\n        vertical-align: middle;\n    }\n\n    .dataframe tbody tr th {\n        vertical-align: top;\n    }\n\n    .dataframe thead th {\n        text-align: right;\n    }\n</style>\n<table border=\"1\" class=\"dataframe\">\n  <thead>\n    <tr style=\"text-align: right;\">\n      <th></th>\n      <th>TimeGenerated</th>\n      <th>MetricName</th>\n      <th>Total</th>\n      <th>Count</th>\n      <th>UnitName</th>\n    </tr>\n  </thead>\n  <tbody>\n    <tr>\n      <th>0</th>\n      <td>2021-05-11 18:45:00+00:00</td>\n      <td>storage</td>\n      <td>21430272.0</td>\n      <td>1.0</td>\n      <td>Bytes</td>\n    </tr>\n    <tr>\n      <th>1</th>\n      <td>2021-05-11 18:45:00+00:00</td>\n      <td>physical_data_read_percent</td>\n      <td>0.0</td>\n      <td>4.0</td>\n      <td>Percent</td>\n    </tr>\n    <tr>\n      <th>2</th>\n      <td>2021-05-11 18:45:00+00:00</td>\n      <td>dtu_limit</td>\n      <td>10.0</td>\n      <td>1.0</td>\n      <td>Count</td>\n    </tr>\n    <tr>\n      <th>3</th>\n      <td>2021-05-11 18:45:00+00:00</td>\n      <td>log_write_percent</td>\n      <td>0.0</td>\n      <td>4.0</td>\n      <td>Percent</td>\n    </tr>\n    <tr>\n      <th>4</th>\n      <td>2021-05-11 18:45:00+00:00</td>\n      <td>cpu_percent</td>\n      <td>0.0</td>\n      <td>4.0</td>\n      <td>Percent</td>\n    </tr>\n    <tr>\n      <th>5</th>\n      <td>2021-05-11 18:45:00+00:00</td>\n      <td>dtu_consumption_percent</td>\n      <td>0.0</td>\n      <td>4.0</td>\n      <td>Percent</td>\n    </tr>\n    <tr>\n      <th>6</th>\n      <td>2021-05-11 18:45:00+00:00</td>\n      <td>xtp_storage_percent</td>\n      <td>0.0</td>\n      <td>4.0</td>\n      <td>Percent</td>\n    </tr>\n    <tr>\n      <th>7</th>\n      <td>2021-05-11 18:45:00+00:00</td>\n      <td>workers_percent</td>\n      <td>0.0</td>\n      <td>4.0</td>\n      <td>Percent</td>\n    </tr>\n    <tr>\n      <th>8</th>\n      <td>2021-05-11 18:45:00+00:00</td>\n      <td>connection_successful</td>\n      <td>1.0</td>\n      <td>1.0</td>\n      <td>Count</td>\n    </tr>\n    <tr>\n      <th>9</th>\n      <td>2021-05-11 18:45:00+00:00</td>\n      <td>storage_percent</td>\n      <td>0.0</td>\n      <td>1.0</td>\n      <td>Percent</td>\n    </tr>\n  </tbody>\n</table>\n</div>",
                        "application/vnd.dataresource+json": {
                            "schema": {
                                "fields": [
                                    {
                                        "name": "TimeGenerated",
                                        "type": "datetime",
                                        "tz": "UTC"
                                    },
                                    {
                                        "name": "MetricName",
                                        "type": "string"
                                    },
                                    {
                                        "name": "Total",
                                        "type": "number"
                                    },
                                    {
                                        "name": "Count",
                                        "type": "number"
                                    },
                                    {
                                        "name": "UnitName",
                                        "type": "string"
                                    }
                                ],
                                "kqmagic_version": "0.1.113.post1"
                            },
                            "data": [
                                {
                                    "TimeGenerated": "2021-05-11T18:45:00.000Z",
                                    "MetricName": "storage",
                                    "Total": 21430272,
                                    "Count": 1,
                                    "UnitName": "Bytes"
                                },
                                {
                                    "TimeGenerated": "2021-05-11T18:45:00.000Z",
                                    "MetricName": "physical_data_read_percent",
                                    "Total": 0,
                                    "Count": 4,
                                    "UnitName": "Percent"
                                },
                                {
                                    "TimeGenerated": "2021-05-11T18:45:00.000Z",
                                    "MetricName": "dtu_limit",
                                    "Total": 10,
                                    "Count": 1,
                                    "UnitName": "Count"
                                },
                                {
                                    "TimeGenerated": "2021-05-11T18:45:00.000Z",
                                    "MetricName": "log_write_percent",
                                    "Total": 0,
                                    "Count": 4,
                                    "UnitName": "Percent"
                                },
                                {
                                    "TimeGenerated": "2021-05-11T18:45:00.000Z",
                                    "MetricName": "cpu_percent",
                                    "Total": 0,
                                    "Count": 4,
                                    "UnitName": "Percent"
                                },
                                {
                                    "TimeGenerated": "2021-05-11T18:45:00.000Z",
                                    "MetricName": "dtu_consumption_percent",
                                    "Total": 0,
                                    "Count": 4,
                                    "UnitName": "Percent"
                                },
                                {
                                    "TimeGenerated": "2021-05-11T18:45:00.000Z",
                                    "MetricName": "xtp_storage_percent",
                                    "Total": 0,
                                    "Count": 4,
                                    "UnitName": "Percent"
                                },
                                {
                                    "TimeGenerated": "2021-05-11T18:45:00.000Z",
                                    "MetricName": "workers_percent",
                                    "Total": 0,
                                    "Count": 4,
                                    "UnitName": "Percent"
                                },
                                {
                                    "TimeGenerated": "2021-05-11T18:45:00.000Z",
                                    "MetricName": "connection_successful",
                                    "Total": 1,
                                    "Count": 1,
                                    "UnitName": "Count"
                                },
                                {
                                    "TimeGenerated": "2021-05-11T18:45:00.000Z",
                                    "MetricName": "storage_percent",
                                    "Total": 0,
                                    "Count": 1,
                                    "UnitName": "Percent"
                                }
                            ]
                        }
                    },
                    "metadata": {}
                },
                {
                    "output_type": "display_data",
                    "data": {
                        "text/plain": "<IPython.core.display.HTML object>",
                        "text/html": "<html>\n        <head>\n            \n            \n        </head>\n        <body>\n            <div><p style='padding: 10px; color: #3a87ad; background-color: #d9edf7; border-color: #bce9f1'>Done&nbsp;(00:00.317):&nbsp;10&nbsp;records</p></div>\n        </body>\n        </html>"
                    },
                    "metadata": {}
                },
                {
                    "output_type": "execute_result",
                    "execution_count": 28,
                    "data": {
                        "text/plain": "[{'TimeGenerated': datetime.datetime(2021, 5, 11, 18, 45, tzinfo=tzutc()), 'MetricName': 'storage', 'Total': 21430272, 'Count': 1, 'UnitName': 'Bytes'},\n {'TimeGenerated': datetime.datetime(2021, 5, 11, 18, 45, tzinfo=tzutc()), 'MetricName': 'physical_data_read_percent', 'Total': 0, 'Count': 4, 'UnitName': 'Percent'},\n {'TimeGenerated': datetime.datetime(2021, 5, 11, 18, 45, tzinfo=tzutc()), 'MetricName': 'dtu_limit', 'Total': 10, 'Count': 1, 'UnitName': 'Count'},\n {'TimeGenerated': datetime.datetime(2021, 5, 11, 18, 45, tzinfo=tzutc()), 'MetricName': 'log_write_percent', 'Total': 0, 'Count': 4, 'UnitName': 'Percent'},\n {'TimeGenerated': datetime.datetime(2021, 5, 11, 18, 45, tzinfo=tzutc()), 'MetricName': 'cpu_percent', 'Total': 0, 'Count': 4, 'UnitName': 'Percent'},\n {'TimeGenerated': datetime.datetime(2021, 5, 11, 18, 45, tzinfo=tzutc()), 'MetricName': 'dtu_consumption_percent', 'Total': 0, 'Count': 4, 'UnitName': 'Percent'},\n {'TimeGenerated': datetime.datetime(2021, 5, 11, 18, 45, tzinfo=tzutc()), 'MetricName': 'xtp_storage_percent', 'Total': 0, 'Count': 4, 'UnitName': 'Percent'},\n {'TimeGenerated': datetime.datetime(2021, 5, 11, 18, 45, tzinfo=tzutc()), 'MetricName': 'workers_percent', 'Total': 0, 'Count': 4, 'UnitName': 'Percent'},\n {'TimeGenerated': datetime.datetime(2021, 5, 11, 18, 45, tzinfo=tzutc()), 'MetricName': 'connection_successful', 'Total': 1, 'Count': 1, 'UnitName': 'Count'},\n {'TimeGenerated': datetime.datetime(2021, 5, 11, 18, 45, tzinfo=tzutc()), 'MetricName': 'storage_percent', 'Total': 0, 'Count': 1, 'UnitName': 'Percent'}]",
                        "text/html": ""
                    },
                    "metadata": {}
                }
            ],
            "execution_count": 28
        },
        {
            "cell_type": "markdown",
            "source": [
                "# AzureDiagnostics\n",
                "\n",
                "This is a sample query to dig into AzureDiagnostics. This table tends to have more details than AzureMetrics."
            ],
            "metadata": {
                "azdata_cell_guid": "b7d842a1-4228-48c8-ab44-126adf65d1ed"
            }
        },
        {
            "cell_type": "code",
            "source": [
                "%%kql \r\n",
                "AzureDiagnostics\r\n",
                "| project-away TenantId, ResourceId, SubscriptionId, ResourceGroup, _ResourceId // Don't show sensitive columns :) \r\n",
                "| take 10"
            ],
            "metadata": {
                "azdata_cell_guid": "310413ed-93a0-4f80-ad80-9f7cd3e862da"
            },
            "outputs": [
                {
                    "output_type": "display_data",
                    "data": {
                        "text/plain": "<IPython.core.display.HTML object>",
                        "text/html": "<html>\n        <head>\n            \n            \n        </head>\n        <body>\n            <div><p style='padding: 10px; color: #3a87ad; background-color: #d9edf7; border-color: #bce9f1'>&nbsp;*&nbsp;myLogAnalyticsWorkspace@loganalytics</p></div>\n        </body>\n        </html>"
                    },
                    "metadata": {}
                },
                {
                    "output_type": "display_data",
                    "data": {
                        "text/plain": "                     TimeGenerated                  Category ResourceProvider  \\\n0 2021-05-11 18:34:32.288000+00:00    SQLSecurityAuditEvents    MICROSOFT.SQL   \n1 2021-05-11 19:01:10.612000+00:00    SQLSecurityAuditEvents    MICROSOFT.SQL   \n2 2021-05-11 18:44:56.021000+00:00                    Errors    MICROSOFT.SQL   \n3 2021-05-11 18:45:55.469000+00:00  QueryStoreWaitStatistics    MICROSOFT.SQL   \n4 2021-05-11 18:45:55.469000+00:00  QueryStoreWaitStatistics    MICROSOFT.SQL   \n5 2021-05-11 18:45:55.469000+00:00  QueryStoreWaitStatistics    MICROSOFT.SQL   \n6 2021-05-11 18:45:55.469000+00:00  QueryStoreWaitStatistics    MICROSOFT.SQL   \n7 2021-05-11 18:45:55.469000+00:00  QueryStoreWaitStatistics    MICROSOFT.SQL   \n8 2021-05-11 18:45:55.469000+00:00  QueryStoreWaitStatistics    MICROSOFT.SQL   \n9 2021-05-11 18:45:55.469000+00:00  QueryStoreWaitStatistics    MICROSOFT.SQL   \n\n               Resource       ResourceType                  OperationName  \\\n0                MASTER  SERVERS/DATABASES                     AuditEvent   \n1                MASTER  SERVERS/DATABASES                     AuditEvent   \n2  SQLALERTDEMODATABASE  SERVERS/DATABASES                     ErrorEvent   \n3  SQLALERTDEMODATABASE  SERVERS/DATABASES  QueryStoreWaitStatisticsEvent   \n4  SQLALERTDEMODATABASE  SERVERS/DATABASES  QueryStoreWaitStatisticsEvent   \n5  SQLALERTDEMODATABASE  SERVERS/DATABASES  QueryStoreWaitStatisticsEvent   \n6  SQLALERTDEMODATABASE  SERVERS/DATABASES  QueryStoreWaitStatisticsEvent   \n7  SQLALERTDEMODATABASE  SERVERS/DATABASES  QueryStoreWaitStatisticsEvent   \n8  SQLALERTDEMODATABASE  SERVERS/DATABASES  QueryStoreWaitStatisticsEvent   \n9  SQLALERTDEMODATABASE  SERVERS/DATABASES  QueryStoreWaitStatisticsEvent   \n\n  ResultType CorrelationId ResultDescription Tenant_g JobId_g RunbookName_s  \\\n0                                                                             \n1                                                                             \n2                                                                             \n3                                                                             \n4                                                                             \n5                                                                             \n6                                                                             \n7                                                                             \n8                                                                             \n9                                                                             \n\n  StreamType_s Caller_s requestUri_s Level  DurationMs CallerIPAddress  \\\n0                                                  NaN                   \n1                                                  NaN                   \n2                                                  NaN                   \n3                                                  NaN                   \n4                                                  NaN                   \n5                                                  NaN                   \n6                                                  NaN                   \n7                                                  NaN                   \n8                                                  NaN                   \n9                                                  NaN                   \n\n  OperationVersion ResultSignature id_s status_s LogicalServerName_s  \\\n0                                                 sqlalertdemoserver   \n1                                                 sqlalertdemoserver   \n2                                                 sqlalertdemoserver   \n3                                                 sqlalertdemoserver   \n4                                                 sqlalertdemoserver   \n5                                                 sqlalertdemoserver   \n6                                                 sqlalertdemoserver   \n7                                                 sqlalertdemoserver   \n8                                                 sqlalertdemoserver   \n9                                                 sqlalertdemoserver   \n\n                                         Message clientInfo_s  \\\n0                                                               \n1                                                               \n2  Invalid object name 'sys.dm_os_windows_info'.                \n3                                                               \n4                                                               \n5                                                               \n6                                                               \n7                                                               \n8                                                               \n9                                                               \n\n   httpStatusCode_d identity_claim_appid_g  \\\n0               NaN                          \n1               NaN                          \n2               NaN                          \n3               NaN                          \n4               NaN                          \n5               NaN                          \n6               NaN                          \n7               NaN                          \n8               NaN                          \n9               NaN                          \n\n  identity_claim_http_schemas_microsoft_com_identity_claims_objectidentifier_g  \\\n0                                                                                \n1                                                                                \n2                                                                                \n3                                                                                \n4                                                                                \n5                                                                                \n6                                                                                \n7                                                                                \n8                                                                                \n9                                                                                \n\n  userAgent_s ruleName_s  \\\n0                          \n1                          \n2                          \n3                          \n4                          \n5                          \n6                          \n7                          \n8                          \n9                          \n\n  identity_claim_http_schemas_xmlsoap_org_ws_2005_05_identity_claims_upn_s  \\\n0                                                                            \n1                                                                            \n2                                                                            \n3                                                                            \n4                                                                            \n5                                                                            \n6                                                                            \n7                                                                            \n8                                                                            \n9                                                                            \n\n  systemId_g isAccessPolicyMatch_b EventName_s httpMethod_s subnetId_s type_s  \\\n0                             None                                              \n1                             None                                              \n2                             None                                              \n3                             None                                              \n4                             None                                              \n5                             None                                              \n6                             None                                              \n7                             None                                              \n8                             None                                              \n9                             None                                              \n\n  instanceId_s macAddress_s vnetResourceGuid_g direction_s subnetPrefix_s  \\\n0                                                                           \n1                                                                           \n2                                                                           \n3                                                                           \n4                                                                           \n5                                                                           \n6                                                                           \n7                                                                           \n8                                                                           \n9                                                                           \n\n  primaryIPv4Address_s conditions_sourcePortRange_s  priority_d  \\\n0                                                           NaN   \n1                                                           NaN   \n2                                                           NaN   \n3                                                           NaN   \n4                                                           NaN   \n5                                                           NaN   \n6                                                           NaN   \n7                                                           NaN   \n8                                                           NaN   \n9                                                           NaN   \n\n  conditions_destinationPortRange_s conditions_destinationIP_s  \\\n0                                                                \n1                                                                \n2                                                                \n3                                                                \n4                                                                \n5                                                                \n6                                                                \n7                                                                \n8                                                                \n9                                                                \n\n  conditions_None_s conditions_sourceIP_s httpVersion_s  matchedConnections_d  \\\n0                                                                         NaN   \n1                                                                         NaN   \n2                                                                         NaN   \n3                                                                         NaN   \n4                                                                         NaN   \n5                                                                         NaN   \n6                                                                         NaN   \n7                                                                         NaN   \n8                                                                         NaN   \n9                                                                         NaN   \n\n  startTime_t endTime_t        DatabaseName_s clientIP_s host_s  \\\n0         NaT       NaT                                           \n1         NaT       NaT                                           \n2         NaT       NaT  sqlalertdemodatabase                     \n3         NaT       NaT  sqlalertdemodatabase                     \n4         NaT       NaT  sqlalertdemodatabase                     \n5         NaT       NaT  sqlalertdemodatabase                     \n6         NaT       NaT  sqlalertdemodatabase                     \n7         NaT       NaT  sqlalertdemodatabase                     \n8         NaT       NaT  sqlalertdemodatabase                     \n9         NaT       NaT  sqlalertdemodatabase                     \n\n  requestQuery_s sslEnabled_s  clientPort_d  httpStatus_d  receivedBytes_d  \\\n0                                       NaN           NaN              NaN   \n1                                       NaN           NaN              NaN   \n2                                       NaN           NaN              NaN   \n3                                       NaN           NaN              NaN   \n4                                       NaN           NaN              NaN   \n5                                       NaN           NaN              NaN   \n6                                       NaN           NaN              NaN   \n7                                       NaN           NaN              NaN   \n8                                       NaN           NaN              NaN   \n9                                       NaN           NaN              NaN   \n\n   sentBytes_d  timeTaken_d resultDescription_ErrorJobs_s  \\\n0          NaN          NaN                                 \n1          NaN          NaN                                 \n2          NaN          NaN                                 \n3          NaN          NaN                                 \n4          NaN          NaN                                 \n5          NaN          NaN                                 \n6          NaN          NaN                                 \n7          NaN          NaN                                 \n8          NaN          NaN                                 \n9          NaN          NaN                                 \n\n  resultDescription_ChildJobs_s  \\\n0                                 \n1                                 \n2                                 \n3                                 \n4                                 \n5                                 \n6                                 \n7                                 \n8                                 \n9                                 \n\n  identity_claim_http_schemas_microsoft_com_identity_claims_scope_s  \\\n0                                                                     \n1                                                                     \n2                                                                     \n3                                                                     \n4                                                                     \n5                                                                     \n6                                                                     \n7                                                                     \n8                                                                     \n9                                                                     \n\n  workflowId_s resource_location_s resource_workflowId_g  \\\n0                                                          \n1                                                          \n2                                                          \n3                                                          \n4                                                          \n5                                                          \n6                                                          \n7                                                          \n8                                                          \n9                                                          \n\n  resource_resourceGroupName_s resource_subscriptionId_g resource_runId_s  \\\n0                                                                           \n1                                                                           \n2                                                                           \n3                                                                           \n4                                                                           \n5                                                                           \n6                                                                           \n7                                                                           \n8                                                                           \n9                                                                           \n\n  resource_workflowName_s _schema_s correlation_clientTrackingId_s  \\\n0                                                                    \n1                                                                    \n2                                                                    \n3                                                                    \n4                                                                    \n5                                                                    \n6                                                                    \n7                                                                    \n8                                                                    \n9                                                                    \n\n  properties_sku_Family_s properties_sku_Name_s properties_tenantId_g  \\\n0                                                                       \n1                                                                       \n2                                                                       \n3                                                                       \n4                                                                       \n5                                                                       \n6                                                                       \n7                                                                       \n8                                                                       \n9                                                                       \n\n  properties_enabledForDeployment_b code_s  \\\n0                              None          \n1                              None          \n2                              None          \n3                              None          \n4                              None          \n5                              None          \n6                              None          \n7                              None          \n8                              None          \n9                              None          \n\n  resultDescription_Summary_MachineId_s  \\\n0                                         \n1                                         \n2                                         \n3                                         \n4                                         \n5                                         \n6                                         \n7                                         \n8                                         \n9                                         \n\n  resultDescription_Summary_ScheduleName_s resultDescription_Summary_Status_s  \\\n0                                                                               \n1                                                                               \n2                                                                               \n3                                                                               \n4                                                                               \n5                                                                               \n6                                                                               \n7                                                                               \n8                                                                               \n9                                                                               \n\n  resultDescription_Summary_StatusDescription_s  \\\n0                                                 \n1                                                 \n2                                                 \n3                                                 \n4                                                 \n5                                                 \n6                                                 \n7                                                 \n8                                                 \n9                                                 \n\n  resultDescription_Summary_MachineName_s  \\\n0                                           \n1                                           \n2                                           \n3                                           \n4                                           \n5                                           \n6                                           \n7                                           \n8                                           \n9                                           \n\n   resultDescription_Summary_TotalUpdatesInstalled_d  \\\n0                                                NaN   \n1                                                NaN   \n2                                                NaN   \n3                                                NaN   \n4                                                NaN   \n5                                                NaN   \n6                                                NaN   \n7                                                NaN   \n8                                                NaN   \n9                                                NaN   \n\n  resultDescription_Summary_RebootRequired_b  \\\n0                                       None   \n1                                       None   \n2                                       None   \n3                                       None   \n4                                       None   \n5                                       None   \n6                                       None   \n7                                       None   \n8                                       None   \n9                                       None   \n\n   resultDescription_Summary_TotalUpdatesFailed_d  \\\n0                                             NaN   \n1                                             NaN   \n2                                             NaN   \n3                                             NaN   \n4                                             NaN   \n5                                             NaN   \n6                                             NaN   \n7                                             NaN   \n8                                             NaN   \n9                                             NaN   \n\n   resultDescription_Summary_InstallPercentage_d  \\\n0                                            NaN   \n1                                            NaN   \n2                                            NaN   \n3                                            NaN   \n4                                            NaN   \n5                                            NaN   \n6                                            NaN   \n7                                            NaN   \n8                                            NaN   \n9                                            NaN   \n\n  resultDescription_Summary_StartDateTimeUtc_t resource_triggerName_s  \\\n0                                          NaT                          \n1                                          NaT                          \n2                                          NaT                          \n3                                          NaT                          \n4                                          NaT                          \n5                                          NaT                          \n6                                          NaT                          \n7                                          NaT                          \n8                                          NaT                          \n9                                          NaT                          \n\n   resultDescription_Summary_InitialRequiredUpdatesCount_d  \\\n0                                                NaN         \n1                                                NaN         \n2                                                NaN         \n3                                                NaN         \n4                                                NaN         \n5                                                NaN         \n6                                                NaN         \n7                                                NaN         \n8                                                NaN         \n9                                                NaN         \n\n  properties_enabledForTemplateDeployment_b  \\\n0                                      None   \n1                                      None   \n2                                      None   \n3                                      None   \n4                                      None   \n5                                      None   \n6                                      None   \n7                                      None   \n8                                      None   \n9                                      None   \n\n  resultDescription_Summary_EndDateTimeUtc_s  \\\n0                                              \n1                                              \n2                                              \n3                                              \n4                                              \n5                                              \n6                                              \n7                                              \n8                                              \n9                                              \n\n  resultDescription_Summary_DurationInMinutes_s resource_originRunId_s  \\\n0                                                                        \n1                                                                        \n2                                                                        \n3                                                                        \n4                                                                        \n5                                                                        \n6                                                                        \n7                                                                        \n8                                                                        \n9                                                                        \n\n  properties_enabledForDiskEncryption_b resource_actionName_s  \\\n0                                  None                         \n1                                  None                         \n2                                  None                         \n3                                  None                         \n4                                  None                         \n5                                  None                         \n6                                  None                         \n7                                  None                         \n8                                  None                         \n9                                  None                         \n\n  correlation_actionTrackingId_g resultDescription_Summary_EndDateTimeUtc_t  \\\n0                                                                       NaT   \n1                                                                       NaT   \n2                                                                       NaT   \n3                                                                       NaT   \n4                                                                       NaT   \n5                                                                       NaT   \n6                                                                       NaT   \n7                                                                       NaT   \n8                                                                       NaT   \n9                                                                       NaT   \n\n   resultDescription_Summary_DurationInMinutes_d conditions_protocols_s  \\\n0                                            NaN                          \n1                                            NaN                          \n2                                            NaN                          \n3                                            NaN                          \n4                                            NaN                          \n5                                            NaN                          \n6                                            NaN                          \n7                                            NaN                          \n8                                            NaN                          \n9                                            NaN                          \n\n  identity_claim_ipaddr_s ElasticPoolName_s  \\\n0                                             \n1                                             \n2                                             \n3                                             \n4                                             \n5                                             \n6                                             \n7                                             \n8                                             \n9                                             \n\n  identity_claim_http_schemas_microsoft_com_claims_authnmethodsreferences_s  \\\n0                                                                             \n1                                                                             \n2                                                                             \n3                                                                             \n4                                                                             \n5                                                                             \n6                                                                             \n7                                                                             \n8                                                                             \n9                                                                             \n\n  RunOn_s        query_hash_s SourceSystem MG ManagementGroupName Computer  \\\n0                                    Azure                                   \n1                                    Azure                                   \n2                           0        Azure                                   \n3          0x3D251D2A95CEE0FA        Azure                                   \n4          0x3D251D2A95CEE0FA        Azure                                   \n5          0x3D251D2A95CEE0FA        Azure                                   \n6          0x3D251D2A95CEE0FA        Azure                                   \n7          0x4E8C0B5AF78C4ED1        Azure                                   \n8          0x4E8C0B5AF78C4ED1        Azure                                   \n9          0x4E8C0B5AF78C4ED1        Azure                                   \n\n  RawData  exec_type_d wait_category_s  total_query_wait_time_ms_d  \\\n0                  NaN                                         NaN   \n1                  NaN                                         NaN   \n2                  NaN                                         NaN   \n3                  0.0         UNKNOWN                       432.0   \n4                  0.0             CPU                       345.0   \n5                  0.0        BUFFERIO                       108.0   \n6                  0.0          MEMORY                         1.0   \n7                  0.0         UNKNOWN                       105.0   \n8                  0.0             CPU                       128.0   \n9                  0.0        BUFFERIO                      2879.0   \n\n   max_query_wait_time_ms_d is_parameterizable_s statement_type_s  \\\n0                       NaN                                         \n1                       NaN                                         \n2                       NaN                                         \n3                     432.0                false    x_estypSelect   \n4                     345.0                false    x_estypSelect   \n5                     108.0                false    x_estypSelect   \n6                       1.0                false    x_estypSelect   \n7                     105.0                false    x_estypSelect   \n8                     128.0                false    x_estypSelect   \n9                    2879.0                false    x_estypSelect   \n\n  statement_key_hash_s  query_param_type_d  interval_start_time_d  \\\n0                                      NaN                    NaN   \n1                                      NaN                    NaN   \n2                                      NaN                    NaN   \n3           1191285308                 1.0           1.903744e+14   \n4           1191285308                 1.0           1.903744e+14   \n5           1191285308                 1.0           1.903744e+14   \n6           1191285308                 1.0           1.903744e+14   \n7           2744282586                 1.0           1.903744e+14   \n8           2744282586                 1.0           1.903744e+14   \n9           2744282586                 1.0           1.903744e+14   \n\n   interval_end_time_d  logical_io_writes_d  max_logical_io_writes_d  \\\n0                  NaN                  NaN                      NaN   \n1                  NaN                  NaN                      NaN   \n2                  NaN                  NaN                      NaN   \n3         1.903744e+14                  NaN                      NaN   \n4         1.903744e+14                  NaN                      NaN   \n5         1.903744e+14                  NaN                      NaN   \n6         1.903744e+14                  NaN                      NaN   \n7         1.903744e+14                  NaN                      NaN   \n8         1.903744e+14                  NaN                      NaN   \n9         1.903744e+14                  NaN                      NaN   \n\n   physical_io_reads_d  max_physical_io_reads_d  logical_io_reads_d  \\\n0                  NaN                      NaN                 NaN   \n1                  NaN                      NaN                 NaN   \n2                  NaN                      NaN                 NaN   \n3                  NaN                      NaN                 NaN   \n4                  NaN                      NaN                 NaN   \n5                  NaN                      NaN                 NaN   \n6                  NaN                      NaN                 NaN   \n7                  NaN                      NaN                 NaN   \n8                  NaN                      NaN                 NaN   \n9                  NaN                      NaN                 NaN   \n\n   max_logical_io_reads_d  execution_type_d  count_executions_d  cpu_time_d  \\\n0                     NaN               NaN                 NaN         NaN   \n1                     NaN               NaN                 NaN         NaN   \n2                     NaN               NaN                 NaN         NaN   \n3                     NaN               NaN                 1.0         NaN   \n4                     NaN               NaN                 1.0         NaN   \n5                     NaN               NaN                 1.0         NaN   \n6                     NaN               NaN                 1.0         NaN   \n7                     NaN               NaN                 1.0         NaN   \n8                     NaN               NaN                 1.0         NaN   \n9                     NaN               NaN                 1.0         NaN   \n\n   max_cpu_time_d  dop_d  max_dop_d  rowcount_d  max_rowcount_d  \\\n0             NaN    NaN        NaN         NaN             NaN   \n1             NaN    NaN        NaN         NaN             NaN   \n2             NaN    NaN        NaN         NaN             NaN   \n3             NaN    NaN        NaN         NaN             NaN   \n4             NaN    NaN        NaN         NaN             NaN   \n5             NaN    NaN        NaN         NaN             NaN   \n6             NaN    NaN        NaN         NaN             NaN   \n7             NaN    NaN        NaN         NaN             NaN   \n8             NaN    NaN        NaN         NaN             NaN   \n9             NaN    NaN        NaN         NaN             NaN   \n\n   query_max_used_memory_d  max_query_max_used_memory_d  duration_d  \\\n0                      NaN                          NaN         NaN   \n1                      NaN                          NaN         NaN   \n2                      NaN                          NaN         NaN   \n3                      NaN                          NaN         NaN   \n4                      NaN                          NaN         NaN   \n5                      NaN                          NaN         NaN   \n6                      NaN                          NaN         NaN   \n7                      NaN                          NaN         NaN   \n8                      NaN                          NaN         NaN   \n9                      NaN                          NaN         NaN   \n\n   max_duration_d  num_physical_io_reads_d  max_num_physical_io_reads_d  \\\n0             NaN                      NaN                          NaN   \n1             NaN                      NaN                          NaN   \n2             NaN                      NaN                          NaN   \n3             NaN                      NaN                          NaN   \n4             NaN                      NaN                          NaN   \n5             NaN                      NaN                          NaN   \n6             NaN                      NaN                          NaN   \n7             NaN                      NaN                          NaN   \n8             NaN                      NaN                          NaN   \n9             NaN                      NaN                          NaN   \n\n   log_bytes_used_d  max_log_bytes_used_d  query_id_d  plan_id_d  \\\n0               NaN                   NaN         NaN        NaN   \n1               NaN                   NaN         NaN        NaN   \n2               NaN                   NaN         NaN        NaN   \n3               NaN                   NaN        38.0        1.0   \n4               NaN                   NaN        38.0        1.0   \n5               NaN                   NaN        38.0        1.0   \n6               NaN                   NaN        38.0        1.0   \n7               NaN                   NaN        40.0        2.0   \n8               NaN                   NaN        40.0        2.0   \n9               NaN                   NaN        40.0        2.0   \n\n                              statement_sql_handle_s   query_plan_hash_s  \\\n0                                                                          \n1                                                                          \n2                                                                      0   \n3  0x0900769CEE691C933F258772430BD1146CFF00000000...  0xBF28FE55E8A5616A   \n4  0x0900769CEE691C933F258772430BD1146CFF00000000...  0xBF28FE55E8A5616A   \n5  0x0900769CEE691C933F258772430BD1146CFF00000000...  0xBF28FE55E8A5616A   \n6  0x0900769CEE691C933F258772430BD1146CFF00000000...  0xBF28FE55E8A5616A   \n7  0x0900C6D4FC50EF5B4E298DBE4E3A7EA7911F00000000...  0x132EFB64A54855E5   \n8  0x0900C6D4FC50EF5B4E298DBE4E3A7EA7911F00000000...  0x132EFB64A54855E5   \n9  0x0900C6D4FC50EF5B4E298DBE4E3A7EA7911F00000000...  0x132EFB64A54855E5   \n\n   error_number_d  Severity user_defined_b  state_d  \\\n0             NaN       NaN           None      NaN   \n1             NaN       NaN           None      NaN   \n2           208.0      16.0          False      1.0   \n3             NaN       NaN           None      NaN   \n4             NaN       NaN           None      NaN   \n5             NaN       NaN           None      NaN   \n6             NaN       NaN           None      NaN   \n7             NaN       NaN           None      NaN   \n8             NaN       NaN           None      NaN   \n9             NaN       NaN           None      NaN   \n\n          originalEventTimestamp_t  audit_schema_version_d  \\\n0 2021-05-11 18:34:32.285000+00:00                     1.0   \n1 2021-05-11 19:01:10.612000+00:00                     1.0   \n2                              NaT                     NaN   \n3                              NaT                     NaN   \n4                              NaT                     NaN   \n5                              NaT                     NaN   \n6                              NaT                     NaN   \n7                              NaT                     NaN   \n8                              NaT                     NaN   \n9                              NaT                     NaN   \n\n                      event_time_t  sequence_number_d action_id_s  \\\n0 2021-05-11 18:34:31.303000+00:00                1.0        AUSC   \n1 2021-05-11 19:01:09.596000+00:00                1.0        AUSC   \n2                              NaT                NaN               \n3                              NaT                NaN               \n4                              NaT                NaN               \n5                              NaT                NaN               \n6                              NaT                NaN               \n7                              NaT                NaN               \n8                              NaT                NaN               \n9                              NaT                NaN               \n\n           action_name_s succeeded_s is_column_permission_s  session_id_d  \\\n0  AUDIT SESSION CHANGED        true                  false          58.0   \n1  AUDIT SESSION CHANGED        true                  false          58.0   \n2                                                                     NaN   \n3                                                                     NaN   \n4                                                                     NaN   \n5                                                                     NaN   \n6                                                                     NaN   \n7                                                                     NaN   \n8                                                                     NaN   \n9                                                                     NaN   \n\n   server_principal_id_d  database_principal_id_d  \\\n0                  268.0                      0.0   \n1                    1.0                      0.0   \n2                    NaN                      NaN   \n3                    NaN                      NaN   \n4                    NaN                      NaN   \n5                    NaN                      NaN   \n6                    NaN                      NaN   \n7                    NaN                      NaN   \n8                    NaN                      NaN   \n9                    NaN                      NaN   \n\n   target_server_principal_id_d  target_database_principal_id_d  object_id_d  \\\n0                           0.0                             0.0          0.0   \n1                           0.0                             0.0          0.0   \n2                           NaN                             NaN          NaN   \n3                           NaN                             NaN          NaN   \n4                           NaN                             NaN          NaN   \n5                           NaN                             NaN          NaN   \n6                           NaN                             NaN          NaN   \n7                           NaN                             NaN          NaN   \n8                           NaN                             NaN          NaN   \n9                           NaN                             NaN          NaN   \n\n   user_defined_event_id_d  transaction_id_d class_type_s  \\\n0                      0.0               0.0           A    \n1                      0.0               0.0           A    \n2                      NaN               NaN                \n3                      NaN               NaN                \n4                      NaN               NaN                \n5                      NaN               NaN                \n6                      NaN               NaN                \n7                      NaN               NaN                \n8                      NaN               NaN                \n9                      NaN               NaN                \n\n  class_type_description_s securable_class_type_s  duration_milliseconds_d  \\\n0             SERVER AUDIT                 SERVER                      0.0   \n1             SERVER AUDIT                 SERVER                      0.0   \n2                                                                      NaN   \n3                                                                      NaN   \n4                                                                      NaN   \n5                                                                      NaN   \n6                                                                      NaN   \n7                                                                      NaN   \n8                                                                      NaN   \n9                                                                      NaN   \n\n   response_rows_d  affected_rows_d  client_tls_version_d client_ip_s  \\\n0              0.0              0.0                   0.0    Internal   \n1              0.0              0.0                   0.0     Unknown   \n2              NaN              NaN                   NaN               \n3              NaN              NaN                   NaN               \n4              NaN              NaN                   NaN               \n5              NaN              NaN                   NaN               \n6              NaN              NaN                   NaN               \n7              NaN              NaN                   NaN               \n8              NaN              NaN                   NaN               \n9              NaN              NaN                   NaN               \n\n                   permission_bitmask_g                   sequence_group_id_g  \\\n0  00000000-0000-0000-0000-000000000000  00000000-0000-0000-0000-000000000000   \n1  00000000-0000-0000-0000-000000000000  00000000-0000-0000-0000-000000000000   \n2                                                                               \n3                                                                               \n4                                                                               \n5                                                                               \n6                                                                               \n7                                                                               \n8                                                                               \n9                                                                               \n\n  session_server_principal_name_s server_principal_name_s  \\\n0             NT AUTHORITY\\SYSTEM     NT AUTHORITY\\SYSTEM   \n1                                                      sa   \n2                                                           \n3                                                           \n4                                                           \n5                                                           \n6                                                           \n7                                                           \n8                                                           \n9                                                           \n\n     server_principal_sid_s database_principal_name_s  \\\n0  010100000000000512000000                             \n1                        01                             \n2                                                       \n3                                                       \n4                                                       \n5                                                       \n6                                                       \n7                                                       \n8                                                       \n9                                                       \n\n  target_server_principal_name_s target_server_principal_sid_s  \\\n0                                                                \n1                                                                \n2                                                                \n3                                                                \n4                                                                \n5                                                                \n6                                                                \n7                                                                \n8                                                                \n9                                                                \n\n  target_database_principal_name_s server_instance_name_s database_name_s  \\\n0                                      sqlalertdemoserver                   \n1                                      sqlalertdemoserver                   \n2                                                                           \n3                                                                           \n4                                                                           \n5                                                                           \n6                                                                           \n7                                                                           \n8                                                                           \n9                                                                           \n\n  schema_name_s object_name_s statement_s  \\\n0                                           \n1                                           \n2                                           \n3                                           \n4                                           \n5                                           \n6                                           \n7                                           \n8                                           \n9                                           \n\n                            additional_information_s  \\\n0  <action_info xmlns=\"http://schemas.microsoft.c...   \n1  <action_info xmlns=\"http://schemas.microsoft.c...   \n2                                                      \n3                                                      \n4                                                      \n5                                                      \n6                                                      \n7                                                      \n8                                                      \n9                                                      \n\n  user_defined_information_s application_name_s  \\\n0                                      Internal   \n1                                                 \n2                                                 \n3                                                 \n4                                                 \n5                                                 \n6                                                 \n7                                                 \n8                                                 \n9                                                 \n\n                        connection_id_g data_sensitivity_information_s  \\\n0  89be1467-01d3-4936-8417-728294c11750                                  \n1  00000000-0000-0000-0000-000000000000                                  \n2                                                                        \n3                                                                        \n4                                                                        \n5                                                                        \n6                                                                        \n7                                                                        \n8                                                                        \n9                                                                        \n\n  host_name_s session_context_s is_server_level_audit_s  \\\n0         DB8                                      true   \n1                                                  true   \n2                                                         \n3                                                         \n4                                                         \n5                                                         \n6                                                         \n7                                                         \n8                                                         \n9                                                         \n\n                             event_id_g AdditionalFields              Type  \n0  fa9dcd2f-e0aa-466e-95de-e295b686a603             None  AzureDiagnostics  \n1  b5f55cf2-8c25-4a49-848f-d0b6a83f96b7             None  AzureDiagnostics  \n2                                                   None  AzureDiagnostics  \n3                                                   None  AzureDiagnostics  \n4                                                   None  AzureDiagnostics  \n5                                                   None  AzureDiagnostics  \n6                                                   None  AzureDiagnostics  \n7                                                   None  AzureDiagnostics  \n8                                                   None  AzureDiagnostics  \n9                                                   None  AzureDiagnostics  ",
                        "text/html": "<div>\n<style scoped>\n    .dataframe tbody tr th:only-of-type {\n        vertical-align: middle;\n    }\n\n    .dataframe tbody tr th {\n        vertical-align: top;\n    }\n\n    .dataframe thead th {\n        text-align: right;\n    }\n</style>\n<table border=\"1\" class=\"dataframe\">\n  <thead>\n    <tr style=\"text-align: right;\">\n      <th></th>\n      <th>TimeGenerated</th>\n      <th>Category</th>\n      <th>ResourceProvider</th>\n      <th>Resource</th>\n      <th>ResourceType</th>\n      <th>OperationName</th>\n      <th>ResultType</th>\n      <th>CorrelationId</th>\n      <th>ResultDescription</th>\n      <th>Tenant_g</th>\n      <th>JobId_g</th>\n      <th>RunbookName_s</th>\n      <th>StreamType_s</th>\n      <th>Caller_s</th>\n      <th>requestUri_s</th>\n      <th>Level</th>\n      <th>DurationMs</th>\n      <th>CallerIPAddress</th>\n      <th>OperationVersion</th>\n      <th>ResultSignature</th>\n      <th>id_s</th>\n      <th>status_s</th>\n      <th>LogicalServerName_s</th>\n      <th>Message</th>\n      <th>clientInfo_s</th>\n      <th>httpStatusCode_d</th>\n      <th>identity_claim_appid_g</th>\n      <th>identity_claim_http_schemas_microsoft_com_identity_claims_objectidentifier_g</th>\n      <th>userAgent_s</th>\n      <th>ruleName_s</th>\n      <th>identity_claim_http_schemas_xmlsoap_org_ws_2005_05_identity_claims_upn_s</th>\n      <th>systemId_g</th>\n      <th>isAccessPolicyMatch_b</th>\n      <th>EventName_s</th>\n      <th>httpMethod_s</th>\n      <th>subnetId_s</th>\n      <th>type_s</th>\n      <th>instanceId_s</th>\n      <th>macAddress_s</th>\n      <th>vnetResourceGuid_g</th>\n      <th>direction_s</th>\n      <th>subnetPrefix_s</th>\n      <th>primaryIPv4Address_s</th>\n      <th>conditions_sourcePortRange_s</th>\n      <th>priority_d</th>\n      <th>conditions_destinationPortRange_s</th>\n      <th>conditions_destinationIP_s</th>\n      <th>conditions_None_s</th>\n      <th>conditions_sourceIP_s</th>\n      <th>httpVersion_s</th>\n      <th>matchedConnections_d</th>\n      <th>startTime_t</th>\n      <th>endTime_t</th>\n      <th>DatabaseName_s</th>\n      <th>clientIP_s</th>\n      <th>host_s</th>\n      <th>requestQuery_s</th>\n      <th>sslEnabled_s</th>\n      <th>clientPort_d</th>\n      <th>httpStatus_d</th>\n      <th>receivedBytes_d</th>\n      <th>sentBytes_d</th>\n      <th>timeTaken_d</th>\n      <th>resultDescription_ErrorJobs_s</th>\n      <th>resultDescription_ChildJobs_s</th>\n      <th>identity_claim_http_schemas_microsoft_com_identity_claims_scope_s</th>\n      <th>workflowId_s</th>\n      <th>resource_location_s</th>\n      <th>resource_workflowId_g</th>\n      <th>resource_resourceGroupName_s</th>\n      <th>resource_subscriptionId_g</th>\n      <th>resource_runId_s</th>\n      <th>resource_workflowName_s</th>\n      <th>_schema_s</th>\n      <th>correlation_clientTrackingId_s</th>\n      <th>properties_sku_Family_s</th>\n      <th>properties_sku_Name_s</th>\n      <th>properties_tenantId_g</th>\n      <th>properties_enabledForDeployment_b</th>\n      <th>code_s</th>\n      <th>resultDescription_Summary_MachineId_s</th>\n      <th>resultDescription_Summary_ScheduleName_s</th>\n      <th>resultDescription_Summary_Status_s</th>\n      <th>resultDescription_Summary_StatusDescription_s</th>\n      <th>resultDescription_Summary_MachineName_s</th>\n      <th>resultDescription_Summary_TotalUpdatesInstalled_d</th>\n      <th>resultDescription_Summary_RebootRequired_b</th>\n      <th>resultDescription_Summary_TotalUpdatesFailed_d</th>\n      <th>resultDescription_Summary_InstallPercentage_d</th>\n      <th>resultDescription_Summary_StartDateTimeUtc_t</th>\n      <th>resource_triggerName_s</th>\n      <th>resultDescription_Summary_InitialRequiredUpdatesCount_d</th>\n      <th>properties_enabledForTemplateDeployment_b</th>\n      <th>resultDescription_Summary_EndDateTimeUtc_s</th>\n      <th>resultDescription_Summary_DurationInMinutes_s</th>\n      <th>resource_originRunId_s</th>\n      <th>properties_enabledForDiskEncryption_b</th>\n      <th>resource_actionName_s</th>\n      <th>correlation_actionTrackingId_g</th>\n      <th>resultDescription_Summary_EndDateTimeUtc_t</th>\n      <th>resultDescription_Summary_DurationInMinutes_d</th>\n      <th>conditions_protocols_s</th>\n      <th>identity_claim_ipaddr_s</th>\n      <th>ElasticPoolName_s</th>\n      <th>identity_claim_http_schemas_microsoft_com_claims_authnmethodsreferences_s</th>\n      <th>RunOn_s</th>\n      <th>query_hash_s</th>\n      <th>SourceSystem</th>\n      <th>MG</th>\n      <th>ManagementGroupName</th>\n      <th>Computer</th>\n      <th>RawData</th>\n      <th>exec_type_d</th>\n      <th>wait_category_s</th>\n      <th>total_query_wait_time_ms_d</th>\n      <th>max_query_wait_time_ms_d</th>\n      <th>is_parameterizable_s</th>\n      <th>statement_type_s</th>\n      <th>statement_key_hash_s</th>\n      <th>query_param_type_d</th>\n      <th>interval_start_time_d</th>\n      <th>interval_end_time_d</th>\n      <th>logical_io_writes_d</th>\n      <th>max_logical_io_writes_d</th>\n      <th>physical_io_reads_d</th>\n      <th>max_physical_io_reads_d</th>\n      <th>logical_io_reads_d</th>\n      <th>max_logical_io_reads_d</th>\n      <th>execution_type_d</th>\n      <th>count_executions_d</th>\n      <th>cpu_time_d</th>\n      <th>max_cpu_time_d</th>\n      <th>dop_d</th>\n      <th>max_dop_d</th>\n      <th>rowcount_d</th>\n      <th>max_rowcount_d</th>\n      <th>query_max_used_memory_d</th>\n      <th>max_query_max_used_memory_d</th>\n      <th>duration_d</th>\n      <th>max_duration_d</th>\n      <th>num_physical_io_reads_d</th>\n      <th>max_num_physical_io_reads_d</th>\n      <th>log_bytes_used_d</th>\n      <th>max_log_bytes_used_d</th>\n      <th>query_id_d</th>\n      <th>plan_id_d</th>\n      <th>statement_sql_handle_s</th>\n      <th>query_plan_hash_s</th>\n      <th>error_number_d</th>\n      <th>Severity</th>\n      <th>user_defined_b</th>\n      <th>state_d</th>\n      <th>originalEventTimestamp_t</th>\n      <th>audit_schema_version_d</th>\n      <th>event_time_t</th>\n      <th>sequence_number_d</th>\n      <th>action_id_s</th>\n      <th>action_name_s</th>\n      <th>succeeded_s</th>\n      <th>is_column_permission_s</th>\n      <th>session_id_d</th>\n      <th>server_principal_id_d</th>\n      <th>database_principal_id_d</th>\n      <th>target_server_principal_id_d</th>\n      <th>target_database_principal_id_d</th>\n      <th>object_id_d</th>\n      <th>user_defined_event_id_d</th>\n      <th>transaction_id_d</th>\n      <th>class_type_s</th>\n      <th>class_type_description_s</th>\n      <th>securable_class_type_s</th>\n      <th>duration_milliseconds_d</th>\n      <th>response_rows_d</th>\n      <th>affected_rows_d</th>\n      <th>client_tls_version_d</th>\n      <th>client_ip_s</th>\n      <th>permission_bitmask_g</th>\n      <th>sequence_group_id_g</th>\n      <th>session_server_principal_name_s</th>\n      <th>server_principal_name_s</th>\n      <th>server_principal_sid_s</th>\n      <th>database_principal_name_s</th>\n      <th>target_server_principal_name_s</th>\n      <th>target_server_principal_sid_s</th>\n      <th>target_database_principal_name_s</th>\n      <th>server_instance_name_s</th>\n      <th>database_name_s</th>\n      <th>schema_name_s</th>\n      <th>object_name_s</th>\n      <th>statement_s</th>\n      <th>additional_information_s</th>\n      <th>user_defined_information_s</th>\n      <th>application_name_s</th>\n      <th>connection_id_g</th>\n      <th>data_sensitivity_information_s</th>\n      <th>host_name_s</th>\n      <th>session_context_s</th>\n      <th>is_server_level_audit_s</th>\n      <th>event_id_g</th>\n      <th>AdditionalFields</th>\n      <th>Type</th>\n    </tr>\n  </thead>\n  <tbody>\n    <tr>\n      <th>0</th>\n      <td>2021-05-11 18:34:32.288000+00:00</td>\n      <td>SQLSecurityAuditEvents</td>\n      <td>MICROSOFT.SQL</td>\n      <td>MASTER</td>\n      <td>SERVERS/DATABASES</td>\n      <td>AuditEvent</td>\n      <td></td>\n      <td></td>\n      <td></td>\n      <td></td>\n      <td></td>\n      <td></td>\n      <td></td>\n      <td></td>\n      <td></td>\n      <td></td>\n      <td>NaN</td>\n      <td></td>\n      <td></td>\n      <td></td>\n      <td></td>\n      <td></td>\n      <td>sqlalertdemoserver</td>\n      <td></td>\n      <td></td>\n      <td>NaN</td>\n      <td></td>\n      <td></td>\n      <td></td>\n      <td></td>\n      <td></td>\n      <td></td>\n      <td>None</td>\n      <td></td>\n      <td></td>\n      <td></td>\n      <td></td>\n      <td></td>\n      <td></td>\n      <td></td>\n      <td></td>\n      <td></td>\n      <td></td>\n      <td></td>\n      <td>NaN</td>\n      <td></td>\n      <td></td>\n      <td></td>\n      <td></td>\n      <td></td>\n      <td>NaN</td>\n      <td>NaT</td>\n      <td>NaT</td>\n      <td></td>\n      <td></td>\n      <td></td>\n      <td></td>\n      <td></td>\n      <td>NaN</td>\n      <td>NaN</td>\n      <td>NaN</td>\n      <td>NaN</td>\n      <td>NaN</td>\n      <td></td>\n      <td></td>\n      <td></td>\n      <td></td>\n      <td></td>\n      <td></td>\n      <td></td>\n      <td></td>\n      <td></td>\n      <td></td>\n      <td></td>\n      <td></td>\n      <td></td>\n      <td></td>\n      <td></td>\n      <td>None</td>\n      <td></td>\n      <td></td>\n      <td></td>\n      <td></td>\n      <td></td>\n      <td></td>\n      <td>NaN</td>\n      <td>None</td>\n      <td>NaN</td>\n      <td>NaN</td>\n      <td>NaT</td>\n      <td></td>\n      <td>NaN</td>\n      <td>None</td>\n      <td></td>\n      <td></td>\n      <td></td>\n      <td>None</td>\n      <td></td>\n      <td></td>\n      <td>NaT</td>\n      <td>NaN</td>\n      <td></td>\n      <td></td>\n      <td></td>\n      <td></td>\n      <td></td>\n      <td></td>\n      <td>Azure</td>\n      <td></td>\n      <td></td>\n      <td></td>\n      <td></td>\n      <td>NaN</td>\n      <td></td>\n      <td>NaN</td>\n      <td>NaN</td>\n      <td></td>\n      <td></td>\n      <td></td>\n      <td>NaN</td>\n      <td>NaN</td>\n      <td>NaN</td>\n      <td>NaN</td>\n      <td>NaN</td>\n      <td>NaN</td>\n      <td>NaN</td>\n      <td>NaN</td>\n      <td>NaN</td>\n      <td>NaN</td>\n      <td>NaN</td>\n      <td>NaN</td>\n      <td>NaN</td>\n      <td>NaN</td>\n      <td>NaN</td>\n      <td>NaN</td>\n      <td>NaN</td>\n      <td>NaN</td>\n      <td>NaN</td>\n      <td>NaN</td>\n      <td>NaN</td>\n      <td>NaN</td>\n      <td>NaN</td>\n      <td>NaN</td>\n      <td>NaN</td>\n      <td>NaN</td>\n      <td>NaN</td>\n      <td></td>\n      <td></td>\n      <td>NaN</td>\n      <td>NaN</td>\n      <td>None</td>\n      <td>NaN</td>\n      <td>2021-05-11 18:34:32.285000+00:00</td>\n      <td>1.0</td>\n      <td>2021-05-11 18:34:31.303000+00:00</td>\n      <td>1.0</td>\n      <td>AUSC</td>\n      <td>AUDIT SESSION CHANGED</td>\n      <td>true</td>\n      <td>false</td>\n      <td>58.0</td>\n      <td>268.0</td>\n      <td>0.0</td>\n      <td>0.0</td>\n      <td>0.0</td>\n      <td>0.0</td>\n      <td>0.0</td>\n      <td>0.0</td>\n      <td>A</td>\n      <td>SERVER AUDIT</td>\n      <td>SERVER</td>\n      <td>0.0</td>\n      <td>0.0</td>\n      <td>0.0</td>\n      <td>0.0</td>\n      <td>Internal</td>\n      <td>00000000-0000-0000-0000-000000000000</td>\n      <td>00000000-0000-0000-0000-000000000000</td>\n      <td>NT AUTHORITY\\SYSTEM</td>\n      <td>NT AUTHORITY\\SYSTEM</td>\n      <td>010100000000000512000000</td>\n      <td></td>\n      <td></td>\n      <td></td>\n      <td></td>\n      <td>sqlalertdemoserver</td>\n      <td></td>\n      <td></td>\n      <td></td>\n      <td></td>\n      <td>&lt;action_info xmlns=\"http://schemas.microsoft.c...</td>\n      <td></td>\n      <td>Internal</td>\n      <td>89be1467-01d3-4936-8417-728294c11750</td>\n      <td></td>\n      <td>DB8</td>\n      <td></td>\n      <td>true</td>\n      <td>fa9dcd2f-e0aa-466e-95de-e295b686a603</td>\n      <td>None</td>\n      <td>AzureDiagnostics</td>\n    </tr>\n    <tr>\n      <th>1</th>\n      <td>2021-05-11 19:01:10.612000+00:00</td>\n      <td>SQLSecurityAuditEvents</td>\n      <td>MICROSOFT.SQL</td>\n      <td>MASTER</td>\n      <td>SERVERS/DATABASES</td>\n      <td>AuditEvent</td>\n      <td></td>\n      <td></td>\n      <td></td>\n      <td></td>\n      <td></td>\n      <td></td>\n      <td></td>\n      <td></td>\n      <td></td>\n      <td></td>\n      <td>NaN</td>\n      <td></td>\n      <td></td>\n      <td></td>\n      <td></td>\n      <td></td>\n      <td>sqlalertdemoserver</td>\n      <td></td>\n      <td></td>\n      <td>NaN</td>\n      <td></td>\n      <td></td>\n      <td></td>\n      <td></td>\n      <td></td>\n      <td></td>\n      <td>None</td>\n      <td></td>\n      <td></td>\n      <td></td>\n      <td></td>\n      <td></td>\n      <td></td>\n      <td></td>\n      <td></td>\n      <td></td>\n      <td></td>\n      <td></td>\n      <td>NaN</td>\n      <td></td>\n      <td></td>\n      <td></td>\n      <td></td>\n      <td></td>\n      <td>NaN</td>\n      <td>NaT</td>\n      <td>NaT</td>\n      <td></td>\n      <td></td>\n      <td></td>\n      <td></td>\n      <td></td>\n      <td>NaN</td>\n      <td>NaN</td>\n      <td>NaN</td>\n      <td>NaN</td>\n      <td>NaN</td>\n      <td></td>\n      <td></td>\n      <td></td>\n      <td></td>\n      <td></td>\n      <td></td>\n      <td></td>\n      <td></td>\n      <td></td>\n      <td></td>\n      <td></td>\n      <td></td>\n      <td></td>\n      <td></td>\n      <td></td>\n      <td>None</td>\n      <td></td>\n      <td></td>\n      <td></td>\n      <td></td>\n      <td></td>\n      <td></td>\n      <td>NaN</td>\n      <td>None</td>\n      <td>NaN</td>\n      <td>NaN</td>\n      <td>NaT</td>\n      <td></td>\n      <td>NaN</td>\n      <td>None</td>\n      <td></td>\n      <td></td>\n      <td></td>\n      <td>None</td>\n      <td></td>\n      <td></td>\n      <td>NaT</td>\n      <td>NaN</td>\n      <td></td>\n      <td></td>\n      <td></td>\n      <td></td>\n      <td></td>\n      <td></td>\n      <td>Azure</td>\n      <td></td>\n      <td></td>\n      <td></td>\n      <td></td>\n      <td>NaN</td>\n      <td></td>\n      <td>NaN</td>\n      <td>NaN</td>\n      <td></td>\n      <td></td>\n      <td></td>\n      <td>NaN</td>\n      <td>NaN</td>\n      <td>NaN</td>\n      <td>NaN</td>\n      <td>NaN</td>\n      <td>NaN</td>\n      <td>NaN</td>\n      <td>NaN</td>\n      <td>NaN</td>\n      <td>NaN</td>\n      <td>NaN</td>\n      <td>NaN</td>\n      <td>NaN</td>\n      <td>NaN</td>\n      <td>NaN</td>\n      <td>NaN</td>\n      <td>NaN</td>\n      <td>NaN</td>\n      <td>NaN</td>\n      <td>NaN</td>\n      <td>NaN</td>\n      <td>NaN</td>\n      <td>NaN</td>\n      <td>NaN</td>\n      <td>NaN</td>\n      <td>NaN</td>\n      <td>NaN</td>\n      <td></td>\n      <td></td>\n      <td>NaN</td>\n      <td>NaN</td>\n      <td>None</td>\n      <td>NaN</td>\n      <td>2021-05-11 19:01:10.612000+00:00</td>\n      <td>1.0</td>\n      <td>2021-05-11 19:01:09.596000+00:00</td>\n      <td>1.0</td>\n      <td>AUSC</td>\n      <td>AUDIT SESSION CHANGED</td>\n      <td>true</td>\n      <td>false</td>\n      <td>58.0</td>\n      <td>1.0</td>\n      <td>0.0</td>\n      <td>0.0</td>\n      <td>0.0</td>\n      <td>0.0</td>\n      <td>0.0</td>\n      <td>0.0</td>\n      <td>A</td>\n      <td>SERVER AUDIT</td>\n      <td>SERVER</td>\n      <td>0.0</td>\n      <td>0.0</td>\n      <td>0.0</td>\n      <td>0.0</td>\n      <td>Unknown</td>\n      <td>00000000-0000-0000-0000-000000000000</td>\n      <td>00000000-0000-0000-0000-000000000000</td>\n      <td></td>\n      <td>sa</td>\n      <td>01</td>\n      <td></td>\n      <td></td>\n      <td></td>\n      <td></td>\n      <td>sqlalertdemoserver</td>\n      <td></td>\n      <td></td>\n      <td></td>\n      <td></td>\n      <td>&lt;action_info xmlns=\"http://schemas.microsoft.c...</td>\n      <td></td>\n      <td></td>\n      <td>00000000-0000-0000-0000-000000000000</td>\n      <td></td>\n      <td></td>\n      <td></td>\n      <td>true</td>\n      <td>b5f55cf2-8c25-4a49-848f-d0b6a83f96b7</td>\n      <td>None</td>\n      <td>AzureDiagnostics</td>\n    </tr>\n    <tr>\n      <th>2</th>\n      <td>2021-05-11 18:44:56.021000+00:00</td>\n      <td>Errors</td>\n      <td>MICROSOFT.SQL</td>\n      <td>SQLALERTDEMODATABASE</td>\n      <td>SERVERS/DATABASES</td>\n      <td>ErrorEvent</td>\n      <td></td>\n      <td></td>\n      <td></td>\n      <td></td>\n      <td></td>\n      <td></td>\n      <td></td>\n      <td></td>\n      <td></td>\n      <td></td>\n      <td>NaN</td>\n      <td></td>\n      <td></td>\n      <td></td>\n      <td></td>\n      <td></td>\n      <td>sqlalertdemoserver</td>\n      <td>Invalid object name 'sys.dm_os_windows_info'.</td>\n      <td></td>\n      <td>NaN</td>\n      <td></td>\n      <td></td>\n      <td></td>\n      <td></td>\n      <td></td>\n      <td></td>\n      <td>None</td>\n      <td></td>\n      <td></td>\n      <td></td>\n      <td></td>\n      <td></td>\n      <td></td>\n      <td></td>\n      <td></td>\n      <td></td>\n      <td></td>\n      <td></td>\n      <td>NaN</td>\n      <td></td>\n      <td></td>\n      <td></td>\n      <td></td>\n      <td></td>\n      <td>NaN</td>\n      <td>NaT</td>\n      <td>NaT</td>\n      <td>sqlalertdemodatabase</td>\n      <td></td>\n      <td></td>\n      <td></td>\n      <td></td>\n      <td>NaN</td>\n      <td>NaN</td>\n      <td>NaN</td>\n      <td>NaN</td>\n      <td>NaN</td>\n      <td></td>\n      <td></td>\n      <td></td>\n      <td></td>\n      <td></td>\n      <td></td>\n      <td></td>\n      <td></td>\n      <td></td>\n      <td></td>\n      <td></td>\n      <td></td>\n      <td></td>\n      <td></td>\n      <td></td>\n      <td>None</td>\n      <td></td>\n      <td></td>\n      <td></td>\n      <td></td>\n      <td></td>\n      <td></td>\n      <td>NaN</td>\n      <td>None</td>\n      <td>NaN</td>\n      <td>NaN</td>\n      <td>NaT</td>\n      <td></td>\n      <td>NaN</td>\n      <td>None</td>\n      <td></td>\n      <td></td>\n      <td></td>\n      <td>None</td>\n      <td></td>\n      <td></td>\n      <td>NaT</td>\n      <td>NaN</td>\n      <td></td>\n      <td></td>\n      <td></td>\n      <td></td>\n      <td></td>\n      <td>0</td>\n      <td>Azure</td>\n      <td></td>\n      <td></td>\n      <td></td>\n      <td></td>\n      <td>NaN</td>\n      <td></td>\n      <td>NaN</td>\n      <td>NaN</td>\n      <td></td>\n      <td></td>\n      <td></td>\n      <td>NaN</td>\n      <td>NaN</td>\n      <td>NaN</td>\n      <td>NaN</td>\n      <td>NaN</td>\n      <td>NaN</td>\n      <td>NaN</td>\n      <td>NaN</td>\n      <td>NaN</td>\n      <td>NaN</td>\n      <td>NaN</td>\n      <td>NaN</td>\n      <td>NaN</td>\n      <td>NaN</td>\n      <td>NaN</td>\n      <td>NaN</td>\n      <td>NaN</td>\n      <td>NaN</td>\n      <td>NaN</td>\n      <td>NaN</td>\n      <td>NaN</td>\n      <td>NaN</td>\n      <td>NaN</td>\n      <td>NaN</td>\n      <td>NaN</td>\n      <td>NaN</td>\n      <td>NaN</td>\n      <td></td>\n      <td>0</td>\n      <td>208.0</td>\n      <td>16.0</td>\n      <td>False</td>\n      <td>1.0</td>\n      <td>NaT</td>\n      <td>NaN</td>\n      <td>NaT</td>\n      <td>NaN</td>\n      <td></td>\n      <td></td>\n      <td></td>\n      <td></td>\n      <td>NaN</td>\n      <td>NaN</td>\n      <td>NaN</td>\n      <td>NaN</td>\n      <td>NaN</td>\n      <td>NaN</td>\n      <td>NaN</td>\n      <td>NaN</td>\n      <td></td>\n      <td></td>\n      <td></td>\n      <td>NaN</td>\n      <td>NaN</td>\n      <td>NaN</td>\n      <td>NaN</td>\n      <td></td>\n      <td></td>\n      <td></td>\n      <td></td>\n      <td></td>\n      <td></td>\n      <td></td>\n      <td></td>\n      <td></td>\n      <td></td>\n      <td></td>\n      <td></td>\n      <td></td>\n      <td></td>\n      <td></td>\n      <td></td>\n      <td></td>\n      <td></td>\n      <td></td>\n      <td></td>\n      <td></td>\n      <td></td>\n      <td></td>\n      <td></td>\n      <td>None</td>\n      <td>AzureDiagnostics</td>\n    </tr>\n    <tr>\n      <th>3</th>\n      <td>2021-05-11 18:45:55.469000+00:00</td>\n      <td>QueryStoreWaitStatistics</td>\n      <td>MICROSOFT.SQL</td>\n      <td>SQLALERTDEMODATABASE</td>\n      <td>SERVERS/DATABASES</td>\n      <td>QueryStoreWaitStatisticsEvent</td>\n      <td></td>\n      <td></td>\n      <td></td>\n      <td></td>\n      <td></td>\n      <td></td>\n      <td></td>\n      <td></td>\n      <td></td>\n      <td></td>\n      <td>NaN</td>\n      <td></td>\n      <td></td>\n      <td></td>\n      <td></td>\n      <td></td>\n      <td>sqlalertdemoserver</td>\n      <td></td>\n      <td></td>\n      <td>NaN</td>\n      <td></td>\n      <td></td>\n      <td></td>\n      <td></td>\n      <td></td>\n      <td></td>\n      <td>None</td>\n      <td></td>\n      <td></td>\n      <td></td>\n      <td></td>\n      <td></td>\n      <td></td>\n      <td></td>\n      <td></td>\n      <td></td>\n      <td></td>\n      <td></td>\n      <td>NaN</td>\n      <td></td>\n      <td></td>\n      <td></td>\n      <td></td>\n      <td></td>\n      <td>NaN</td>\n      <td>NaT</td>\n      <td>NaT</td>\n      <td>sqlalertdemodatabase</td>\n      <td></td>\n      <td></td>\n      <td></td>\n      <td></td>\n      <td>NaN</td>\n      <td>NaN</td>\n      <td>NaN</td>\n      <td>NaN</td>\n      <td>NaN</td>\n      <td></td>\n      <td></td>\n      <td></td>\n      <td></td>\n      <td></td>\n      <td></td>\n      <td></td>\n      <td></td>\n      <td></td>\n      <td></td>\n      <td></td>\n      <td></td>\n      <td></td>\n      <td></td>\n      <td></td>\n      <td>None</td>\n      <td></td>\n      <td></td>\n      <td></td>\n      <td></td>\n      <td></td>\n      <td></td>\n      <td>NaN</td>\n      <td>None</td>\n      <td>NaN</td>\n      <td>NaN</td>\n      <td>NaT</td>\n      <td></td>\n      <td>NaN</td>\n      <td>None</td>\n      <td></td>\n      <td></td>\n      <td></td>\n      <td>None</td>\n      <td></td>\n      <td></td>\n      <td>NaT</td>\n      <td>NaN</td>\n      <td></td>\n      <td></td>\n      <td></td>\n      <td></td>\n      <td></td>\n      <td>0x3D251D2A95CEE0FA</td>\n      <td>Azure</td>\n      <td></td>\n      <td></td>\n      <td></td>\n      <td></td>\n      <td>0.0</td>\n      <td>UNKNOWN</td>\n      <td>432.0</td>\n      <td>432.0</td>\n      <td>false</td>\n      <td>x_estypSelect</td>\n      <td>1191285308</td>\n      <td>1.0</td>\n      <td>1.903744e+14</td>\n      <td>1.903744e+14</td>\n      <td>NaN</td>\n      <td>NaN</td>\n      <td>NaN</td>\n      <td>NaN</td>\n      <td>NaN</td>\n      <td>NaN</td>\n      <td>NaN</td>\n      <td>1.0</td>\n      <td>NaN</td>\n      <td>NaN</td>\n      <td>NaN</td>\n      <td>NaN</td>\n      <td>NaN</td>\n      <td>NaN</td>\n      <td>NaN</td>\n      <td>NaN</td>\n      <td>NaN</td>\n      <td>NaN</td>\n      <td>NaN</td>\n      <td>NaN</td>\n      <td>NaN</td>\n      <td>NaN</td>\n      <td>38.0</td>\n      <td>1.0</td>\n      <td>0x0900769CEE691C933F258772430BD1146CFF00000000...</td>\n      <td>0xBF28FE55E8A5616A</td>\n      <td>NaN</td>\n      <td>NaN</td>\n      <td>None</td>\n      <td>NaN</td>\n      <td>NaT</td>\n      <td>NaN</td>\n      <td>NaT</td>\n      <td>NaN</td>\n      <td></td>\n      <td></td>\n      <td></td>\n      <td></td>\n      <td>NaN</td>\n      <td>NaN</td>\n      <td>NaN</td>\n      <td>NaN</td>\n      <td>NaN</td>\n      <td>NaN</td>\n      <td>NaN</td>\n      <td>NaN</td>\n      <td></td>\n      <td></td>\n      <td></td>\n      <td>NaN</td>\n      <td>NaN</td>\n      <td>NaN</td>\n      <td>NaN</td>\n      <td></td>\n      <td></td>\n      <td></td>\n      <td></td>\n      <td></td>\n      <td></td>\n      <td></td>\n      <td></td>\n      <td></td>\n      <td></td>\n      <td></td>\n      <td></td>\n      <td></td>\n      <td></td>\n      <td></td>\n      <td></td>\n      <td></td>\n      <td></td>\n      <td></td>\n      <td></td>\n      <td></td>\n      <td></td>\n      <td></td>\n      <td></td>\n      <td>None</td>\n      <td>AzureDiagnostics</td>\n    </tr>\n    <tr>\n      <th>4</th>\n      <td>2021-05-11 18:45:55.469000+00:00</td>\n      <td>QueryStoreWaitStatistics</td>\n      <td>MICROSOFT.SQL</td>\n      <td>SQLALERTDEMODATABASE</td>\n      <td>SERVERS/DATABASES</td>\n      <td>QueryStoreWaitStatisticsEvent</td>\n      <td></td>\n      <td></td>\n      <td></td>\n      <td></td>\n      <td></td>\n      <td></td>\n      <td></td>\n      <td></td>\n      <td></td>\n      <td></td>\n      <td>NaN</td>\n      <td></td>\n      <td></td>\n      <td></td>\n      <td></td>\n      <td></td>\n      <td>sqlalertdemoserver</td>\n      <td></td>\n      <td></td>\n      <td>NaN</td>\n      <td></td>\n      <td></td>\n      <td></td>\n      <td></td>\n      <td></td>\n      <td></td>\n      <td>None</td>\n      <td></td>\n      <td></td>\n      <td></td>\n      <td></td>\n      <td></td>\n      <td></td>\n      <td></td>\n      <td></td>\n      <td></td>\n      <td></td>\n      <td></td>\n      <td>NaN</td>\n      <td></td>\n      <td></td>\n      <td></td>\n      <td></td>\n      <td></td>\n      <td>NaN</td>\n      <td>NaT</td>\n      <td>NaT</td>\n      <td>sqlalertdemodatabase</td>\n      <td></td>\n      <td></td>\n      <td></td>\n      <td></td>\n      <td>NaN</td>\n      <td>NaN</td>\n      <td>NaN</td>\n      <td>NaN</td>\n      <td>NaN</td>\n      <td></td>\n      <td></td>\n      <td></td>\n      <td></td>\n      <td></td>\n      <td></td>\n      <td></td>\n      <td></td>\n      <td></td>\n      <td></td>\n      <td></td>\n      <td></td>\n      <td></td>\n      <td></td>\n      <td></td>\n      <td>None</td>\n      <td></td>\n      <td></td>\n      <td></td>\n      <td></td>\n      <td></td>\n      <td></td>\n      <td>NaN</td>\n      <td>None</td>\n      <td>NaN</td>\n      <td>NaN</td>\n      <td>NaT</td>\n      <td></td>\n      <td>NaN</td>\n      <td>None</td>\n      <td></td>\n      <td></td>\n      <td></td>\n      <td>None</td>\n      <td></td>\n      <td></td>\n      <td>NaT</td>\n      <td>NaN</td>\n      <td></td>\n      <td></td>\n      <td></td>\n      <td></td>\n      <td></td>\n      <td>0x3D251D2A95CEE0FA</td>\n      <td>Azure</td>\n      <td></td>\n      <td></td>\n      <td></td>\n      <td></td>\n      <td>0.0</td>\n      <td>CPU</td>\n      <td>345.0</td>\n      <td>345.0</td>\n      <td>false</td>\n      <td>x_estypSelect</td>\n      <td>1191285308</td>\n      <td>1.0</td>\n      <td>1.903744e+14</td>\n      <td>1.903744e+14</td>\n      <td>NaN</td>\n      <td>NaN</td>\n      <td>NaN</td>\n      <td>NaN</td>\n      <td>NaN</td>\n      <td>NaN</td>\n      <td>NaN</td>\n      <td>1.0</td>\n      <td>NaN</td>\n      <td>NaN</td>\n      <td>NaN</td>\n      <td>NaN</td>\n      <td>NaN</td>\n      <td>NaN</td>\n      <td>NaN</td>\n      <td>NaN</td>\n      <td>NaN</td>\n      <td>NaN</td>\n      <td>NaN</td>\n      <td>NaN</td>\n      <td>NaN</td>\n      <td>NaN</td>\n      <td>38.0</td>\n      <td>1.0</td>\n      <td>0x0900769CEE691C933F258772430BD1146CFF00000000...</td>\n      <td>0xBF28FE55E8A5616A</td>\n      <td>NaN</td>\n      <td>NaN</td>\n      <td>None</td>\n      <td>NaN</td>\n      <td>NaT</td>\n      <td>NaN</td>\n      <td>NaT</td>\n      <td>NaN</td>\n      <td></td>\n      <td></td>\n      <td></td>\n      <td></td>\n      <td>NaN</td>\n      <td>NaN</td>\n      <td>NaN</td>\n      <td>NaN</td>\n      <td>NaN</td>\n      <td>NaN</td>\n      <td>NaN</td>\n      <td>NaN</td>\n      <td></td>\n      <td></td>\n      <td></td>\n      <td>NaN</td>\n      <td>NaN</td>\n      <td>NaN</td>\n      <td>NaN</td>\n      <td></td>\n      <td></td>\n      <td></td>\n      <td></td>\n      <td></td>\n      <td></td>\n      <td></td>\n      <td></td>\n      <td></td>\n      <td></td>\n      <td></td>\n      <td></td>\n      <td></td>\n      <td></td>\n      <td></td>\n      <td></td>\n      <td></td>\n      <td></td>\n      <td></td>\n      <td></td>\n      <td></td>\n      <td></td>\n      <td></td>\n      <td></td>\n      <td>None</td>\n      <td>AzureDiagnostics</td>\n    </tr>\n    <tr>\n      <th>5</th>\n      <td>2021-05-11 18:45:55.469000+00:00</td>\n      <td>QueryStoreWaitStatistics</td>\n      <td>MICROSOFT.SQL</td>\n      <td>SQLALERTDEMODATABASE</td>\n      <td>SERVERS/DATABASES</td>\n      <td>QueryStoreWaitStatisticsEvent</td>\n      <td></td>\n      <td></td>\n      <td></td>\n      <td></td>\n      <td></td>\n      <td></td>\n      <td></td>\n      <td></td>\n      <td></td>\n      <td></td>\n      <td>NaN</td>\n      <td></td>\n      <td></td>\n      <td></td>\n      <td></td>\n      <td></td>\n      <td>sqlalertdemoserver</td>\n      <td></td>\n      <td></td>\n      <td>NaN</td>\n      <td></td>\n      <td></td>\n      <td></td>\n      <td></td>\n      <td></td>\n      <td></td>\n      <td>None</td>\n      <td></td>\n      <td></td>\n      <td></td>\n      <td></td>\n      <td></td>\n      <td></td>\n      <td></td>\n      <td></td>\n      <td></td>\n      <td></td>\n      <td></td>\n      <td>NaN</td>\n      <td></td>\n      <td></td>\n      <td></td>\n      <td></td>\n      <td></td>\n      <td>NaN</td>\n      <td>NaT</td>\n      <td>NaT</td>\n      <td>sqlalertdemodatabase</td>\n      <td></td>\n      <td></td>\n      <td></td>\n      <td></td>\n      <td>NaN</td>\n      <td>NaN</td>\n      <td>NaN</td>\n      <td>NaN</td>\n      <td>NaN</td>\n      <td></td>\n      <td></td>\n      <td></td>\n      <td></td>\n      <td></td>\n      <td></td>\n      <td></td>\n      <td></td>\n      <td></td>\n      <td></td>\n      <td></td>\n      <td></td>\n      <td></td>\n      <td></td>\n      <td></td>\n      <td>None</td>\n      <td></td>\n      <td></td>\n      <td></td>\n      <td></td>\n      <td></td>\n      <td></td>\n      <td>NaN</td>\n      <td>None</td>\n      <td>NaN</td>\n      <td>NaN</td>\n      <td>NaT</td>\n      <td></td>\n      <td>NaN</td>\n      <td>None</td>\n      <td></td>\n      <td></td>\n      <td></td>\n      <td>None</td>\n      <td></td>\n      <td></td>\n      <td>NaT</td>\n      <td>NaN</td>\n      <td></td>\n      <td></td>\n      <td></td>\n      <td></td>\n      <td></td>\n      <td>0x3D251D2A95CEE0FA</td>\n      <td>Azure</td>\n      <td></td>\n      <td></td>\n      <td></td>\n      <td></td>\n      <td>0.0</td>\n      <td>BUFFERIO</td>\n      <td>108.0</td>\n      <td>108.0</td>\n      <td>false</td>\n      <td>x_estypSelect</td>\n      <td>1191285308</td>\n      <td>1.0</td>\n      <td>1.903744e+14</td>\n      <td>1.903744e+14</td>\n      <td>NaN</td>\n      <td>NaN</td>\n      <td>NaN</td>\n      <td>NaN</td>\n      <td>NaN</td>\n      <td>NaN</td>\n      <td>NaN</td>\n      <td>1.0</td>\n      <td>NaN</td>\n      <td>NaN</td>\n      <td>NaN</td>\n      <td>NaN</td>\n      <td>NaN</td>\n      <td>NaN</td>\n      <td>NaN</td>\n      <td>NaN</td>\n      <td>NaN</td>\n      <td>NaN</td>\n      <td>NaN</td>\n      <td>NaN</td>\n      <td>NaN</td>\n      <td>NaN</td>\n      <td>38.0</td>\n      <td>1.0</td>\n      <td>0x0900769CEE691C933F258772430BD1146CFF00000000...</td>\n      <td>0xBF28FE55E8A5616A</td>\n      <td>NaN</td>\n      <td>NaN</td>\n      <td>None</td>\n      <td>NaN</td>\n      <td>NaT</td>\n      <td>NaN</td>\n      <td>NaT</td>\n      <td>NaN</td>\n      <td></td>\n      <td></td>\n      <td></td>\n      <td></td>\n      <td>NaN</td>\n      <td>NaN</td>\n      <td>NaN</td>\n      <td>NaN</td>\n      <td>NaN</td>\n      <td>NaN</td>\n      <td>NaN</td>\n      <td>NaN</td>\n      <td></td>\n      <td></td>\n      <td></td>\n      <td>NaN</td>\n      <td>NaN</td>\n      <td>NaN</td>\n      <td>NaN</td>\n      <td></td>\n      <td></td>\n      <td></td>\n      <td></td>\n      <td></td>\n      <td></td>\n      <td></td>\n      <td></td>\n      <td></td>\n      <td></td>\n      <td></td>\n      <td></td>\n      <td></td>\n      <td></td>\n      <td></td>\n      <td></td>\n      <td></td>\n      <td></td>\n      <td></td>\n      <td></td>\n      <td></td>\n      <td></td>\n      <td></td>\n      <td></td>\n      <td>None</td>\n      <td>AzureDiagnostics</td>\n    </tr>\n    <tr>\n      <th>6</th>\n      <td>2021-05-11 18:45:55.469000+00:00</td>\n      <td>QueryStoreWaitStatistics</td>\n      <td>MICROSOFT.SQL</td>\n      <td>SQLALERTDEMODATABASE</td>\n      <td>SERVERS/DATABASES</td>\n      <td>QueryStoreWaitStatisticsEvent</td>\n      <td></td>\n      <td></td>\n      <td></td>\n      <td></td>\n      <td></td>\n      <td></td>\n      <td></td>\n      <td></td>\n      <td></td>\n      <td></td>\n      <td>NaN</td>\n      <td></td>\n      <td></td>\n      <td></td>\n      <td></td>\n      <td></td>\n      <td>sqlalertdemoserver</td>\n      <td></td>\n      <td></td>\n      <td>NaN</td>\n      <td></td>\n      <td></td>\n      <td></td>\n      <td></td>\n      <td></td>\n      <td></td>\n      <td>None</td>\n      <td></td>\n      <td></td>\n      <td></td>\n      <td></td>\n      <td></td>\n      <td></td>\n      <td></td>\n      <td></td>\n      <td></td>\n      <td></td>\n      <td></td>\n      <td>NaN</td>\n      <td></td>\n      <td></td>\n      <td></td>\n      <td></td>\n      <td></td>\n      <td>NaN</td>\n      <td>NaT</td>\n      <td>NaT</td>\n      <td>sqlalertdemodatabase</td>\n      <td></td>\n      <td></td>\n      <td></td>\n      <td></td>\n      <td>NaN</td>\n      <td>NaN</td>\n      <td>NaN</td>\n      <td>NaN</td>\n      <td>NaN</td>\n      <td></td>\n      <td></td>\n      <td></td>\n      <td></td>\n      <td></td>\n      <td></td>\n      <td></td>\n      <td></td>\n      <td></td>\n      <td></td>\n      <td></td>\n      <td></td>\n      <td></td>\n      <td></td>\n      <td></td>\n      <td>None</td>\n      <td></td>\n      <td></td>\n      <td></td>\n      <td></td>\n      <td></td>\n      <td></td>\n      <td>NaN</td>\n      <td>None</td>\n      <td>NaN</td>\n      <td>NaN</td>\n      <td>NaT</td>\n      <td></td>\n      <td>NaN</td>\n      <td>None</td>\n      <td></td>\n      <td></td>\n      <td></td>\n      <td>None</td>\n      <td></td>\n      <td></td>\n      <td>NaT</td>\n      <td>NaN</td>\n      <td></td>\n      <td></td>\n      <td></td>\n      <td></td>\n      <td></td>\n      <td>0x3D251D2A95CEE0FA</td>\n      <td>Azure</td>\n      <td></td>\n      <td></td>\n      <td></td>\n      <td></td>\n      <td>0.0</td>\n      <td>MEMORY</td>\n      <td>1.0</td>\n      <td>1.0</td>\n      <td>false</td>\n      <td>x_estypSelect</td>\n      <td>1191285308</td>\n      <td>1.0</td>\n      <td>1.903744e+14</td>\n      <td>1.903744e+14</td>\n      <td>NaN</td>\n      <td>NaN</td>\n      <td>NaN</td>\n      <td>NaN</td>\n      <td>NaN</td>\n      <td>NaN</td>\n      <td>NaN</td>\n      <td>1.0</td>\n      <td>NaN</td>\n      <td>NaN</td>\n      <td>NaN</td>\n      <td>NaN</td>\n      <td>NaN</td>\n      <td>NaN</td>\n      <td>NaN</td>\n      <td>NaN</td>\n      <td>NaN</td>\n      <td>NaN</td>\n      <td>NaN</td>\n      <td>NaN</td>\n      <td>NaN</td>\n      <td>NaN</td>\n      <td>38.0</td>\n      <td>1.0</td>\n      <td>0x0900769CEE691C933F258772430BD1146CFF00000000...</td>\n      <td>0xBF28FE55E8A5616A</td>\n      <td>NaN</td>\n      <td>NaN</td>\n      <td>None</td>\n      <td>NaN</td>\n      <td>NaT</td>\n      <td>NaN</td>\n      <td>NaT</td>\n      <td>NaN</td>\n      <td></td>\n      <td></td>\n      <td></td>\n      <td></td>\n      <td>NaN</td>\n      <td>NaN</td>\n      <td>NaN</td>\n      <td>NaN</td>\n      <td>NaN</td>\n      <td>NaN</td>\n      <td>NaN</td>\n      <td>NaN</td>\n      <td></td>\n      <td></td>\n      <td></td>\n      <td>NaN</td>\n      <td>NaN</td>\n      <td>NaN</td>\n      <td>NaN</td>\n      <td></td>\n      <td></td>\n      <td></td>\n      <td></td>\n      <td></td>\n      <td></td>\n      <td></td>\n      <td></td>\n      <td></td>\n      <td></td>\n      <td></td>\n      <td></td>\n      <td></td>\n      <td></td>\n      <td></td>\n      <td></td>\n      <td></td>\n      <td></td>\n      <td></td>\n      <td></td>\n      <td></td>\n      <td></td>\n      <td></td>\n      <td></td>\n      <td>None</td>\n      <td>AzureDiagnostics</td>\n    </tr>\n    <tr>\n      <th>7</th>\n      <td>2021-05-11 18:45:55.469000+00:00</td>\n      <td>QueryStoreWaitStatistics</td>\n      <td>MICROSOFT.SQL</td>\n      <td>SQLALERTDEMODATABASE</td>\n      <td>SERVERS/DATABASES</td>\n      <td>QueryStoreWaitStatisticsEvent</td>\n      <td></td>\n      <td></td>\n      <td></td>\n      <td></td>\n      <td></td>\n      <td></td>\n      <td></td>\n      <td></td>\n      <td></td>\n      <td></td>\n      <td>NaN</td>\n      <td></td>\n      <td></td>\n      <td></td>\n      <td></td>\n      <td></td>\n      <td>sqlalertdemoserver</td>\n      <td></td>\n      <td></td>\n      <td>NaN</td>\n      <td></td>\n      <td></td>\n      <td></td>\n      <td></td>\n      <td></td>\n      <td></td>\n      <td>None</td>\n      <td></td>\n      <td></td>\n      <td></td>\n      <td></td>\n      <td></td>\n      <td></td>\n      <td></td>\n      <td></td>\n      <td></td>\n      <td></td>\n      <td></td>\n      <td>NaN</td>\n      <td></td>\n      <td></td>\n      <td></td>\n      <td></td>\n      <td></td>\n      <td>NaN</td>\n      <td>NaT</td>\n      <td>NaT</td>\n      <td>sqlalertdemodatabase</td>\n      <td></td>\n      <td></td>\n      <td></td>\n      <td></td>\n      <td>NaN</td>\n      <td>NaN</td>\n      <td>NaN</td>\n      <td>NaN</td>\n      <td>NaN</td>\n      <td></td>\n      <td></td>\n      <td></td>\n      <td></td>\n      <td></td>\n      <td></td>\n      <td></td>\n      <td></td>\n      <td></td>\n      <td></td>\n      <td></td>\n      <td></td>\n      <td></td>\n      <td></td>\n      <td></td>\n      <td>None</td>\n      <td></td>\n      <td></td>\n      <td></td>\n      <td></td>\n      <td></td>\n      <td></td>\n      <td>NaN</td>\n      <td>None</td>\n      <td>NaN</td>\n      <td>NaN</td>\n      <td>NaT</td>\n      <td></td>\n      <td>NaN</td>\n      <td>None</td>\n      <td></td>\n      <td></td>\n      <td></td>\n      <td>None</td>\n      <td></td>\n      <td></td>\n      <td>NaT</td>\n      <td>NaN</td>\n      <td></td>\n      <td></td>\n      <td></td>\n      <td></td>\n      <td></td>\n      <td>0x4E8C0B5AF78C4ED1</td>\n      <td>Azure</td>\n      <td></td>\n      <td></td>\n      <td></td>\n      <td></td>\n      <td>0.0</td>\n      <td>UNKNOWN</td>\n      <td>105.0</td>\n      <td>105.0</td>\n      <td>false</td>\n      <td>x_estypSelect</td>\n      <td>2744282586</td>\n      <td>1.0</td>\n      <td>1.903744e+14</td>\n      <td>1.903744e+14</td>\n      <td>NaN</td>\n      <td>NaN</td>\n      <td>NaN</td>\n      <td>NaN</td>\n      <td>NaN</td>\n      <td>NaN</td>\n      <td>NaN</td>\n      <td>1.0</td>\n      <td>NaN</td>\n      <td>NaN</td>\n      <td>NaN</td>\n      <td>NaN</td>\n      <td>NaN</td>\n      <td>NaN</td>\n      <td>NaN</td>\n      <td>NaN</td>\n      <td>NaN</td>\n      <td>NaN</td>\n      <td>NaN</td>\n      <td>NaN</td>\n      <td>NaN</td>\n      <td>NaN</td>\n      <td>40.0</td>\n      <td>2.0</td>\n      <td>0x0900C6D4FC50EF5B4E298DBE4E3A7EA7911F00000000...</td>\n      <td>0x132EFB64A54855E5</td>\n      <td>NaN</td>\n      <td>NaN</td>\n      <td>None</td>\n      <td>NaN</td>\n      <td>NaT</td>\n      <td>NaN</td>\n      <td>NaT</td>\n      <td>NaN</td>\n      <td></td>\n      <td></td>\n      <td></td>\n      <td></td>\n      <td>NaN</td>\n      <td>NaN</td>\n      <td>NaN</td>\n      <td>NaN</td>\n      <td>NaN</td>\n      <td>NaN</td>\n      <td>NaN</td>\n      <td>NaN</td>\n      <td></td>\n      <td></td>\n      <td></td>\n      <td>NaN</td>\n      <td>NaN</td>\n      <td>NaN</td>\n      <td>NaN</td>\n      <td></td>\n      <td></td>\n      <td></td>\n      <td></td>\n      <td></td>\n      <td></td>\n      <td></td>\n      <td></td>\n      <td></td>\n      <td></td>\n      <td></td>\n      <td></td>\n      <td></td>\n      <td></td>\n      <td></td>\n      <td></td>\n      <td></td>\n      <td></td>\n      <td></td>\n      <td></td>\n      <td></td>\n      <td></td>\n      <td></td>\n      <td></td>\n      <td>None</td>\n      <td>AzureDiagnostics</td>\n    </tr>\n    <tr>\n      <th>8</th>\n      <td>2021-05-11 18:45:55.469000+00:00</td>\n      <td>QueryStoreWaitStatistics</td>\n      <td>MICROSOFT.SQL</td>\n      <td>SQLALERTDEMODATABASE</td>\n      <td>SERVERS/DATABASES</td>\n      <td>QueryStoreWaitStatisticsEvent</td>\n      <td></td>\n      <td></td>\n      <td></td>\n      <td></td>\n      <td></td>\n      <td></td>\n      <td></td>\n      <td></td>\n      <td></td>\n      <td></td>\n      <td>NaN</td>\n      <td></td>\n      <td></td>\n      <td></td>\n      <td></td>\n      <td></td>\n      <td>sqlalertdemoserver</td>\n      <td></td>\n      <td></td>\n      <td>NaN</td>\n      <td></td>\n      <td></td>\n      <td></td>\n      <td></td>\n      <td></td>\n      <td></td>\n      <td>None</td>\n      <td></td>\n      <td></td>\n      <td></td>\n      <td></td>\n      <td></td>\n      <td></td>\n      <td></td>\n      <td></td>\n      <td></td>\n      <td></td>\n      <td></td>\n      <td>NaN</td>\n      <td></td>\n      <td></td>\n      <td></td>\n      <td></td>\n      <td></td>\n      <td>NaN</td>\n      <td>NaT</td>\n      <td>NaT</td>\n      <td>sqlalertdemodatabase</td>\n      <td></td>\n      <td></td>\n      <td></td>\n      <td></td>\n      <td>NaN</td>\n      <td>NaN</td>\n      <td>NaN</td>\n      <td>NaN</td>\n      <td>NaN</td>\n      <td></td>\n      <td></td>\n      <td></td>\n      <td></td>\n      <td></td>\n      <td></td>\n      <td></td>\n      <td></td>\n      <td></td>\n      <td></td>\n      <td></td>\n      <td></td>\n      <td></td>\n      <td></td>\n      <td></td>\n      <td>None</td>\n      <td></td>\n      <td></td>\n      <td></td>\n      <td></td>\n      <td></td>\n      <td></td>\n      <td>NaN</td>\n      <td>None</td>\n      <td>NaN</td>\n      <td>NaN</td>\n      <td>NaT</td>\n      <td></td>\n      <td>NaN</td>\n      <td>None</td>\n      <td></td>\n      <td></td>\n      <td></td>\n      <td>None</td>\n      <td></td>\n      <td></td>\n      <td>NaT</td>\n      <td>NaN</td>\n      <td></td>\n      <td></td>\n      <td></td>\n      <td></td>\n      <td></td>\n      <td>0x4E8C0B5AF78C4ED1</td>\n      <td>Azure</td>\n      <td></td>\n      <td></td>\n      <td></td>\n      <td></td>\n      <td>0.0</td>\n      <td>CPU</td>\n      <td>128.0</td>\n      <td>128.0</td>\n      <td>false</td>\n      <td>x_estypSelect</td>\n      <td>2744282586</td>\n      <td>1.0</td>\n      <td>1.903744e+14</td>\n      <td>1.903744e+14</td>\n      <td>NaN</td>\n      <td>NaN</td>\n      <td>NaN</td>\n      <td>NaN</td>\n      <td>NaN</td>\n      <td>NaN</td>\n      <td>NaN</td>\n      <td>1.0</td>\n      <td>NaN</td>\n      <td>NaN</td>\n      <td>NaN</td>\n      <td>NaN</td>\n      <td>NaN</td>\n      <td>NaN</td>\n      <td>NaN</td>\n      <td>NaN</td>\n      <td>NaN</td>\n      <td>NaN</td>\n      <td>NaN</td>\n      <td>NaN</td>\n      <td>NaN</td>\n      <td>NaN</td>\n      <td>40.0</td>\n      <td>2.0</td>\n      <td>0x0900C6D4FC50EF5B4E298DBE4E3A7EA7911F00000000...</td>\n      <td>0x132EFB64A54855E5</td>\n      <td>NaN</td>\n      <td>NaN</td>\n      <td>None</td>\n      <td>NaN</td>\n      <td>NaT</td>\n      <td>NaN</td>\n      <td>NaT</td>\n      <td>NaN</td>\n      <td></td>\n      <td></td>\n      <td></td>\n      <td></td>\n      <td>NaN</td>\n      <td>NaN</td>\n      <td>NaN</td>\n      <td>NaN</td>\n      <td>NaN</td>\n      <td>NaN</td>\n      <td>NaN</td>\n      <td>NaN</td>\n      <td></td>\n      <td></td>\n      <td></td>\n      <td>NaN</td>\n      <td>NaN</td>\n      <td>NaN</td>\n      <td>NaN</td>\n      <td></td>\n      <td></td>\n      <td></td>\n      <td></td>\n      <td></td>\n      <td></td>\n      <td></td>\n      <td></td>\n      <td></td>\n      <td></td>\n      <td></td>\n      <td></td>\n      <td></td>\n      <td></td>\n      <td></td>\n      <td></td>\n      <td></td>\n      <td></td>\n      <td></td>\n      <td></td>\n      <td></td>\n      <td></td>\n      <td></td>\n      <td></td>\n      <td>None</td>\n      <td>AzureDiagnostics</td>\n    </tr>\n    <tr>\n      <th>9</th>\n      <td>2021-05-11 18:45:55.469000+00:00</td>\n      <td>QueryStoreWaitStatistics</td>\n      <td>MICROSOFT.SQL</td>\n      <td>SQLALERTDEMODATABASE</td>\n      <td>SERVERS/DATABASES</td>\n      <td>QueryStoreWaitStatisticsEvent</td>\n      <td></td>\n      <td></td>\n      <td></td>\n      <td></td>\n      <td></td>\n      <td></td>\n      <td></td>\n      <td></td>\n      <td></td>\n      <td></td>\n      <td>NaN</td>\n      <td></td>\n      <td></td>\n      <td></td>\n      <td></td>\n      <td></td>\n      <td>sqlalertdemoserver</td>\n      <td></td>\n      <td></td>\n      <td>NaN</td>\n      <td></td>\n      <td></td>\n      <td></td>\n      <td></td>\n      <td></td>\n      <td></td>\n      <td>None</td>\n      <td></td>\n      <td></td>\n      <td></td>\n      <td></td>\n      <td></td>\n      <td></td>\n      <td></td>\n      <td></td>\n      <td></td>\n      <td></td>\n      <td></td>\n      <td>NaN</td>\n      <td></td>\n      <td></td>\n      <td></td>\n      <td></td>\n      <td></td>\n      <td>NaN</td>\n      <td>NaT</td>\n      <td>NaT</td>\n      <td>sqlalertdemodatabase</td>\n      <td></td>\n      <td></td>\n      <td></td>\n      <td></td>\n      <td>NaN</td>\n      <td>NaN</td>\n      <td>NaN</td>\n      <td>NaN</td>\n      <td>NaN</td>\n      <td></td>\n      <td></td>\n      <td></td>\n      <td></td>\n      <td></td>\n      <td></td>\n      <td></td>\n      <td></td>\n      <td></td>\n      <td></td>\n      <td></td>\n      <td></td>\n      <td></td>\n      <td></td>\n      <td></td>\n      <td>None</td>\n      <td></td>\n      <td></td>\n      <td></td>\n      <td></td>\n      <td></td>\n      <td></td>\n      <td>NaN</td>\n      <td>None</td>\n      <td>NaN</td>\n      <td>NaN</td>\n      <td>NaT</td>\n      <td></td>\n      <td>NaN</td>\n      <td>None</td>\n      <td></td>\n      <td></td>\n      <td></td>\n      <td>None</td>\n      <td></td>\n      <td></td>\n      <td>NaT</td>\n      <td>NaN</td>\n      <td></td>\n      <td></td>\n      <td></td>\n      <td></td>\n      <td></td>\n      <td>0x4E8C0B5AF78C4ED1</td>\n      <td>Azure</td>\n      <td></td>\n      <td></td>\n      <td></td>\n      <td></td>\n      <td>0.0</td>\n      <td>BUFFERIO</td>\n      <td>2879.0</td>\n      <td>2879.0</td>\n      <td>false</td>\n      <td>x_estypSelect</td>\n      <td>2744282586</td>\n      <td>1.0</td>\n      <td>1.903744e+14</td>\n      <td>1.903744e+14</td>\n      <td>NaN</td>\n      <td>NaN</td>\n      <td>NaN</td>\n      <td>NaN</td>\n      <td>NaN</td>\n      <td>NaN</td>\n      <td>NaN</td>\n      <td>1.0</td>\n      <td>NaN</td>\n      <td>NaN</td>\n      <td>NaN</td>\n      <td>NaN</td>\n      <td>NaN</td>\n      <td>NaN</td>\n      <td>NaN</td>\n      <td>NaN</td>\n      <td>NaN</td>\n      <td>NaN</td>\n      <td>NaN</td>\n      <td>NaN</td>\n      <td>NaN</td>\n      <td>NaN</td>\n      <td>40.0</td>\n      <td>2.0</td>\n      <td>0x0900C6D4FC50EF5B4E298DBE4E3A7EA7911F00000000...</td>\n      <td>0x132EFB64A54855E5</td>\n      <td>NaN</td>\n      <td>NaN</td>\n      <td>None</td>\n      <td>NaN</td>\n      <td>NaT</td>\n      <td>NaN</td>\n      <td>NaT</td>\n      <td>NaN</td>\n      <td></td>\n      <td></td>\n      <td></td>\n      <td></td>\n      <td>NaN</td>\n      <td>NaN</td>\n      <td>NaN</td>\n      <td>NaN</td>\n      <td>NaN</td>\n      <td>NaN</td>\n      <td>NaN</td>\n      <td>NaN</td>\n      <td></td>\n      <td></td>\n      <td></td>\n      <td>NaN</td>\n      <td>NaN</td>\n      <td>NaN</td>\n      <td>NaN</td>\n      <td></td>\n      <td></td>\n      <td></td>\n      <td></td>\n      <td></td>\n      <td></td>\n      <td></td>\n      <td></td>\n      <td></td>\n      <td></td>\n      <td></td>\n      <td></td>\n      <td></td>\n      <td></td>\n      <td></td>\n      <td></td>\n      <td></td>\n      <td></td>\n      <td></td>\n      <td></td>\n      <td></td>\n      <td></td>\n      <td></td>\n      <td></td>\n      <td>None</td>\n      <td>AzureDiagnostics</td>\n    </tr>\n  </tbody>\n</table>\n</div>",
                        "application/vnd.dataresource+json": {
                            "schema": {
                                "fields": [
                                    {
                                        "name": "TimeGenerated",
                                        "type": "datetime",
                                        "tz": "UTC"
                                    },
                                    {
                                        "name": "Category",
                                        "type": "string"
                                    },
                                    {
                                        "name": "ResourceProvider",
                                        "type": "string"
                                    },
                                    {
                                        "name": "Resource",
                                        "type": "string"
                                    },
                                    {
                                        "name": "ResourceType",
                                        "type": "string"
                                    },
                                    {
                                        "name": "OperationName",
                                        "type": "string"
                                    },
                                    {
                                        "name": "ResultType",
                                        "type": "string"
                                    },
                                    {
                                        "name": "CorrelationId",
                                        "type": "string"
                                    },
                                    {
                                        "name": "ResultDescription",
                                        "type": "string"
                                    },
                                    {
                                        "name": "Tenant_g",
                                        "type": "string"
                                    },
                                    {
                                        "name": "JobId_g",
                                        "type": "string"
                                    },
                                    {
                                        "name": "RunbookName_s",
                                        "type": "string"
                                    },
                                    {
                                        "name": "StreamType_s",
                                        "type": "string"
                                    },
                                    {
                                        "name": "Caller_s",
                                        "type": "string"
                                    },
                                    {
                                        "name": "requestUri_s",
                                        "type": "string"
                                    },
                                    {
                                        "name": "Level",
                                        "type": "string"
                                    },
                                    {
                                        "name": "DurationMs",
                                        "type": "number"
                                    },
                                    {
                                        "name": "CallerIPAddress",
                                        "type": "string"
                                    },
                                    {
                                        "name": "OperationVersion",
                                        "type": "string"
                                    },
                                    {
                                        "name": "ResultSignature",
                                        "type": "string"
                                    },
                                    {
                                        "name": "id_s",
                                        "type": "string"
                                    },
                                    {
                                        "name": "status_s",
                                        "type": "string"
                                    },
                                    {
                                        "name": "LogicalServerName_s",
                                        "type": "string"
                                    },
                                    {
                                        "name": "Message",
                                        "type": "string"
                                    },
                                    {
                                        "name": "clientInfo_s",
                                        "type": "string"
                                    },
                                    {
                                        "name": "httpStatusCode_d",
                                        "type": "number"
                                    },
                                    {
                                        "name": "identity_claim_appid_g",
                                        "type": "string"
                                    },
                                    {
                                        "name": "identity_claim_http_schemas_microsoft_com_identity_claims_objectidentifier_g",
                                        "type": "string"
                                    },
                                    {
                                        "name": "userAgent_s",
                                        "type": "string"
                                    },
                                    {
                                        "name": "ruleName_s",
                                        "type": "string"
                                    },
                                    {
                                        "name": "identity_claim_http_schemas_xmlsoap_org_ws_2005_05_identity_claims_upn_s",
                                        "type": "string"
                                    },
                                    {
                                        "name": "systemId_g",
                                        "type": "string"
                                    },
                                    {
                                        "name": "isAccessPolicyMatch_b",
                                        "type": "string"
                                    },
                                    {
                                        "name": "EventName_s",
                                        "type": "string"
                                    },
                                    {
                                        "name": "httpMethod_s",
                                        "type": "string"
                                    },
                                    {
                                        "name": "subnetId_s",
                                        "type": "string"
                                    },
                                    {
                                        "name": "type_s",
                                        "type": "string"
                                    },
                                    {
                                        "name": "instanceId_s",
                                        "type": "string"
                                    },
                                    {
                                        "name": "macAddress_s",
                                        "type": "string"
                                    },
                                    {
                                        "name": "vnetResourceGuid_g",
                                        "type": "string"
                                    },
                                    {
                                        "name": "direction_s",
                                        "type": "string"
                                    },
                                    {
                                        "name": "subnetPrefix_s",
                                        "type": "string"
                                    },
                                    {
                                        "name": "primaryIPv4Address_s",
                                        "type": "string"
                                    },
                                    {
                                        "name": "conditions_sourcePortRange_s",
                                        "type": "string"
                                    },
                                    {
                                        "name": "priority_d",
                                        "type": "number"
                                    },
                                    {
                                        "name": "conditions_destinationPortRange_s",
                                        "type": "string"
                                    },
                                    {
                                        "name": "conditions_destinationIP_s",
                                        "type": "string"
                                    },
                                    {
                                        "name": "conditions_None_s",
                                        "type": "string"
                                    },
                                    {
                                        "name": "conditions_sourceIP_s",
                                        "type": "string"
                                    },
                                    {
                                        "name": "httpVersion_s",
                                        "type": "string"
                                    },
                                    {
                                        "name": "matchedConnections_d",
                                        "type": "number"
                                    },
                                    {
                                        "name": "startTime_t",
                                        "type": "datetime"
                                    },
                                    {
                                        "name": "endTime_t",
                                        "type": "datetime"
                                    },
                                    {
                                        "name": "DatabaseName_s",
                                        "type": "string"
                                    },
                                    {
                                        "name": "clientIP_s",
                                        "type": "string"
                                    },
                                    {
                                        "name": "host_s",
                                        "type": "string"
                                    },
                                    {
                                        "name": "requestQuery_s",
                                        "type": "string"
                                    },
                                    {
                                        "name": "sslEnabled_s",
                                        "type": "string"
                                    },
                                    {
                                        "name": "clientPort_d",
                                        "type": "number"
                                    },
                                    {
                                        "name": "httpStatus_d",
                                        "type": "number"
                                    },
                                    {
                                        "name": "receivedBytes_d",
                                        "type": "number"
                                    },
                                    {
                                        "name": "sentBytes_d",
                                        "type": "number"
                                    },
                                    {
                                        "name": "timeTaken_d",
                                        "type": "number"
                                    },
                                    {
                                        "name": "resultDescription_ErrorJobs_s",
                                        "type": "string"
                                    },
                                    {
                                        "name": "resultDescription_ChildJobs_s",
                                        "type": "string"
                                    },
                                    {
                                        "name": "identity_claim_http_schemas_microsoft_com_identity_claims_scope_s",
                                        "type": "string"
                                    },
                                    {
                                        "name": "workflowId_s",
                                        "type": "string"
                                    },
                                    {
                                        "name": "resource_location_s",
                                        "type": "string"
                                    },
                                    {
                                        "name": "resource_workflowId_g",
                                        "type": "string"
                                    },
                                    {
                                        "name": "resource_resourceGroupName_s",
                                        "type": "string"
                                    },
                                    {
                                        "name": "resource_subscriptionId_g",
                                        "type": "string"
                                    },
                                    {
                                        "name": "resource_runId_s",
                                        "type": "string"
                                    },
                                    {
                                        "name": "resource_workflowName_s",
                                        "type": "string"
                                    },
                                    {
                                        "name": "_schema_s",
                                        "type": "string"
                                    },
                                    {
                                        "name": "correlation_clientTrackingId_s",
                                        "type": "string"
                                    },
                                    {
                                        "name": "properties_sku_Family_s",
                                        "type": "string"
                                    },
                                    {
                                        "name": "properties_sku_Name_s",
                                        "type": "string"
                                    },
                                    {
                                        "name": "properties_tenantId_g",
                                        "type": "string"
                                    },
                                    {
                                        "name": "properties_enabledForDeployment_b",
                                        "type": "string"
                                    },
                                    {
                                        "name": "code_s",
                                        "type": "string"
                                    },
                                    {
                                        "name": "resultDescription_Summary_MachineId_s",
                                        "type": "string"
                                    },
                                    {
                                        "name": "resultDescription_Summary_ScheduleName_s",
                                        "type": "string"
                                    },
                                    {
                                        "name": "resultDescription_Summary_Status_s",
                                        "type": "string"
                                    },
                                    {
                                        "name": "resultDescription_Summary_StatusDescription_s",
                                        "type": "string"
                                    },
                                    {
                                        "name": "resultDescription_Summary_MachineName_s",
                                        "type": "string"
                                    },
                                    {
                                        "name": "resultDescription_Summary_TotalUpdatesInstalled_d",
                                        "type": "number"
                                    },
                                    {
                                        "name": "resultDescription_Summary_RebootRequired_b",
                                        "type": "string"
                                    },
                                    {
                                        "name": "resultDescription_Summary_TotalUpdatesFailed_d",
                                        "type": "number"
                                    },
                                    {
                                        "name": "resultDescription_Summary_InstallPercentage_d",
                                        "type": "number"
                                    },
                                    {
                                        "name": "resultDescription_Summary_StartDateTimeUtc_t",
                                        "type": "datetime"
                                    },
                                    {
                                        "name": "resource_triggerName_s",
                                        "type": "string"
                                    },
                                    {
                                        "name": "resultDescription_Summary_InitialRequiredUpdatesCount_d",
                                        "type": "number"
                                    },
                                    {
                                        "name": "properties_enabledForTemplateDeployment_b",
                                        "type": "string"
                                    },
                                    {
                                        "name": "resultDescription_Summary_EndDateTimeUtc_s",
                                        "type": "string"
                                    },
                                    {
                                        "name": "resultDescription_Summary_DurationInMinutes_s",
                                        "type": "string"
                                    },
                                    {
                                        "name": "resource_originRunId_s",
                                        "type": "string"
                                    },
                                    {
                                        "name": "properties_enabledForDiskEncryption_b",
                                        "type": "string"
                                    },
                                    {
                                        "name": "resource_actionName_s",
                                        "type": "string"
                                    },
                                    {
                                        "name": "correlation_actionTrackingId_g",
                                        "type": "string"
                                    },
                                    {
                                        "name": "resultDescription_Summary_EndDateTimeUtc_t",
                                        "type": "datetime"
                                    },
                                    {
                                        "name": "resultDescription_Summary_DurationInMinutes_d",
                                        "type": "number"
                                    },
                                    {
                                        "name": "conditions_protocols_s",
                                        "type": "string"
                                    },
                                    {
                                        "name": "identity_claim_ipaddr_s",
                                        "type": "string"
                                    },
                                    {
                                        "name": "ElasticPoolName_s",
                                        "type": "string"
                                    },
                                    {
                                        "name": "identity_claim_http_schemas_microsoft_com_claims_authnmethodsreferences_s",
                                        "type": "string"
                                    },
                                    {
                                        "name": "RunOn_s",
                                        "type": "string"
                                    },
                                    {
                                        "name": "query_hash_s",
                                        "type": "string"
                                    },
                                    {
                                        "name": "SourceSystem",
                                        "type": "string"
                                    },
                                    {
                                        "name": "MG",
                                        "type": "string"
                                    },
                                    {
                                        "name": "ManagementGroupName",
                                        "type": "string"
                                    },
                                    {
                                        "name": "Computer",
                                        "type": "string"
                                    },
                                    {
                                        "name": "RawData",
                                        "type": "string"
                                    },
                                    {
                                        "name": "exec_type_d",
                                        "type": "number"
                                    },
                                    {
                                        "name": "wait_category_s",
                                        "type": "string"
                                    },
                                    {
                                        "name": "total_query_wait_time_ms_d",
                                        "type": "number"
                                    },
                                    {
                                        "name": "max_query_wait_time_ms_d",
                                        "type": "number"
                                    },
                                    {
                                        "name": "is_parameterizable_s",
                                        "type": "string"
                                    },
                                    {
                                        "name": "statement_type_s",
                                        "type": "string"
                                    },
                                    {
                                        "name": "statement_key_hash_s",
                                        "type": "string"
                                    },
                                    {
                                        "name": "query_param_type_d",
                                        "type": "number"
                                    },
                                    {
                                        "name": "interval_start_time_d",
                                        "type": "number"
                                    },
                                    {
                                        "name": "interval_end_time_d",
                                        "type": "number"
                                    },
                                    {
                                        "name": "logical_io_writes_d",
                                        "type": "number"
                                    },
                                    {
                                        "name": "max_logical_io_writes_d",
                                        "type": "number"
                                    },
                                    {
                                        "name": "physical_io_reads_d",
                                        "type": "number"
                                    },
                                    {
                                        "name": "max_physical_io_reads_d",
                                        "type": "number"
                                    },
                                    {
                                        "name": "logical_io_reads_d",
                                        "type": "number"
                                    },
                                    {
                                        "name": "max_logical_io_reads_d",
                                        "type": "number"
                                    },
                                    {
                                        "name": "execution_type_d",
                                        "type": "number"
                                    },
                                    {
                                        "name": "count_executions_d",
                                        "type": "number"
                                    },
                                    {
                                        "name": "cpu_time_d",
                                        "type": "number"
                                    },
                                    {
                                        "name": "max_cpu_time_d",
                                        "type": "number"
                                    },
                                    {
                                        "name": "dop_d",
                                        "type": "number"
                                    },
                                    {
                                        "name": "max_dop_d",
                                        "type": "number"
                                    },
                                    {
                                        "name": "rowcount_d",
                                        "type": "number"
                                    },
                                    {
                                        "name": "max_rowcount_d",
                                        "type": "number"
                                    },
                                    {
                                        "name": "query_max_used_memory_d",
                                        "type": "number"
                                    },
                                    {
                                        "name": "max_query_max_used_memory_d",
                                        "type": "number"
                                    },
                                    {
                                        "name": "duration_d",
                                        "type": "number"
                                    },
                                    {
                                        "name": "max_duration_d",
                                        "type": "number"
                                    },
                                    {
                                        "name": "num_physical_io_reads_d",
                                        "type": "number"
                                    },
                                    {
                                        "name": "max_num_physical_io_reads_d",
                                        "type": "number"
                                    },
                                    {
                                        "name": "log_bytes_used_d",
                                        "type": "number"
                                    },
                                    {
                                        "name": "max_log_bytes_used_d",
                                        "type": "number"
                                    },
                                    {
                                        "name": "query_id_d",
                                        "type": "number"
                                    },
                                    {
                                        "name": "plan_id_d",
                                        "type": "number"
                                    },
                                    {
                                        "name": "statement_sql_handle_s",
                                        "type": "string"
                                    },
                                    {
                                        "name": "query_plan_hash_s",
                                        "type": "string"
                                    },
                                    {
                                        "name": "error_number_d",
                                        "type": "number"
                                    },
                                    {
                                        "name": "Severity",
                                        "type": "number"
                                    },
                                    {
                                        "name": "user_defined_b",
                                        "type": "string"
                                    },
                                    {
                                        "name": "state_d",
                                        "type": "number"
                                    },
                                    {
                                        "name": "originalEventTimestamp_t",
                                        "type": "datetime",
                                        "tz": "UTC"
                                    },
                                    {
                                        "name": "audit_schema_version_d",
                                        "type": "number"
                                    },
                                    {
                                        "name": "event_time_t",
                                        "type": "datetime",
                                        "tz": "UTC"
                                    },
                                    {
                                        "name": "sequence_number_d",
                                        "type": "number"
                                    },
                                    {
                                        "name": "action_id_s",
                                        "type": "string"
                                    },
                                    {
                                        "name": "action_name_s",
                                        "type": "string"
                                    },
                                    {
                                        "name": "succeeded_s",
                                        "type": "string"
                                    },
                                    {
                                        "name": "is_column_permission_s",
                                        "type": "string"
                                    },
                                    {
                                        "name": "session_id_d",
                                        "type": "number"
                                    },
                                    {
                                        "name": "server_principal_id_d",
                                        "type": "number"
                                    },
                                    {
                                        "name": "database_principal_id_d",
                                        "type": "number"
                                    },
                                    {
                                        "name": "target_server_principal_id_d",
                                        "type": "number"
                                    },
                                    {
                                        "name": "target_database_principal_id_d",
                                        "type": "number"
                                    },
                                    {
                                        "name": "object_id_d",
                                        "type": "number"
                                    },
                                    {
                                        "name": "user_defined_event_id_d",
                                        "type": "number"
                                    },
                                    {
                                        "name": "transaction_id_d",
                                        "type": "number"
                                    },
                                    {
                                        "name": "class_type_s",
                                        "type": "string"
                                    },
                                    {
                                        "name": "class_type_description_s",
                                        "type": "string"
                                    },
                                    {
                                        "name": "securable_class_type_s",
                                        "type": "string"
                                    },
                                    {
                                        "name": "duration_milliseconds_d",
                                        "type": "number"
                                    },
                                    {
                                        "name": "response_rows_d",
                                        "type": "number"
                                    },
                                    {
                                        "name": "affected_rows_d",
                                        "type": "number"
                                    },
                                    {
                                        "name": "client_tls_version_d",
                                        "type": "number"
                                    },
                                    {
                                        "name": "client_ip_s",
                                        "type": "string"
                                    },
                                    {
                                        "name": "permission_bitmask_g",
                                        "type": "string"
                                    },
                                    {
                                        "name": "sequence_group_id_g",
                                        "type": "string"
                                    },
                                    {
                                        "name": "session_server_principal_name_s",
                                        "type": "string"
                                    },
                                    {
                                        "name": "server_principal_name_s",
                                        "type": "string"
                                    },
                                    {
                                        "name": "server_principal_sid_s",
                                        "type": "string"
                                    },
                                    {
                                        "name": "database_principal_name_s",
                                        "type": "string"
                                    },
                                    {
                                        "name": "target_server_principal_name_s",
                                        "type": "string"
                                    },
                                    {
                                        "name": "target_server_principal_sid_s",
                                        "type": "string"
                                    },
                                    {
                                        "name": "target_database_principal_name_s",
                                        "type": "string"
                                    },
                                    {
                                        "name": "server_instance_name_s",
                                        "type": "string"
                                    },
                                    {
                                        "name": "database_name_s",
                                        "type": "string"
                                    },
                                    {
                                        "name": "schema_name_s",
                                        "type": "string"
                                    },
                                    {
                                        "name": "object_name_s",
                                        "type": "string"
                                    },
                                    {
                                        "name": "statement_s",
                                        "type": "string"
                                    },
                                    {
                                        "name": "additional_information_s",
                                        "type": "string"
                                    },
                                    {
                                        "name": "user_defined_information_s",
                                        "type": "string"
                                    },
                                    {
                                        "name": "application_name_s",
                                        "type": "string"
                                    },
                                    {
                                        "name": "connection_id_g",
                                        "type": "string"
                                    },
                                    {
                                        "name": "data_sensitivity_information_s",
                                        "type": "string"
                                    },
                                    {
                                        "name": "host_name_s",
                                        "type": "string"
                                    },
                                    {
                                        "name": "session_context_s",
                                        "type": "string"
                                    },
                                    {
                                        "name": "is_server_level_audit_s",
                                        "type": "string"
                                    },
                                    {
                                        "name": "event_id_g",
                                        "type": "string"
                                    },
                                    {
                                        "name": "AdditionalFields",
                                        "type": "string"
                                    },
                                    {
                                        "name": "Type",
                                        "type": "string"
                                    }
                                ],
                                "kqmagic_version": "0.1.113.post1"
                            },
                            "data": [
                                {
                                    "TimeGenerated": "2021-05-11T18:34:32.288Z",
                                    "Category": "SQLSecurityAuditEvents",
                                    "ResourceProvider": "MICROSOFT.SQL",
                                    "Resource": "MASTER",
                                    "ResourceType": "SERVERS/DATABASES",
                                    "OperationName": "AuditEvent",
                                    "ResultType": "",
                                    "CorrelationId": "",
                                    "ResultDescription": "",
                                    "Tenant_g": "",
                                    "JobId_g": "",
                                    "RunbookName_s": "",
                                    "StreamType_s": "",
                                    "Caller_s": "",
                                    "requestUri_s": "",
                                    "Level": "",
                                    "DurationMs": null,
                                    "CallerIPAddress": "",
                                    "OperationVersion": "",
                                    "ResultSignature": "",
                                    "id_s": "",
                                    "status_s": "",
                                    "LogicalServerName_s": "sqlalertdemoserver",
                                    "Message": "",
                                    "clientInfo_s": "",
                                    "httpStatusCode_d": null,
                                    "identity_claim_appid_g": "",
                                    "identity_claim_http_schemas_microsoft_com_identity_claims_objectidentifier_g": "",
                                    "userAgent_s": "",
                                    "ruleName_s": "",
                                    "identity_claim_http_schemas_xmlsoap_org_ws_2005_05_identity_claims_upn_s": "",
                                    "systemId_g": "",
                                    "isAccessPolicyMatch_b": null,
                                    "EventName_s": "",
                                    "httpMethod_s": "",
                                    "subnetId_s": "",
                                    "type_s": "",
                                    "instanceId_s": "",
                                    "macAddress_s": "",
                                    "vnetResourceGuid_g": "",
                                    "direction_s": "",
                                    "subnetPrefix_s": "",
                                    "primaryIPv4Address_s": "",
                                    "conditions_sourcePortRange_s": "",
                                    "priority_d": null,
                                    "conditions_destinationPortRange_s": "",
                                    "conditions_destinationIP_s": "",
                                    "conditions_None_s": "",
                                    "conditions_sourceIP_s": "",
                                    "httpVersion_s": "",
                                    "matchedConnections_d": null,
                                    "startTime_t": null,
                                    "endTime_t": null,
                                    "DatabaseName_s": "",
                                    "clientIP_s": "",
                                    "host_s": "",
                                    "requestQuery_s": "",
                                    "sslEnabled_s": "",
                                    "clientPort_d": null,
                                    "httpStatus_d": null,
                                    "receivedBytes_d": null,
                                    "sentBytes_d": null,
                                    "timeTaken_d": null,
                                    "resultDescription_ErrorJobs_s": "",
                                    "resultDescription_ChildJobs_s": "",
                                    "identity_claim_http_schemas_microsoft_com_identity_claims_scope_s": "",
                                    "workflowId_s": "",
                                    "resource_location_s": "",
                                    "resource_workflowId_g": "",
                                    "resource_resourceGroupName_s": "",
                                    "resource_subscriptionId_g": "",
                                    "resource_runId_s": "",
                                    "resource_workflowName_s": "",
                                    "_schema_s": "",
                                    "correlation_clientTrackingId_s": "",
                                    "properties_sku_Family_s": "",
                                    "properties_sku_Name_s": "",
                                    "properties_tenantId_g": "",
                                    "properties_enabledForDeployment_b": null,
                                    "code_s": "",
                                    "resultDescription_Summary_MachineId_s": "",
                                    "resultDescription_Summary_ScheduleName_s": "",
                                    "resultDescription_Summary_Status_s": "",
                                    "resultDescription_Summary_StatusDescription_s": "",
                                    "resultDescription_Summary_MachineName_s": "",
                                    "resultDescription_Summary_TotalUpdatesInstalled_d": null,
                                    "resultDescription_Summary_RebootRequired_b": null,
                                    "resultDescription_Summary_TotalUpdatesFailed_d": null,
                                    "resultDescription_Summary_InstallPercentage_d": null,
                                    "resultDescription_Summary_StartDateTimeUtc_t": null,
                                    "resource_triggerName_s": "",
                                    "resultDescription_Summary_InitialRequiredUpdatesCount_d": null,
                                    "properties_enabledForTemplateDeployment_b": null,
                                    "resultDescription_Summary_EndDateTimeUtc_s": "",
                                    "resultDescription_Summary_DurationInMinutes_s": "",
                                    "resource_originRunId_s": "",
                                    "properties_enabledForDiskEncryption_b": null,
                                    "resource_actionName_s": "",
                                    "correlation_actionTrackingId_g": "",
                                    "resultDescription_Summary_EndDateTimeUtc_t": null,
                                    "resultDescription_Summary_DurationInMinutes_d": null,
                                    "conditions_protocols_s": "",
                                    "identity_claim_ipaddr_s": "",
                                    "ElasticPoolName_s": "",
                                    "identity_claim_http_schemas_microsoft_com_claims_authnmethodsreferences_s": "",
                                    "RunOn_s": "",
                                    "query_hash_s": "",
                                    "SourceSystem": "Azure",
                                    "MG": "",
                                    "ManagementGroupName": "",
                                    "Computer": "",
                                    "RawData": "",
                                    "exec_type_d": null,
                                    "wait_category_s": "",
                                    "total_query_wait_time_ms_d": null,
                                    "max_query_wait_time_ms_d": null,
                                    "is_parameterizable_s": "",
                                    "statement_type_s": "",
                                    "statement_key_hash_s": "",
                                    "query_param_type_d": null,
                                    "interval_start_time_d": null,
                                    "interval_end_time_d": null,
                                    "logical_io_writes_d": null,
                                    "max_logical_io_writes_d": null,
                                    "physical_io_reads_d": null,
                                    "max_physical_io_reads_d": null,
                                    "logical_io_reads_d": null,
                                    "max_logical_io_reads_d": null,
                                    "execution_type_d": null,
                                    "count_executions_d": null,
                                    "cpu_time_d": null,
                                    "max_cpu_time_d": null,
                                    "dop_d": null,
                                    "max_dop_d": null,
                                    "rowcount_d": null,
                                    "max_rowcount_d": null,
                                    "query_max_used_memory_d": null,
                                    "max_query_max_used_memory_d": null,
                                    "duration_d": null,
                                    "max_duration_d": null,
                                    "num_physical_io_reads_d": null,
                                    "max_num_physical_io_reads_d": null,
                                    "log_bytes_used_d": null,
                                    "max_log_bytes_used_d": null,
                                    "query_id_d": null,
                                    "plan_id_d": null,
                                    "statement_sql_handle_s": "",
                                    "query_plan_hash_s": "",
                                    "error_number_d": null,
                                    "Severity": null,
                                    "user_defined_b": null,
                                    "state_d": null,
                                    "originalEventTimestamp_t": "2021-05-11T18:34:32.285Z",
                                    "audit_schema_version_d": 1,
                                    "event_time_t": "2021-05-11T18:34:31.303Z",
                                    "sequence_number_d": 1,
                                    "action_id_s": "AUSC",
                                    "action_name_s": "AUDIT SESSION CHANGED",
                                    "succeeded_s": "true",
                                    "is_column_permission_s": "false",
                                    "session_id_d": 58,
                                    "server_principal_id_d": 268,
                                    "database_principal_id_d": 0,
                                    "target_server_principal_id_d": 0,
                                    "target_database_principal_id_d": 0,
                                    "object_id_d": 0,
                                    "user_defined_event_id_d": 0,
                                    "transaction_id_d": 0,
                                    "class_type_s": "A ",
                                    "class_type_description_s": "SERVER AUDIT",
                                    "securable_class_type_s": "SERVER",
                                    "duration_milliseconds_d": 0,
                                    "response_rows_d": 0,
                                    "affected_rows_d": 0,
                                    "client_tls_version_d": 0,
                                    "client_ip_s": "Internal",
                                    "permission_bitmask_g": "00000000-0000-0000-0000-000000000000",
                                    "sequence_group_id_g": "00000000-0000-0000-0000-000000000000",
                                    "session_server_principal_name_s": "NT AUTHORITY\\SYSTEM",
                                    "server_principal_name_s": "NT AUTHORITY\\SYSTEM",
                                    "server_principal_sid_s": "010100000000000512000000",
                                    "database_principal_name_s": "",
                                    "target_server_principal_name_s": "",
                                    "target_server_principal_sid_s": "",
                                    "target_database_principal_name_s": "",
                                    "server_instance_name_s": "sqlalertdemoserver",
                                    "database_name_s": "",
                                    "schema_name_s": "",
                                    "object_name_s": "",
                                    "statement_s": "",
                                    "additional_information_s": "<action_info xmlns=\"http://schemas.microsoft.com/sqlserver/2008/sqlaudit_data\"><session><![CDATA[SqlDbAuditing_AzureMonitorServerAudit$A_94A73089-5751-4200-BF13-0C6ADB205EEE]]></session><action>event enabled</action><startup_type>manual</startup_type><object><![CDATA[audit_event]]></object></action_info>",
                                    "user_defined_information_s": "",
                                    "application_name_s": "Internal",
                                    "connection_id_g": "89be1467-01d3-4936-8417-728294c11750",
                                    "data_sensitivity_information_s": "",
                                    "host_name_s": "DB8",
                                    "session_context_s": "",
                                    "is_server_level_audit_s": "true",
                                    "event_id_g": "fa9dcd2f-e0aa-466e-95de-e295b686a603",
                                    "AdditionalFields": "None",
                                    "Type": "AzureDiagnostics"
                                },
                                {
                                    "TimeGenerated": "2021-05-11T19:01:10.612Z",
                                    "Category": "SQLSecurityAuditEvents",
                                    "ResourceProvider": "MICROSOFT.SQL",
                                    "Resource": "MASTER",
                                    "ResourceType": "SERVERS/DATABASES",
                                    "OperationName": "AuditEvent",
                                    "ResultType": "",
                                    "CorrelationId": "",
                                    "ResultDescription": "",
                                    "Tenant_g": "",
                                    "JobId_g": "",
                                    "RunbookName_s": "",
                                    "StreamType_s": "",
                                    "Caller_s": "",
                                    "requestUri_s": "",
                                    "Level": "",
                                    "DurationMs": null,
                                    "CallerIPAddress": "",
                                    "OperationVersion": "",
                                    "ResultSignature": "",
                                    "id_s": "",
                                    "status_s": "",
                                    "LogicalServerName_s": "sqlalertdemoserver",
                                    "Message": "",
                                    "clientInfo_s": "",
                                    "httpStatusCode_d": null,
                                    "identity_claim_appid_g": "",
                                    "identity_claim_http_schemas_microsoft_com_identity_claims_objectidentifier_g": "",
                                    "userAgent_s": "",
                                    "ruleName_s": "",
                                    "identity_claim_http_schemas_xmlsoap_org_ws_2005_05_identity_claims_upn_s": "",
                                    "systemId_g": "",
                                    "isAccessPolicyMatch_b": null,
                                    "EventName_s": "",
                                    "httpMethod_s": "",
                                    "subnetId_s": "",
                                    "type_s": "",
                                    "instanceId_s": "",
                                    "macAddress_s": "",
                                    "vnetResourceGuid_g": "",
                                    "direction_s": "",
                                    "subnetPrefix_s": "",
                                    "primaryIPv4Address_s": "",
                                    "conditions_sourcePortRange_s": "",
                                    "priority_d": null,
                                    "conditions_destinationPortRange_s": "",
                                    "conditions_destinationIP_s": "",
                                    "conditions_None_s": "",
                                    "conditions_sourceIP_s": "",
                                    "httpVersion_s": "",
                                    "matchedConnections_d": null,
                                    "startTime_t": null,
                                    "endTime_t": null,
                                    "DatabaseName_s": "",
                                    "clientIP_s": "",
                                    "host_s": "",
                                    "requestQuery_s": "",
                                    "sslEnabled_s": "",
                                    "clientPort_d": null,
                                    "httpStatus_d": null,
                                    "receivedBytes_d": null,
                                    "sentBytes_d": null,
                                    "timeTaken_d": null,
                                    "resultDescription_ErrorJobs_s": "",
                                    "resultDescription_ChildJobs_s": "",
                                    "identity_claim_http_schemas_microsoft_com_identity_claims_scope_s": "",
                                    "workflowId_s": "",
                                    "resource_location_s": "",
                                    "resource_workflowId_g": "",
                                    "resource_resourceGroupName_s": "",
                                    "resource_subscriptionId_g": "",
                                    "resource_runId_s": "",
                                    "resource_workflowName_s": "",
                                    "_schema_s": "",
                                    "correlation_clientTrackingId_s": "",
                                    "properties_sku_Family_s": "",
                                    "properties_sku_Name_s": "",
                                    "properties_tenantId_g": "",
                                    "properties_enabledForDeployment_b": null,
                                    "code_s": "",
                                    "resultDescription_Summary_MachineId_s": "",
                                    "resultDescription_Summary_ScheduleName_s": "",
                                    "resultDescription_Summary_Status_s": "",
                                    "resultDescription_Summary_StatusDescription_s": "",
                                    "resultDescription_Summary_MachineName_s": "",
                                    "resultDescription_Summary_TotalUpdatesInstalled_d": null,
                                    "resultDescription_Summary_RebootRequired_b": null,
                                    "resultDescription_Summary_TotalUpdatesFailed_d": null,
                                    "resultDescription_Summary_InstallPercentage_d": null,
                                    "resultDescription_Summary_StartDateTimeUtc_t": null,
                                    "resource_triggerName_s": "",
                                    "resultDescription_Summary_InitialRequiredUpdatesCount_d": null,
                                    "properties_enabledForTemplateDeployment_b": null,
                                    "resultDescription_Summary_EndDateTimeUtc_s": "",
                                    "resultDescription_Summary_DurationInMinutes_s": "",
                                    "resource_originRunId_s": "",
                                    "properties_enabledForDiskEncryption_b": null,
                                    "resource_actionName_s": "",
                                    "correlation_actionTrackingId_g": "",
                                    "resultDescription_Summary_EndDateTimeUtc_t": null,
                                    "resultDescription_Summary_DurationInMinutes_d": null,
                                    "conditions_protocols_s": "",
                                    "identity_claim_ipaddr_s": "",
                                    "ElasticPoolName_s": "",
                                    "identity_claim_http_schemas_microsoft_com_claims_authnmethodsreferences_s": "",
                                    "RunOn_s": "",
                                    "query_hash_s": "",
                                    "SourceSystem": "Azure",
                                    "MG": "",
                                    "ManagementGroupName": "",
                                    "Computer": "",
                                    "RawData": "",
                                    "exec_type_d": null,
                                    "wait_category_s": "",
                                    "total_query_wait_time_ms_d": null,
                                    "max_query_wait_time_ms_d": null,
                                    "is_parameterizable_s": "",
                                    "statement_type_s": "",
                                    "statement_key_hash_s": "",
                                    "query_param_type_d": null,
                                    "interval_start_time_d": null,
                                    "interval_end_time_d": null,
                                    "logical_io_writes_d": null,
                                    "max_logical_io_writes_d": null,
                                    "physical_io_reads_d": null,
                                    "max_physical_io_reads_d": null,
                                    "logical_io_reads_d": null,
                                    "max_logical_io_reads_d": null,
                                    "execution_type_d": null,
                                    "count_executions_d": null,
                                    "cpu_time_d": null,
                                    "max_cpu_time_d": null,
                                    "dop_d": null,
                                    "max_dop_d": null,
                                    "rowcount_d": null,
                                    "max_rowcount_d": null,
                                    "query_max_used_memory_d": null,
                                    "max_query_max_used_memory_d": null,
                                    "duration_d": null,
                                    "max_duration_d": null,
                                    "num_physical_io_reads_d": null,
                                    "max_num_physical_io_reads_d": null,
                                    "log_bytes_used_d": null,
                                    "max_log_bytes_used_d": null,
                                    "query_id_d": null,
                                    "plan_id_d": null,
                                    "statement_sql_handle_s": "",
                                    "query_plan_hash_s": "",
                                    "error_number_d": null,
                                    "Severity": null,
                                    "user_defined_b": null,
                                    "state_d": null,
                                    "originalEventTimestamp_t": "2021-05-11T19:01:10.612Z",
                                    "audit_schema_version_d": 1,
                                    "event_time_t": "2021-05-11T19:01:09.596Z",
                                    "sequence_number_d": 1,
                                    "action_id_s": "AUSC",
                                    "action_name_s": "AUDIT SESSION CHANGED",
                                    "succeeded_s": "true",
                                    "is_column_permission_s": "false",
                                    "session_id_d": 58,
                                    "server_principal_id_d": 1,
                                    "database_principal_id_d": 0,
                                    "target_server_principal_id_d": 0,
                                    "target_database_principal_id_d": 0,
                                    "object_id_d": 0,
                                    "user_defined_event_id_d": 0,
                                    "transaction_id_d": 0,
                                    "class_type_s": "A ",
                                    "class_type_description_s": "SERVER AUDIT",
                                    "securable_class_type_s": "SERVER",
                                    "duration_milliseconds_d": 0,
                                    "response_rows_d": 0,
                                    "affected_rows_d": 0,
                                    "client_tls_version_d": 0,
                                    "client_ip_s": "Unknown",
                                    "permission_bitmask_g": "00000000-0000-0000-0000-000000000000",
                                    "sequence_group_id_g": "00000000-0000-0000-0000-000000000000",
                                    "session_server_principal_name_s": "",
                                    "server_principal_name_s": "sa",
                                    "server_principal_sid_s": "01",
                                    "database_principal_name_s": "",
                                    "target_server_principal_name_s": "",
                                    "target_server_principal_sid_s": "",
                                    "target_database_principal_name_s": "",
                                    "server_instance_name_s": "sqlalertdemoserver",
                                    "database_name_s": "",
                                    "schema_name_s": "",
                                    "object_name_s": "",
                                    "statement_s": "",
                                    "additional_information_s": "<action_info xmlns=\"http://schemas.microsoft.com/sqlserver/2008/sqlaudit_data\"><session><![CDATA[SqlDbAuditing_AzureMonitorServerAudit$A_7030409B-7F45-492D-9DA3-E30A5B451AA7]]></session><action>event enabled</action><startup_type>automatic</startup_type><object><![CDATA[audit_event]]></object></action_info>",
                                    "user_defined_information_s": "",
                                    "application_name_s": "",
                                    "connection_id_g": "00000000-0000-0000-0000-000000000000",
                                    "data_sensitivity_information_s": "",
                                    "host_name_s": "",
                                    "session_context_s": "",
                                    "is_server_level_audit_s": "true",
                                    "event_id_g": "b5f55cf2-8c25-4a49-848f-d0b6a83f96b7",
                                    "AdditionalFields": "None",
                                    "Type": "AzureDiagnostics"
                                },
                                {
                                    "TimeGenerated": "2021-05-11T18:44:56.021Z",
                                    "Category": "Errors",
                                    "ResourceProvider": "MICROSOFT.SQL",
                                    "Resource": "SQLALERTDEMODATABASE",
                                    "ResourceType": "SERVERS/DATABASES",
                                    "OperationName": "ErrorEvent",
                                    "ResultType": "",
                                    "CorrelationId": "",
                                    "ResultDescription": "",
                                    "Tenant_g": "",
                                    "JobId_g": "",
                                    "RunbookName_s": "",
                                    "StreamType_s": "",
                                    "Caller_s": "",
                                    "requestUri_s": "",
                                    "Level": "",
                                    "DurationMs": null,
                                    "CallerIPAddress": "",
                                    "OperationVersion": "",
                                    "ResultSignature": "",
                                    "id_s": "",
                                    "status_s": "",
                                    "LogicalServerName_s": "sqlalertdemoserver",
                                    "Message": "Invalid object name 'sys.dm_os_windows_info'.",
                                    "clientInfo_s": "",
                                    "httpStatusCode_d": null,
                                    "identity_claim_appid_g": "",
                                    "identity_claim_http_schemas_microsoft_com_identity_claims_objectidentifier_g": "",
                                    "userAgent_s": "",
                                    "ruleName_s": "",
                                    "identity_claim_http_schemas_xmlsoap_org_ws_2005_05_identity_claims_upn_s": "",
                                    "systemId_g": "",
                                    "isAccessPolicyMatch_b": null,
                                    "EventName_s": "",
                                    "httpMethod_s": "",
                                    "subnetId_s": "",
                                    "type_s": "",
                                    "instanceId_s": "",
                                    "macAddress_s": "",
                                    "vnetResourceGuid_g": "",
                                    "direction_s": "",
                                    "subnetPrefix_s": "",
                                    "primaryIPv4Address_s": "",
                                    "conditions_sourcePortRange_s": "",
                                    "priority_d": null,
                                    "conditions_destinationPortRange_s": "",
                                    "conditions_destinationIP_s": "",
                                    "conditions_None_s": "",
                                    "conditions_sourceIP_s": "",
                                    "httpVersion_s": "",
                                    "matchedConnections_d": null,
                                    "startTime_t": null,
                                    "endTime_t": null,
                                    "DatabaseName_s": "sqlalertdemodatabase",
                                    "clientIP_s": "",
                                    "host_s": "",
                                    "requestQuery_s": "",
                                    "sslEnabled_s": "",
                                    "clientPort_d": null,
                                    "httpStatus_d": null,
                                    "receivedBytes_d": null,
                                    "sentBytes_d": null,
                                    "timeTaken_d": null,
                                    "resultDescription_ErrorJobs_s": "",
                                    "resultDescription_ChildJobs_s": "",
                                    "identity_claim_http_schemas_microsoft_com_identity_claims_scope_s": "",
                                    "workflowId_s": "",
                                    "resource_location_s": "",
                                    "resource_workflowId_g": "",
                                    "resource_resourceGroupName_s": "",
                                    "resource_subscriptionId_g": "",
                                    "resource_runId_s": "",
                                    "resource_workflowName_s": "",
                                    "_schema_s": "",
                                    "correlation_clientTrackingId_s": "",
                                    "properties_sku_Family_s": "",
                                    "properties_sku_Name_s": "",
                                    "properties_tenantId_g": "",
                                    "properties_enabledForDeployment_b": null,
                                    "code_s": "",
                                    "resultDescription_Summary_MachineId_s": "",
                                    "resultDescription_Summary_ScheduleName_s": "",
                                    "resultDescription_Summary_Status_s": "",
                                    "resultDescription_Summary_StatusDescription_s": "",
                                    "resultDescription_Summary_MachineName_s": "",
                                    "resultDescription_Summary_TotalUpdatesInstalled_d": null,
                                    "resultDescription_Summary_RebootRequired_b": null,
                                    "resultDescription_Summary_TotalUpdatesFailed_d": null,
                                    "resultDescription_Summary_InstallPercentage_d": null,
                                    "resultDescription_Summary_StartDateTimeUtc_t": null,
                                    "resource_triggerName_s": "",
                                    "resultDescription_Summary_InitialRequiredUpdatesCount_d": null,
                                    "properties_enabledForTemplateDeployment_b": null,
                                    "resultDescription_Summary_EndDateTimeUtc_s": "",
                                    "resultDescription_Summary_DurationInMinutes_s": "",
                                    "resource_originRunId_s": "",
                                    "properties_enabledForDiskEncryption_b": null,
                                    "resource_actionName_s": "",
                                    "correlation_actionTrackingId_g": "",
                                    "resultDescription_Summary_EndDateTimeUtc_t": null,
                                    "resultDescription_Summary_DurationInMinutes_d": null,
                                    "conditions_protocols_s": "",
                                    "identity_claim_ipaddr_s": "",
                                    "ElasticPoolName_s": "",
                                    "identity_claim_http_schemas_microsoft_com_claims_authnmethodsreferences_s": "",
                                    "RunOn_s": "",
                                    "query_hash_s": "0",
                                    "SourceSystem": "Azure",
                                    "MG": "",
                                    "ManagementGroupName": "",
                                    "Computer": "",
                                    "RawData": "",
                                    "exec_type_d": null,
                                    "wait_category_s": "",
                                    "total_query_wait_time_ms_d": null,
                                    "max_query_wait_time_ms_d": null,
                                    "is_parameterizable_s": "",
                                    "statement_type_s": "",
                                    "statement_key_hash_s": "",
                                    "query_param_type_d": null,
                                    "interval_start_time_d": null,
                                    "interval_end_time_d": null,
                                    "logical_io_writes_d": null,
                                    "max_logical_io_writes_d": null,
                                    "physical_io_reads_d": null,
                                    "max_physical_io_reads_d": null,
                                    "logical_io_reads_d": null,
                                    "max_logical_io_reads_d": null,
                                    "execution_type_d": null,
                                    "count_executions_d": null,
                                    "cpu_time_d": null,
                                    "max_cpu_time_d": null,
                                    "dop_d": null,
                                    "max_dop_d": null,
                                    "rowcount_d": null,
                                    "max_rowcount_d": null,
                                    "query_max_used_memory_d": null,
                                    "max_query_max_used_memory_d": null,
                                    "duration_d": null,
                                    "max_duration_d": null,
                                    "num_physical_io_reads_d": null,
                                    "max_num_physical_io_reads_d": null,
                                    "log_bytes_used_d": null,
                                    "max_log_bytes_used_d": null,
                                    "query_id_d": null,
                                    "plan_id_d": null,
                                    "statement_sql_handle_s": "",
                                    "query_plan_hash_s": "0",
                                    "error_number_d": 208,
                                    "Severity": 16,
                                    "user_defined_b": false,
                                    "state_d": 1,
                                    "originalEventTimestamp_t": null,
                                    "audit_schema_version_d": null,
                                    "event_time_t": null,
                                    "sequence_number_d": null,
                                    "action_id_s": "",
                                    "action_name_s": "",
                                    "succeeded_s": "",
                                    "is_column_permission_s": "",
                                    "session_id_d": null,
                                    "server_principal_id_d": null,
                                    "database_principal_id_d": null,
                                    "target_server_principal_id_d": null,
                                    "target_database_principal_id_d": null,
                                    "object_id_d": null,
                                    "user_defined_event_id_d": null,
                                    "transaction_id_d": null,
                                    "class_type_s": "",
                                    "class_type_description_s": "",
                                    "securable_class_type_s": "",
                                    "duration_milliseconds_d": null,
                                    "response_rows_d": null,
                                    "affected_rows_d": null,
                                    "client_tls_version_d": null,
                                    "client_ip_s": "",
                                    "permission_bitmask_g": "",
                                    "sequence_group_id_g": "",
                                    "session_server_principal_name_s": "",
                                    "server_principal_name_s": "",
                                    "server_principal_sid_s": "",
                                    "database_principal_name_s": "",
                                    "target_server_principal_name_s": "",
                                    "target_server_principal_sid_s": "",
                                    "target_database_principal_name_s": "",
                                    "server_instance_name_s": "",
                                    "database_name_s": "",
                                    "schema_name_s": "",
                                    "object_name_s": "",
                                    "statement_s": "",
                                    "additional_information_s": "",
                                    "user_defined_information_s": "",
                                    "application_name_s": "",
                                    "connection_id_g": "",
                                    "data_sensitivity_information_s": "",
                                    "host_name_s": "",
                                    "session_context_s": "",
                                    "is_server_level_audit_s": "",
                                    "event_id_g": "",
                                    "AdditionalFields": "None",
                                    "Type": "AzureDiagnostics"
                                },
                                {
                                    "TimeGenerated": "2021-05-11T18:45:55.469Z",
                                    "Category": "QueryStoreWaitStatistics",
                                    "ResourceProvider": "MICROSOFT.SQL",
                                    "Resource": "SQLALERTDEMODATABASE",
                                    "ResourceType": "SERVERS/DATABASES",
                                    "OperationName": "QueryStoreWaitStatisticsEvent",
                                    "ResultType": "",
                                    "CorrelationId": "",
                                    "ResultDescription": "",
                                    "Tenant_g": "",
                                    "JobId_g": "",
                                    "RunbookName_s": "",
                                    "StreamType_s": "",
                                    "Caller_s": "",
                                    "requestUri_s": "",
                                    "Level": "",
                                    "DurationMs": null,
                                    "CallerIPAddress": "",
                                    "OperationVersion": "",
                                    "ResultSignature": "",
                                    "id_s": "",
                                    "status_s": "",
                                    "LogicalServerName_s": "sqlalertdemoserver",
                                    "Message": "",
                                    "clientInfo_s": "",
                                    "httpStatusCode_d": null,
                                    "identity_claim_appid_g": "",
                                    "identity_claim_http_schemas_microsoft_com_identity_claims_objectidentifier_g": "",
                                    "userAgent_s": "",
                                    "ruleName_s": "",
                                    "identity_claim_http_schemas_xmlsoap_org_ws_2005_05_identity_claims_upn_s": "",
                                    "systemId_g": "",
                                    "isAccessPolicyMatch_b": null,
                                    "EventName_s": "",
                                    "httpMethod_s": "",
                                    "subnetId_s": "",
                                    "type_s": "",
                                    "instanceId_s": "",
                                    "macAddress_s": "",
                                    "vnetResourceGuid_g": "",
                                    "direction_s": "",
                                    "subnetPrefix_s": "",
                                    "primaryIPv4Address_s": "",
                                    "conditions_sourcePortRange_s": "",
                                    "priority_d": null,
                                    "conditions_destinationPortRange_s": "",
                                    "conditions_destinationIP_s": "",
                                    "conditions_None_s": "",
                                    "conditions_sourceIP_s": "",
                                    "httpVersion_s": "",
                                    "matchedConnections_d": null,
                                    "startTime_t": null,
                                    "endTime_t": null,
                                    "DatabaseName_s": "sqlalertdemodatabase",
                                    "clientIP_s": "",
                                    "host_s": "",
                                    "requestQuery_s": "",
                                    "sslEnabled_s": "",
                                    "clientPort_d": null,
                                    "httpStatus_d": null,
                                    "receivedBytes_d": null,
                                    "sentBytes_d": null,
                                    "timeTaken_d": null,
                                    "resultDescription_ErrorJobs_s": "",
                                    "resultDescription_ChildJobs_s": "",
                                    "identity_claim_http_schemas_microsoft_com_identity_claims_scope_s": "",
                                    "workflowId_s": "",
                                    "resource_location_s": "",
                                    "resource_workflowId_g": "",
                                    "resource_resourceGroupName_s": "",
                                    "resource_subscriptionId_g": "",
                                    "resource_runId_s": "",
                                    "resource_workflowName_s": "",
                                    "_schema_s": "",
                                    "correlation_clientTrackingId_s": "",
                                    "properties_sku_Family_s": "",
                                    "properties_sku_Name_s": "",
                                    "properties_tenantId_g": "",
                                    "properties_enabledForDeployment_b": null,
                                    "code_s": "",
                                    "resultDescription_Summary_MachineId_s": "",
                                    "resultDescription_Summary_ScheduleName_s": "",
                                    "resultDescription_Summary_Status_s": "",
                                    "resultDescription_Summary_StatusDescription_s": "",
                                    "resultDescription_Summary_MachineName_s": "",
                                    "resultDescription_Summary_TotalUpdatesInstalled_d": null,
                                    "resultDescription_Summary_RebootRequired_b": null,
                                    "resultDescription_Summary_TotalUpdatesFailed_d": null,
                                    "resultDescription_Summary_InstallPercentage_d": null,
                                    "resultDescription_Summary_StartDateTimeUtc_t": null,
                                    "resource_triggerName_s": "",
                                    "resultDescription_Summary_InitialRequiredUpdatesCount_d": null,
                                    "properties_enabledForTemplateDeployment_b": null,
                                    "resultDescription_Summary_EndDateTimeUtc_s": "",
                                    "resultDescription_Summary_DurationInMinutes_s": "",
                                    "resource_originRunId_s": "",
                                    "properties_enabledForDiskEncryption_b": null,
                                    "resource_actionName_s": "",
                                    "correlation_actionTrackingId_g": "",
                                    "resultDescription_Summary_EndDateTimeUtc_t": null,
                                    "resultDescription_Summary_DurationInMinutes_d": null,
                                    "conditions_protocols_s": "",
                                    "identity_claim_ipaddr_s": "",
                                    "ElasticPoolName_s": "",
                                    "identity_claim_http_schemas_microsoft_com_claims_authnmethodsreferences_s": "",
                                    "RunOn_s": "",
                                    "query_hash_s": "0x3D251D2A95CEE0FA",
                                    "SourceSystem": "Azure",
                                    "MG": "",
                                    "ManagementGroupName": "",
                                    "Computer": "",
                                    "RawData": "",
                                    "exec_type_d": 0,
                                    "wait_category_s": "UNKNOWN",
                                    "total_query_wait_time_ms_d": 432,
                                    "max_query_wait_time_ms_d": 432,
                                    "is_parameterizable_s": "false",
                                    "statement_type_s": "x_estypSelect",
                                    "statement_key_hash_s": "1191285308",
                                    "query_param_type_d": 1,
                                    "interval_start_time_d": 190374444835200,
                                    "interval_end_time_d": 190374445915200,
                                    "logical_io_writes_d": null,
                                    "max_logical_io_writes_d": null,
                                    "physical_io_reads_d": null,
                                    "max_physical_io_reads_d": null,
                                    "logical_io_reads_d": null,
                                    "max_logical_io_reads_d": null,
                                    "execution_type_d": null,
                                    "count_executions_d": 1,
                                    "cpu_time_d": null,
                                    "max_cpu_time_d": null,
                                    "dop_d": null,
                                    "max_dop_d": null,
                                    "rowcount_d": null,
                                    "max_rowcount_d": null,
                                    "query_max_used_memory_d": null,
                                    "max_query_max_used_memory_d": null,
                                    "duration_d": null,
                                    "max_duration_d": null,
                                    "num_physical_io_reads_d": null,
                                    "max_num_physical_io_reads_d": null,
                                    "log_bytes_used_d": null,
                                    "max_log_bytes_used_d": null,
                                    "query_id_d": 38,
                                    "plan_id_d": 1,
                                    "statement_sql_handle_s": "0x0900769CEE691C933F258772430BD1146CFF0000000000000000000000000000000000000000000000000000",
                                    "query_plan_hash_s": "0xBF28FE55E8A5616A",
                                    "error_number_d": null,
                                    "Severity": null,
                                    "user_defined_b": null,
                                    "state_d": null,
                                    "originalEventTimestamp_t": null,
                                    "audit_schema_version_d": null,
                                    "event_time_t": null,
                                    "sequence_number_d": null,
                                    "action_id_s": "",
                                    "action_name_s": "",
                                    "succeeded_s": "",
                                    "is_column_permission_s": "",
                                    "session_id_d": null,
                                    "server_principal_id_d": null,
                                    "database_principal_id_d": null,
                                    "target_server_principal_id_d": null,
                                    "target_database_principal_id_d": null,
                                    "object_id_d": null,
                                    "user_defined_event_id_d": null,
                                    "transaction_id_d": null,
                                    "class_type_s": "",
                                    "class_type_description_s": "",
                                    "securable_class_type_s": "",
                                    "duration_milliseconds_d": null,
                                    "response_rows_d": null,
                                    "affected_rows_d": null,
                                    "client_tls_version_d": null,
                                    "client_ip_s": "",
                                    "permission_bitmask_g": "",
                                    "sequence_group_id_g": "",
                                    "session_server_principal_name_s": "",
                                    "server_principal_name_s": "",
                                    "server_principal_sid_s": "",
                                    "database_principal_name_s": "",
                                    "target_server_principal_name_s": "",
                                    "target_server_principal_sid_s": "",
                                    "target_database_principal_name_s": "",
                                    "server_instance_name_s": "",
                                    "database_name_s": "",
                                    "schema_name_s": "",
                                    "object_name_s": "",
                                    "statement_s": "",
                                    "additional_information_s": "",
                                    "user_defined_information_s": "",
                                    "application_name_s": "",
                                    "connection_id_g": "",
                                    "data_sensitivity_information_s": "",
                                    "host_name_s": "",
                                    "session_context_s": "",
                                    "is_server_level_audit_s": "",
                                    "event_id_g": "",
                                    "AdditionalFields": "None",
                                    "Type": "AzureDiagnostics"
                                },
                                {
                                    "TimeGenerated": "2021-05-11T18:45:55.469Z",
                                    "Category": "QueryStoreWaitStatistics",
                                    "ResourceProvider": "MICROSOFT.SQL",
                                    "Resource": "SQLALERTDEMODATABASE",
                                    "ResourceType": "SERVERS/DATABASES",
                                    "OperationName": "QueryStoreWaitStatisticsEvent",
                                    "ResultType": "",
                                    "CorrelationId": "",
                                    "ResultDescription": "",
                                    "Tenant_g": "",
                                    "JobId_g": "",
                                    "RunbookName_s": "",
                                    "StreamType_s": "",
                                    "Caller_s": "",
                                    "requestUri_s": "",
                                    "Level": "",
                                    "DurationMs": null,
                                    "CallerIPAddress": "",
                                    "OperationVersion": "",
                                    "ResultSignature": "",
                                    "id_s": "",
                                    "status_s": "",
                                    "LogicalServerName_s": "sqlalertdemoserver",
                                    "Message": "",
                                    "clientInfo_s": "",
                                    "httpStatusCode_d": null,
                                    "identity_claim_appid_g": "",
                                    "identity_claim_http_schemas_microsoft_com_identity_claims_objectidentifier_g": "",
                                    "userAgent_s": "",
                                    "ruleName_s": "",
                                    "identity_claim_http_schemas_xmlsoap_org_ws_2005_05_identity_claims_upn_s": "",
                                    "systemId_g": "",
                                    "isAccessPolicyMatch_b": null,
                                    "EventName_s": "",
                                    "httpMethod_s": "",
                                    "subnetId_s": "",
                                    "type_s": "",
                                    "instanceId_s": "",
                                    "macAddress_s": "",
                                    "vnetResourceGuid_g": "",
                                    "direction_s": "",
                                    "subnetPrefix_s": "",
                                    "primaryIPv4Address_s": "",
                                    "conditions_sourcePortRange_s": "",
                                    "priority_d": null,
                                    "conditions_destinationPortRange_s": "",
                                    "conditions_destinationIP_s": "",
                                    "conditions_None_s": "",
                                    "conditions_sourceIP_s": "",
                                    "httpVersion_s": "",
                                    "matchedConnections_d": null,
                                    "startTime_t": null,
                                    "endTime_t": null,
                                    "DatabaseName_s": "sqlalertdemodatabase",
                                    "clientIP_s": "",
                                    "host_s": "",
                                    "requestQuery_s": "",
                                    "sslEnabled_s": "",
                                    "clientPort_d": null,
                                    "httpStatus_d": null,
                                    "receivedBytes_d": null,
                                    "sentBytes_d": null,
                                    "timeTaken_d": null,
                                    "resultDescription_ErrorJobs_s": "",
                                    "resultDescription_ChildJobs_s": "",
                                    "identity_claim_http_schemas_microsoft_com_identity_claims_scope_s": "",
                                    "workflowId_s": "",
                                    "resource_location_s": "",
                                    "resource_workflowId_g": "",
                                    "resource_resourceGroupName_s": "",
                                    "resource_subscriptionId_g": "",
                                    "resource_runId_s": "",
                                    "resource_workflowName_s": "",
                                    "_schema_s": "",
                                    "correlation_clientTrackingId_s": "",
                                    "properties_sku_Family_s": "",
                                    "properties_sku_Name_s": "",
                                    "properties_tenantId_g": "",
                                    "properties_enabledForDeployment_b": null,
                                    "code_s": "",
                                    "resultDescription_Summary_MachineId_s": "",
                                    "resultDescription_Summary_ScheduleName_s": "",
                                    "resultDescription_Summary_Status_s": "",
                                    "resultDescription_Summary_StatusDescription_s": "",
                                    "resultDescription_Summary_MachineName_s": "",
                                    "resultDescription_Summary_TotalUpdatesInstalled_d": null,
                                    "resultDescription_Summary_RebootRequired_b": null,
                                    "resultDescription_Summary_TotalUpdatesFailed_d": null,
                                    "resultDescription_Summary_InstallPercentage_d": null,
                                    "resultDescription_Summary_StartDateTimeUtc_t": null,
                                    "resource_triggerName_s": "",
                                    "resultDescription_Summary_InitialRequiredUpdatesCount_d": null,
                                    "properties_enabledForTemplateDeployment_b": null,
                                    "resultDescription_Summary_EndDateTimeUtc_s": "",
                                    "resultDescription_Summary_DurationInMinutes_s": "",
                                    "resource_originRunId_s": "",
                                    "properties_enabledForDiskEncryption_b": null,
                                    "resource_actionName_s": "",
                                    "correlation_actionTrackingId_g": "",
                                    "resultDescription_Summary_EndDateTimeUtc_t": null,
                                    "resultDescription_Summary_DurationInMinutes_d": null,
                                    "conditions_protocols_s": "",
                                    "identity_claim_ipaddr_s": "",
                                    "ElasticPoolName_s": "",
                                    "identity_claim_http_schemas_microsoft_com_claims_authnmethodsreferences_s": "",
                                    "RunOn_s": "",
                                    "query_hash_s": "0x3D251D2A95CEE0FA",
                                    "SourceSystem": "Azure",
                                    "MG": "",
                                    "ManagementGroupName": "",
                                    "Computer": "",
                                    "RawData": "",
                                    "exec_type_d": 0,
                                    "wait_category_s": "CPU",
                                    "total_query_wait_time_ms_d": 345,
                                    "max_query_wait_time_ms_d": 345,
                                    "is_parameterizable_s": "false",
                                    "statement_type_s": "x_estypSelect",
                                    "statement_key_hash_s": "1191285308",
                                    "query_param_type_d": 1,
                                    "interval_start_time_d": 190374444835200,
                                    "interval_end_time_d": 190374445915200,
                                    "logical_io_writes_d": null,
                                    "max_logical_io_writes_d": null,
                                    "physical_io_reads_d": null,
                                    "max_physical_io_reads_d": null,
                                    "logical_io_reads_d": null,
                                    "max_logical_io_reads_d": null,
                                    "execution_type_d": null,
                                    "count_executions_d": 1,
                                    "cpu_time_d": null,
                                    "max_cpu_time_d": null,
                                    "dop_d": null,
                                    "max_dop_d": null,
                                    "rowcount_d": null,
                                    "max_rowcount_d": null,
                                    "query_max_used_memory_d": null,
                                    "max_query_max_used_memory_d": null,
                                    "duration_d": null,
                                    "max_duration_d": null,
                                    "num_physical_io_reads_d": null,
                                    "max_num_physical_io_reads_d": null,
                                    "log_bytes_used_d": null,
                                    "max_log_bytes_used_d": null,
                                    "query_id_d": 38,
                                    "plan_id_d": 1,
                                    "statement_sql_handle_s": "0x0900769CEE691C933F258772430BD1146CFF0000000000000000000000000000000000000000000000000000",
                                    "query_plan_hash_s": "0xBF28FE55E8A5616A",
                                    "error_number_d": null,
                                    "Severity": null,
                                    "user_defined_b": null,
                                    "state_d": null,
                                    "originalEventTimestamp_t": null,
                                    "audit_schema_version_d": null,
                                    "event_time_t": null,
                                    "sequence_number_d": null,
                                    "action_id_s": "",
                                    "action_name_s": "",
                                    "succeeded_s": "",
                                    "is_column_permission_s": "",
                                    "session_id_d": null,
                                    "server_principal_id_d": null,
                                    "database_principal_id_d": null,
                                    "target_server_principal_id_d": null,
                                    "target_database_principal_id_d": null,
                                    "object_id_d": null,
                                    "user_defined_event_id_d": null,
                                    "transaction_id_d": null,
                                    "class_type_s": "",
                                    "class_type_description_s": "",
                                    "securable_class_type_s": "",
                                    "duration_milliseconds_d": null,
                                    "response_rows_d": null,
                                    "affected_rows_d": null,
                                    "client_tls_version_d": null,
                                    "client_ip_s": "",
                                    "permission_bitmask_g": "",
                                    "sequence_group_id_g": "",
                                    "session_server_principal_name_s": "",
                                    "server_principal_name_s": "",
                                    "server_principal_sid_s": "",
                                    "database_principal_name_s": "",
                                    "target_server_principal_name_s": "",
                                    "target_server_principal_sid_s": "",
                                    "target_database_principal_name_s": "",
                                    "server_instance_name_s": "",
                                    "database_name_s": "",
                                    "schema_name_s": "",
                                    "object_name_s": "",
                                    "statement_s": "",
                                    "additional_information_s": "",
                                    "user_defined_information_s": "",
                                    "application_name_s": "",
                                    "connection_id_g": "",
                                    "data_sensitivity_information_s": "",
                                    "host_name_s": "",
                                    "session_context_s": "",
                                    "is_server_level_audit_s": "",
                                    "event_id_g": "",
                                    "AdditionalFields": "None",
                                    "Type": "AzureDiagnostics"
                                },
                                {
                                    "TimeGenerated": "2021-05-11T18:45:55.469Z",
                                    "Category": "QueryStoreWaitStatistics",
                                    "ResourceProvider": "MICROSOFT.SQL",
                                    "Resource": "SQLALERTDEMODATABASE",
                                    "ResourceType": "SERVERS/DATABASES",
                                    "OperationName": "QueryStoreWaitStatisticsEvent",
                                    "ResultType": "",
                                    "CorrelationId": "",
                                    "ResultDescription": "",
                                    "Tenant_g": "",
                                    "JobId_g": "",
                                    "RunbookName_s": "",
                                    "StreamType_s": "",
                                    "Caller_s": "",
                                    "requestUri_s": "",
                                    "Level": "",
                                    "DurationMs": null,
                                    "CallerIPAddress": "",
                                    "OperationVersion": "",
                                    "ResultSignature": "",
                                    "id_s": "",
                                    "status_s": "",
                                    "LogicalServerName_s": "sqlalertdemoserver",
                                    "Message": "",
                                    "clientInfo_s": "",
                                    "httpStatusCode_d": null,
                                    "identity_claim_appid_g": "",
                                    "identity_claim_http_schemas_microsoft_com_identity_claims_objectidentifier_g": "",
                                    "userAgent_s": "",
                                    "ruleName_s": "",
                                    "identity_claim_http_schemas_xmlsoap_org_ws_2005_05_identity_claims_upn_s": "",
                                    "systemId_g": "",
                                    "isAccessPolicyMatch_b": null,
                                    "EventName_s": "",
                                    "httpMethod_s": "",
                                    "subnetId_s": "",
                                    "type_s": "",
                                    "instanceId_s": "",
                                    "macAddress_s": "",
                                    "vnetResourceGuid_g": "",
                                    "direction_s": "",
                                    "subnetPrefix_s": "",
                                    "primaryIPv4Address_s": "",
                                    "conditions_sourcePortRange_s": "",
                                    "priority_d": null,
                                    "conditions_destinationPortRange_s": "",
                                    "conditions_destinationIP_s": "",
                                    "conditions_None_s": "",
                                    "conditions_sourceIP_s": "",
                                    "httpVersion_s": "",
                                    "matchedConnections_d": null,
                                    "startTime_t": null,
                                    "endTime_t": null,
                                    "DatabaseName_s": "sqlalertdemodatabase",
                                    "clientIP_s": "",
                                    "host_s": "",
                                    "requestQuery_s": "",
                                    "sslEnabled_s": "",
                                    "clientPort_d": null,
                                    "httpStatus_d": null,
                                    "receivedBytes_d": null,
                                    "sentBytes_d": null,
                                    "timeTaken_d": null,
                                    "resultDescription_ErrorJobs_s": "",
                                    "resultDescription_ChildJobs_s": "",
                                    "identity_claim_http_schemas_microsoft_com_identity_claims_scope_s": "",
                                    "workflowId_s": "",
                                    "resource_location_s": "",
                                    "resource_workflowId_g": "",
                                    "resource_resourceGroupName_s": "",
                                    "resource_subscriptionId_g": "",
                                    "resource_runId_s": "",
                                    "resource_workflowName_s": "",
                                    "_schema_s": "",
                                    "correlation_clientTrackingId_s": "",
                                    "properties_sku_Family_s": "",
                                    "properties_sku_Name_s": "",
                                    "properties_tenantId_g": "",
                                    "properties_enabledForDeployment_b": null,
                                    "code_s": "",
                                    "resultDescription_Summary_MachineId_s": "",
                                    "resultDescription_Summary_ScheduleName_s": "",
                                    "resultDescription_Summary_Status_s": "",
                                    "resultDescription_Summary_StatusDescription_s": "",
                                    "resultDescription_Summary_MachineName_s": "",
                                    "resultDescription_Summary_TotalUpdatesInstalled_d": null,
                                    "resultDescription_Summary_RebootRequired_b": null,
                                    "resultDescription_Summary_TotalUpdatesFailed_d": null,
                                    "resultDescription_Summary_InstallPercentage_d": null,
                                    "resultDescription_Summary_StartDateTimeUtc_t": null,
                                    "resource_triggerName_s": "",
                                    "resultDescription_Summary_InitialRequiredUpdatesCount_d": null,
                                    "properties_enabledForTemplateDeployment_b": null,
                                    "resultDescription_Summary_EndDateTimeUtc_s": "",
                                    "resultDescription_Summary_DurationInMinutes_s": "",
                                    "resource_originRunId_s": "",
                                    "properties_enabledForDiskEncryption_b": null,
                                    "resource_actionName_s": "",
                                    "correlation_actionTrackingId_g": "",
                                    "resultDescription_Summary_EndDateTimeUtc_t": null,
                                    "resultDescription_Summary_DurationInMinutes_d": null,
                                    "conditions_protocols_s": "",
                                    "identity_claim_ipaddr_s": "",
                                    "ElasticPoolName_s": "",
                                    "identity_claim_http_schemas_microsoft_com_claims_authnmethodsreferences_s": "",
                                    "RunOn_s": "",
                                    "query_hash_s": "0x3D251D2A95CEE0FA",
                                    "SourceSystem": "Azure",
                                    "MG": "",
                                    "ManagementGroupName": "",
                                    "Computer": "",
                                    "RawData": "",
                                    "exec_type_d": 0,
                                    "wait_category_s": "BUFFERIO",
                                    "total_query_wait_time_ms_d": 108,
                                    "max_query_wait_time_ms_d": 108,
                                    "is_parameterizable_s": "false",
                                    "statement_type_s": "x_estypSelect",
                                    "statement_key_hash_s": "1191285308",
                                    "query_param_type_d": 1,
                                    "interval_start_time_d": 190374444835200,
                                    "interval_end_time_d": 190374445915200,
                                    "logical_io_writes_d": null,
                                    "max_logical_io_writes_d": null,
                                    "physical_io_reads_d": null,
                                    "max_physical_io_reads_d": null,
                                    "logical_io_reads_d": null,
                                    "max_logical_io_reads_d": null,
                                    "execution_type_d": null,
                                    "count_executions_d": 1,
                                    "cpu_time_d": null,
                                    "max_cpu_time_d": null,
                                    "dop_d": null,
                                    "max_dop_d": null,
                                    "rowcount_d": null,
                                    "max_rowcount_d": null,
                                    "query_max_used_memory_d": null,
                                    "max_query_max_used_memory_d": null,
                                    "duration_d": null,
                                    "max_duration_d": null,
                                    "num_physical_io_reads_d": null,
                                    "max_num_physical_io_reads_d": null,
                                    "log_bytes_used_d": null,
                                    "max_log_bytes_used_d": null,
                                    "query_id_d": 38,
                                    "plan_id_d": 1,
                                    "statement_sql_handle_s": "0x0900769CEE691C933F258772430BD1146CFF0000000000000000000000000000000000000000000000000000",
                                    "query_plan_hash_s": "0xBF28FE55E8A5616A",
                                    "error_number_d": null,
                                    "Severity": null,
                                    "user_defined_b": null,
                                    "state_d": null,
                                    "originalEventTimestamp_t": null,
                                    "audit_schema_version_d": null,
                                    "event_time_t": null,
                                    "sequence_number_d": null,
                                    "action_id_s": "",
                                    "action_name_s": "",
                                    "succeeded_s": "",
                                    "is_column_permission_s": "",
                                    "session_id_d": null,
                                    "server_principal_id_d": null,
                                    "database_principal_id_d": null,
                                    "target_server_principal_id_d": null,
                                    "target_database_principal_id_d": null,
                                    "object_id_d": null,
                                    "user_defined_event_id_d": null,
                                    "transaction_id_d": null,
                                    "class_type_s": "",
                                    "class_type_description_s": "",
                                    "securable_class_type_s": "",
                                    "duration_milliseconds_d": null,
                                    "response_rows_d": null,
                                    "affected_rows_d": null,
                                    "client_tls_version_d": null,
                                    "client_ip_s": "",
                                    "permission_bitmask_g": "",
                                    "sequence_group_id_g": "",
                                    "session_server_principal_name_s": "",
                                    "server_principal_name_s": "",
                                    "server_principal_sid_s": "",
                                    "database_principal_name_s": "",
                                    "target_server_principal_name_s": "",
                                    "target_server_principal_sid_s": "",
                                    "target_database_principal_name_s": "",
                                    "server_instance_name_s": "",
                                    "database_name_s": "",
                                    "schema_name_s": "",
                                    "object_name_s": "",
                                    "statement_s": "",
                                    "additional_information_s": "",
                                    "user_defined_information_s": "",
                                    "application_name_s": "",
                                    "connection_id_g": "",
                                    "data_sensitivity_information_s": "",
                                    "host_name_s": "",
                                    "session_context_s": "",
                                    "is_server_level_audit_s": "",
                                    "event_id_g": "",
                                    "AdditionalFields": "None",
                                    "Type": "AzureDiagnostics"
                                },
                                {
                                    "TimeGenerated": "2021-05-11T18:45:55.469Z",
                                    "Category": "QueryStoreWaitStatistics",
                                    "ResourceProvider": "MICROSOFT.SQL",
                                    "Resource": "SQLALERTDEMODATABASE",
                                    "ResourceType": "SERVERS/DATABASES",
                                    "OperationName": "QueryStoreWaitStatisticsEvent",
                                    "ResultType": "",
                                    "CorrelationId": "",
                                    "ResultDescription": "",
                                    "Tenant_g": "",
                                    "JobId_g": "",
                                    "RunbookName_s": "",
                                    "StreamType_s": "",
                                    "Caller_s": "",
                                    "requestUri_s": "",
                                    "Level": "",
                                    "DurationMs": null,
                                    "CallerIPAddress": "",
                                    "OperationVersion": "",
                                    "ResultSignature": "",
                                    "id_s": "",
                                    "status_s": "",
                                    "LogicalServerName_s": "sqlalertdemoserver",
                                    "Message": "",
                                    "clientInfo_s": "",
                                    "httpStatusCode_d": null,
                                    "identity_claim_appid_g": "",
                                    "identity_claim_http_schemas_microsoft_com_identity_claims_objectidentifier_g": "",
                                    "userAgent_s": "",
                                    "ruleName_s": "",
                                    "identity_claim_http_schemas_xmlsoap_org_ws_2005_05_identity_claims_upn_s": "",
                                    "systemId_g": "",
                                    "isAccessPolicyMatch_b": null,
                                    "EventName_s": "",
                                    "httpMethod_s": "",
                                    "subnetId_s": "",
                                    "type_s": "",
                                    "instanceId_s": "",
                                    "macAddress_s": "",
                                    "vnetResourceGuid_g": "",
                                    "direction_s": "",
                                    "subnetPrefix_s": "",
                                    "primaryIPv4Address_s": "",
                                    "conditions_sourcePortRange_s": "",
                                    "priority_d": null,
                                    "conditions_destinationPortRange_s": "",
                                    "conditions_destinationIP_s": "",
                                    "conditions_None_s": "",
                                    "conditions_sourceIP_s": "",
                                    "httpVersion_s": "",
                                    "matchedConnections_d": null,
                                    "startTime_t": null,
                                    "endTime_t": null,
                                    "DatabaseName_s": "sqlalertdemodatabase",
                                    "clientIP_s": "",
                                    "host_s": "",
                                    "requestQuery_s": "",
                                    "sslEnabled_s": "",
                                    "clientPort_d": null,
                                    "httpStatus_d": null,
                                    "receivedBytes_d": null,
                                    "sentBytes_d": null,
                                    "timeTaken_d": null,
                                    "resultDescription_ErrorJobs_s": "",
                                    "resultDescription_ChildJobs_s": "",
                                    "identity_claim_http_schemas_microsoft_com_identity_claims_scope_s": "",
                                    "workflowId_s": "",
                                    "resource_location_s": "",
                                    "resource_workflowId_g": "",
                                    "resource_resourceGroupName_s": "",
                                    "resource_subscriptionId_g": "",
                                    "resource_runId_s": "",
                                    "resource_workflowName_s": "",
                                    "_schema_s": "",
                                    "correlation_clientTrackingId_s": "",
                                    "properties_sku_Family_s": "",
                                    "properties_sku_Name_s": "",
                                    "properties_tenantId_g": "",
                                    "properties_enabledForDeployment_b": null,
                                    "code_s": "",
                                    "resultDescription_Summary_MachineId_s": "",
                                    "resultDescription_Summary_ScheduleName_s": "",
                                    "resultDescription_Summary_Status_s": "",
                                    "resultDescription_Summary_StatusDescription_s": "",
                                    "resultDescription_Summary_MachineName_s": "",
                                    "resultDescription_Summary_TotalUpdatesInstalled_d": null,
                                    "resultDescription_Summary_RebootRequired_b": null,
                                    "resultDescription_Summary_TotalUpdatesFailed_d": null,
                                    "resultDescription_Summary_InstallPercentage_d": null,
                                    "resultDescription_Summary_StartDateTimeUtc_t": null,
                                    "resource_triggerName_s": "",
                                    "resultDescription_Summary_InitialRequiredUpdatesCount_d": null,
                                    "properties_enabledForTemplateDeployment_b": null,
                                    "resultDescription_Summary_EndDateTimeUtc_s": "",
                                    "resultDescription_Summary_DurationInMinutes_s": "",
                                    "resource_originRunId_s": "",
                                    "properties_enabledForDiskEncryption_b": null,
                                    "resource_actionName_s": "",
                                    "correlation_actionTrackingId_g": "",
                                    "resultDescription_Summary_EndDateTimeUtc_t": null,
                                    "resultDescription_Summary_DurationInMinutes_d": null,
                                    "conditions_protocols_s": "",
                                    "identity_claim_ipaddr_s": "",
                                    "ElasticPoolName_s": "",
                                    "identity_claim_http_schemas_microsoft_com_claims_authnmethodsreferences_s": "",
                                    "RunOn_s": "",
                                    "query_hash_s": "0x3D251D2A95CEE0FA",
                                    "SourceSystem": "Azure",
                                    "MG": "",
                                    "ManagementGroupName": "",
                                    "Computer": "",
                                    "RawData": "",
                                    "exec_type_d": 0,
                                    "wait_category_s": "MEMORY",
                                    "total_query_wait_time_ms_d": 1,
                                    "max_query_wait_time_ms_d": 1,
                                    "is_parameterizable_s": "false",
                                    "statement_type_s": "x_estypSelect",
                                    "statement_key_hash_s": "1191285308",
                                    "query_param_type_d": 1,
                                    "interval_start_time_d": 190374444835200,
                                    "interval_end_time_d": 190374445915200,
                                    "logical_io_writes_d": null,
                                    "max_logical_io_writes_d": null,
                                    "physical_io_reads_d": null,
                                    "max_physical_io_reads_d": null,
                                    "logical_io_reads_d": null,
                                    "max_logical_io_reads_d": null,
                                    "execution_type_d": null,
                                    "count_executions_d": 1,
                                    "cpu_time_d": null,
                                    "max_cpu_time_d": null,
                                    "dop_d": null,
                                    "max_dop_d": null,
                                    "rowcount_d": null,
                                    "max_rowcount_d": null,
                                    "query_max_used_memory_d": null,
                                    "max_query_max_used_memory_d": null,
                                    "duration_d": null,
                                    "max_duration_d": null,
                                    "num_physical_io_reads_d": null,
                                    "max_num_physical_io_reads_d": null,
                                    "log_bytes_used_d": null,
                                    "max_log_bytes_used_d": null,
                                    "query_id_d": 38,
                                    "plan_id_d": 1,
                                    "statement_sql_handle_s": "0x0900769CEE691C933F258772430BD1146CFF0000000000000000000000000000000000000000000000000000",
                                    "query_plan_hash_s": "0xBF28FE55E8A5616A",
                                    "error_number_d": null,
                                    "Severity": null,
                                    "user_defined_b": null,
                                    "state_d": null,
                                    "originalEventTimestamp_t": null,
                                    "audit_schema_version_d": null,
                                    "event_time_t": null,
                                    "sequence_number_d": null,
                                    "action_id_s": "",
                                    "action_name_s": "",
                                    "succeeded_s": "",
                                    "is_column_permission_s": "",
                                    "session_id_d": null,
                                    "server_principal_id_d": null,
                                    "database_principal_id_d": null,
                                    "target_server_principal_id_d": null,
                                    "target_database_principal_id_d": null,
                                    "object_id_d": null,
                                    "user_defined_event_id_d": null,
                                    "transaction_id_d": null,
                                    "class_type_s": "",
                                    "class_type_description_s": "",
                                    "securable_class_type_s": "",
                                    "duration_milliseconds_d": null,
                                    "response_rows_d": null,
                                    "affected_rows_d": null,
                                    "client_tls_version_d": null,
                                    "client_ip_s": "",
                                    "permission_bitmask_g": "",
                                    "sequence_group_id_g": "",
                                    "session_server_principal_name_s": "",
                                    "server_principal_name_s": "",
                                    "server_principal_sid_s": "",
                                    "database_principal_name_s": "",
                                    "target_server_principal_name_s": "",
                                    "target_server_principal_sid_s": "",
                                    "target_database_principal_name_s": "",
                                    "server_instance_name_s": "",
                                    "database_name_s": "",
                                    "schema_name_s": "",
                                    "object_name_s": "",
                                    "statement_s": "",
                                    "additional_information_s": "",
                                    "user_defined_information_s": "",
                                    "application_name_s": "",
                                    "connection_id_g": "",
                                    "data_sensitivity_information_s": "",
                                    "host_name_s": "",
                                    "session_context_s": "",
                                    "is_server_level_audit_s": "",
                                    "event_id_g": "",
                                    "AdditionalFields": "None",
                                    "Type": "AzureDiagnostics"
                                },
                                {
                                    "TimeGenerated": "2021-05-11T18:45:55.469Z",
                                    "Category": "QueryStoreWaitStatistics",
                                    "ResourceProvider": "MICROSOFT.SQL",
                                    "Resource": "SQLALERTDEMODATABASE",
                                    "ResourceType": "SERVERS/DATABASES",
                                    "OperationName": "QueryStoreWaitStatisticsEvent",
                                    "ResultType": "",
                                    "CorrelationId": "",
                                    "ResultDescription": "",
                                    "Tenant_g": "",
                                    "JobId_g": "",
                                    "RunbookName_s": "",
                                    "StreamType_s": "",
                                    "Caller_s": "",
                                    "requestUri_s": "",
                                    "Level": "",
                                    "DurationMs": null,
                                    "CallerIPAddress": "",
                                    "OperationVersion": "",
                                    "ResultSignature": "",
                                    "id_s": "",
                                    "status_s": "",
                                    "LogicalServerName_s": "sqlalertdemoserver",
                                    "Message": "",
                                    "clientInfo_s": "",
                                    "httpStatusCode_d": null,
                                    "identity_claim_appid_g": "",
                                    "identity_claim_http_schemas_microsoft_com_identity_claims_objectidentifier_g": "",
                                    "userAgent_s": "",
                                    "ruleName_s": "",
                                    "identity_claim_http_schemas_xmlsoap_org_ws_2005_05_identity_claims_upn_s": "",
                                    "systemId_g": "",
                                    "isAccessPolicyMatch_b": null,
                                    "EventName_s": "",
                                    "httpMethod_s": "",
                                    "subnetId_s": "",
                                    "type_s": "",
                                    "instanceId_s": "",
                                    "macAddress_s": "",
                                    "vnetResourceGuid_g": "",
                                    "direction_s": "",
                                    "subnetPrefix_s": "",
                                    "primaryIPv4Address_s": "",
                                    "conditions_sourcePortRange_s": "",
                                    "priority_d": null,
                                    "conditions_destinationPortRange_s": "",
                                    "conditions_destinationIP_s": "",
                                    "conditions_None_s": "",
                                    "conditions_sourceIP_s": "",
                                    "httpVersion_s": "",
                                    "matchedConnections_d": null,
                                    "startTime_t": null,
                                    "endTime_t": null,
                                    "DatabaseName_s": "sqlalertdemodatabase",
                                    "clientIP_s": "",
                                    "host_s": "",
                                    "requestQuery_s": "",
                                    "sslEnabled_s": "",
                                    "clientPort_d": null,
                                    "httpStatus_d": null,
                                    "receivedBytes_d": null,
                                    "sentBytes_d": null,
                                    "timeTaken_d": null,
                                    "resultDescription_ErrorJobs_s": "",
                                    "resultDescription_ChildJobs_s": "",
                                    "identity_claim_http_schemas_microsoft_com_identity_claims_scope_s": "",
                                    "workflowId_s": "",
                                    "resource_location_s": "",
                                    "resource_workflowId_g": "",
                                    "resource_resourceGroupName_s": "",
                                    "resource_subscriptionId_g": "",
                                    "resource_runId_s": "",
                                    "resource_workflowName_s": "",
                                    "_schema_s": "",
                                    "correlation_clientTrackingId_s": "",
                                    "properties_sku_Family_s": "",
                                    "properties_sku_Name_s": "",
                                    "properties_tenantId_g": "",
                                    "properties_enabledForDeployment_b": null,
                                    "code_s": "",
                                    "resultDescription_Summary_MachineId_s": "",
                                    "resultDescription_Summary_ScheduleName_s": "",
                                    "resultDescription_Summary_Status_s": "",
                                    "resultDescription_Summary_StatusDescription_s": "",
                                    "resultDescription_Summary_MachineName_s": "",
                                    "resultDescription_Summary_TotalUpdatesInstalled_d": null,
                                    "resultDescription_Summary_RebootRequired_b": null,
                                    "resultDescription_Summary_TotalUpdatesFailed_d": null,
                                    "resultDescription_Summary_InstallPercentage_d": null,
                                    "resultDescription_Summary_StartDateTimeUtc_t": null,
                                    "resource_triggerName_s": "",
                                    "resultDescription_Summary_InitialRequiredUpdatesCount_d": null,
                                    "properties_enabledForTemplateDeployment_b": null,
                                    "resultDescription_Summary_EndDateTimeUtc_s": "",
                                    "resultDescription_Summary_DurationInMinutes_s": "",
                                    "resource_originRunId_s": "",
                                    "properties_enabledForDiskEncryption_b": null,
                                    "resource_actionName_s": "",
                                    "correlation_actionTrackingId_g": "",
                                    "resultDescription_Summary_EndDateTimeUtc_t": null,
                                    "resultDescription_Summary_DurationInMinutes_d": null,
                                    "conditions_protocols_s": "",
                                    "identity_claim_ipaddr_s": "",
                                    "ElasticPoolName_s": "",
                                    "identity_claim_http_schemas_microsoft_com_claims_authnmethodsreferences_s": "",
                                    "RunOn_s": "",
                                    "query_hash_s": "0x4E8C0B5AF78C4ED1",
                                    "SourceSystem": "Azure",
                                    "MG": "",
                                    "ManagementGroupName": "",
                                    "Computer": "",
                                    "RawData": "",
                                    "exec_type_d": 0,
                                    "wait_category_s": "UNKNOWN",
                                    "total_query_wait_time_ms_d": 105,
                                    "max_query_wait_time_ms_d": 105,
                                    "is_parameterizable_s": "false",
                                    "statement_type_s": "x_estypSelect",
                                    "statement_key_hash_s": "2744282586",
                                    "query_param_type_d": 1,
                                    "interval_start_time_d": 190374444835200,
                                    "interval_end_time_d": 190374445915200,
                                    "logical_io_writes_d": null,
                                    "max_logical_io_writes_d": null,
                                    "physical_io_reads_d": null,
                                    "max_physical_io_reads_d": null,
                                    "logical_io_reads_d": null,
                                    "max_logical_io_reads_d": null,
                                    "execution_type_d": null,
                                    "count_executions_d": 1,
                                    "cpu_time_d": null,
                                    "max_cpu_time_d": null,
                                    "dop_d": null,
                                    "max_dop_d": null,
                                    "rowcount_d": null,
                                    "max_rowcount_d": null,
                                    "query_max_used_memory_d": null,
                                    "max_query_max_used_memory_d": null,
                                    "duration_d": null,
                                    "max_duration_d": null,
                                    "num_physical_io_reads_d": null,
                                    "max_num_physical_io_reads_d": null,
                                    "log_bytes_used_d": null,
                                    "max_log_bytes_used_d": null,
                                    "query_id_d": 40,
                                    "plan_id_d": 2,
                                    "statement_sql_handle_s": "0x0900C6D4FC50EF5B4E298DBE4E3A7EA7911F0000000000000000000000000000000000000000000000000000",
                                    "query_plan_hash_s": "0x132EFB64A54855E5",
                                    "error_number_d": null,
                                    "Severity": null,
                                    "user_defined_b": null,
                                    "state_d": null,
                                    "originalEventTimestamp_t": null,
                                    "audit_schema_version_d": null,
                                    "event_time_t": null,
                                    "sequence_number_d": null,
                                    "action_id_s": "",
                                    "action_name_s": "",
                                    "succeeded_s": "",
                                    "is_column_permission_s": "",
                                    "session_id_d": null,
                                    "server_principal_id_d": null,
                                    "database_principal_id_d": null,
                                    "target_server_principal_id_d": null,
                                    "target_database_principal_id_d": null,
                                    "object_id_d": null,
                                    "user_defined_event_id_d": null,
                                    "transaction_id_d": null,
                                    "class_type_s": "",
                                    "class_type_description_s": "",
                                    "securable_class_type_s": "",
                                    "duration_milliseconds_d": null,
                                    "response_rows_d": null,
                                    "affected_rows_d": null,
                                    "client_tls_version_d": null,
                                    "client_ip_s": "",
                                    "permission_bitmask_g": "",
                                    "sequence_group_id_g": "",
                                    "session_server_principal_name_s": "",
                                    "server_principal_name_s": "",
                                    "server_principal_sid_s": "",
                                    "database_principal_name_s": "",
                                    "target_server_principal_name_s": "",
                                    "target_server_principal_sid_s": "",
                                    "target_database_principal_name_s": "",
                                    "server_instance_name_s": "",
                                    "database_name_s": "",
                                    "schema_name_s": "",
                                    "object_name_s": "",
                                    "statement_s": "",
                                    "additional_information_s": "",
                                    "user_defined_information_s": "",
                                    "application_name_s": "",
                                    "connection_id_g": "",
                                    "data_sensitivity_information_s": "",
                                    "host_name_s": "",
                                    "session_context_s": "",
                                    "is_server_level_audit_s": "",
                                    "event_id_g": "",
                                    "AdditionalFields": "None",
                                    "Type": "AzureDiagnostics"
                                },
                                {
                                    "TimeGenerated": "2021-05-11T18:45:55.469Z",
                                    "Category": "QueryStoreWaitStatistics",
                                    "ResourceProvider": "MICROSOFT.SQL",
                                    "Resource": "SQLALERTDEMODATABASE",
                                    "ResourceType": "SERVERS/DATABASES",
                                    "OperationName": "QueryStoreWaitStatisticsEvent",
                                    "ResultType": "",
                                    "CorrelationId": "",
                                    "ResultDescription": "",
                                    "Tenant_g": "",
                                    "JobId_g": "",
                                    "RunbookName_s": "",
                                    "StreamType_s": "",
                                    "Caller_s": "",
                                    "requestUri_s": "",
                                    "Level": "",
                                    "DurationMs": null,
                                    "CallerIPAddress": "",
                                    "OperationVersion": "",
                                    "ResultSignature": "",
                                    "id_s": "",
                                    "status_s": "",
                                    "LogicalServerName_s": "sqlalertdemoserver",
                                    "Message": "",
                                    "clientInfo_s": "",
                                    "httpStatusCode_d": null,
                                    "identity_claim_appid_g": "",
                                    "identity_claim_http_schemas_microsoft_com_identity_claims_objectidentifier_g": "",
                                    "userAgent_s": "",
                                    "ruleName_s": "",
                                    "identity_claim_http_schemas_xmlsoap_org_ws_2005_05_identity_claims_upn_s": "",
                                    "systemId_g": "",
                                    "isAccessPolicyMatch_b": null,
                                    "EventName_s": "",
                                    "httpMethod_s": "",
                                    "subnetId_s": "",
                                    "type_s": "",
                                    "instanceId_s": "",
                                    "macAddress_s": "",
                                    "vnetResourceGuid_g": "",
                                    "direction_s": "",
                                    "subnetPrefix_s": "",
                                    "primaryIPv4Address_s": "",
                                    "conditions_sourcePortRange_s": "",
                                    "priority_d": null,
                                    "conditions_destinationPortRange_s": "",
                                    "conditions_destinationIP_s": "",
                                    "conditions_None_s": "",
                                    "conditions_sourceIP_s": "",
                                    "httpVersion_s": "",
                                    "matchedConnections_d": null,
                                    "startTime_t": null,
                                    "endTime_t": null,
                                    "DatabaseName_s": "sqlalertdemodatabase",
                                    "clientIP_s": "",
                                    "host_s": "",
                                    "requestQuery_s": "",
                                    "sslEnabled_s": "",
                                    "clientPort_d": null,
                                    "httpStatus_d": null,
                                    "receivedBytes_d": null,
                                    "sentBytes_d": null,
                                    "timeTaken_d": null,
                                    "resultDescription_ErrorJobs_s": "",
                                    "resultDescription_ChildJobs_s": "",
                                    "identity_claim_http_schemas_microsoft_com_identity_claims_scope_s": "",
                                    "workflowId_s": "",
                                    "resource_location_s": "",
                                    "resource_workflowId_g": "",
                                    "resource_resourceGroupName_s": "",
                                    "resource_subscriptionId_g": "",
                                    "resource_runId_s": "",
                                    "resource_workflowName_s": "",
                                    "_schema_s": "",
                                    "correlation_clientTrackingId_s": "",
                                    "properties_sku_Family_s": "",
                                    "properties_sku_Name_s": "",
                                    "properties_tenantId_g": "",
                                    "properties_enabledForDeployment_b": null,
                                    "code_s": "",
                                    "resultDescription_Summary_MachineId_s": "",
                                    "resultDescription_Summary_ScheduleName_s": "",
                                    "resultDescription_Summary_Status_s": "",
                                    "resultDescription_Summary_StatusDescription_s": "",
                                    "resultDescription_Summary_MachineName_s": "",
                                    "resultDescription_Summary_TotalUpdatesInstalled_d": null,
                                    "resultDescription_Summary_RebootRequired_b": null,
                                    "resultDescription_Summary_TotalUpdatesFailed_d": null,
                                    "resultDescription_Summary_InstallPercentage_d": null,
                                    "resultDescription_Summary_StartDateTimeUtc_t": null,
                                    "resource_triggerName_s": "",
                                    "resultDescription_Summary_InitialRequiredUpdatesCount_d": null,
                                    "properties_enabledForTemplateDeployment_b": null,
                                    "resultDescription_Summary_EndDateTimeUtc_s": "",
                                    "resultDescription_Summary_DurationInMinutes_s": "",
                                    "resource_originRunId_s": "",
                                    "properties_enabledForDiskEncryption_b": null,
                                    "resource_actionName_s": "",
                                    "correlation_actionTrackingId_g": "",
                                    "resultDescription_Summary_EndDateTimeUtc_t": null,
                                    "resultDescription_Summary_DurationInMinutes_d": null,
                                    "conditions_protocols_s": "",
                                    "identity_claim_ipaddr_s": "",
                                    "ElasticPoolName_s": "",
                                    "identity_claim_http_schemas_microsoft_com_claims_authnmethodsreferences_s": "",
                                    "RunOn_s": "",
                                    "query_hash_s": "0x4E8C0B5AF78C4ED1",
                                    "SourceSystem": "Azure",
                                    "MG": "",
                                    "ManagementGroupName": "",
                                    "Computer": "",
                                    "RawData": "",
                                    "exec_type_d": 0,
                                    "wait_category_s": "CPU",
                                    "total_query_wait_time_ms_d": 128,
                                    "max_query_wait_time_ms_d": 128,
                                    "is_parameterizable_s": "false",
                                    "statement_type_s": "x_estypSelect",
                                    "statement_key_hash_s": "2744282586",
                                    "query_param_type_d": 1,
                                    "interval_start_time_d": 190374444835200,
                                    "interval_end_time_d": 190374445915200,
                                    "logical_io_writes_d": null,
                                    "max_logical_io_writes_d": null,
                                    "physical_io_reads_d": null,
                                    "max_physical_io_reads_d": null,
                                    "logical_io_reads_d": null,
                                    "max_logical_io_reads_d": null,
                                    "execution_type_d": null,
                                    "count_executions_d": 1,
                                    "cpu_time_d": null,
                                    "max_cpu_time_d": null,
                                    "dop_d": null,
                                    "max_dop_d": null,
                                    "rowcount_d": null,
                                    "max_rowcount_d": null,
                                    "query_max_used_memory_d": null,
                                    "max_query_max_used_memory_d": null,
                                    "duration_d": null,
                                    "max_duration_d": null,
                                    "num_physical_io_reads_d": null,
                                    "max_num_physical_io_reads_d": null,
                                    "log_bytes_used_d": null,
                                    "max_log_bytes_used_d": null,
                                    "query_id_d": 40,
                                    "plan_id_d": 2,
                                    "statement_sql_handle_s": "0x0900C6D4FC50EF5B4E298DBE4E3A7EA7911F0000000000000000000000000000000000000000000000000000",
                                    "query_plan_hash_s": "0x132EFB64A54855E5",
                                    "error_number_d": null,
                                    "Severity": null,
                                    "user_defined_b": null,
                                    "state_d": null,
                                    "originalEventTimestamp_t": null,
                                    "audit_schema_version_d": null,
                                    "event_time_t": null,
                                    "sequence_number_d": null,
                                    "action_id_s": "",
                                    "action_name_s": "",
                                    "succeeded_s": "",
                                    "is_column_permission_s": "",
                                    "session_id_d": null,
                                    "server_principal_id_d": null,
                                    "database_principal_id_d": null,
                                    "target_server_principal_id_d": null,
                                    "target_database_principal_id_d": null,
                                    "object_id_d": null,
                                    "user_defined_event_id_d": null,
                                    "transaction_id_d": null,
                                    "class_type_s": "",
                                    "class_type_description_s": "",
                                    "securable_class_type_s": "",
                                    "duration_milliseconds_d": null,
                                    "response_rows_d": null,
                                    "affected_rows_d": null,
                                    "client_tls_version_d": null,
                                    "client_ip_s": "",
                                    "permission_bitmask_g": "",
                                    "sequence_group_id_g": "",
                                    "session_server_principal_name_s": "",
                                    "server_principal_name_s": "",
                                    "server_principal_sid_s": "",
                                    "database_principal_name_s": "",
                                    "target_server_principal_name_s": "",
                                    "target_server_principal_sid_s": "",
                                    "target_database_principal_name_s": "",
                                    "server_instance_name_s": "",
                                    "database_name_s": "",
                                    "schema_name_s": "",
                                    "object_name_s": "",
                                    "statement_s": "",
                                    "additional_information_s": "",
                                    "user_defined_information_s": "",
                                    "application_name_s": "",
                                    "connection_id_g": "",
                                    "data_sensitivity_information_s": "",
                                    "host_name_s": "",
                                    "session_context_s": "",
                                    "is_server_level_audit_s": "",
                                    "event_id_g": "",
                                    "AdditionalFields": "None",
                                    "Type": "AzureDiagnostics"
                                },
                                {
                                    "TimeGenerated": "2021-05-11T18:45:55.469Z",
                                    "Category": "QueryStoreWaitStatistics",
                                    "ResourceProvider": "MICROSOFT.SQL",
                                    "Resource": "SQLALERTDEMODATABASE",
                                    "ResourceType": "SERVERS/DATABASES",
                                    "OperationName": "QueryStoreWaitStatisticsEvent",
                                    "ResultType": "",
                                    "CorrelationId": "",
                                    "ResultDescription": "",
                                    "Tenant_g": "",
                                    "JobId_g": "",
                                    "RunbookName_s": "",
                                    "StreamType_s": "",
                                    "Caller_s": "",
                                    "requestUri_s": "",
                                    "Level": "",
                                    "DurationMs": null,
                                    "CallerIPAddress": "",
                                    "OperationVersion": "",
                                    "ResultSignature": "",
                                    "id_s": "",
                                    "status_s": "",
                                    "LogicalServerName_s": "sqlalertdemoserver",
                                    "Message": "",
                                    "clientInfo_s": "",
                                    "httpStatusCode_d": null,
                                    "identity_claim_appid_g": "",
                                    "identity_claim_http_schemas_microsoft_com_identity_claims_objectidentifier_g": "",
                                    "userAgent_s": "",
                                    "ruleName_s": "",
                                    "identity_claim_http_schemas_xmlsoap_org_ws_2005_05_identity_claims_upn_s": "",
                                    "systemId_g": "",
                                    "isAccessPolicyMatch_b": null,
                                    "EventName_s": "",
                                    "httpMethod_s": "",
                                    "subnetId_s": "",
                                    "type_s": "",
                                    "instanceId_s": "",
                                    "macAddress_s": "",
                                    "vnetResourceGuid_g": "",
                                    "direction_s": "",
                                    "subnetPrefix_s": "",
                                    "primaryIPv4Address_s": "",
                                    "conditions_sourcePortRange_s": "",
                                    "priority_d": null,
                                    "conditions_destinationPortRange_s": "",
                                    "conditions_destinationIP_s": "",
                                    "conditions_None_s": "",
                                    "conditions_sourceIP_s": "",
                                    "httpVersion_s": "",
                                    "matchedConnections_d": null,
                                    "startTime_t": null,
                                    "endTime_t": null,
                                    "DatabaseName_s": "sqlalertdemodatabase",
                                    "clientIP_s": "",
                                    "host_s": "",
                                    "requestQuery_s": "",
                                    "sslEnabled_s": "",
                                    "clientPort_d": null,
                                    "httpStatus_d": null,
                                    "receivedBytes_d": null,
                                    "sentBytes_d": null,
                                    "timeTaken_d": null,
                                    "resultDescription_ErrorJobs_s": "",
                                    "resultDescription_ChildJobs_s": "",
                                    "identity_claim_http_schemas_microsoft_com_identity_claims_scope_s": "",
                                    "workflowId_s": "",
                                    "resource_location_s": "",
                                    "resource_workflowId_g": "",
                                    "resource_resourceGroupName_s": "",
                                    "resource_subscriptionId_g": "",
                                    "resource_runId_s": "",
                                    "resource_workflowName_s": "",
                                    "_schema_s": "",
                                    "correlation_clientTrackingId_s": "",
                                    "properties_sku_Family_s": "",
                                    "properties_sku_Name_s": "",
                                    "properties_tenantId_g": "",
                                    "properties_enabledForDeployment_b": null,
                                    "code_s": "",
                                    "resultDescription_Summary_MachineId_s": "",
                                    "resultDescription_Summary_ScheduleName_s": "",
                                    "resultDescription_Summary_Status_s": "",
                                    "resultDescription_Summary_StatusDescription_s": "",
                                    "resultDescription_Summary_MachineName_s": "",
                                    "resultDescription_Summary_TotalUpdatesInstalled_d": null,
                                    "resultDescription_Summary_RebootRequired_b": null,
                                    "resultDescription_Summary_TotalUpdatesFailed_d": null,
                                    "resultDescription_Summary_InstallPercentage_d": null,
                                    "resultDescription_Summary_StartDateTimeUtc_t": null,
                                    "resource_triggerName_s": "",
                                    "resultDescription_Summary_InitialRequiredUpdatesCount_d": null,
                                    "properties_enabledForTemplateDeployment_b": null,
                                    "resultDescription_Summary_EndDateTimeUtc_s": "",
                                    "resultDescription_Summary_DurationInMinutes_s": "",
                                    "resource_originRunId_s": "",
                                    "properties_enabledForDiskEncryption_b": null,
                                    "resource_actionName_s": "",
                                    "correlation_actionTrackingId_g": "",
                                    "resultDescription_Summary_EndDateTimeUtc_t": null,
                                    "resultDescription_Summary_DurationInMinutes_d": null,
                                    "conditions_protocols_s": "",
                                    "identity_claim_ipaddr_s": "",
                                    "ElasticPoolName_s": "",
                                    "identity_claim_http_schemas_microsoft_com_claims_authnmethodsreferences_s": "",
                                    "RunOn_s": "",
                                    "query_hash_s": "0x4E8C0B5AF78C4ED1",
                                    "SourceSystem": "Azure",
                                    "MG": "",
                                    "ManagementGroupName": "",
                                    "Computer": "",
                                    "RawData": "",
                                    "exec_type_d": 0,
                                    "wait_category_s": "BUFFERIO",
                                    "total_query_wait_time_ms_d": 2879,
                                    "max_query_wait_time_ms_d": 2879,
                                    "is_parameterizable_s": "false",
                                    "statement_type_s": "x_estypSelect",
                                    "statement_key_hash_s": "2744282586",
                                    "query_param_type_d": 1,
                                    "interval_start_time_d": 190374444835200,
                                    "interval_end_time_d": 190374445915200,
                                    "logical_io_writes_d": null,
                                    "max_logical_io_writes_d": null,
                                    "physical_io_reads_d": null,
                                    "max_physical_io_reads_d": null,
                                    "logical_io_reads_d": null,
                                    "max_logical_io_reads_d": null,
                                    "execution_type_d": null,
                                    "count_executions_d": 1,
                                    "cpu_time_d": null,
                                    "max_cpu_time_d": null,
                                    "dop_d": null,
                                    "max_dop_d": null,
                                    "rowcount_d": null,
                                    "max_rowcount_d": null,
                                    "query_max_used_memory_d": null,
                                    "max_query_max_used_memory_d": null,
                                    "duration_d": null,
                                    "max_duration_d": null,
                                    "num_physical_io_reads_d": null,
                                    "max_num_physical_io_reads_d": null,
                                    "log_bytes_used_d": null,
                                    "max_log_bytes_used_d": null,
                                    "query_id_d": 40,
                                    "plan_id_d": 2,
                                    "statement_sql_handle_s": "0x0900C6D4FC50EF5B4E298DBE4E3A7EA7911F0000000000000000000000000000000000000000000000000000",
                                    "query_plan_hash_s": "0x132EFB64A54855E5",
                                    "error_number_d": null,
                                    "Severity": null,
                                    "user_defined_b": null,
                                    "state_d": null,
                                    "originalEventTimestamp_t": null,
                                    "audit_schema_version_d": null,
                                    "event_time_t": null,
                                    "sequence_number_d": null,
                                    "action_id_s": "",
                                    "action_name_s": "",
                                    "succeeded_s": "",
                                    "is_column_permission_s": "",
                                    "session_id_d": null,
                                    "server_principal_id_d": null,
                                    "database_principal_id_d": null,
                                    "target_server_principal_id_d": null,
                                    "target_database_principal_id_d": null,
                                    "object_id_d": null,
                                    "user_defined_event_id_d": null,
                                    "transaction_id_d": null,
                                    "class_type_s": "",
                                    "class_type_description_s": "",
                                    "securable_class_type_s": "",
                                    "duration_milliseconds_d": null,
                                    "response_rows_d": null,
                                    "affected_rows_d": null,
                                    "client_tls_version_d": null,
                                    "client_ip_s": "",
                                    "permission_bitmask_g": "",
                                    "sequence_group_id_g": "",
                                    "session_server_principal_name_s": "",
                                    "server_principal_name_s": "",
                                    "server_principal_sid_s": "",
                                    "database_principal_name_s": "",
                                    "target_server_principal_name_s": "",
                                    "target_server_principal_sid_s": "",
                                    "target_database_principal_name_s": "",
                                    "server_instance_name_s": "",
                                    "database_name_s": "",
                                    "schema_name_s": "",
                                    "object_name_s": "",
                                    "statement_s": "",
                                    "additional_information_s": "",
                                    "user_defined_information_s": "",
                                    "application_name_s": "",
                                    "connection_id_g": "",
                                    "data_sensitivity_information_s": "",
                                    "host_name_s": "",
                                    "session_context_s": "",
                                    "is_server_level_audit_s": "",
                                    "event_id_g": "",
                                    "AdditionalFields": "None",
                                    "Type": "AzureDiagnostics"
                                }
                            ]
                        }
                    },
                    "metadata": {}
                },
                {
                    "output_type": "display_data",
                    "data": {
                        "text/plain": "<IPython.core.display.HTML object>",
                        "text/html": "<html>\n        <head>\n            \n            \n        </head>\n        <body>\n            <div><p style='padding: 10px; color: #3a87ad; background-color: #d9edf7; border-color: #bce9f1'>Done&nbsp;(00:00.300):&nbsp;10&nbsp;records</p></div>\n        </body>\n        </html>"
                    },
                    "metadata": {}
                },
                {
                    "output_type": "execute_result",
                    "execution_count": 29,
                    "data": {
                        "text/plain": "[{'TimeGenerated': datetime.datetime(2021, 5, 11, 18, 34, 32, 288000, tzinfo=tzutc()), 'Category': 'SQLSecurityAuditEvents', 'ResourceProvider': 'MICROSOFT.SQL', 'Resource': 'MASTER', 'ResourceType': 'SERVERS/DATABASES', 'OperationName': 'AuditEvent', 'ResultType': '', 'CorrelationId': '', 'ResultDescription': '', 'Tenant_g': '', 'JobId_g': '', 'RunbookName_s': '', 'StreamType_s': '', 'Caller_s': '', 'requestUri_s': '', 'Level': '', 'DurationMs': None, 'CallerIPAddress': '', 'OperationVersion': '', 'ResultSignature': '', 'id_s': '', 'status_s': '', 'LogicalServerName_s': 'sqlalertdemoserver', 'Message': '', 'clientInfo_s': '', 'httpStatusCode_d': None, 'identity_claim_appid_g': '', 'identity_claim_http_schemas_microsoft_com_identity_claims_objectidentifier_g': '', 'userAgent_s': '', 'ruleName_s': '', 'identity_claim_http_schemas_xmlsoap_org_ws_2005_05_identity_claims_upn_s': '', 'systemId_g': '', 'isAccessPolicyMatch_b': None, 'EventName_s': '', 'httpMethod_s': '', 'subnetId_s': '', 'type_s': '', 'instanceId_s': '', 'macAddress_s': '', 'vnetResourceGuid_g': '', 'direction_s': '', 'subnetPrefix_s': '', 'primaryIPv4Address_s': '', 'conditions_sourcePortRange_s': '', 'priority_d': None, 'conditions_destinationPortRange_s': '', 'conditions_destinationIP_s': '', 'conditions_None_s': '', 'conditions_sourceIP_s': '', 'httpVersion_s': '', 'matchedConnections_d': None, 'startTime_t': None, 'endTime_t': None, 'DatabaseName_s': '', 'clientIP_s': '', 'host_s': '', 'requestQuery_s': '', 'sslEnabled_s': '', 'clientPort_d': None, 'httpStatus_d': None, 'receivedBytes_d': None, 'sentBytes_d': None, 'timeTaken_d': None, 'resultDescription_ErrorJobs_s': '', 'resultDescription_ChildJobs_s': '', 'identity_claim_http_schemas_microsoft_com_identity_claims_scope_s': '', 'workflowId_s': '', 'resource_location_s': '', 'resource_workflowId_g': '', 'resource_resourceGroupName_s': '', 'resource_subscriptionId_g': '', 'resource_runId_s': '', 'resource_workflowName_s': '', '_schema_s': '', 'correlation_clientTrackingId_s': '', 'properties_sku_Family_s': '', 'properties_sku_Name_s': '', 'properties_tenantId_g': '', 'properties_enabledForDeployment_b': None, 'code_s': '', 'resultDescription_Summary_MachineId_s': '', 'resultDescription_Summary_ScheduleName_s': '', 'resultDescription_Summary_Status_s': '', 'resultDescription_Summary_StatusDescription_s': '', 'resultDescription_Summary_MachineName_s': '', 'resultDescription_Summary_TotalUpdatesInstalled_d': None, 'resultDescription_Summary_RebootRequired_b': None, 'resultDescription_Summary_TotalUpdatesFailed_d': None, 'resultDescription_Summary_InstallPercentage_d': None, 'resultDescription_Summary_StartDateTimeUtc_t': None, 'resource_triggerName_s': '', 'resultDescription_Summary_InitialRequiredUpdatesCount_d': None, 'properties_enabledForTemplateDeployment_b': None, 'resultDescription_Summary_EndDateTimeUtc_s': '', 'resultDescription_Summary_DurationInMinutes_s': '', 'resource_originRunId_s': '', 'properties_enabledForDiskEncryption_b': None, 'resource_actionName_s': '', 'correlation_actionTrackingId_g': '', 'resultDescription_Summary_EndDateTimeUtc_t': None, 'resultDescription_Summary_DurationInMinutes_d': None, 'conditions_protocols_s': '', 'identity_claim_ipaddr_s': '', 'ElasticPoolName_s': '', 'identity_claim_http_schemas_microsoft_com_claims_authnmethodsreferences_s': '', 'RunOn_s': '', 'query_hash_s': '', 'SourceSystem': 'Azure', 'MG': '', 'ManagementGroupName': '', 'Computer': '', 'RawData': '', 'exec_type_d': None, 'wait_category_s': '', 'total_query_wait_time_ms_d': None, 'max_query_wait_time_ms_d': None, 'is_parameterizable_s': '', 'statement_type_s': '', 'statement_key_hash_s': '', 'query_param_type_d': None, 'interval_start_time_d': None, 'interval_end_time_d': None, 'logical_io_writes_d': None, 'max_logical_io_writes_d': None, 'physical_io_reads_d': None, 'max_physical_io_reads_d': None, 'logical_io_reads_d': None, 'max_logical_io_reads_d': None, 'execution_type_d': None, 'count_executions_d': None, 'cpu_time_d': None, 'max_cpu_time_d': None, 'dop_d': None, 'max_dop_d': None, 'rowcount_d': None, 'max_rowcount_d': None, 'query_max_used_memory_d': None, 'max_query_max_used_memory_d': None, 'duration_d': None, 'max_duration_d': None, 'num_physical_io_reads_d': None, 'max_num_physical_io_reads_d': None, 'log_bytes_used_d': None, 'max_log_bytes_used_d': None, 'query_id_d': None, 'plan_id_d': None, 'statement_sql_handle_s': '', 'query_plan_hash_s': '', 'error_number_d': None, 'Severity': None, 'user_defined_b': None, 'state_d': None, 'originalEventTimestamp_t': datetime.datetime(2021, 5, 11, 18, 34, 32, 285000, tzinfo=tzutc()), 'audit_schema_version_d': 1, 'event_time_t': datetime.datetime(2021, 5, 11, 18, 34, 31, 303000, tzinfo=tzutc()), 'sequence_number_d': 1, 'action_id_s': 'AUSC', 'action_name_s': 'AUDIT SESSION CHANGED', 'succeeded_s': 'true', 'is_column_permission_s': 'false', 'session_id_d': 58, 'server_principal_id_d': 268, 'database_principal_id_d': 0, 'target_server_principal_id_d': 0, 'target_database_principal_id_d': 0, 'object_id_d': 0, 'user_defined_event_id_d': 0, 'transaction_id_d': 0, 'class_type_s': 'A ', 'class_type_description_s': 'SERVER AUDIT', 'securable_class_type_s': 'SERVER', 'duration_milliseconds_d': 0, 'response_rows_d': 0, 'affected_rows_d': 0, 'client_tls_version_d': 0, 'client_ip_s': 'Internal', 'permission_bitmask_g': '00000000-0000-0000-0000-000000000000', 'sequence_group_id_g': '00000000-0000-0000-0000-000000000000', 'session_server_principal_name_s': 'NT AUTHORITY\\\\SYSTEM', 'server_principal_name_s': 'NT AUTHORITY\\\\SYSTEM', 'server_principal_sid_s': '010100000000000512000000', 'database_principal_name_s': '', 'target_server_principal_name_s': '', 'target_server_principal_sid_s': '', 'target_database_principal_name_s': '', 'server_instance_name_s': 'sqlalertdemoserver', 'database_name_s': '', 'schema_name_s': '', 'object_name_s': '', 'statement_s': '', 'additional_information_s': '<action_info xmlns=\"http://schemas.microsoft.com/sqlserver/2008/sqlaudit_data\"><session><![CDATA[SqlDbAuditing_AzureMonitorServerAudit$A_94A73089-5751-4200-BF13-0C6ADB205EEE]]></session><action>event enabled</action><startup_type>manual</startup_type><object><![CDATA[audit_event]]></object></action_info>', 'user_defined_information_s': '', 'application_name_s': 'Internal', 'connection_id_g': '89be1467-01d3-4936-8417-728294c11750', 'data_sensitivity_information_s': '', 'host_name_s': 'DB8', 'session_context_s': '', 'is_server_level_audit_s': 'true', 'event_id_g': 'fa9dcd2f-e0aa-466e-95de-e295b686a603', 'AdditionalFields': None, 'Type': 'AzureDiagnostics'},\n {'TimeGenerated': datetime.datetime(2021, 5, 11, 19, 1, 10, 612000, tzinfo=tzutc()), 'Category': 'SQLSecurityAuditEvents', 'ResourceProvider': 'MICROSOFT.SQL', 'Resource': 'MASTER', 'ResourceType': 'SERVERS/DATABASES', 'OperationName': 'AuditEvent', 'ResultType': '', 'CorrelationId': '', 'ResultDescription': '', 'Tenant_g': '', 'JobId_g': '', 'RunbookName_s': '', 'StreamType_s': '', 'Caller_s': '', 'requestUri_s': '', 'Level': '', 'DurationMs': None, 'CallerIPAddress': '', 'OperationVersion': '', 'ResultSignature': '', 'id_s': '', 'status_s': '', 'LogicalServerName_s': 'sqlalertdemoserver', 'Message': '', 'clientInfo_s': '', 'httpStatusCode_d': None, 'identity_claim_appid_g': '', 'identity_claim_http_schemas_microsoft_com_identity_claims_objectidentifier_g': '', 'userAgent_s': '', 'ruleName_s': '', 'identity_claim_http_schemas_xmlsoap_org_ws_2005_05_identity_claims_upn_s': '', 'systemId_g': '', 'isAccessPolicyMatch_b': None, 'EventName_s': '', 'httpMethod_s': '', 'subnetId_s': '', 'type_s': '', 'instanceId_s': '', 'macAddress_s': '', 'vnetResourceGuid_g': '', 'direction_s': '', 'subnetPrefix_s': '', 'primaryIPv4Address_s': '', 'conditions_sourcePortRange_s': '', 'priority_d': None, 'conditions_destinationPortRange_s': '', 'conditions_destinationIP_s': '', 'conditions_None_s': '', 'conditions_sourceIP_s': '', 'httpVersion_s': '', 'matchedConnections_d': None, 'startTime_t': None, 'endTime_t': None, 'DatabaseName_s': '', 'clientIP_s': '', 'host_s': '', 'requestQuery_s': '', 'sslEnabled_s': '', 'clientPort_d': None, 'httpStatus_d': None, 'receivedBytes_d': None, 'sentBytes_d': None, 'timeTaken_d': None, 'resultDescription_ErrorJobs_s': '', 'resultDescription_ChildJobs_s': '', 'identity_claim_http_schemas_microsoft_com_identity_claims_scope_s': '', 'workflowId_s': '', 'resource_location_s': '', 'resource_workflowId_g': '', 'resource_resourceGroupName_s': '', 'resource_subscriptionId_g': '', 'resource_runId_s': '', 'resource_workflowName_s': '', '_schema_s': '', 'correlation_clientTrackingId_s': '', 'properties_sku_Family_s': '', 'properties_sku_Name_s': '', 'properties_tenantId_g': '', 'properties_enabledForDeployment_b': None, 'code_s': '', 'resultDescription_Summary_MachineId_s': '', 'resultDescription_Summary_ScheduleName_s': '', 'resultDescription_Summary_Status_s': '', 'resultDescription_Summary_StatusDescription_s': '', 'resultDescription_Summary_MachineName_s': '', 'resultDescription_Summary_TotalUpdatesInstalled_d': None, 'resultDescription_Summary_RebootRequired_b': None, 'resultDescription_Summary_TotalUpdatesFailed_d': None, 'resultDescription_Summary_InstallPercentage_d': None, 'resultDescription_Summary_StartDateTimeUtc_t': None, 'resource_triggerName_s': '', 'resultDescription_Summary_InitialRequiredUpdatesCount_d': None, 'properties_enabledForTemplateDeployment_b': None, 'resultDescription_Summary_EndDateTimeUtc_s': '', 'resultDescription_Summary_DurationInMinutes_s': '', 'resource_originRunId_s': '', 'properties_enabledForDiskEncryption_b': None, 'resource_actionName_s': '', 'correlation_actionTrackingId_g': '', 'resultDescription_Summary_EndDateTimeUtc_t': None, 'resultDescription_Summary_DurationInMinutes_d': None, 'conditions_protocols_s': '', 'identity_claim_ipaddr_s': '', 'ElasticPoolName_s': '', 'identity_claim_http_schemas_microsoft_com_claims_authnmethodsreferences_s': '', 'RunOn_s': '', 'query_hash_s': '', 'SourceSystem': 'Azure', 'MG': '', 'ManagementGroupName': '', 'Computer': '', 'RawData': '', 'exec_type_d': None, 'wait_category_s': '', 'total_query_wait_time_ms_d': None, 'max_query_wait_time_ms_d': None, 'is_parameterizable_s': '', 'statement_type_s': '', 'statement_key_hash_s': '', 'query_param_type_d': None, 'interval_start_time_d': None, 'interval_end_time_d': None, 'logical_io_writes_d': None, 'max_logical_io_writes_d': None, 'physical_io_reads_d': None, 'max_physical_io_reads_d': None, 'logical_io_reads_d': None, 'max_logical_io_reads_d': None, 'execution_type_d': None, 'count_executions_d': None, 'cpu_time_d': None, 'max_cpu_time_d': None, 'dop_d': None, 'max_dop_d': None, 'rowcount_d': None, 'max_rowcount_d': None, 'query_max_used_memory_d': None, 'max_query_max_used_memory_d': None, 'duration_d': None, 'max_duration_d': None, 'num_physical_io_reads_d': None, 'max_num_physical_io_reads_d': None, 'log_bytes_used_d': None, 'max_log_bytes_used_d': None, 'query_id_d': None, 'plan_id_d': None, 'statement_sql_handle_s': '', 'query_plan_hash_s': '', 'error_number_d': None, 'Severity': None, 'user_defined_b': None, 'state_d': None, 'originalEventTimestamp_t': datetime.datetime(2021, 5, 11, 19, 1, 10, 612000, tzinfo=tzutc()), 'audit_schema_version_d': 1, 'event_time_t': datetime.datetime(2021, 5, 11, 19, 1, 9, 596000, tzinfo=tzutc()), 'sequence_number_d': 1, 'action_id_s': 'AUSC', 'action_name_s': 'AUDIT SESSION CHANGED', 'succeeded_s': 'true', 'is_column_permission_s': 'false', 'session_id_d': 58, 'server_principal_id_d': 1, 'database_principal_id_d': 0, 'target_server_principal_id_d': 0, 'target_database_principal_id_d': 0, 'object_id_d': 0, 'user_defined_event_id_d': 0, 'transaction_id_d': 0, 'class_type_s': 'A ', 'class_type_description_s': 'SERVER AUDIT', 'securable_class_type_s': 'SERVER', 'duration_milliseconds_d': 0, 'response_rows_d': 0, 'affected_rows_d': 0, 'client_tls_version_d': 0, 'client_ip_s': 'Unknown', 'permission_bitmask_g': '00000000-0000-0000-0000-000000000000', 'sequence_group_id_g': '00000000-0000-0000-0000-000000000000', 'session_server_principal_name_s': '', 'server_principal_name_s': 'sa', 'server_principal_sid_s': '01', 'database_principal_name_s': '', 'target_server_principal_name_s': '', 'target_server_principal_sid_s': '', 'target_database_principal_name_s': '', 'server_instance_name_s': 'sqlalertdemoserver', 'database_name_s': '', 'schema_name_s': '', 'object_name_s': '', 'statement_s': '', 'additional_information_s': '<action_info xmlns=\"http://schemas.microsoft.com/sqlserver/2008/sqlaudit_data\"><session><![CDATA[SqlDbAuditing_AzureMonitorServerAudit$A_7030409B-7F45-492D-9DA3-E30A5B451AA7]]></session><action>event enabled</action><startup_type>automatic</startup_type><object><![CDATA[audit_event]]></object></action_info>', 'user_defined_information_s': '', 'application_name_s': '', 'connection_id_g': '00000000-0000-0000-0000-000000000000', 'data_sensitivity_information_s': '', 'host_name_s': '', 'session_context_s': '', 'is_server_level_audit_s': 'true', 'event_id_g': 'b5f55cf2-8c25-4a49-848f-d0b6a83f96b7', 'AdditionalFields': None, 'Type': 'AzureDiagnostics'},\n {'TimeGenerated': datetime.datetime(2021, 5, 11, 18, 44, 56, 21000, tzinfo=tzutc()), 'Category': 'Errors', 'ResourceProvider': 'MICROSOFT.SQL', 'Resource': 'SQLALERTDEMODATABASE', 'ResourceType': 'SERVERS/DATABASES', 'OperationName': 'ErrorEvent', 'ResultType': '', 'CorrelationId': '', 'ResultDescription': '', 'Tenant_g': '', 'JobId_g': '', 'RunbookName_s': '', 'StreamType_s': '', 'Caller_s': '', 'requestUri_s': '', 'Level': '', 'DurationMs': None, 'CallerIPAddress': '', 'OperationVersion': '', 'ResultSignature': '', 'id_s': '', 'status_s': '', 'LogicalServerName_s': 'sqlalertdemoserver', 'Message': \"Invalid object name 'sys.dm_os_windows_info'.\", 'clientInfo_s': '', 'httpStatusCode_d': None, 'identity_claim_appid_g': '', 'identity_claim_http_schemas_microsoft_com_identity_claims_objectidentifier_g': '', 'userAgent_s': '', 'ruleName_s': '', 'identity_claim_http_schemas_xmlsoap_org_ws_2005_05_identity_claims_upn_s': '', 'systemId_g': '', 'isAccessPolicyMatch_b': None, 'EventName_s': '', 'httpMethod_s': '', 'subnetId_s': '', 'type_s': '', 'instanceId_s': '', 'macAddress_s': '', 'vnetResourceGuid_g': '', 'direction_s': '', 'subnetPrefix_s': '', 'primaryIPv4Address_s': '', 'conditions_sourcePortRange_s': '', 'priority_d': None, 'conditions_destinationPortRange_s': '', 'conditions_destinationIP_s': '', 'conditions_None_s': '', 'conditions_sourceIP_s': '', 'httpVersion_s': '', 'matchedConnections_d': None, 'startTime_t': None, 'endTime_t': None, 'DatabaseName_s': 'sqlalertdemodatabase', 'clientIP_s': '', 'host_s': '', 'requestQuery_s': '', 'sslEnabled_s': '', 'clientPort_d': None, 'httpStatus_d': None, 'receivedBytes_d': None, 'sentBytes_d': None, 'timeTaken_d': None, 'resultDescription_ErrorJobs_s': '', 'resultDescription_ChildJobs_s': '', 'identity_claim_http_schemas_microsoft_com_identity_claims_scope_s': '', 'workflowId_s': '', 'resource_location_s': '', 'resource_workflowId_g': '', 'resource_resourceGroupName_s': '', 'resource_subscriptionId_g': '', 'resource_runId_s': '', 'resource_workflowName_s': '', '_schema_s': '', 'correlation_clientTrackingId_s': '', 'properties_sku_Family_s': '', 'properties_sku_Name_s': '', 'properties_tenantId_g': '', 'properties_enabledForDeployment_b': None, 'code_s': '', 'resultDescription_Summary_MachineId_s': '', 'resultDescription_Summary_ScheduleName_s': '', 'resultDescription_Summary_Status_s': '', 'resultDescription_Summary_StatusDescription_s': '', 'resultDescription_Summary_MachineName_s': '', 'resultDescription_Summary_TotalUpdatesInstalled_d': None, 'resultDescription_Summary_RebootRequired_b': None, 'resultDescription_Summary_TotalUpdatesFailed_d': None, 'resultDescription_Summary_InstallPercentage_d': None, 'resultDescription_Summary_StartDateTimeUtc_t': None, 'resource_triggerName_s': '', 'resultDescription_Summary_InitialRequiredUpdatesCount_d': None, 'properties_enabledForTemplateDeployment_b': None, 'resultDescription_Summary_EndDateTimeUtc_s': '', 'resultDescription_Summary_DurationInMinutes_s': '', 'resource_originRunId_s': '', 'properties_enabledForDiskEncryption_b': None, 'resource_actionName_s': '', 'correlation_actionTrackingId_g': '', 'resultDescription_Summary_EndDateTimeUtc_t': None, 'resultDescription_Summary_DurationInMinutes_d': None, 'conditions_protocols_s': '', 'identity_claim_ipaddr_s': '', 'ElasticPoolName_s': '', 'identity_claim_http_schemas_microsoft_com_claims_authnmethodsreferences_s': '', 'RunOn_s': '', 'query_hash_s': '0', 'SourceSystem': 'Azure', 'MG': '', 'ManagementGroupName': '', 'Computer': '', 'RawData': '', 'exec_type_d': None, 'wait_category_s': '', 'total_query_wait_time_ms_d': None, 'max_query_wait_time_ms_d': None, 'is_parameterizable_s': '', 'statement_type_s': '', 'statement_key_hash_s': '', 'query_param_type_d': None, 'interval_start_time_d': None, 'interval_end_time_d': None, 'logical_io_writes_d': None, 'max_logical_io_writes_d': None, 'physical_io_reads_d': None, 'max_physical_io_reads_d': None, 'logical_io_reads_d': None, 'max_logical_io_reads_d': None, 'execution_type_d': None, 'count_executions_d': None, 'cpu_time_d': None, 'max_cpu_time_d': None, 'dop_d': None, 'max_dop_d': None, 'rowcount_d': None, 'max_rowcount_d': None, 'query_max_used_memory_d': None, 'max_query_max_used_memory_d': None, 'duration_d': None, 'max_duration_d': None, 'num_physical_io_reads_d': None, 'max_num_physical_io_reads_d': None, 'log_bytes_used_d': None, 'max_log_bytes_used_d': None, 'query_id_d': None, 'plan_id_d': None, 'statement_sql_handle_s': '', 'query_plan_hash_s': '0', 'error_number_d': 208, 'Severity': 16, 'user_defined_b': False, 'state_d': 1, 'originalEventTimestamp_t': None, 'audit_schema_version_d': None, 'event_time_t': None, 'sequence_number_d': None, 'action_id_s': '', 'action_name_s': '', 'succeeded_s': '', 'is_column_permission_s': '', 'session_id_d': None, 'server_principal_id_d': None, 'database_principal_id_d': None, 'target_server_principal_id_d': None, 'target_database_principal_id_d': None, 'object_id_d': None, 'user_defined_event_id_d': None, 'transaction_id_d': None, 'class_type_s': '', 'class_type_description_s': '', 'securable_class_type_s': '', 'duration_milliseconds_d': None, 'response_rows_d': None, 'affected_rows_d': None, 'client_tls_version_d': None, 'client_ip_s': '', 'permission_bitmask_g': '', 'sequence_group_id_g': '', 'session_server_principal_name_s': '', 'server_principal_name_s': '', 'server_principal_sid_s': '', 'database_principal_name_s': '', 'target_server_principal_name_s': '', 'target_server_principal_sid_s': '', 'target_database_principal_name_s': '', 'server_instance_name_s': '', 'database_name_s': '', 'schema_name_s': '', 'object_name_s': '', 'statement_s': '', 'additional_information_s': '', 'user_defined_information_s': '', 'application_name_s': '', 'connection_id_g': '', 'data_sensitivity_information_s': '', 'host_name_s': '', 'session_context_s': '', 'is_server_level_audit_s': '', 'event_id_g': '', 'AdditionalFields': None, 'Type': 'AzureDiagnostics'},\n {'TimeGenerated': datetime.datetime(2021, 5, 11, 18, 45, 55, 469000, tzinfo=tzutc()), 'Category': 'QueryStoreWaitStatistics', 'ResourceProvider': 'MICROSOFT.SQL', 'Resource': 'SQLALERTDEMODATABASE', 'ResourceType': 'SERVERS/DATABASES', 'OperationName': 'QueryStoreWaitStatisticsEvent', 'ResultType': '', 'CorrelationId': '', 'ResultDescription': '', 'Tenant_g': '', 'JobId_g': '', 'RunbookName_s': '', 'StreamType_s': '', 'Caller_s': '', 'requestUri_s': '', 'Level': '', 'DurationMs': None, 'CallerIPAddress': '', 'OperationVersion': '', 'ResultSignature': '', 'id_s': '', 'status_s': '', 'LogicalServerName_s': 'sqlalertdemoserver', 'Message': '', 'clientInfo_s': '', 'httpStatusCode_d': None, 'identity_claim_appid_g': '', 'identity_claim_http_schemas_microsoft_com_identity_claims_objectidentifier_g': '', 'userAgent_s': '', 'ruleName_s': '', 'identity_claim_http_schemas_xmlsoap_org_ws_2005_05_identity_claims_upn_s': '', 'systemId_g': '', 'isAccessPolicyMatch_b': None, 'EventName_s': '', 'httpMethod_s': '', 'subnetId_s': '', 'type_s': '', 'instanceId_s': '', 'macAddress_s': '', 'vnetResourceGuid_g': '', 'direction_s': '', 'subnetPrefix_s': '', 'primaryIPv4Address_s': '', 'conditions_sourcePortRange_s': '', 'priority_d': None, 'conditions_destinationPortRange_s': '', 'conditions_destinationIP_s': '', 'conditions_None_s': '', 'conditions_sourceIP_s': '', 'httpVersion_s': '', 'matchedConnections_d': None, 'startTime_t': None, 'endTime_t': None, 'DatabaseName_s': 'sqlalertdemodatabase', 'clientIP_s': '', 'host_s': '', 'requestQuery_s': '', 'sslEnabled_s': '', 'clientPort_d': None, 'httpStatus_d': None, 'receivedBytes_d': None, 'sentBytes_d': None, 'timeTaken_d': None, 'resultDescription_ErrorJobs_s': '', 'resultDescription_ChildJobs_s': '', 'identity_claim_http_schemas_microsoft_com_identity_claims_scope_s': '', 'workflowId_s': '', 'resource_location_s': '', 'resource_workflowId_g': '', 'resource_resourceGroupName_s': '', 'resource_subscriptionId_g': '', 'resource_runId_s': '', 'resource_workflowName_s': '', '_schema_s': '', 'correlation_clientTrackingId_s': '', 'properties_sku_Family_s': '', 'properties_sku_Name_s': '', 'properties_tenantId_g': '', 'properties_enabledForDeployment_b': None, 'code_s': '', 'resultDescription_Summary_MachineId_s': '', 'resultDescription_Summary_ScheduleName_s': '', 'resultDescription_Summary_Status_s': '', 'resultDescription_Summary_StatusDescription_s': '', 'resultDescription_Summary_MachineName_s': '', 'resultDescription_Summary_TotalUpdatesInstalled_d': None, 'resultDescription_Summary_RebootRequired_b': None, 'resultDescription_Summary_TotalUpdatesFailed_d': None, 'resultDescription_Summary_InstallPercentage_d': None, 'resultDescription_Summary_StartDateTimeUtc_t': None, 'resource_triggerName_s': '', 'resultDescription_Summary_InitialRequiredUpdatesCount_d': None, 'properties_enabledForTemplateDeployment_b': None, 'resultDescription_Summary_EndDateTimeUtc_s': '', 'resultDescription_Summary_DurationInMinutes_s': '', 'resource_originRunId_s': '', 'properties_enabledForDiskEncryption_b': None, 'resource_actionName_s': '', 'correlation_actionTrackingId_g': '', 'resultDescription_Summary_EndDateTimeUtc_t': None, 'resultDescription_Summary_DurationInMinutes_d': None, 'conditions_protocols_s': '', 'identity_claim_ipaddr_s': '', 'ElasticPoolName_s': '', 'identity_claim_http_schemas_microsoft_com_claims_authnmethodsreferences_s': '', 'RunOn_s': '', 'query_hash_s': '0x3D251D2A95CEE0FA', 'SourceSystem': 'Azure', 'MG': '', 'ManagementGroupName': '', 'Computer': '', 'RawData': '', 'exec_type_d': 0, 'wait_category_s': 'UNKNOWN', 'total_query_wait_time_ms_d': 432, 'max_query_wait_time_ms_d': 432, 'is_parameterizable_s': 'false', 'statement_type_s': 'x_estypSelect', 'statement_key_hash_s': '1191285308', 'query_param_type_d': 1, 'interval_start_time_d': 190374444835200, 'interval_end_time_d': 190374445915200, 'logical_io_writes_d': None, 'max_logical_io_writes_d': None, 'physical_io_reads_d': None, 'max_physical_io_reads_d': None, 'logical_io_reads_d': None, 'max_logical_io_reads_d': None, 'execution_type_d': None, 'count_executions_d': 1, 'cpu_time_d': None, 'max_cpu_time_d': None, 'dop_d': None, 'max_dop_d': None, 'rowcount_d': None, 'max_rowcount_d': None, 'query_max_used_memory_d': None, 'max_query_max_used_memory_d': None, 'duration_d': None, 'max_duration_d': None, 'num_physical_io_reads_d': None, 'max_num_physical_io_reads_d': None, 'log_bytes_used_d': None, 'max_log_bytes_used_d': None, 'query_id_d': 38, 'plan_id_d': 1, 'statement_sql_handle_s': '0x0900769CEE691C933F258772430BD1146CFF0000000000000000000000000000000000000000000000000000', 'query_plan_hash_s': '0xBF28FE55E8A5616A', 'error_number_d': None, 'Severity': None, 'user_defined_b': None, 'state_d': None, 'originalEventTimestamp_t': None, 'audit_schema_version_d': None, 'event_time_t': None, 'sequence_number_d': None, 'action_id_s': '', 'action_name_s': '', 'succeeded_s': '', 'is_column_permission_s': '', 'session_id_d': None, 'server_principal_id_d': None, 'database_principal_id_d': None, 'target_server_principal_id_d': None, 'target_database_principal_id_d': None, 'object_id_d': None, 'user_defined_event_id_d': None, 'transaction_id_d': None, 'class_type_s': '', 'class_type_description_s': '', 'securable_class_type_s': '', 'duration_milliseconds_d': None, 'response_rows_d': None, 'affected_rows_d': None, 'client_tls_version_d': None, 'client_ip_s': '', 'permission_bitmask_g': '', 'sequence_group_id_g': '', 'session_server_principal_name_s': '', 'server_principal_name_s': '', 'server_principal_sid_s': '', 'database_principal_name_s': '', 'target_server_principal_name_s': '', 'target_server_principal_sid_s': '', 'target_database_principal_name_s': '', 'server_instance_name_s': '', 'database_name_s': '', 'schema_name_s': '', 'object_name_s': '', 'statement_s': '', 'additional_information_s': '', 'user_defined_information_s': '', 'application_name_s': '', 'connection_id_g': '', 'data_sensitivity_information_s': '', 'host_name_s': '', 'session_context_s': '', 'is_server_level_audit_s': '', 'event_id_g': '', 'AdditionalFields': None, 'Type': 'AzureDiagnostics'},\n {'TimeGenerated': datetime.datetime(2021, 5, 11, 18, 45, 55, 469000, tzinfo=tzutc()), 'Category': 'QueryStoreWaitStatistics', 'ResourceProvider': 'MICROSOFT.SQL', 'Resource': 'SQLALERTDEMODATABASE', 'ResourceType': 'SERVERS/DATABASES', 'OperationName': 'QueryStoreWaitStatisticsEvent', 'ResultType': '', 'CorrelationId': '', 'ResultDescription': '', 'Tenant_g': '', 'JobId_g': '', 'RunbookName_s': '', 'StreamType_s': '', 'Caller_s': '', 'requestUri_s': '', 'Level': '', 'DurationMs': None, 'CallerIPAddress': '', 'OperationVersion': '', 'ResultSignature': '', 'id_s': '', 'status_s': '', 'LogicalServerName_s': 'sqlalertdemoserver', 'Message': '', 'clientInfo_s': '', 'httpStatusCode_d': None, 'identity_claim_appid_g': '', 'identity_claim_http_schemas_microsoft_com_identity_claims_objectidentifier_g': '', 'userAgent_s': '', 'ruleName_s': '', 'identity_claim_http_schemas_xmlsoap_org_ws_2005_05_identity_claims_upn_s': '', 'systemId_g': '', 'isAccessPolicyMatch_b': None, 'EventName_s': '', 'httpMethod_s': '', 'subnetId_s': '', 'type_s': '', 'instanceId_s': '', 'macAddress_s': '', 'vnetResourceGuid_g': '', 'direction_s': '', 'subnetPrefix_s': '', 'primaryIPv4Address_s': '', 'conditions_sourcePortRange_s': '', 'priority_d': None, 'conditions_destinationPortRange_s': '', 'conditions_destinationIP_s': '', 'conditions_None_s': '', 'conditions_sourceIP_s': '', 'httpVersion_s': '', 'matchedConnections_d': None, 'startTime_t': None, 'endTime_t': None, 'DatabaseName_s': 'sqlalertdemodatabase', 'clientIP_s': '', 'host_s': '', 'requestQuery_s': '', 'sslEnabled_s': '', 'clientPort_d': None, 'httpStatus_d': None, 'receivedBytes_d': None, 'sentBytes_d': None, 'timeTaken_d': None, 'resultDescription_ErrorJobs_s': '', 'resultDescription_ChildJobs_s': '', 'identity_claim_http_schemas_microsoft_com_identity_claims_scope_s': '', 'workflowId_s': '', 'resource_location_s': '', 'resource_workflowId_g': '', 'resource_resourceGroupName_s': '', 'resource_subscriptionId_g': '', 'resource_runId_s': '', 'resource_workflowName_s': '', '_schema_s': '', 'correlation_clientTrackingId_s': '', 'properties_sku_Family_s': '', 'properties_sku_Name_s': '', 'properties_tenantId_g': '', 'properties_enabledForDeployment_b': None, 'code_s': '', 'resultDescription_Summary_MachineId_s': '', 'resultDescription_Summary_ScheduleName_s': '', 'resultDescription_Summary_Status_s': '', 'resultDescription_Summary_StatusDescription_s': '', 'resultDescription_Summary_MachineName_s': '', 'resultDescription_Summary_TotalUpdatesInstalled_d': None, 'resultDescription_Summary_RebootRequired_b': None, 'resultDescription_Summary_TotalUpdatesFailed_d': None, 'resultDescription_Summary_InstallPercentage_d': None, 'resultDescription_Summary_StartDateTimeUtc_t': None, 'resource_triggerName_s': '', 'resultDescription_Summary_InitialRequiredUpdatesCount_d': None, 'properties_enabledForTemplateDeployment_b': None, 'resultDescription_Summary_EndDateTimeUtc_s': '', 'resultDescription_Summary_DurationInMinutes_s': '', 'resource_originRunId_s': '', 'properties_enabledForDiskEncryption_b': None, 'resource_actionName_s': '', 'correlation_actionTrackingId_g': '', 'resultDescription_Summary_EndDateTimeUtc_t': None, 'resultDescription_Summary_DurationInMinutes_d': None, 'conditions_protocols_s': '', 'identity_claim_ipaddr_s': '', 'ElasticPoolName_s': '', 'identity_claim_http_schemas_microsoft_com_claims_authnmethodsreferences_s': '', 'RunOn_s': '', 'query_hash_s': '0x3D251D2A95CEE0FA', 'SourceSystem': 'Azure', 'MG': '', 'ManagementGroupName': '', 'Computer': '', 'RawData': '', 'exec_type_d': 0, 'wait_category_s': 'CPU', 'total_query_wait_time_ms_d': 345, 'max_query_wait_time_ms_d': 345, 'is_parameterizable_s': 'false', 'statement_type_s': 'x_estypSelect', 'statement_key_hash_s': '1191285308', 'query_param_type_d': 1, 'interval_start_time_d': 190374444835200, 'interval_end_time_d': 190374445915200, 'logical_io_writes_d': None, 'max_logical_io_writes_d': None, 'physical_io_reads_d': None, 'max_physical_io_reads_d': None, 'logical_io_reads_d': None, 'max_logical_io_reads_d': None, 'execution_type_d': None, 'count_executions_d': 1, 'cpu_time_d': None, 'max_cpu_time_d': None, 'dop_d': None, 'max_dop_d': None, 'rowcount_d': None, 'max_rowcount_d': None, 'query_max_used_memory_d': None, 'max_query_max_used_memory_d': None, 'duration_d': None, 'max_duration_d': None, 'num_physical_io_reads_d': None, 'max_num_physical_io_reads_d': None, 'log_bytes_used_d': None, 'max_log_bytes_used_d': None, 'query_id_d': 38, 'plan_id_d': 1, 'statement_sql_handle_s': '0x0900769CEE691C933F258772430BD1146CFF0000000000000000000000000000000000000000000000000000', 'query_plan_hash_s': '0xBF28FE55E8A5616A', 'error_number_d': None, 'Severity': None, 'user_defined_b': None, 'state_d': None, 'originalEventTimestamp_t': None, 'audit_schema_version_d': None, 'event_time_t': None, 'sequence_number_d': None, 'action_id_s': '', 'action_name_s': '', 'succeeded_s': '', 'is_column_permission_s': '', 'session_id_d': None, 'server_principal_id_d': None, 'database_principal_id_d': None, 'target_server_principal_id_d': None, 'target_database_principal_id_d': None, 'object_id_d': None, 'user_defined_event_id_d': None, 'transaction_id_d': None, 'class_type_s': '', 'class_type_description_s': '', 'securable_class_type_s': '', 'duration_milliseconds_d': None, 'response_rows_d': None, 'affected_rows_d': None, 'client_tls_version_d': None, 'client_ip_s': '', 'permission_bitmask_g': '', 'sequence_group_id_g': '', 'session_server_principal_name_s': '', 'server_principal_name_s': '', 'server_principal_sid_s': '', 'database_principal_name_s': '', 'target_server_principal_name_s': '', 'target_server_principal_sid_s': '', 'target_database_principal_name_s': '', 'server_instance_name_s': '', 'database_name_s': '', 'schema_name_s': '', 'object_name_s': '', 'statement_s': '', 'additional_information_s': '', 'user_defined_information_s': '', 'application_name_s': '', 'connection_id_g': '', 'data_sensitivity_information_s': '', 'host_name_s': '', 'session_context_s': '', 'is_server_level_audit_s': '', 'event_id_g': '', 'AdditionalFields': None, 'Type': 'AzureDiagnostics'},\n {'TimeGenerated': datetime.datetime(2021, 5, 11, 18, 45, 55, 469000, tzinfo=tzutc()), 'Category': 'QueryStoreWaitStatistics', 'ResourceProvider': 'MICROSOFT.SQL', 'Resource': 'SQLALERTDEMODATABASE', 'ResourceType': 'SERVERS/DATABASES', 'OperationName': 'QueryStoreWaitStatisticsEvent', 'ResultType': '', 'CorrelationId': '', 'ResultDescription': '', 'Tenant_g': '', 'JobId_g': '', 'RunbookName_s': '', 'StreamType_s': '', 'Caller_s': '', 'requestUri_s': '', 'Level': '', 'DurationMs': None, 'CallerIPAddress': '', 'OperationVersion': '', 'ResultSignature': '', 'id_s': '', 'status_s': '', 'LogicalServerName_s': 'sqlalertdemoserver', 'Message': '', 'clientInfo_s': '', 'httpStatusCode_d': None, 'identity_claim_appid_g': '', 'identity_claim_http_schemas_microsoft_com_identity_claims_objectidentifier_g': '', 'userAgent_s': '', 'ruleName_s': '', 'identity_claim_http_schemas_xmlsoap_org_ws_2005_05_identity_claims_upn_s': '', 'systemId_g': '', 'isAccessPolicyMatch_b': None, 'EventName_s': '', 'httpMethod_s': '', 'subnetId_s': '', 'type_s': '', 'instanceId_s': '', 'macAddress_s': '', 'vnetResourceGuid_g': '', 'direction_s': '', 'subnetPrefix_s': '', 'primaryIPv4Address_s': '', 'conditions_sourcePortRange_s': '', 'priority_d': None, 'conditions_destinationPortRange_s': '', 'conditions_destinationIP_s': '', 'conditions_None_s': '', 'conditions_sourceIP_s': '', 'httpVersion_s': '', 'matchedConnections_d': None, 'startTime_t': None, 'endTime_t': None, 'DatabaseName_s': 'sqlalertdemodatabase', 'clientIP_s': '', 'host_s': '', 'requestQuery_s': '', 'sslEnabled_s': '', 'clientPort_d': None, 'httpStatus_d': None, 'receivedBytes_d': None, 'sentBytes_d': None, 'timeTaken_d': None, 'resultDescription_ErrorJobs_s': '', 'resultDescription_ChildJobs_s': '', 'identity_claim_http_schemas_microsoft_com_identity_claims_scope_s': '', 'workflowId_s': '', 'resource_location_s': '', 'resource_workflowId_g': '', 'resource_resourceGroupName_s': '', 'resource_subscriptionId_g': '', 'resource_runId_s': '', 'resource_workflowName_s': '', '_schema_s': '', 'correlation_clientTrackingId_s': '', 'properties_sku_Family_s': '', 'properties_sku_Name_s': '', 'properties_tenantId_g': '', 'properties_enabledForDeployment_b': None, 'code_s': '', 'resultDescription_Summary_MachineId_s': '', 'resultDescription_Summary_ScheduleName_s': '', 'resultDescription_Summary_Status_s': '', 'resultDescription_Summary_StatusDescription_s': '', 'resultDescription_Summary_MachineName_s': '', 'resultDescription_Summary_TotalUpdatesInstalled_d': None, 'resultDescription_Summary_RebootRequired_b': None, 'resultDescription_Summary_TotalUpdatesFailed_d': None, 'resultDescription_Summary_InstallPercentage_d': None, 'resultDescription_Summary_StartDateTimeUtc_t': None, 'resource_triggerName_s': '', 'resultDescription_Summary_InitialRequiredUpdatesCount_d': None, 'properties_enabledForTemplateDeployment_b': None, 'resultDescription_Summary_EndDateTimeUtc_s': '', 'resultDescription_Summary_DurationInMinutes_s': '', 'resource_originRunId_s': '', 'properties_enabledForDiskEncryption_b': None, 'resource_actionName_s': '', 'correlation_actionTrackingId_g': '', 'resultDescription_Summary_EndDateTimeUtc_t': None, 'resultDescription_Summary_DurationInMinutes_d': None, 'conditions_protocols_s': '', 'identity_claim_ipaddr_s': '', 'ElasticPoolName_s': '', 'identity_claim_http_schemas_microsoft_com_claims_authnmethodsreferences_s': '', 'RunOn_s': '', 'query_hash_s': '0x3D251D2A95CEE0FA', 'SourceSystem': 'Azure', 'MG': '', 'ManagementGroupName': '', 'Computer': '', 'RawData': '', 'exec_type_d': 0, 'wait_category_s': 'BUFFERIO', 'total_query_wait_time_ms_d': 108, 'max_query_wait_time_ms_d': 108, 'is_parameterizable_s': 'false', 'statement_type_s': 'x_estypSelect', 'statement_key_hash_s': '1191285308', 'query_param_type_d': 1, 'interval_start_time_d': 190374444835200, 'interval_end_time_d': 190374445915200, 'logical_io_writes_d': None, 'max_logical_io_writes_d': None, 'physical_io_reads_d': None, 'max_physical_io_reads_d': None, 'logical_io_reads_d': None, 'max_logical_io_reads_d': None, 'execution_type_d': None, 'count_executions_d': 1, 'cpu_time_d': None, 'max_cpu_time_d': None, 'dop_d': None, 'max_dop_d': None, 'rowcount_d': None, 'max_rowcount_d': None, 'query_max_used_memory_d': None, 'max_query_max_used_memory_d': None, 'duration_d': None, 'max_duration_d': None, 'num_physical_io_reads_d': None, 'max_num_physical_io_reads_d': None, 'log_bytes_used_d': None, 'max_log_bytes_used_d': None, 'query_id_d': 38, 'plan_id_d': 1, 'statement_sql_handle_s': '0x0900769CEE691C933F258772430BD1146CFF0000000000000000000000000000000000000000000000000000', 'query_plan_hash_s': '0xBF28FE55E8A5616A', 'error_number_d': None, 'Severity': None, 'user_defined_b': None, 'state_d': None, 'originalEventTimestamp_t': None, 'audit_schema_version_d': None, 'event_time_t': None, 'sequence_number_d': None, 'action_id_s': '', 'action_name_s': '', 'succeeded_s': '', 'is_column_permission_s': '', 'session_id_d': None, 'server_principal_id_d': None, 'database_principal_id_d': None, 'target_server_principal_id_d': None, 'target_database_principal_id_d': None, 'object_id_d': None, 'user_defined_event_id_d': None, 'transaction_id_d': None, 'class_type_s': '', 'class_type_description_s': '', 'securable_class_type_s': '', 'duration_milliseconds_d': None, 'response_rows_d': None, 'affected_rows_d': None, 'client_tls_version_d': None, 'client_ip_s': '', 'permission_bitmask_g': '', 'sequence_group_id_g': '', 'session_server_principal_name_s': '', 'server_principal_name_s': '', 'server_principal_sid_s': '', 'database_principal_name_s': '', 'target_server_principal_name_s': '', 'target_server_principal_sid_s': '', 'target_database_principal_name_s': '', 'server_instance_name_s': '', 'database_name_s': '', 'schema_name_s': '', 'object_name_s': '', 'statement_s': '', 'additional_information_s': '', 'user_defined_information_s': '', 'application_name_s': '', 'connection_id_g': '', 'data_sensitivity_information_s': '', 'host_name_s': '', 'session_context_s': '', 'is_server_level_audit_s': '', 'event_id_g': '', 'AdditionalFields': None, 'Type': 'AzureDiagnostics'},\n {'TimeGenerated': datetime.datetime(2021, 5, 11, 18, 45, 55, 469000, tzinfo=tzutc()), 'Category': 'QueryStoreWaitStatistics', 'ResourceProvider': 'MICROSOFT.SQL', 'Resource': 'SQLALERTDEMODATABASE', 'ResourceType': 'SERVERS/DATABASES', 'OperationName': 'QueryStoreWaitStatisticsEvent', 'ResultType': '', 'CorrelationId': '', 'ResultDescription': '', 'Tenant_g': '', 'JobId_g': '', 'RunbookName_s': '', 'StreamType_s': '', 'Caller_s': '', 'requestUri_s': '', 'Level': '', 'DurationMs': None, 'CallerIPAddress': '', 'OperationVersion': '', 'ResultSignature': '', 'id_s': '', 'status_s': '', 'LogicalServerName_s': 'sqlalertdemoserver', 'Message': '', 'clientInfo_s': '', 'httpStatusCode_d': None, 'identity_claim_appid_g': '', 'identity_claim_http_schemas_microsoft_com_identity_claims_objectidentifier_g': '', 'userAgent_s': '', 'ruleName_s': '', 'identity_claim_http_schemas_xmlsoap_org_ws_2005_05_identity_claims_upn_s': '', 'systemId_g': '', 'isAccessPolicyMatch_b': None, 'EventName_s': '', 'httpMethod_s': '', 'subnetId_s': '', 'type_s': '', 'instanceId_s': '', 'macAddress_s': '', 'vnetResourceGuid_g': '', 'direction_s': '', 'subnetPrefix_s': '', 'primaryIPv4Address_s': '', 'conditions_sourcePortRange_s': '', 'priority_d': None, 'conditions_destinationPortRange_s': '', 'conditions_destinationIP_s': '', 'conditions_None_s': '', 'conditions_sourceIP_s': '', 'httpVersion_s': '', 'matchedConnections_d': None, 'startTime_t': None, 'endTime_t': None, 'DatabaseName_s': 'sqlalertdemodatabase', 'clientIP_s': '', 'host_s': '', 'requestQuery_s': '', 'sslEnabled_s': '', 'clientPort_d': None, 'httpStatus_d': None, 'receivedBytes_d': None, 'sentBytes_d': None, 'timeTaken_d': None, 'resultDescription_ErrorJobs_s': '', 'resultDescription_ChildJobs_s': '', 'identity_claim_http_schemas_microsoft_com_identity_claims_scope_s': '', 'workflowId_s': '', 'resource_location_s': '', 'resource_workflowId_g': '', 'resource_resourceGroupName_s': '', 'resource_subscriptionId_g': '', 'resource_runId_s': '', 'resource_workflowName_s': '', '_schema_s': '', 'correlation_clientTrackingId_s': '', 'properties_sku_Family_s': '', 'properties_sku_Name_s': '', 'properties_tenantId_g': '', 'properties_enabledForDeployment_b': None, 'code_s': '', 'resultDescription_Summary_MachineId_s': '', 'resultDescription_Summary_ScheduleName_s': '', 'resultDescription_Summary_Status_s': '', 'resultDescription_Summary_StatusDescription_s': '', 'resultDescription_Summary_MachineName_s': '', 'resultDescription_Summary_TotalUpdatesInstalled_d': None, 'resultDescription_Summary_RebootRequired_b': None, 'resultDescription_Summary_TotalUpdatesFailed_d': None, 'resultDescription_Summary_InstallPercentage_d': None, 'resultDescription_Summary_StartDateTimeUtc_t': None, 'resource_triggerName_s': '', 'resultDescription_Summary_InitialRequiredUpdatesCount_d': None, 'properties_enabledForTemplateDeployment_b': None, 'resultDescription_Summary_EndDateTimeUtc_s': '', 'resultDescription_Summary_DurationInMinutes_s': '', 'resource_originRunId_s': '', 'properties_enabledForDiskEncryption_b': None, 'resource_actionName_s': '', 'correlation_actionTrackingId_g': '', 'resultDescription_Summary_EndDateTimeUtc_t': None, 'resultDescription_Summary_DurationInMinutes_d': None, 'conditions_protocols_s': '', 'identity_claim_ipaddr_s': '', 'ElasticPoolName_s': '', 'identity_claim_http_schemas_microsoft_com_claims_authnmethodsreferences_s': '', 'RunOn_s': '', 'query_hash_s': '0x3D251D2A95CEE0FA', 'SourceSystem': 'Azure', 'MG': '', 'ManagementGroupName': '', 'Computer': '', 'RawData': '', 'exec_type_d': 0, 'wait_category_s': 'MEMORY', 'total_query_wait_time_ms_d': 1, 'max_query_wait_time_ms_d': 1, 'is_parameterizable_s': 'false', 'statement_type_s': 'x_estypSelect', 'statement_key_hash_s': '1191285308', 'query_param_type_d': 1, 'interval_start_time_d': 190374444835200, 'interval_end_time_d': 190374445915200, 'logical_io_writes_d': None, 'max_logical_io_writes_d': None, 'physical_io_reads_d': None, 'max_physical_io_reads_d': None, 'logical_io_reads_d': None, 'max_logical_io_reads_d': None, 'execution_type_d': None, 'count_executions_d': 1, 'cpu_time_d': None, 'max_cpu_time_d': None, 'dop_d': None, 'max_dop_d': None, 'rowcount_d': None, 'max_rowcount_d': None, 'query_max_used_memory_d': None, 'max_query_max_used_memory_d': None, 'duration_d': None, 'max_duration_d': None, 'num_physical_io_reads_d': None, 'max_num_physical_io_reads_d': None, 'log_bytes_used_d': None, 'max_log_bytes_used_d': None, 'query_id_d': 38, 'plan_id_d': 1, 'statement_sql_handle_s': '0x0900769CEE691C933F258772430BD1146CFF0000000000000000000000000000000000000000000000000000', 'query_plan_hash_s': '0xBF28FE55E8A5616A', 'error_number_d': None, 'Severity': None, 'user_defined_b': None, 'state_d': None, 'originalEventTimestamp_t': None, 'audit_schema_version_d': None, 'event_time_t': None, 'sequence_number_d': None, 'action_id_s': '', 'action_name_s': '', 'succeeded_s': '', 'is_column_permission_s': '', 'session_id_d': None, 'server_principal_id_d': None, 'database_principal_id_d': None, 'target_server_principal_id_d': None, 'target_database_principal_id_d': None, 'object_id_d': None, 'user_defined_event_id_d': None, 'transaction_id_d': None, 'class_type_s': '', 'class_type_description_s': '', 'securable_class_type_s': '', 'duration_milliseconds_d': None, 'response_rows_d': None, 'affected_rows_d': None, 'client_tls_version_d': None, 'client_ip_s': '', 'permission_bitmask_g': '', 'sequence_group_id_g': '', 'session_server_principal_name_s': '', 'server_principal_name_s': '', 'server_principal_sid_s': '', 'database_principal_name_s': '', 'target_server_principal_name_s': '', 'target_server_principal_sid_s': '', 'target_database_principal_name_s': '', 'server_instance_name_s': '', 'database_name_s': '', 'schema_name_s': '', 'object_name_s': '', 'statement_s': '', 'additional_information_s': '', 'user_defined_information_s': '', 'application_name_s': '', 'connection_id_g': '', 'data_sensitivity_information_s': '', 'host_name_s': '', 'session_context_s': '', 'is_server_level_audit_s': '', 'event_id_g': '', 'AdditionalFields': None, 'Type': 'AzureDiagnostics'},\n {'TimeGenerated': datetime.datetime(2021, 5, 11, 18, 45, 55, 469000, tzinfo=tzutc()), 'Category': 'QueryStoreWaitStatistics', 'ResourceProvider': 'MICROSOFT.SQL', 'Resource': 'SQLALERTDEMODATABASE', 'ResourceType': 'SERVERS/DATABASES', 'OperationName': 'QueryStoreWaitStatisticsEvent', 'ResultType': '', 'CorrelationId': '', 'ResultDescription': '', 'Tenant_g': '', 'JobId_g': '', 'RunbookName_s': '', 'StreamType_s': '', 'Caller_s': '', 'requestUri_s': '', 'Level': '', 'DurationMs': None, 'CallerIPAddress': '', 'OperationVersion': '', 'ResultSignature': '', 'id_s': '', 'status_s': '', 'LogicalServerName_s': 'sqlalertdemoserver', 'Message': '', 'clientInfo_s': '', 'httpStatusCode_d': None, 'identity_claim_appid_g': '', 'identity_claim_http_schemas_microsoft_com_identity_claims_objectidentifier_g': '', 'userAgent_s': '', 'ruleName_s': '', 'identity_claim_http_schemas_xmlsoap_org_ws_2005_05_identity_claims_upn_s': '', 'systemId_g': '', 'isAccessPolicyMatch_b': None, 'EventName_s': '', 'httpMethod_s': '', 'subnetId_s': '', 'type_s': '', 'instanceId_s': '', 'macAddress_s': '', 'vnetResourceGuid_g': '', 'direction_s': '', 'subnetPrefix_s': '', 'primaryIPv4Address_s': '', 'conditions_sourcePortRange_s': '', 'priority_d': None, 'conditions_destinationPortRange_s': '', 'conditions_destinationIP_s': '', 'conditions_None_s': '', 'conditions_sourceIP_s': '', 'httpVersion_s': '', 'matchedConnections_d': None, 'startTime_t': None, 'endTime_t': None, 'DatabaseName_s': 'sqlalertdemodatabase', 'clientIP_s': '', 'host_s': '', 'requestQuery_s': '', 'sslEnabled_s': '', 'clientPort_d': None, 'httpStatus_d': None, 'receivedBytes_d': None, 'sentBytes_d': None, 'timeTaken_d': None, 'resultDescription_ErrorJobs_s': '', 'resultDescription_ChildJobs_s': '', 'identity_claim_http_schemas_microsoft_com_identity_claims_scope_s': '', 'workflowId_s': '', 'resource_location_s': '', 'resource_workflowId_g': '', 'resource_resourceGroupName_s': '', 'resource_subscriptionId_g': '', 'resource_runId_s': '', 'resource_workflowName_s': '', '_schema_s': '', 'correlation_clientTrackingId_s': '', 'properties_sku_Family_s': '', 'properties_sku_Name_s': '', 'properties_tenantId_g': '', 'properties_enabledForDeployment_b': None, 'code_s': '', 'resultDescription_Summary_MachineId_s': '', 'resultDescription_Summary_ScheduleName_s': '', 'resultDescription_Summary_Status_s': '', 'resultDescription_Summary_StatusDescription_s': '', 'resultDescription_Summary_MachineName_s': '', 'resultDescription_Summary_TotalUpdatesInstalled_d': None, 'resultDescription_Summary_RebootRequired_b': None, 'resultDescription_Summary_TotalUpdatesFailed_d': None, 'resultDescription_Summary_InstallPercentage_d': None, 'resultDescription_Summary_StartDateTimeUtc_t': None, 'resource_triggerName_s': '', 'resultDescription_Summary_InitialRequiredUpdatesCount_d': None, 'properties_enabledForTemplateDeployment_b': None, 'resultDescription_Summary_EndDateTimeUtc_s': '', 'resultDescription_Summary_DurationInMinutes_s': '', 'resource_originRunId_s': '', 'properties_enabledForDiskEncryption_b': None, 'resource_actionName_s': '', 'correlation_actionTrackingId_g': '', 'resultDescription_Summary_EndDateTimeUtc_t': None, 'resultDescription_Summary_DurationInMinutes_d': None, 'conditions_protocols_s': '', 'identity_claim_ipaddr_s': '', 'ElasticPoolName_s': '', 'identity_claim_http_schemas_microsoft_com_claims_authnmethodsreferences_s': '', 'RunOn_s': '', 'query_hash_s': '0x4E8C0B5AF78C4ED1', 'SourceSystem': 'Azure', 'MG': '', 'ManagementGroupName': '', 'Computer': '', 'RawData': '', 'exec_type_d': 0, 'wait_category_s': 'UNKNOWN', 'total_query_wait_time_ms_d': 105, 'max_query_wait_time_ms_d': 105, 'is_parameterizable_s': 'false', 'statement_type_s': 'x_estypSelect', 'statement_key_hash_s': '2744282586', 'query_param_type_d': 1, 'interval_start_time_d': 190374444835200, 'interval_end_time_d': 190374445915200, 'logical_io_writes_d': None, 'max_logical_io_writes_d': None, 'physical_io_reads_d': None, 'max_physical_io_reads_d': None, 'logical_io_reads_d': None, 'max_logical_io_reads_d': None, 'execution_type_d': None, 'count_executions_d': 1, 'cpu_time_d': None, 'max_cpu_time_d': None, 'dop_d': None, 'max_dop_d': None, 'rowcount_d': None, 'max_rowcount_d': None, 'query_max_used_memory_d': None, 'max_query_max_used_memory_d': None, 'duration_d': None, 'max_duration_d': None, 'num_physical_io_reads_d': None, 'max_num_physical_io_reads_d': None, 'log_bytes_used_d': None, 'max_log_bytes_used_d': None, 'query_id_d': 40, 'plan_id_d': 2, 'statement_sql_handle_s': '0x0900C6D4FC50EF5B4E298DBE4E3A7EA7911F0000000000000000000000000000000000000000000000000000', 'query_plan_hash_s': '0x132EFB64A54855E5', 'error_number_d': None, 'Severity': None, 'user_defined_b': None, 'state_d': None, 'originalEventTimestamp_t': None, 'audit_schema_version_d': None, 'event_time_t': None, 'sequence_number_d': None, 'action_id_s': '', 'action_name_s': '', 'succeeded_s': '', 'is_column_permission_s': '', 'session_id_d': None, 'server_principal_id_d': None, 'database_principal_id_d': None, 'target_server_principal_id_d': None, 'target_database_principal_id_d': None, 'object_id_d': None, 'user_defined_event_id_d': None, 'transaction_id_d': None, 'class_type_s': '', 'class_type_description_s': '', 'securable_class_type_s': '', 'duration_milliseconds_d': None, 'response_rows_d': None, 'affected_rows_d': None, 'client_tls_version_d': None, 'client_ip_s': '', 'permission_bitmask_g': '', 'sequence_group_id_g': '', 'session_server_principal_name_s': '', 'server_principal_name_s': '', 'server_principal_sid_s': '', 'database_principal_name_s': '', 'target_server_principal_name_s': '', 'target_server_principal_sid_s': '', 'target_database_principal_name_s': '', 'server_instance_name_s': '', 'database_name_s': '', 'schema_name_s': '', 'object_name_s': '', 'statement_s': '', 'additional_information_s': '', 'user_defined_information_s': '', 'application_name_s': '', 'connection_id_g': '', 'data_sensitivity_information_s': '', 'host_name_s': '', 'session_context_s': '', 'is_server_level_audit_s': '', 'event_id_g': '', 'AdditionalFields': None, 'Type': 'AzureDiagnostics'},\n {'TimeGenerated': datetime.datetime(2021, 5, 11, 18, 45, 55, 469000, tzinfo=tzutc()), 'Category': 'QueryStoreWaitStatistics', 'ResourceProvider': 'MICROSOFT.SQL', 'Resource': 'SQLALERTDEMODATABASE', 'ResourceType': 'SERVERS/DATABASES', 'OperationName': 'QueryStoreWaitStatisticsEvent', 'ResultType': '', 'CorrelationId': '', 'ResultDescription': '', 'Tenant_g': '', 'JobId_g': '', 'RunbookName_s': '', 'StreamType_s': '', 'Caller_s': '', 'requestUri_s': '', 'Level': '', 'DurationMs': None, 'CallerIPAddress': '', 'OperationVersion': '', 'ResultSignature': '', 'id_s': '', 'status_s': '', 'LogicalServerName_s': 'sqlalertdemoserver', 'Message': '', 'clientInfo_s': '', 'httpStatusCode_d': None, 'identity_claim_appid_g': '', 'identity_claim_http_schemas_microsoft_com_identity_claims_objectidentifier_g': '', 'userAgent_s': '', 'ruleName_s': '', 'identity_claim_http_schemas_xmlsoap_org_ws_2005_05_identity_claims_upn_s': '', 'systemId_g': '', 'isAccessPolicyMatch_b': None, 'EventName_s': '', 'httpMethod_s': '', 'subnetId_s': '', 'type_s': '', 'instanceId_s': '', 'macAddress_s': '', 'vnetResourceGuid_g': '', 'direction_s': '', 'subnetPrefix_s': '', 'primaryIPv4Address_s': '', 'conditions_sourcePortRange_s': '', 'priority_d': None, 'conditions_destinationPortRange_s': '', 'conditions_destinationIP_s': '', 'conditions_None_s': '', 'conditions_sourceIP_s': '', 'httpVersion_s': '', 'matchedConnections_d': None, 'startTime_t': None, 'endTime_t': None, 'DatabaseName_s': 'sqlalertdemodatabase', 'clientIP_s': '', 'host_s': '', 'requestQuery_s': '', 'sslEnabled_s': '', 'clientPort_d': None, 'httpStatus_d': None, 'receivedBytes_d': None, 'sentBytes_d': None, 'timeTaken_d': None, 'resultDescription_ErrorJobs_s': '', 'resultDescription_ChildJobs_s': '', 'identity_claim_http_schemas_microsoft_com_identity_claims_scope_s': '', 'workflowId_s': '', 'resource_location_s': '', 'resource_workflowId_g': '', 'resource_resourceGroupName_s': '', 'resource_subscriptionId_g': '', 'resource_runId_s': '', 'resource_workflowName_s': '', '_schema_s': '', 'correlation_clientTrackingId_s': '', 'properties_sku_Family_s': '', 'properties_sku_Name_s': '', 'properties_tenantId_g': '', 'properties_enabledForDeployment_b': None, 'code_s': '', 'resultDescription_Summary_MachineId_s': '', 'resultDescription_Summary_ScheduleName_s': '', 'resultDescription_Summary_Status_s': '', 'resultDescription_Summary_StatusDescription_s': '', 'resultDescription_Summary_MachineName_s': '', 'resultDescription_Summary_TotalUpdatesInstalled_d': None, 'resultDescription_Summary_RebootRequired_b': None, 'resultDescription_Summary_TotalUpdatesFailed_d': None, 'resultDescription_Summary_InstallPercentage_d': None, 'resultDescription_Summary_StartDateTimeUtc_t': None, 'resource_triggerName_s': '', 'resultDescription_Summary_InitialRequiredUpdatesCount_d': None, 'properties_enabledForTemplateDeployment_b': None, 'resultDescription_Summary_EndDateTimeUtc_s': '', 'resultDescription_Summary_DurationInMinutes_s': '', 'resource_originRunId_s': '', 'properties_enabledForDiskEncryption_b': None, 'resource_actionName_s': '', 'correlation_actionTrackingId_g': '', 'resultDescription_Summary_EndDateTimeUtc_t': None, 'resultDescription_Summary_DurationInMinutes_d': None, 'conditions_protocols_s': '', 'identity_claim_ipaddr_s': '', 'ElasticPoolName_s': '', 'identity_claim_http_schemas_microsoft_com_claims_authnmethodsreferences_s': '', 'RunOn_s': '', 'query_hash_s': '0x4E8C0B5AF78C4ED1', 'SourceSystem': 'Azure', 'MG': '', 'ManagementGroupName': '', 'Computer': '', 'RawData': '', 'exec_type_d': 0, 'wait_category_s': 'CPU', 'total_query_wait_time_ms_d': 128, 'max_query_wait_time_ms_d': 128, 'is_parameterizable_s': 'false', 'statement_type_s': 'x_estypSelect', 'statement_key_hash_s': '2744282586', 'query_param_type_d': 1, 'interval_start_time_d': 190374444835200, 'interval_end_time_d': 190374445915200, 'logical_io_writes_d': None, 'max_logical_io_writes_d': None, 'physical_io_reads_d': None, 'max_physical_io_reads_d': None, 'logical_io_reads_d': None, 'max_logical_io_reads_d': None, 'execution_type_d': None, 'count_executions_d': 1, 'cpu_time_d': None, 'max_cpu_time_d': None, 'dop_d': None, 'max_dop_d': None, 'rowcount_d': None, 'max_rowcount_d': None, 'query_max_used_memory_d': None, 'max_query_max_used_memory_d': None, 'duration_d': None, 'max_duration_d': None, 'num_physical_io_reads_d': None, 'max_num_physical_io_reads_d': None, 'log_bytes_used_d': None, 'max_log_bytes_used_d': None, 'query_id_d': 40, 'plan_id_d': 2, 'statement_sql_handle_s': '0x0900C6D4FC50EF5B4E298DBE4E3A7EA7911F0000000000000000000000000000000000000000000000000000', 'query_plan_hash_s': '0x132EFB64A54855E5', 'error_number_d': None, 'Severity': None, 'user_defined_b': None, 'state_d': None, 'originalEventTimestamp_t': None, 'audit_schema_version_d': None, 'event_time_t': None, 'sequence_number_d': None, 'action_id_s': '', 'action_name_s': '', 'succeeded_s': '', 'is_column_permission_s': '', 'session_id_d': None, 'server_principal_id_d': None, 'database_principal_id_d': None, 'target_server_principal_id_d': None, 'target_database_principal_id_d': None, 'object_id_d': None, 'user_defined_event_id_d': None, 'transaction_id_d': None, 'class_type_s': '', 'class_type_description_s': '', 'securable_class_type_s': '', 'duration_milliseconds_d': None, 'response_rows_d': None, 'affected_rows_d': None, 'client_tls_version_d': None, 'client_ip_s': '', 'permission_bitmask_g': '', 'sequence_group_id_g': '', 'session_server_principal_name_s': '', 'server_principal_name_s': '', 'server_principal_sid_s': '', 'database_principal_name_s': '', 'target_server_principal_name_s': '', 'target_server_principal_sid_s': '', 'target_database_principal_name_s': '', 'server_instance_name_s': '', 'database_name_s': '', 'schema_name_s': '', 'object_name_s': '', 'statement_s': '', 'additional_information_s': '', 'user_defined_information_s': '', 'application_name_s': '', 'connection_id_g': '', 'data_sensitivity_information_s': '', 'host_name_s': '', 'session_context_s': '', 'is_server_level_audit_s': '', 'event_id_g': '', 'AdditionalFields': None, 'Type': 'AzureDiagnostics'},\n {'TimeGenerated': datetime.datetime(2021, 5, 11, 18, 45, 55, 469000, tzinfo=tzutc()), 'Category': 'QueryStoreWaitStatistics', 'ResourceProvider': 'MICROSOFT.SQL', 'Resource': 'SQLALERTDEMODATABASE', 'ResourceType': 'SERVERS/DATABASES', 'OperationName': 'QueryStoreWaitStatisticsEvent', 'ResultType': '', 'CorrelationId': '', 'ResultDescription': '', 'Tenant_g': '', 'JobId_g': '', 'RunbookName_s': '', 'StreamType_s': '', 'Caller_s': '', 'requestUri_s': '', 'Level': '', 'DurationMs': None, 'CallerIPAddress': '', 'OperationVersion': '', 'ResultSignature': '', 'id_s': '', 'status_s': '', 'LogicalServerName_s': 'sqlalertdemoserver', 'Message': '', 'clientInfo_s': '', 'httpStatusCode_d': None, 'identity_claim_appid_g': '', 'identity_claim_http_schemas_microsoft_com_identity_claims_objectidentifier_g': '', 'userAgent_s': '', 'ruleName_s': '', 'identity_claim_http_schemas_xmlsoap_org_ws_2005_05_identity_claims_upn_s': '', 'systemId_g': '', 'isAccessPolicyMatch_b': None, 'EventName_s': '', 'httpMethod_s': '', 'subnetId_s': '', 'type_s': '', 'instanceId_s': '', 'macAddress_s': '', 'vnetResourceGuid_g': '', 'direction_s': '', 'subnetPrefix_s': '', 'primaryIPv4Address_s': '', 'conditions_sourcePortRange_s': '', 'priority_d': None, 'conditions_destinationPortRange_s': '', 'conditions_destinationIP_s': '', 'conditions_None_s': '', 'conditions_sourceIP_s': '', 'httpVersion_s': '', 'matchedConnections_d': None, 'startTime_t': None, 'endTime_t': None, 'DatabaseName_s': 'sqlalertdemodatabase', 'clientIP_s': '', 'host_s': '', 'requestQuery_s': '', 'sslEnabled_s': '', 'clientPort_d': None, 'httpStatus_d': None, 'receivedBytes_d': None, 'sentBytes_d': None, 'timeTaken_d': None, 'resultDescription_ErrorJobs_s': '', 'resultDescription_ChildJobs_s': '', 'identity_claim_http_schemas_microsoft_com_identity_claims_scope_s': '', 'workflowId_s': '', 'resource_location_s': '', 'resource_workflowId_g': '', 'resource_resourceGroupName_s': '', 'resource_subscriptionId_g': '', 'resource_runId_s': '', 'resource_workflowName_s': '', '_schema_s': '', 'correlation_clientTrackingId_s': '', 'properties_sku_Family_s': '', 'properties_sku_Name_s': '', 'properties_tenantId_g': '', 'properties_enabledForDeployment_b': None, 'code_s': '', 'resultDescription_Summary_MachineId_s': '', 'resultDescription_Summary_ScheduleName_s': '', 'resultDescription_Summary_Status_s': '', 'resultDescription_Summary_StatusDescription_s': '', 'resultDescription_Summary_MachineName_s': '', 'resultDescription_Summary_TotalUpdatesInstalled_d': None, 'resultDescription_Summary_RebootRequired_b': None, 'resultDescription_Summary_TotalUpdatesFailed_d': None, 'resultDescription_Summary_InstallPercentage_d': None, 'resultDescription_Summary_StartDateTimeUtc_t': None, 'resource_triggerName_s': '', 'resultDescription_Summary_InitialRequiredUpdatesCount_d': None, 'properties_enabledForTemplateDeployment_b': None, 'resultDescription_Summary_EndDateTimeUtc_s': '', 'resultDescription_Summary_DurationInMinutes_s': '', 'resource_originRunId_s': '', 'properties_enabledForDiskEncryption_b': None, 'resource_actionName_s': '', 'correlation_actionTrackingId_g': '', 'resultDescription_Summary_EndDateTimeUtc_t': None, 'resultDescription_Summary_DurationInMinutes_d': None, 'conditions_protocols_s': '', 'identity_claim_ipaddr_s': '', 'ElasticPoolName_s': '', 'identity_claim_http_schemas_microsoft_com_claims_authnmethodsreferences_s': '', 'RunOn_s': '', 'query_hash_s': '0x4E8C0B5AF78C4ED1', 'SourceSystem': 'Azure', 'MG': '', 'ManagementGroupName': '', 'Computer': '', 'RawData': '', 'exec_type_d': 0, 'wait_category_s': 'BUFFERIO', 'total_query_wait_time_ms_d': 2879, 'max_query_wait_time_ms_d': 2879, 'is_parameterizable_s': 'false', 'statement_type_s': 'x_estypSelect', 'statement_key_hash_s': '2744282586', 'query_param_type_d': 1, 'interval_start_time_d': 190374444835200, 'interval_end_time_d': 190374445915200, 'logical_io_writes_d': None, 'max_logical_io_writes_d': None, 'physical_io_reads_d': None, 'max_physical_io_reads_d': None, 'logical_io_reads_d': None, 'max_logical_io_reads_d': None, 'execution_type_d': None, 'count_executions_d': 1, 'cpu_time_d': None, 'max_cpu_time_d': None, 'dop_d': None, 'max_dop_d': None, 'rowcount_d': None, 'max_rowcount_d': None, 'query_max_used_memory_d': None, 'max_query_max_used_memory_d': None, 'duration_d': None, 'max_duration_d': None, 'num_physical_io_reads_d': None, 'max_num_physical_io_reads_d': None, 'log_bytes_used_d': None, 'max_log_bytes_used_d': None, 'query_id_d': 40, 'plan_id_d': 2, 'statement_sql_handle_s': '0x0900C6D4FC50EF5B4E298DBE4E3A7EA7911F0000000000000000000000000000000000000000000000000000', 'query_plan_hash_s': '0x132EFB64A54855E5', 'error_number_d': None, 'Severity': None, 'user_defined_b': None, 'state_d': None, 'originalEventTimestamp_t': None, 'audit_schema_version_d': None, 'event_time_t': None, 'sequence_number_d': None, 'action_id_s': '', 'action_name_s': '', 'succeeded_s': '', 'is_column_permission_s': '', 'session_id_d': None, 'server_principal_id_d': None, 'database_principal_id_d': None, 'target_server_principal_id_d': None, 'target_database_principal_id_d': None, 'object_id_d': None, 'user_defined_event_id_d': None, 'transaction_id_d': None, 'class_type_s': '', 'class_type_description_s': '', 'securable_class_type_s': '', 'duration_milliseconds_d': None, 'response_rows_d': None, 'affected_rows_d': None, 'client_tls_version_d': None, 'client_ip_s': '', 'permission_bitmask_g': '', 'sequence_group_id_g': '', 'session_server_principal_name_s': '', 'server_principal_name_s': '', 'server_principal_sid_s': '', 'database_principal_name_s': '', 'target_server_principal_name_s': '', 'target_server_principal_sid_s': '', 'target_database_principal_name_s': '', 'server_instance_name_s': '', 'database_name_s': '', 'schema_name_s': '', 'object_name_s': '', 'statement_s': '', 'additional_information_s': '', 'user_defined_information_s': '', 'application_name_s': '', 'connection_id_g': '', 'data_sensitivity_information_s': '', 'host_name_s': '', 'session_context_s': '', 'is_server_level_audit_s': '', 'event_id_g': '', 'AdditionalFields': None, 'Type': 'AzureDiagnostics'}]",
                        "text/html": ""
                    },
                    "metadata": {}
                }
            ],
            "execution_count": 29
        },
        {
            "cell_type": "markdown",
            "source": [
                "## Analyze (non-audit) Events"
            ],
            "metadata": {
                "azdata_cell_guid": "19ee8932-d9da-4d77-ad62-005f38918138"
            }
        },
        {
            "cell_type": "code",
            "source": [
                "%%kql \r\n",
                "AzureDiagnostics\r\n",
                "| summarize event_count=count() by bin(TimeGenerated, 2d), OperationName\r\n",
                "| where OperationName <> \"AuditEvent\"\r\n",
                "| render timechart "
            ],
            "metadata": {
                "azdata_cell_guid": "b0794fb8-5a03-47c1-90ea-1639a07d665b",
                "tags": []
            },
            "outputs": [
                {
                    "output_type": "display_data",
                    "data": {
                        "text/plain": "<IPython.core.display.HTML object>",
                        "text/html": "<html>\n        <head>\n            \n            \n        </head>\n        <body>\n            <div><p style='padding: 10px; color: #3a87ad; background-color: #d9edf7; border-color: #bce9f1'>&nbsp;*&nbsp;myLogAnalyticsWorkspace@loganalytics</p></div>\n        </body>\n        </html>"
                    },
                    "metadata": {}
                },
                {
                    "output_type": "display_data",
                    "data": {
                        "application/vnd.plotly.v1+json": {
                            "config": {
                                "plotlyServerURL": "https://plot.ly"
                            },
                            "data": [
                                {
                                    "line": {
                                        "color": "rgb(31, 118, 179)",
                                        "width": 1
                                    },
                                    "name": "ErrorEvent:event_count",
                                    "opacity": 0.8,
                                    "type": "scatter",
                                    "x": [
                                        "2021-05-11T00:00:00+00:00"
                                    ],
                                    "y": [
                                        1
                                    ]
                                },
                                {
                                    "line": {
                                        "color": "rgb(254, 127, 14)",
                                        "width": 1
                                    },
                                    "name": "QueryStoreWaitStatisticsEvent:event_count",
                                    "opacity": 0.8,
                                    "type": "scatter",
                                    "x": [
                                        "2021-05-11T00:00:00+00:00"
                                    ],
                                    "y": [
                                        8
                                    ]
                                },
                                {
                                    "line": {
                                        "color": "rgb(44, 160, 44)",
                                        "width": 1
                                    },
                                    "name": "QueryStoreRuntimeStatisticsEvent:event_count",
                                    "opacity": 0.8,
                                    "type": "scatter",
                                    "x": [
                                        "2021-05-11T00:00:00+00:00"
                                    ],
                                    "y": [
                                        2
                                    ]
                                }
                            ],
                            "layout": {
                                "showlegend": true,
                                "template": {
                                    "data": {
                                        "bar": [
                                            {
                                                "error_x": {
                                                    "color": "#2a3f5f"
                                                },
                                                "error_y": {
                                                    "color": "#2a3f5f"
                                                },
                                                "marker": {
                                                    "line": {
                                                        "color": "#E5ECF6",
                                                        "width": 0.5
                                                    }
                                                },
                                                "type": "bar"
                                            }
                                        ],
                                        "barpolar": [
                                            {
                                                "marker": {
                                                    "line": {
                                                        "color": "#E5ECF6",
                                                        "width": 0.5
                                                    }
                                                },
                                                "type": "barpolar"
                                            }
                                        ],
                                        "carpet": [
                                            {
                                                "aaxis": {
                                                    "endlinecolor": "#2a3f5f",
                                                    "gridcolor": "white",
                                                    "linecolor": "white",
                                                    "minorgridcolor": "white",
                                                    "startlinecolor": "#2a3f5f"
                                                },
                                                "baxis": {
                                                    "endlinecolor": "#2a3f5f",
                                                    "gridcolor": "white",
                                                    "linecolor": "white",
                                                    "minorgridcolor": "white",
                                                    "startlinecolor": "#2a3f5f"
                                                },
                                                "type": "carpet"
                                            }
                                        ],
                                        "choropleth": [
                                            {
                                                "colorbar": {
                                                    "outlinewidth": 0,
                                                    "ticks": ""
                                                },
                                                "type": "choropleth"
                                            }
                                        ],
                                        "contour": [
                                            {
                                                "colorbar": {
                                                    "outlinewidth": 0,
                                                    "ticks": ""
                                                },
                                                "colorscale": [
                                                    [
                                                        0,
                                                        "#0d0887"
                                                    ],
                                                    [
                                                        0.1111111111111111,
                                                        "#46039f"
                                                    ],
                                                    [
                                                        0.2222222222222222,
                                                        "#7201a8"
                                                    ],
                                                    [
                                                        0.3333333333333333,
                                                        "#9c179e"
                                                    ],
                                                    [
                                                        0.4444444444444444,
                                                        "#bd3786"
                                                    ],
                                                    [
                                                        0.5555555555555556,
                                                        "#d8576b"
                                                    ],
                                                    [
                                                        0.6666666666666666,
                                                        "#ed7953"
                                                    ],
                                                    [
                                                        0.7777777777777778,
                                                        "#fb9f3a"
                                                    ],
                                                    [
                                                        0.8888888888888888,
                                                        "#fdca26"
                                                    ],
                                                    [
                                                        1,
                                                        "#f0f921"
                                                    ]
                                                ],
                                                "type": "contour"
                                            }
                                        ],
                                        "contourcarpet": [
                                            {
                                                "colorbar": {
                                                    "outlinewidth": 0,
                                                    "ticks": ""
                                                },
                                                "type": "contourcarpet"
                                            }
                                        ],
                                        "heatmap": [
                                            {
                                                "colorbar": {
                                                    "outlinewidth": 0,
                                                    "ticks": ""
                                                },
                                                "colorscale": [
                                                    [
                                                        0,
                                                        "#0d0887"
                                                    ],
                                                    [
                                                        0.1111111111111111,
                                                        "#46039f"
                                                    ],
                                                    [
                                                        0.2222222222222222,
                                                        "#7201a8"
                                                    ],
                                                    [
                                                        0.3333333333333333,
                                                        "#9c179e"
                                                    ],
                                                    [
                                                        0.4444444444444444,
                                                        "#bd3786"
                                                    ],
                                                    [
                                                        0.5555555555555556,
                                                        "#d8576b"
                                                    ],
                                                    [
                                                        0.6666666666666666,
                                                        "#ed7953"
                                                    ],
                                                    [
                                                        0.7777777777777778,
                                                        "#fb9f3a"
                                                    ],
                                                    [
                                                        0.8888888888888888,
                                                        "#fdca26"
                                                    ],
                                                    [
                                                        1,
                                                        "#f0f921"
                                                    ]
                                                ],
                                                "type": "heatmap"
                                            }
                                        ],
                                        "heatmapgl": [
                                            {
                                                "colorbar": {
                                                    "outlinewidth": 0,
                                                    "ticks": ""
                                                },
                                                "colorscale": [
                                                    [
                                                        0,
                                                        "#0d0887"
                                                    ],
                                                    [
                                                        0.1111111111111111,
                                                        "#46039f"
                                                    ],
                                                    [
                                                        0.2222222222222222,
                                                        "#7201a8"
                                                    ],
                                                    [
                                                        0.3333333333333333,
                                                        "#9c179e"
                                                    ],
                                                    [
                                                        0.4444444444444444,
                                                        "#bd3786"
                                                    ],
                                                    [
                                                        0.5555555555555556,
                                                        "#d8576b"
                                                    ],
                                                    [
                                                        0.6666666666666666,
                                                        "#ed7953"
                                                    ],
                                                    [
                                                        0.7777777777777778,
                                                        "#fb9f3a"
                                                    ],
                                                    [
                                                        0.8888888888888888,
                                                        "#fdca26"
                                                    ],
                                                    [
                                                        1,
                                                        "#f0f921"
                                                    ]
                                                ],
                                                "type": "heatmapgl"
                                            }
                                        ],
                                        "histogram": [
                                            {
                                                "marker": {
                                                    "colorbar": {
                                                        "outlinewidth": 0,
                                                        "ticks": ""
                                                    }
                                                },
                                                "type": "histogram"
                                            }
                                        ],
                                        "histogram2d": [
                                            {
                                                "colorbar": {
                                                    "outlinewidth": 0,
                                                    "ticks": ""
                                                },
                                                "colorscale": [
                                                    [
                                                        0,
                                                        "#0d0887"
                                                    ],
                                                    [
                                                        0.1111111111111111,
                                                        "#46039f"
                                                    ],
                                                    [
                                                        0.2222222222222222,
                                                        "#7201a8"
                                                    ],
                                                    [
                                                        0.3333333333333333,
                                                        "#9c179e"
                                                    ],
                                                    [
                                                        0.4444444444444444,
                                                        "#bd3786"
                                                    ],
                                                    [
                                                        0.5555555555555556,
                                                        "#d8576b"
                                                    ],
                                                    [
                                                        0.6666666666666666,
                                                        "#ed7953"
                                                    ],
                                                    [
                                                        0.7777777777777778,
                                                        "#fb9f3a"
                                                    ],
                                                    [
                                                        0.8888888888888888,
                                                        "#fdca26"
                                                    ],
                                                    [
                                                        1,
                                                        "#f0f921"
                                                    ]
                                                ],
                                                "type": "histogram2d"
                                            }
                                        ],
                                        "histogram2dcontour": [
                                            {
                                                "colorbar": {
                                                    "outlinewidth": 0,
                                                    "ticks": ""
                                                },
                                                "colorscale": [
                                                    [
                                                        0,
                                                        "#0d0887"
                                                    ],
                                                    [
                                                        0.1111111111111111,
                                                        "#46039f"
                                                    ],
                                                    [
                                                        0.2222222222222222,
                                                        "#7201a8"
                                                    ],
                                                    [
                                                        0.3333333333333333,
                                                        "#9c179e"
                                                    ],
                                                    [
                                                        0.4444444444444444,
                                                        "#bd3786"
                                                    ],
                                                    [
                                                        0.5555555555555556,
                                                        "#d8576b"
                                                    ],
                                                    [
                                                        0.6666666666666666,
                                                        "#ed7953"
                                                    ],
                                                    [
                                                        0.7777777777777778,
                                                        "#fb9f3a"
                                                    ],
                                                    [
                                                        0.8888888888888888,
                                                        "#fdca26"
                                                    ],
                                                    [
                                                        1,
                                                        "#f0f921"
                                                    ]
                                                ],
                                                "type": "histogram2dcontour"
                                            }
                                        ],
                                        "mesh3d": [
                                            {
                                                "colorbar": {
                                                    "outlinewidth": 0,
                                                    "ticks": ""
                                                },
                                                "type": "mesh3d"
                                            }
                                        ],
                                        "parcoords": [
                                            {
                                                "line": {
                                                    "colorbar": {
                                                        "outlinewidth": 0,
                                                        "ticks": ""
                                                    }
                                                },
                                                "type": "parcoords"
                                            }
                                        ],
                                        "pie": [
                                            {
                                                "automargin": true,
                                                "type": "pie"
                                            }
                                        ],
                                        "scatter": [
                                            {
                                                "marker": {
                                                    "colorbar": {
                                                        "outlinewidth": 0,
                                                        "ticks": ""
                                                    }
                                                },
                                                "type": "scatter"
                                            }
                                        ],
                                        "scatter3d": [
                                            {
                                                "line": {
                                                    "colorbar": {
                                                        "outlinewidth": 0,
                                                        "ticks": ""
                                                    }
                                                },
                                                "marker": {
                                                    "colorbar": {
                                                        "outlinewidth": 0,
                                                        "ticks": ""
                                                    }
                                                },
                                                "type": "scatter3d"
                                            }
                                        ],
                                        "scattercarpet": [
                                            {
                                                "marker": {
                                                    "colorbar": {
                                                        "outlinewidth": 0,
                                                        "ticks": ""
                                                    }
                                                },
                                                "type": "scattercarpet"
                                            }
                                        ],
                                        "scattergeo": [
                                            {
                                                "marker": {
                                                    "colorbar": {
                                                        "outlinewidth": 0,
                                                        "ticks": ""
                                                    }
                                                },
                                                "type": "scattergeo"
                                            }
                                        ],
                                        "scattergl": [
                                            {
                                                "marker": {
                                                    "colorbar": {
                                                        "outlinewidth": 0,
                                                        "ticks": ""
                                                    }
                                                },
                                                "type": "scattergl"
                                            }
                                        ],
                                        "scattermapbox": [
                                            {
                                                "marker": {
                                                    "colorbar": {
                                                        "outlinewidth": 0,
                                                        "ticks": ""
                                                    }
                                                },
                                                "type": "scattermapbox"
                                            }
                                        ],
                                        "scatterpolar": [
                                            {
                                                "marker": {
                                                    "colorbar": {
                                                        "outlinewidth": 0,
                                                        "ticks": ""
                                                    }
                                                },
                                                "type": "scatterpolar"
                                            }
                                        ],
                                        "scatterpolargl": [
                                            {
                                                "marker": {
                                                    "colorbar": {
                                                        "outlinewidth": 0,
                                                        "ticks": ""
                                                    }
                                                },
                                                "type": "scatterpolargl"
                                            }
                                        ],
                                        "scatterternary": [
                                            {
                                                "marker": {
                                                    "colorbar": {
                                                        "outlinewidth": 0,
                                                        "ticks": ""
                                                    }
                                                },
                                                "type": "scatterternary"
                                            }
                                        ],
                                        "surface": [
                                            {
                                                "colorbar": {
                                                    "outlinewidth": 0,
                                                    "ticks": ""
                                                },
                                                "colorscale": [
                                                    [
                                                        0,
                                                        "#0d0887"
                                                    ],
                                                    [
                                                        0.1111111111111111,
                                                        "#46039f"
                                                    ],
                                                    [
                                                        0.2222222222222222,
                                                        "#7201a8"
                                                    ],
                                                    [
                                                        0.3333333333333333,
                                                        "#9c179e"
                                                    ],
                                                    [
                                                        0.4444444444444444,
                                                        "#bd3786"
                                                    ],
                                                    [
                                                        0.5555555555555556,
                                                        "#d8576b"
                                                    ],
                                                    [
                                                        0.6666666666666666,
                                                        "#ed7953"
                                                    ],
                                                    [
                                                        0.7777777777777778,
                                                        "#fb9f3a"
                                                    ],
                                                    [
                                                        0.8888888888888888,
                                                        "#fdca26"
                                                    ],
                                                    [
                                                        1,
                                                        "#f0f921"
                                                    ]
                                                ],
                                                "type": "surface"
                                            }
                                        ],
                                        "table": [
                                            {
                                                "cells": {
                                                    "fill": {
                                                        "color": "#EBF0F8"
                                                    },
                                                    "line": {
                                                        "color": "white"
                                                    }
                                                },
                                                "header": {
                                                    "fill": {
                                                        "color": "#C8D4E3"
                                                    },
                                                    "line": {
                                                        "color": "white"
                                                    }
                                                },
                                                "type": "table"
                                            }
                                        ]
                                    },
                                    "layout": {
                                        "annotationdefaults": {
                                            "arrowcolor": "#2a3f5f",
                                            "arrowhead": 0,
                                            "arrowwidth": 1
                                        },
                                        "coloraxis": {
                                            "colorbar": {
                                                "outlinewidth": 0,
                                                "ticks": ""
                                            }
                                        },
                                        "colorscale": {
                                            "diverging": [
                                                [
                                                    0,
                                                    "#8e0152"
                                                ],
                                                [
                                                    0.1,
                                                    "#c51b7d"
                                                ],
                                                [
                                                    0.2,
                                                    "#de77ae"
                                                ],
                                                [
                                                    0.3,
                                                    "#f1b6da"
                                                ],
                                                [
                                                    0.4,
                                                    "#fde0ef"
                                                ],
                                                [
                                                    0.5,
                                                    "#f7f7f7"
                                                ],
                                                [
                                                    0.6,
                                                    "#e6f5d0"
                                                ],
                                                [
                                                    0.7,
                                                    "#b8e186"
                                                ],
                                                [
                                                    0.8,
                                                    "#7fbc41"
                                                ],
                                                [
                                                    0.9,
                                                    "#4d9221"
                                                ],
                                                [
                                                    1,
                                                    "#276419"
                                                ]
                                            ],
                                            "sequential": [
                                                [
                                                    0,
                                                    "#0d0887"
                                                ],
                                                [
                                                    0.1111111111111111,
                                                    "#46039f"
                                                ],
                                                [
                                                    0.2222222222222222,
                                                    "#7201a8"
                                                ],
                                                [
                                                    0.3333333333333333,
                                                    "#9c179e"
                                                ],
                                                [
                                                    0.4444444444444444,
                                                    "#bd3786"
                                                ],
                                                [
                                                    0.5555555555555556,
                                                    "#d8576b"
                                                ],
                                                [
                                                    0.6666666666666666,
                                                    "#ed7953"
                                                ],
                                                [
                                                    0.7777777777777778,
                                                    "#fb9f3a"
                                                ],
                                                [
                                                    0.8888888888888888,
                                                    "#fdca26"
                                                ],
                                                [
                                                    1,
                                                    "#f0f921"
                                                ]
                                            ],
                                            "sequentialminus": [
                                                [
                                                    0,
                                                    "#0d0887"
                                                ],
                                                [
                                                    0.1111111111111111,
                                                    "#46039f"
                                                ],
                                                [
                                                    0.2222222222222222,
                                                    "#7201a8"
                                                ],
                                                [
                                                    0.3333333333333333,
                                                    "#9c179e"
                                                ],
                                                [
                                                    0.4444444444444444,
                                                    "#bd3786"
                                                ],
                                                [
                                                    0.5555555555555556,
                                                    "#d8576b"
                                                ],
                                                [
                                                    0.6666666666666666,
                                                    "#ed7953"
                                                ],
                                                [
                                                    0.7777777777777778,
                                                    "#fb9f3a"
                                                ],
                                                [
                                                    0.8888888888888888,
                                                    "#fdca26"
                                                ],
                                                [
                                                    1,
                                                    "#f0f921"
                                                ]
                                            ]
                                        },
                                        "colorway": [
                                            "#636efa",
                                            "#EF553B",
                                            "#00cc96",
                                            "#ab63fa",
                                            "#FFA15A",
                                            "#19d3f3",
                                            "#FF6692",
                                            "#B6E880",
                                            "#FF97FF",
                                            "#FECB52"
                                        ],
                                        "font": {
                                            "color": "#2a3f5f"
                                        },
                                        "geo": {
                                            "bgcolor": "white",
                                            "lakecolor": "white",
                                            "landcolor": "#E5ECF6",
                                            "showlakes": true,
                                            "showland": true,
                                            "subunitcolor": "white"
                                        },
                                        "hoverlabel": {
                                            "align": "left"
                                        },
                                        "hovermode": "closest",
                                        "mapbox": {
                                            "style": "light"
                                        },
                                        "paper_bgcolor": "white",
                                        "plot_bgcolor": "#E5ECF6",
                                        "polar": {
                                            "angularaxis": {
                                                "gridcolor": "white",
                                                "linecolor": "white",
                                                "ticks": ""
                                            },
                                            "bgcolor": "#E5ECF6",
                                            "radialaxis": {
                                                "gridcolor": "white",
                                                "linecolor": "white",
                                                "ticks": ""
                                            }
                                        },
                                        "scene": {
                                            "xaxis": {
                                                "backgroundcolor": "#E5ECF6",
                                                "gridcolor": "white",
                                                "gridwidth": 2,
                                                "linecolor": "white",
                                                "showbackground": true,
                                                "ticks": "",
                                                "zerolinecolor": "white"
                                            },
                                            "yaxis": {
                                                "backgroundcolor": "#E5ECF6",
                                                "gridcolor": "white",
                                                "gridwidth": 2,
                                                "linecolor": "white",
                                                "showbackground": true,
                                                "ticks": "",
                                                "zerolinecolor": "white"
                                            },
                                            "zaxis": {
                                                "backgroundcolor": "#E5ECF6",
                                                "gridcolor": "white",
                                                "gridwidth": 2,
                                                "linecolor": "white",
                                                "showbackground": true,
                                                "ticks": "",
                                                "zerolinecolor": "white"
                                            }
                                        },
                                        "shapedefaults": {
                                            "line": {
                                                "color": "#2a3f5f"
                                            }
                                        },
                                        "ternary": {
                                            "aaxis": {
                                                "gridcolor": "white",
                                                "linecolor": "white",
                                                "ticks": ""
                                            },
                                            "baxis": {
                                                "gridcolor": "white",
                                                "linecolor": "white",
                                                "ticks": ""
                                            },
                                            "bgcolor": "#E5ECF6",
                                            "caxis": {
                                                "gridcolor": "white",
                                                "linecolor": "white",
                                                "ticks": ""
                                            }
                                        },
                                        "title": {
                                            "x": 0.05
                                        },
                                        "xaxis": {
                                            "automargin": true,
                                            "gridcolor": "white",
                                            "linecolor": "white",
                                            "ticks": "",
                                            "title": {
                                                "standoff": 15
                                            },
                                            "zerolinecolor": "white",
                                            "zerolinewidth": 2
                                        },
                                        "yaxis": {
                                            "automargin": true,
                                            "gridcolor": "white",
                                            "linecolor": "white",
                                            "ticks": "",
                                            "title": {
                                                "standoff": 15
                                            },
                                            "zerolinecolor": "white",
                                            "zerolinewidth": 2
                                        }
                                    }
                                },
                                "title": {
                                    "text": "timechart"
                                },
                                "xaxis": {
                                    "autorange": true,
                                    "title": {
                                        "text": "TimeGenerated"
                                    },
                                    "type": "date"
                                },
                                "yaxis": {
                                    "ticksuffix": "",
                                    "title": {
                                        "text": "event_count"
                                    },
                                    "type": "linear"
                                }
                            }
                        }
                    },
                    "metadata": {}
                },
                {
                    "output_type": "display_data",
                    "data": {
                        "text/plain": "<IPython.core.display.HTML object>",
                        "text/html": "<html>\n        <head>\n            \n            \n        </head>\n        <body>\n            <div><p style='padding: 10px; color: #3a87ad; background-color: #d9edf7; border-color: #bce9f1'>Done&nbsp;(00:00.517):&nbsp;3&nbsp;records</p></div>\n        </body>\n        </html>"
                    },
                    "metadata": {}
                },
                {
                    "output_type": "execute_result",
                    "execution_count": 30,
                    "data": {
                        "text/plain": "[{'TimeGenerated': datetime.datetime(2021, 5, 11, 0, 0, tzinfo=tzutc()), 'OperationName': 'ErrorEvent', 'event_count': 1},\n {'TimeGenerated': datetime.datetime(2021, 5, 11, 0, 0, tzinfo=tzutc()), 'OperationName': 'QueryStoreWaitStatisticsEvent', 'event_count': 8},\n {'TimeGenerated': datetime.datetime(2021, 5, 11, 0, 0, tzinfo=tzutc()), 'OperationName': 'QueryStoreRuntimeStatisticsEvent', 'event_count': 2}]",
                        "text/html": ""
                    },
                    "metadata": {}
                }
            ],
            "execution_count": 30
        },
        {
            "cell_type": "markdown",
            "source": [
                "## Deadlock Analysis"
            ],
            "metadata": {
                "azdata_cell_guid": "a1661835-fcb5-4af9-a353-4e7a0c70cb56"
            }
        },
        {
            "cell_type": "code",
            "source": [
                "%%kql \r\n",
                "AzureDiagnostics\r\n",
                "| where OperationName == \"DeadlockEvent\"\r\n",
                "| project TimeGenerated, Category, Resource, OperationName, Type, deadlock_xml_s\r\n",
                "| sort by TimeGenerated desc\r\n",
                "| take 50"
            ],
            "metadata": {
                "azdata_cell_guid": "60a7b4cb-076c-4222-a80f-a6e11cf51a4e"
            },
            "outputs": [
                {
                    "output_type": "display_data",
                    "data": {
                        "text/plain": "<IPython.core.display.HTML object>",
                        "text/html": "<html>\n        <head>\n            \n            \n        </head>\n        <body>\n            <div><p style='padding: 10px; color: #3a87ad; background-color: #d9edf7; border-color: #bce9f1'>&nbsp;*&nbsp;myLogAnalyticsWorkspace@loganalytics</p></div>\n        </body>\n        </html>"
                    },
                    "metadata": {}
                },
                {
                    "output_type": "display_data",
                    "data": {
                        "text/plain": "                     TimeGenerated   Category              Resource  \\\n0 2021-05-11 19:17:31.022000+00:00  Deadlocks  SQLALERTDEMODATABASE   \n\n   OperationName              Type  \\\n0  DeadlockEvent  AzureDiagnostics   \n\n                                      deadlock_xml_s  \n0  <deadlock>   <victim-list>    <victimProcess i...  ",
                        "text/html": "<div>\n<style scoped>\n    .dataframe tbody tr th:only-of-type {\n        vertical-align: middle;\n    }\n\n    .dataframe tbody tr th {\n        vertical-align: top;\n    }\n\n    .dataframe thead th {\n        text-align: right;\n    }\n</style>\n<table border=\"1\" class=\"dataframe\">\n  <thead>\n    <tr style=\"text-align: right;\">\n      <th></th>\n      <th>TimeGenerated</th>\n      <th>Category</th>\n      <th>Resource</th>\n      <th>OperationName</th>\n      <th>Type</th>\n      <th>deadlock_xml_s</th>\n    </tr>\n  </thead>\n  <tbody>\n    <tr>\n      <th>0</th>\n      <td>2021-05-11 19:17:31.022000+00:00</td>\n      <td>Deadlocks</td>\n      <td>SQLALERTDEMODATABASE</td>\n      <td>DeadlockEvent</td>\n      <td>AzureDiagnostics</td>\n      <td>&lt;deadlock&gt;   &lt;victim-list&gt;    &lt;victimProcess i...</td>\n    </tr>\n  </tbody>\n</table>\n</div>",
                        "application/vnd.dataresource+json": {
                            "schema": {
                                "fields": [
                                    {
                                        "name": "TimeGenerated",
                                        "type": "datetime",
                                        "tz": "UTC"
                                    },
                                    {
                                        "name": "Category",
                                        "type": "string"
                                    },
                                    {
                                        "name": "Resource",
                                        "type": "string"
                                    },
                                    {
                                        "name": "OperationName",
                                        "type": "string"
                                    },
                                    {
                                        "name": "Type",
                                        "type": "string"
                                    },
                                    {
                                        "name": "deadlock_xml_s",
                                        "type": "string"
                                    }
                                ],
                                "kqmagic_version": "0.1.113.post1"
                            },
                            "data": [
                                {
                                    "TimeGenerated": "2021-05-11T19:17:31.022Z",
                                    "Category": "Deadlocks",
                                    "Resource": "SQLALERTDEMODATABASE",
                                    "OperationName": "DeadlockEvent",
                                    "Type": "AzureDiagnostics",
                                    "deadlock_xml_s": "<deadlock>   <victim-list>    <victimProcess id='process1d2fe23e8c8'/>   </victim-list>   <process-list>    <process id='process1d2fe23e8c8' taskpriority='0' logused='400' waitresource='RID: 5:1:2520:0' waittime='7905' ownerId='23813' transactionname='user_transaction' lasttranstarted='2021-05-11T19:17:23.113' XDES='0x1d30cb24428' lockMode='U' schedulerid='2' kpid='79052' status='suspended' spid='83' sbid='0' ecid='0' priority='0' trancount='2' lastbatchstarted='2021-05-11T19:17:23.100' lastbatchcompleted='2021-05-11T19:17:23.080' lastattention='1900-01-01T00:00:00.080' clientapp='Microsoft SQL Server Management Studio - Query' hostname='filtered' hostpid='19340' loginname='filtered' isolationlevel='read committed (2)' xactid='23813' currentdb='5' currentdbname='sqlalertdemodatabase' lockTimeout='4294967295' clientoption1='671090784' clientoption2='390200'>     <executionStack>      <frame procname='unknown' queryhash='0xe0232a262dc67058' queryplanhash='0xdcd040c7146d60d5' line='6' stmtstart='60' stmtend='182' sqlhandle='0x020000000dd33a257162883d0eb23f28478788ae94f7050f0000000000000000000000000000000000000000'>  unknown    </frame>      <frame procname='unknown' queryhash='0xe0232a262dc67058' queryplanhash='0xdcd040c7146d60d5' line='6' stmtstart='172' stmtend='300' sqlhandle='0x020000009659ad00999afc1eb4baf53803f2a5b9d463522b0000000000000000000000000000000000000000'>  unknown    </frame>     </executionStack>     <inputbuf>  filtered   </inputbuf>    </process>    <process id='process1d2fd4c5088' taskpriority='0' logused='412' waitresource='RID: 5:1:2656:0' waittime='3635' ownerId='23730' transactionname='user_transaction' lasttranstarted='2021-05-11T19:17:16.983' XDES='0x1d30cb20428' lockMode='U' schedulerid='1' kpid='51856' status='suspended' spid='81' sbid='0' ecid='0' priority='0' trancount='2' lastbatchstarted='2021-05-11T19:17:27.380' lastbatchcompleted='2021-05-11T19:17:27.353' lastattention='1900-01-01T00:00:00.353' clientapp='Microsoft SQL Server Management Studio - Query' hostname='filtered' hostpid='19340' loginname='filtered' isolationlevel='read committed (2)' xactid='23730' currentdb='5' currentdbname='sqlalertdemodatabase' lockTimeout='4294967295' clientoption1='671088672' clientoption2='128056'>     <executionStack>      <frame procname='unknown' queryhash='0x676ea57babf90844' queryplanhash='0x367a5f67ca046cf8' line='1' stmtstart='60' stmtend='188' sqlhandle='0x02000000f884070d8f0d33f9b405b730b28122c6252139430000000000000000000000000000000000000000'>  unknown    </frame>      <frame procname='unknown' queryhash='0x676ea57babf90844' queryplanhash='0x367a5f67ca046cf8' line='1' stmtend='134' sqlhandle='0x0200000034796107b36d645a2f7c431d975800f2aeee05900000000000000000000000000000000000000000'>  unknown    </frame>     </executionStack>     <inputbuf>  filtered   </inputbuf>    </process>   </process-list>   <resource-list>    <ridlock fileid='1' pageid='2520' dbid='5' objectname='filtered' id='lock1d305af3100' mode='X' associatedObjectId='72057594044153856'>     <owner-list>      <owner id='process1d2fd4c5088' mode='X'/>     </owner-list>     <waiter-list>      <waiter id='process1d2fe23e8c8' mode='U' requestType='wait'/>     </waiter-list>    </ridlock>    <ridlock fileid='1' pageid='2656' dbid='5' objectname='filtered' id='lock1d305af6400' mode='X' associatedObjectId='72057594044219392'>     <owner-list>      <owner id='process1d2fe23e8c8' mode='X'/>     </owner-list>     <waiter-list>      <waiter id='process1d2fd4c5088' mode='U' requestType='wait'/>     </waiter-list>    </ridlock>   </resource-list>  </deadlock>  "
                                }
                            ]
                        }
                    },
                    "metadata": {}
                },
                {
                    "output_type": "display_data",
                    "data": {
                        "text/plain": "<IPython.core.display.HTML object>",
                        "text/html": "<html>\n        <head>\n            \n            \n        </head>\n        <body>\n            <div><p style='padding: 10px; color: #3a87ad; background-color: #d9edf7; border-color: #bce9f1'>Done&nbsp;(00:00.409):&nbsp;1&nbsp;records</p></div>\n        </body>\n        </html>"
                    },
                    "metadata": {}
                },
                {
                    "output_type": "execute_result",
                    "execution_count": 34,
                    "data": {
                        "text/plain": "[{'TimeGenerated': datetime.datetime(2021, 5, 11, 19, 17, 31, 22000, tzinfo=tzutc()), 'Category': 'Deadlocks', 'Resource': 'SQLALERTDEMODATABASE', 'OperationName': 'DeadlockEvent', 'Type': 'AzureDiagnostics', 'deadlock_xml_s': \"<deadlock>   <victim-list>    <victimProcess id='process1d2fe23e8c8'/>   </victim-list>   <process-list>    <process id='process1d2fe23e8c8' taskpriority='0' logused='400' waitresource='RID: 5:1:2520:0' waittime='7905' ownerId='23813' transactionname='user_transaction' lasttranstarted='2021-05-11T19:17:23.113' XDES='0x1d30cb24428' lockMode='U' schedulerid='2' kpid='79052' status='suspended' spid='83' sbid='0' ecid='0' priority='0' trancount='2' lastbatchstarted='2021-05-11T19:17:23.100' lastbatchcompleted='2021-05-11T19:17:23.080' lastattention='1900-01-01T00:00:00.080' clientapp='Microsoft SQL Server Management Studio - Query' hostname='filtered' hostpid='19340' loginname='filtered' isolationlevel='read committed (2)' xactid='23813' currentdb='5' currentdbname='sqlalertdemodatabase' lockTimeout='4294967295' clientoption1='671090784' clientoption2='390200'>     <executionStack>      <frame procname='unknown' queryhash='0xe0232a262dc67058' queryplanhash='0xdcd040c7146d60d5' line='6' stmtstart='60' stmtend='182' sqlhandle='0x020000000dd33a257162883d0eb23f28478788ae94f7050f0000000000000000000000000000000000000000'>  unknown    </frame>      <frame procname='unknown' queryhash='0xe0232a262dc67058' queryplanhash='0xdcd040c7146d60d5' line='6' stmtstart='172' stmtend='300' sqlhandle='0x020000009659ad00999afc1eb4baf53803f2a5b9d463522b0000000000000000000000000000000000000000'>  unknown    </frame>     </executionStack>     <inputbuf>  filtered   </inputbuf>    </process>    <process id='process1d2fd4c5088' taskpriority='0' logused='412' waitresource='RID: 5:1:2656:0' waittime='3635' ownerId='23730' transactionname='user_transaction' lasttranstarted='2021-05-11T19:17:16.983' XDES='0x1d30cb20428' lockMode='U' schedulerid='1' kpid='51856' status='suspended' spid='81' sbid='0' ecid='0' priority='0' trancount='2' lastbatchstarted='2021-05-11T19:17:27.380' lastbatchcompleted='2021-05-11T19:17:27.353' lastattention='1900-01-01T00:00:00.353' clientapp='Microsoft SQL Server Management Studio - Query' hostname='filtered' hostpid='19340' loginname='filtered' isolationlevel='read committed (2)' xactid='23730' currentdb='5' currentdbname='sqlalertdemodatabase' lockTimeout='4294967295' clientoption1='671088672' clientoption2='128056'>     <executionStack>      <frame procname='unknown' queryhash='0x676ea57babf90844' queryplanhash='0x367a5f67ca046cf8' line='1' stmtstart='60' stmtend='188' sqlhandle='0x02000000f884070d8f0d33f9b405b730b28122c6252139430000000000000000000000000000000000000000'>  unknown    </frame>      <frame procname='unknown' queryhash='0x676ea57babf90844' queryplanhash='0x367a5f67ca046cf8' line='1' stmtend='134' sqlhandle='0x0200000034796107b36d645a2f7c431d975800f2aeee05900000000000000000000000000000000000000000'>  unknown    </frame>     </executionStack>     <inputbuf>  filtered   </inputbuf>    </process>   </process-list>   <resource-list>    <ridlock fileid='1' pageid='2520' dbid='5' objectname='filtered' id='lock1d305af3100' mode='X' associatedObjectId='72057594044153856'>     <owner-list>      <owner id='process1d2fd4c5088' mode='X'/>     </owner-list>     <waiter-list>      <waiter id='process1d2fe23e8c8' mode='U' requestType='wait'/>     </waiter-list>    </ridlock>    <ridlock fileid='1' pageid='2656' dbid='5' objectname='filtered' id='lock1d305af6400' mode='X' associatedObjectId='72057594044219392'>     <owner-list>      <owner id='process1d2fe23e8c8' mode='X'/>     </owner-list>     <waiter-list>      <waiter id='process1d2fd4c5088' mode='U' requestType='wait'/>     </waiter-list>    </ridlock>   </resource-list>  </deadlock>  \"}]",
                        "text/html": ""
                    },
                    "metadata": {}
                }
            ],
            "execution_count": 34
        },
        {
            "cell_type": "markdown",
            "source": [
                "Find the deadlock query plan"
            ],
            "metadata": {
                "azdata_cell_guid": "af8b22fa-3396-4e95-b1d6-1a96fa400f03"
            }
        },
        {
            "cell_type": "code",
            "source": [
                "%%kql \r\n",
                "AzureDiagnostics\r\n",
                "| where OperationName == \"DeadlockEvent\"\r\n",
                "| extend d = parse_xml(deadlock_xml_s)\r\n",
                "| project TimeGenerated, QuerhPlanHash = d.deadlock.[\"process-list\"].process[0].executionStack.frame[0][\"@queryplanhash\"], QueryHash = d.deadlock.[\"process-list\"].process[0].executionStack.frame[0][\"@queryhash\"]\r\n",
                "//| sort by TimeGenerated desc\r\n",
                "| take 50"
            ],
            "metadata": {
                "azdata_cell_guid": "9b024cd2-768f-4ad4-9031-19f22dee9ecd",
                "tags": []
            },
            "outputs": [
                {
                    "output_type": "display_data",
                    "data": {
                        "text/plain": "<IPython.core.display.HTML object>",
                        "text/html": "<html>\n        <head>\n            \n            \n        </head>\n        <body>\n            <div><p style='padding: 10px; color: #3a87ad; background-color: #d9edf7; border-color: #bce9f1'>&nbsp;*&nbsp;myLogAnalyticsWorkspace@loganalytics</p></div>\n        </body>\n        </html>"
                    },
                    "metadata": {}
                },
                {
                    "output_type": "display_data",
                    "data": {
                        "text/plain": "                     TimeGenerated       QuerhPlanHash           QueryHash\n0 2021-05-11 19:17:31.022000+00:00  0xdcd040c7146d60d5  0xe0232a262dc67058",
                        "text/html": "<div>\n<style scoped>\n    .dataframe tbody tr th:only-of-type {\n        vertical-align: middle;\n    }\n\n    .dataframe tbody tr th {\n        vertical-align: top;\n    }\n\n    .dataframe thead th {\n        text-align: right;\n    }\n</style>\n<table border=\"1\" class=\"dataframe\">\n  <thead>\n    <tr style=\"text-align: right;\">\n      <th></th>\n      <th>TimeGenerated</th>\n      <th>QuerhPlanHash</th>\n      <th>QueryHash</th>\n    </tr>\n  </thead>\n  <tbody>\n    <tr>\n      <th>0</th>\n      <td>2021-05-11 19:17:31.022000+00:00</td>\n      <td>0xdcd040c7146d60d5</td>\n      <td>0xe0232a262dc67058</td>\n    </tr>\n  </tbody>\n</table>\n</div>",
                        "application/vnd.dataresource+json": {
                            "schema": {
                                "fields": [
                                    {
                                        "name": "TimeGenerated",
                                        "type": "datetime",
                                        "tz": "UTC"
                                    },
                                    {
                                        "name": "QuerhPlanHash",
                                        "type": "string"
                                    },
                                    {
                                        "name": "QueryHash",
                                        "type": "string"
                                    }
                                ],
                                "kqmagic_version": "0.1.113.post1"
                            },
                            "data": [
                                {
                                    "TimeGenerated": "2021-05-11T19:17:31.022Z",
                                    "QuerhPlanHash": "0xdcd040c7146d60d5",
                                    "QueryHash": "0xe0232a262dc67058"
                                }
                            ]
                        }
                    },
                    "metadata": {}
                },
                {
                    "output_type": "display_data",
                    "data": {
                        "text/plain": "<IPython.core.display.HTML object>",
                        "text/html": "<html>\n        <head>\n            \n            \n        </head>\n        <body>\n            <div><p style='padding: 10px; color: #3a87ad; background-color: #d9edf7; border-color: #bce9f1'>Done&nbsp;(00:02.290):&nbsp;1&nbsp;records</p></div>\n        </body>\n        </html>"
                    },
                    "metadata": {}
                },
                {
                    "output_type": "execute_result",
                    "execution_count": 33,
                    "data": {
                        "text/plain": "[{'TimeGenerated': datetime.datetime(2021, 5, 11, 19, 17, 31, 22000, tzinfo=tzutc()), 'QuerhPlanHash': '0xdcd040c7146d60d5', 'QueryHash': '0xe0232a262dc67058'}]",
                        "text/html": ""
                    },
                    "metadata": {}
                }
            ],
            "execution_count": 33
        },
        {
            "cell_type": "markdown",
            "source": [
                "## Query Store Runtime Statistics Events"
            ],
            "metadata": {
                "azdata_cell_guid": "c793f2df-65ec-455a-8ec1-bd152d842158"
            }
        },
        {
            "cell_type": "code",
            "source": [
                "%%kql \r\n",
                "AzureDiagnostics\r\n",
                "| where OperationName == \"QueryStoreRuntimeStatisticsEvent\"\r\n",
                "| project TimeGenerated, query_hash_s, statement_sql_handle_s, query_plan_hash_s\r\n",
                "| take 50"
            ],
            "metadata": {
                "azdata_cell_guid": "f99877c9-38ab-4907-b939-f2d8207fbc71"
            },
            "outputs": [
                {
                    "output_type": "display_data",
                    "data": {
                        "text/plain": "<IPython.core.display.HTML object>",
                        "text/html": "<html>\n        <head>\n            \n            \n        </head>\n        <body>\n            <div><p style='padding: 10px; color: #3a87ad; background-color: #d9edf7; border-color: #bce9f1'>&nbsp;*&nbsp;myLogAnalyticsWorkspace@loganalytics</p></div>\n        </body>\n        </html>"
                    },
                    "metadata": {}
                },
                {
                    "output_type": "display_data",
                    "data": {
                        "text/plain": "                     TimeGenerated        query_hash_s  \\\n0 2021-05-11 19:22:24.560000+00:00  0x3D251D2A95CEE0FA   \n1 2021-05-11 19:22:24.560000+00:00  0x4E8C0B5AF78C4ED1   \n2 2021-05-11 18:45:55.469000+00:00  0x3D251D2A95CEE0FA   \n3 2021-05-11 18:45:55.469000+00:00  0x4E8C0B5AF78C4ED1   \n\n                              statement_sql_handle_s   query_plan_hash_s  \n0  0x0900769CEE691C933F258772430BD1146CFF00000000...  0xBF28FE55E8A5616A  \n1  0x0900C6D4FC50EF5B4E298DBE4E3A7EA7911F00000000...  0x132EFB64A54855E5  \n2  0x0900769CEE691C933F258772430BD1146CFF00000000...  0xBF28FE55E8A5616A  \n3  0x0900C6D4FC50EF5B4E298DBE4E3A7EA7911F00000000...  0x132EFB64A54855E5  ",
                        "text/html": "<div>\n<style scoped>\n    .dataframe tbody tr th:only-of-type {\n        vertical-align: middle;\n    }\n\n    .dataframe tbody tr th {\n        vertical-align: top;\n    }\n\n    .dataframe thead th {\n        text-align: right;\n    }\n</style>\n<table border=\"1\" class=\"dataframe\">\n  <thead>\n    <tr style=\"text-align: right;\">\n      <th></th>\n      <th>TimeGenerated</th>\n      <th>query_hash_s</th>\n      <th>statement_sql_handle_s</th>\n      <th>query_plan_hash_s</th>\n    </tr>\n  </thead>\n  <tbody>\n    <tr>\n      <th>0</th>\n      <td>2021-05-11 19:22:24.560000+00:00</td>\n      <td>0x3D251D2A95CEE0FA</td>\n      <td>0x0900769CEE691C933F258772430BD1146CFF00000000...</td>\n      <td>0xBF28FE55E8A5616A</td>\n    </tr>\n    <tr>\n      <th>1</th>\n      <td>2021-05-11 19:22:24.560000+00:00</td>\n      <td>0x4E8C0B5AF78C4ED1</td>\n      <td>0x0900C6D4FC50EF5B4E298DBE4E3A7EA7911F00000000...</td>\n      <td>0x132EFB64A54855E5</td>\n    </tr>\n    <tr>\n      <th>2</th>\n      <td>2021-05-11 18:45:55.469000+00:00</td>\n      <td>0x3D251D2A95CEE0FA</td>\n      <td>0x0900769CEE691C933F258772430BD1146CFF00000000...</td>\n      <td>0xBF28FE55E8A5616A</td>\n    </tr>\n    <tr>\n      <th>3</th>\n      <td>2021-05-11 18:45:55.469000+00:00</td>\n      <td>0x4E8C0B5AF78C4ED1</td>\n      <td>0x0900C6D4FC50EF5B4E298DBE4E3A7EA7911F00000000...</td>\n      <td>0x132EFB64A54855E5</td>\n    </tr>\n  </tbody>\n</table>\n</div>",
                        "application/vnd.dataresource+json": {
                            "schema": {
                                "fields": [
                                    {
                                        "name": "TimeGenerated",
                                        "type": "datetime",
                                        "tz": "UTC"
                                    },
                                    {
                                        "name": "query_hash_s",
                                        "type": "string"
                                    },
                                    {
                                        "name": "statement_sql_handle_s",
                                        "type": "string"
                                    },
                                    {
                                        "name": "query_plan_hash_s",
                                        "type": "string"
                                    }
                                ],
                                "kqmagic_version": "0.1.113.post1"
                            },
                            "data": [
                                {
                                    "TimeGenerated": "2021-05-11T19:22:24.560Z",
                                    "query_hash_s": "0x3D251D2A95CEE0FA",
                                    "statement_sql_handle_s": "0x0900769CEE691C933F258772430BD1146CFF0000000000000000000000000000000000000000000000000000",
                                    "query_plan_hash_s": "0xBF28FE55E8A5616A"
                                },
                                {
                                    "TimeGenerated": "2021-05-11T19:22:24.560Z",
                                    "query_hash_s": "0x4E8C0B5AF78C4ED1",
                                    "statement_sql_handle_s": "0x0900C6D4FC50EF5B4E298DBE4E3A7EA7911F0000000000000000000000000000000000000000000000000000",
                                    "query_plan_hash_s": "0x132EFB64A54855E5"
                                },
                                {
                                    "TimeGenerated": "2021-05-11T18:45:55.469Z",
                                    "query_hash_s": "0x3D251D2A95CEE0FA",
                                    "statement_sql_handle_s": "0x0900769CEE691C933F258772430BD1146CFF0000000000000000000000000000000000000000000000000000",
                                    "query_plan_hash_s": "0xBF28FE55E8A5616A"
                                },
                                {
                                    "TimeGenerated": "2021-05-11T18:45:55.469Z",
                                    "query_hash_s": "0x4E8C0B5AF78C4ED1",
                                    "statement_sql_handle_s": "0x0900C6D4FC50EF5B4E298DBE4E3A7EA7911F0000000000000000000000000000000000000000000000000000",
                                    "query_plan_hash_s": "0x132EFB64A54855E5"
                                }
                            ]
                        }
                    },
                    "metadata": {}
                },
                {
                    "output_type": "display_data",
                    "data": {
                        "text/plain": "<IPython.core.display.HTML object>",
                        "text/html": "<html>\n        <head>\n            \n            \n        </head>\n        <body>\n            <div><p style='padding: 10px; color: #3a87ad; background-color: #d9edf7; border-color: #bce9f1'>Done&nbsp;(00:01.287):&nbsp;4&nbsp;records</p></div>\n        </body>\n        </html>"
                    },
                    "metadata": {}
                },
                {
                    "output_type": "execute_result",
                    "execution_count": 35,
                    "data": {
                        "text/plain": "[{'TimeGenerated': datetime.datetime(2021, 5, 11, 19, 22, 24, 560000, tzinfo=tzutc()), 'query_hash_s': '0x3D251D2A95CEE0FA', 'statement_sql_handle_s': '0x0900769CEE691C933F258772430BD1146CFF0000000000000000000000000000000000000000000000000000', 'query_plan_hash_s': '0xBF28FE55E8A5616A'},\n {'TimeGenerated': datetime.datetime(2021, 5, 11, 19, 22, 24, 560000, tzinfo=tzutc()), 'query_hash_s': '0x4E8C0B5AF78C4ED1', 'statement_sql_handle_s': '0x0900C6D4FC50EF5B4E298DBE4E3A7EA7911F0000000000000000000000000000000000000000000000000000', 'query_plan_hash_s': '0x132EFB64A54855E5'},\n {'TimeGenerated': datetime.datetime(2021, 5, 11, 18, 45, 55, 469000, tzinfo=tzutc()), 'query_hash_s': '0x3D251D2A95CEE0FA', 'statement_sql_handle_s': '0x0900769CEE691C933F258772430BD1146CFF0000000000000000000000000000000000000000000000000000', 'query_plan_hash_s': '0xBF28FE55E8A5616A'},\n {'TimeGenerated': datetime.datetime(2021, 5, 11, 18, 45, 55, 469000, tzinfo=tzutc()), 'query_hash_s': '0x4E8C0B5AF78C4ED1', 'statement_sql_handle_s': '0x0900C6D4FC50EF5B4E298DBE4E3A7EA7911F0000000000000000000000000000000000000000000000000000', 'query_plan_hash_s': '0x132EFB64A54855E5'}]",
                        "text/html": ""
                    },
                    "metadata": {}
                }
            ],
            "execution_count": 35
        },
        {
            "cell_type": "markdown",
            "source": [
                "## Analyze Errors"
            ],
            "metadata": {
                "azdata_cell_guid": "92c68e36-87a2-4355-8d4b-56d001462d1e"
            }
        },
        {
            "cell_type": "code",
            "source": [
                "%%kql \r\n",
                "AzureDiagnostics\r\n",
                "| where OperationName == \"ErrorEvent\"\r\n",
                "| extend ErrorNumber =  tostring(error_number_d) \r\n",
                "| summarize event_count=count() by EventTime = bin(TimeGenerated, 2d), ErrorNumber\r\n",
                "| render timechart "
            ],
            "metadata": {
                "azdata_cell_guid": "229543f7-f24c-48c1-a9d5-0a3d0d708e25"
            },
            "outputs": [
                {
                    "output_type": "display_data",
                    "data": {
                        "text/plain": "<IPython.core.display.HTML object>",
                        "text/html": "<html>\n        <head>\n            \n            \n        </head>\n        <body>\n            <div><p style='padding: 10px; color: #3a87ad; background-color: #d9edf7; border-color: #bce9f1'>&nbsp;*&nbsp;myLogAnalyticsWorkspace@loganalytics</p></div>\n        </body>\n        </html>"
                    },
                    "metadata": {}
                },
                {
                    "output_type": "display_data",
                    "data": {
                        "application/vnd.plotly.v1+json": {
                            "config": {
                                "plotlyServerURL": "https://plot.ly"
                            },
                            "data": [
                                {
                                    "line": {
                                        "color": "rgb(31, 118, 179)",
                                        "width": 1
                                    },
                                    "name": "208.0:event_count",
                                    "opacity": 0.8,
                                    "type": "scatter",
                                    "x": [
                                        "2021-05-11T00:00:00+00:00"
                                    ],
                                    "y": [
                                        4
                                    ]
                                }
                            ],
                            "layout": {
                                "showlegend": true,
                                "template": {
                                    "data": {
                                        "bar": [
                                            {
                                                "error_x": {
                                                    "color": "#2a3f5f"
                                                },
                                                "error_y": {
                                                    "color": "#2a3f5f"
                                                },
                                                "marker": {
                                                    "line": {
                                                        "color": "#E5ECF6",
                                                        "width": 0.5
                                                    }
                                                },
                                                "type": "bar"
                                            }
                                        ],
                                        "barpolar": [
                                            {
                                                "marker": {
                                                    "line": {
                                                        "color": "#E5ECF6",
                                                        "width": 0.5
                                                    }
                                                },
                                                "type": "barpolar"
                                            }
                                        ],
                                        "carpet": [
                                            {
                                                "aaxis": {
                                                    "endlinecolor": "#2a3f5f",
                                                    "gridcolor": "white",
                                                    "linecolor": "white",
                                                    "minorgridcolor": "white",
                                                    "startlinecolor": "#2a3f5f"
                                                },
                                                "baxis": {
                                                    "endlinecolor": "#2a3f5f",
                                                    "gridcolor": "white",
                                                    "linecolor": "white",
                                                    "minorgridcolor": "white",
                                                    "startlinecolor": "#2a3f5f"
                                                },
                                                "type": "carpet"
                                            }
                                        ],
                                        "choropleth": [
                                            {
                                                "colorbar": {
                                                    "outlinewidth": 0,
                                                    "ticks": ""
                                                },
                                                "type": "choropleth"
                                            }
                                        ],
                                        "contour": [
                                            {
                                                "colorbar": {
                                                    "outlinewidth": 0,
                                                    "ticks": ""
                                                },
                                                "colorscale": [
                                                    [
                                                        0,
                                                        "#0d0887"
                                                    ],
                                                    [
                                                        0.1111111111111111,
                                                        "#46039f"
                                                    ],
                                                    [
                                                        0.2222222222222222,
                                                        "#7201a8"
                                                    ],
                                                    [
                                                        0.3333333333333333,
                                                        "#9c179e"
                                                    ],
                                                    [
                                                        0.4444444444444444,
                                                        "#bd3786"
                                                    ],
                                                    [
                                                        0.5555555555555556,
                                                        "#d8576b"
                                                    ],
                                                    [
                                                        0.6666666666666666,
                                                        "#ed7953"
                                                    ],
                                                    [
                                                        0.7777777777777778,
                                                        "#fb9f3a"
                                                    ],
                                                    [
                                                        0.8888888888888888,
                                                        "#fdca26"
                                                    ],
                                                    [
                                                        1,
                                                        "#f0f921"
                                                    ]
                                                ],
                                                "type": "contour"
                                            }
                                        ],
                                        "contourcarpet": [
                                            {
                                                "colorbar": {
                                                    "outlinewidth": 0,
                                                    "ticks": ""
                                                },
                                                "type": "contourcarpet"
                                            }
                                        ],
                                        "heatmap": [
                                            {
                                                "colorbar": {
                                                    "outlinewidth": 0,
                                                    "ticks": ""
                                                },
                                                "colorscale": [
                                                    [
                                                        0,
                                                        "#0d0887"
                                                    ],
                                                    [
                                                        0.1111111111111111,
                                                        "#46039f"
                                                    ],
                                                    [
                                                        0.2222222222222222,
                                                        "#7201a8"
                                                    ],
                                                    [
                                                        0.3333333333333333,
                                                        "#9c179e"
                                                    ],
                                                    [
                                                        0.4444444444444444,
                                                        "#bd3786"
                                                    ],
                                                    [
                                                        0.5555555555555556,
                                                        "#d8576b"
                                                    ],
                                                    [
                                                        0.6666666666666666,
                                                        "#ed7953"
                                                    ],
                                                    [
                                                        0.7777777777777778,
                                                        "#fb9f3a"
                                                    ],
                                                    [
                                                        0.8888888888888888,
                                                        "#fdca26"
                                                    ],
                                                    [
                                                        1,
                                                        "#f0f921"
                                                    ]
                                                ],
                                                "type": "heatmap"
                                            }
                                        ],
                                        "heatmapgl": [
                                            {
                                                "colorbar": {
                                                    "outlinewidth": 0,
                                                    "ticks": ""
                                                },
                                                "colorscale": [
                                                    [
                                                        0,
                                                        "#0d0887"
                                                    ],
                                                    [
                                                        0.1111111111111111,
                                                        "#46039f"
                                                    ],
                                                    [
                                                        0.2222222222222222,
                                                        "#7201a8"
                                                    ],
                                                    [
                                                        0.3333333333333333,
                                                        "#9c179e"
                                                    ],
                                                    [
                                                        0.4444444444444444,
                                                        "#bd3786"
                                                    ],
                                                    [
                                                        0.5555555555555556,
                                                        "#d8576b"
                                                    ],
                                                    [
                                                        0.6666666666666666,
                                                        "#ed7953"
                                                    ],
                                                    [
                                                        0.7777777777777778,
                                                        "#fb9f3a"
                                                    ],
                                                    [
                                                        0.8888888888888888,
                                                        "#fdca26"
                                                    ],
                                                    [
                                                        1,
                                                        "#f0f921"
                                                    ]
                                                ],
                                                "type": "heatmapgl"
                                            }
                                        ],
                                        "histogram": [
                                            {
                                                "marker": {
                                                    "colorbar": {
                                                        "outlinewidth": 0,
                                                        "ticks": ""
                                                    }
                                                },
                                                "type": "histogram"
                                            }
                                        ],
                                        "histogram2d": [
                                            {
                                                "colorbar": {
                                                    "outlinewidth": 0,
                                                    "ticks": ""
                                                },
                                                "colorscale": [
                                                    [
                                                        0,
                                                        "#0d0887"
                                                    ],
                                                    [
                                                        0.1111111111111111,
                                                        "#46039f"
                                                    ],
                                                    [
                                                        0.2222222222222222,
                                                        "#7201a8"
                                                    ],
                                                    [
                                                        0.3333333333333333,
                                                        "#9c179e"
                                                    ],
                                                    [
                                                        0.4444444444444444,
                                                        "#bd3786"
                                                    ],
                                                    [
                                                        0.5555555555555556,
                                                        "#d8576b"
                                                    ],
                                                    [
                                                        0.6666666666666666,
                                                        "#ed7953"
                                                    ],
                                                    [
                                                        0.7777777777777778,
                                                        "#fb9f3a"
                                                    ],
                                                    [
                                                        0.8888888888888888,
                                                        "#fdca26"
                                                    ],
                                                    [
                                                        1,
                                                        "#f0f921"
                                                    ]
                                                ],
                                                "type": "histogram2d"
                                            }
                                        ],
                                        "histogram2dcontour": [
                                            {
                                                "colorbar": {
                                                    "outlinewidth": 0,
                                                    "ticks": ""
                                                },
                                                "colorscale": [
                                                    [
                                                        0,
                                                        "#0d0887"
                                                    ],
                                                    [
                                                        0.1111111111111111,
                                                        "#46039f"
                                                    ],
                                                    [
                                                        0.2222222222222222,
                                                        "#7201a8"
                                                    ],
                                                    [
                                                        0.3333333333333333,
                                                        "#9c179e"
                                                    ],
                                                    [
                                                        0.4444444444444444,
                                                        "#bd3786"
                                                    ],
                                                    [
                                                        0.5555555555555556,
                                                        "#d8576b"
                                                    ],
                                                    [
                                                        0.6666666666666666,
                                                        "#ed7953"
                                                    ],
                                                    [
                                                        0.7777777777777778,
                                                        "#fb9f3a"
                                                    ],
                                                    [
                                                        0.8888888888888888,
                                                        "#fdca26"
                                                    ],
                                                    [
                                                        1,
                                                        "#f0f921"
                                                    ]
                                                ],
                                                "type": "histogram2dcontour"
                                            }
                                        ],
                                        "mesh3d": [
                                            {
                                                "colorbar": {
                                                    "outlinewidth": 0,
                                                    "ticks": ""
                                                },
                                                "type": "mesh3d"
                                            }
                                        ],
                                        "parcoords": [
                                            {
                                                "line": {
                                                    "colorbar": {
                                                        "outlinewidth": 0,
                                                        "ticks": ""
                                                    }
                                                },
                                                "type": "parcoords"
                                            }
                                        ],
                                        "pie": [
                                            {
                                                "automargin": true,
                                                "type": "pie"
                                            }
                                        ],
                                        "scatter": [
                                            {
                                                "marker": {
                                                    "colorbar": {
                                                        "outlinewidth": 0,
                                                        "ticks": ""
                                                    }
                                                },
                                                "type": "scatter"
                                            }
                                        ],
                                        "scatter3d": [
                                            {
                                                "line": {
                                                    "colorbar": {
                                                        "outlinewidth": 0,
                                                        "ticks": ""
                                                    }
                                                },
                                                "marker": {
                                                    "colorbar": {
                                                        "outlinewidth": 0,
                                                        "ticks": ""
                                                    }
                                                },
                                                "type": "scatter3d"
                                            }
                                        ],
                                        "scattercarpet": [
                                            {
                                                "marker": {
                                                    "colorbar": {
                                                        "outlinewidth": 0,
                                                        "ticks": ""
                                                    }
                                                },
                                                "type": "scattercarpet"
                                            }
                                        ],
                                        "scattergeo": [
                                            {
                                                "marker": {
                                                    "colorbar": {
                                                        "outlinewidth": 0,
                                                        "ticks": ""
                                                    }
                                                },
                                                "type": "scattergeo"
                                            }
                                        ],
                                        "scattergl": [
                                            {
                                                "marker": {
                                                    "colorbar": {
                                                        "outlinewidth": 0,
                                                        "ticks": ""
                                                    }
                                                },
                                                "type": "scattergl"
                                            }
                                        ],
                                        "scattermapbox": [
                                            {
                                                "marker": {
                                                    "colorbar": {
                                                        "outlinewidth": 0,
                                                        "ticks": ""
                                                    }
                                                },
                                                "type": "scattermapbox"
                                            }
                                        ],
                                        "scatterpolar": [
                                            {
                                                "marker": {
                                                    "colorbar": {
                                                        "outlinewidth": 0,
                                                        "ticks": ""
                                                    }
                                                },
                                                "type": "scatterpolar"
                                            }
                                        ],
                                        "scatterpolargl": [
                                            {
                                                "marker": {
                                                    "colorbar": {
                                                        "outlinewidth": 0,
                                                        "ticks": ""
                                                    }
                                                },
                                                "type": "scatterpolargl"
                                            }
                                        ],
                                        "scatterternary": [
                                            {
                                                "marker": {
                                                    "colorbar": {
                                                        "outlinewidth": 0,
                                                        "ticks": ""
                                                    }
                                                },
                                                "type": "scatterternary"
                                            }
                                        ],
                                        "surface": [
                                            {
                                                "colorbar": {
                                                    "outlinewidth": 0,
                                                    "ticks": ""
                                                },
                                                "colorscale": [
                                                    [
                                                        0,
                                                        "#0d0887"
                                                    ],
                                                    [
                                                        0.1111111111111111,
                                                        "#46039f"
                                                    ],
                                                    [
                                                        0.2222222222222222,
                                                        "#7201a8"
                                                    ],
                                                    [
                                                        0.3333333333333333,
                                                        "#9c179e"
                                                    ],
                                                    [
                                                        0.4444444444444444,
                                                        "#bd3786"
                                                    ],
                                                    [
                                                        0.5555555555555556,
                                                        "#d8576b"
                                                    ],
                                                    [
                                                        0.6666666666666666,
                                                        "#ed7953"
                                                    ],
                                                    [
                                                        0.7777777777777778,
                                                        "#fb9f3a"
                                                    ],
                                                    [
                                                        0.8888888888888888,
                                                        "#fdca26"
                                                    ],
                                                    [
                                                        1,
                                                        "#f0f921"
                                                    ]
                                                ],
                                                "type": "surface"
                                            }
                                        ],
                                        "table": [
                                            {
                                                "cells": {
                                                    "fill": {
                                                        "color": "#EBF0F8"
                                                    },
                                                    "line": {
                                                        "color": "white"
                                                    }
                                                },
                                                "header": {
                                                    "fill": {
                                                        "color": "#C8D4E3"
                                                    },
                                                    "line": {
                                                        "color": "white"
                                                    }
                                                },
                                                "type": "table"
                                            }
                                        ]
                                    },
                                    "layout": {
                                        "annotationdefaults": {
                                            "arrowcolor": "#2a3f5f",
                                            "arrowhead": 0,
                                            "arrowwidth": 1
                                        },
                                        "coloraxis": {
                                            "colorbar": {
                                                "outlinewidth": 0,
                                                "ticks": ""
                                            }
                                        },
                                        "colorscale": {
                                            "diverging": [
                                                [
                                                    0,
                                                    "#8e0152"
                                                ],
                                                [
                                                    0.1,
                                                    "#c51b7d"
                                                ],
                                                [
                                                    0.2,
                                                    "#de77ae"
                                                ],
                                                [
                                                    0.3,
                                                    "#f1b6da"
                                                ],
                                                [
                                                    0.4,
                                                    "#fde0ef"
                                                ],
                                                [
                                                    0.5,
                                                    "#f7f7f7"
                                                ],
                                                [
                                                    0.6,
                                                    "#e6f5d0"
                                                ],
                                                [
                                                    0.7,
                                                    "#b8e186"
                                                ],
                                                [
                                                    0.8,
                                                    "#7fbc41"
                                                ],
                                                [
                                                    0.9,
                                                    "#4d9221"
                                                ],
                                                [
                                                    1,
                                                    "#276419"
                                                ]
                                            ],
                                            "sequential": [
                                                [
                                                    0,
                                                    "#0d0887"
                                                ],
                                                [
                                                    0.1111111111111111,
                                                    "#46039f"
                                                ],
                                                [
                                                    0.2222222222222222,
                                                    "#7201a8"
                                                ],
                                                [
                                                    0.3333333333333333,
                                                    "#9c179e"
                                                ],
                                                [
                                                    0.4444444444444444,
                                                    "#bd3786"
                                                ],
                                                [
                                                    0.5555555555555556,
                                                    "#d8576b"
                                                ],
                                                [
                                                    0.6666666666666666,
                                                    "#ed7953"
                                                ],
                                                [
                                                    0.7777777777777778,
                                                    "#fb9f3a"
                                                ],
                                                [
                                                    0.8888888888888888,
                                                    "#fdca26"
                                                ],
                                                [
                                                    1,
                                                    "#f0f921"
                                                ]
                                            ],
                                            "sequentialminus": [
                                                [
                                                    0,
                                                    "#0d0887"
                                                ],
                                                [
                                                    0.1111111111111111,
                                                    "#46039f"
                                                ],
                                                [
                                                    0.2222222222222222,
                                                    "#7201a8"
                                                ],
                                                [
                                                    0.3333333333333333,
                                                    "#9c179e"
                                                ],
                                                [
                                                    0.4444444444444444,
                                                    "#bd3786"
                                                ],
                                                [
                                                    0.5555555555555556,
                                                    "#d8576b"
                                                ],
                                                [
                                                    0.6666666666666666,
                                                    "#ed7953"
                                                ],
                                                [
                                                    0.7777777777777778,
                                                    "#fb9f3a"
                                                ],
                                                [
                                                    0.8888888888888888,
                                                    "#fdca26"
                                                ],
                                                [
                                                    1,
                                                    "#f0f921"
                                                ]
                                            ]
                                        },
                                        "colorway": [
                                            "#636efa",
                                            "#EF553B",
                                            "#00cc96",
                                            "#ab63fa",
                                            "#FFA15A",
                                            "#19d3f3",
                                            "#FF6692",
                                            "#B6E880",
                                            "#FF97FF",
                                            "#FECB52"
                                        ],
                                        "font": {
                                            "color": "#2a3f5f"
                                        },
                                        "geo": {
                                            "bgcolor": "white",
                                            "lakecolor": "white",
                                            "landcolor": "#E5ECF6",
                                            "showlakes": true,
                                            "showland": true,
                                            "subunitcolor": "white"
                                        },
                                        "hoverlabel": {
                                            "align": "left"
                                        },
                                        "hovermode": "closest",
                                        "mapbox": {
                                            "style": "light"
                                        },
                                        "paper_bgcolor": "white",
                                        "plot_bgcolor": "#E5ECF6",
                                        "polar": {
                                            "angularaxis": {
                                                "gridcolor": "white",
                                                "linecolor": "white",
                                                "ticks": ""
                                            },
                                            "bgcolor": "#E5ECF6",
                                            "radialaxis": {
                                                "gridcolor": "white",
                                                "linecolor": "white",
                                                "ticks": ""
                                            }
                                        },
                                        "scene": {
                                            "xaxis": {
                                                "backgroundcolor": "#E5ECF6",
                                                "gridcolor": "white",
                                                "gridwidth": 2,
                                                "linecolor": "white",
                                                "showbackground": true,
                                                "ticks": "",
                                                "zerolinecolor": "white"
                                            },
                                            "yaxis": {
                                                "backgroundcolor": "#E5ECF6",
                                                "gridcolor": "white",
                                                "gridwidth": 2,
                                                "linecolor": "white",
                                                "showbackground": true,
                                                "ticks": "",
                                                "zerolinecolor": "white"
                                            },
                                            "zaxis": {
                                                "backgroundcolor": "#E5ECF6",
                                                "gridcolor": "white",
                                                "gridwidth": 2,
                                                "linecolor": "white",
                                                "showbackground": true,
                                                "ticks": "",
                                                "zerolinecolor": "white"
                                            }
                                        },
                                        "shapedefaults": {
                                            "line": {
                                                "color": "#2a3f5f"
                                            }
                                        },
                                        "ternary": {
                                            "aaxis": {
                                                "gridcolor": "white",
                                                "linecolor": "white",
                                                "ticks": ""
                                            },
                                            "baxis": {
                                                "gridcolor": "white",
                                                "linecolor": "white",
                                                "ticks": ""
                                            },
                                            "bgcolor": "#E5ECF6",
                                            "caxis": {
                                                "gridcolor": "white",
                                                "linecolor": "white",
                                                "ticks": ""
                                            }
                                        },
                                        "title": {
                                            "x": 0.05
                                        },
                                        "xaxis": {
                                            "automargin": true,
                                            "gridcolor": "white",
                                            "linecolor": "white",
                                            "ticks": "",
                                            "title": {
                                                "standoff": 15
                                            },
                                            "zerolinecolor": "white",
                                            "zerolinewidth": 2
                                        },
                                        "yaxis": {
                                            "automargin": true,
                                            "gridcolor": "white",
                                            "linecolor": "white",
                                            "ticks": "",
                                            "title": {
                                                "standoff": 15
                                            },
                                            "zerolinecolor": "white",
                                            "zerolinewidth": 2
                                        }
                                    }
                                },
                                "title": {
                                    "text": "timechart"
                                },
                                "xaxis": {
                                    "autorange": true,
                                    "title": {
                                        "text": "EventTime"
                                    },
                                    "type": "date"
                                },
                                "yaxis": {
                                    "ticksuffix": "",
                                    "title": {
                                        "text": "event_count"
                                    },
                                    "type": "linear"
                                }
                            }
                        }
                    },
                    "metadata": {}
                },
                {
                    "output_type": "display_data",
                    "data": {
                        "text/plain": "<IPython.core.display.HTML object>",
                        "text/html": "<html>\n        <head>\n            \n            \n        </head>\n        <body>\n            <div><p style='padding: 10px; color: #3a87ad; background-color: #d9edf7; border-color: #bce9f1'>Done&nbsp;(00:00.437):&nbsp;1&nbsp;records</p></div>\n        </body>\n        </html>"
                    },
                    "metadata": {}
                },
                {
                    "output_type": "execute_result",
                    "execution_count": 36,
                    "data": {
                        "text/plain": "[{'EventTime': datetime.datetime(2021, 5, 11, 0, 0, tzinfo=tzutc()), 'ErrorNumber': '208.0', 'event_count': 4}]",
                        "text/html": ""
                    },
                    "metadata": {}
                }
            ],
            "execution_count": 36
        },
        {
            "cell_type": "markdown",
            "source": [
                "## Find Deleted table"
            ],
            "metadata": {
                "azdata_cell_guid": "6d450c21-8628-459c-b8c1-c37c8aba8d6d"
            }
        },
        {
            "cell_type": "code",
            "source": [
                "%%kql \r\n",
                "AzureDiagnostics\r\n",
                "| where action_name_s in ('BATCH COMPLETED')\r\n",
                "| project TimeGenerated, Category, action_name_s, statement_s\r\n",
                "| where statement_s contains \"DROP TABLE\"\r\n",
                "| sort by TimeGenerated desc \r\n",
                "| take 10\r\n",
                "\r\n",
                ""
            ],
            "metadata": {
                "azdata_cell_guid": "3b6d232d-a2f4-441e-81f2-33ef59fdb4c6",
                "tags": []
            },
            "outputs": [
                {
                    "output_type": "display_data",
                    "data": {
                        "text/plain": "<IPython.core.display.HTML object>",
                        "text/html": "<html>\n        <head>\n            \n            \n        </head>\n        <body>\n            <div><p style='padding: 10px; color: #3a87ad; background-color: #d9edf7; border-color: #bce9f1'>&nbsp;*&nbsp;myLogAnalyticsWorkspace@loganalytics</p></div>\n        </body>\n        </html>"
                    },
                    "metadata": {}
                },
                {
                    "output_type": "display_data",
                    "data": {
                        "text/plain": "                     TimeGenerated                Category    action_name_s  \\\n0 2021-05-11 19:17:48.244000+00:00  SQLSecurityAuditEvents  BATCH COMPLETED   \n1 2021-05-11 19:17:48.244000+00:00  SQLSecurityAuditEvents  BATCH COMPLETED   \n2 2021-05-11 19:17:13.228000+00:00  SQLSecurityAuditEvents  BATCH COMPLETED   \n3 2021-05-11 19:17:13.228000+00:00  SQLSecurityAuditEvents  BATCH COMPLETED   \n4 2021-05-11 18:38:46.338000+00:00  SQLSecurityAuditEvents  BATCH COMPLETED   \n5 2021-05-11 18:37:33.337000+00:00  SQLSecurityAuditEvents  BATCH COMPLETED   \n\n                                         statement_s  \n0          DROP TABLE IF EXISTS dbo.dt_Employees\\r\\n  \n1         DROP TABLE IF EXISTS dbo.dt_Suppliers;\\r\\n  \n2     \\r\\nDROP TABLE IF EXISTS dbo.dt_Suppliers;\\r\\n  \n3         DROP TABLE IF EXISTS dbo.dt_Employees;\\r\\n  \n4  DROP TABLE IF EXISTS dbo.dt_Suppliers;\\r\\nDROP...  \n5  DROP TABLE IF EXISTS dbo.dt_Employees;\\r\\n\\r\\n...  ",
                        "text/html": "<div>\n<style scoped>\n    .dataframe tbody tr th:only-of-type {\n        vertical-align: middle;\n    }\n\n    .dataframe tbody tr th {\n        vertical-align: top;\n    }\n\n    .dataframe thead th {\n        text-align: right;\n    }\n</style>\n<table border=\"1\" class=\"dataframe\">\n  <thead>\n    <tr style=\"text-align: right;\">\n      <th></th>\n      <th>TimeGenerated</th>\n      <th>Category</th>\n      <th>action_name_s</th>\n      <th>statement_s</th>\n    </tr>\n  </thead>\n  <tbody>\n    <tr>\n      <th>0</th>\n      <td>2021-05-11 19:17:48.244000+00:00</td>\n      <td>SQLSecurityAuditEvents</td>\n      <td>BATCH COMPLETED</td>\n      <td>DROP TABLE IF EXISTS dbo.dt_Employees\\r\\n</td>\n    </tr>\n    <tr>\n      <th>1</th>\n      <td>2021-05-11 19:17:48.244000+00:00</td>\n      <td>SQLSecurityAuditEvents</td>\n      <td>BATCH COMPLETED</td>\n      <td>DROP TABLE IF EXISTS dbo.dt_Suppliers;\\r\\n</td>\n    </tr>\n    <tr>\n      <th>2</th>\n      <td>2021-05-11 19:17:13.228000+00:00</td>\n      <td>SQLSecurityAuditEvents</td>\n      <td>BATCH COMPLETED</td>\n      <td>\\r\\nDROP TABLE IF EXISTS dbo.dt_Suppliers;\\r\\n</td>\n    </tr>\n    <tr>\n      <th>3</th>\n      <td>2021-05-11 19:17:13.228000+00:00</td>\n      <td>SQLSecurityAuditEvents</td>\n      <td>BATCH COMPLETED</td>\n      <td>DROP TABLE IF EXISTS dbo.dt_Employees;\\r\\n</td>\n    </tr>\n    <tr>\n      <th>4</th>\n      <td>2021-05-11 18:38:46.338000+00:00</td>\n      <td>SQLSecurityAuditEvents</td>\n      <td>BATCH COMPLETED</td>\n      <td>DROP TABLE IF EXISTS dbo.dt_Suppliers;\\r\\nDROP...</td>\n    </tr>\n    <tr>\n      <th>5</th>\n      <td>2021-05-11 18:37:33.337000+00:00</td>\n      <td>SQLSecurityAuditEvents</td>\n      <td>BATCH COMPLETED</td>\n      <td>DROP TABLE IF EXISTS dbo.dt_Employees;\\r\\n\\r\\n...</td>\n    </tr>\n  </tbody>\n</table>\n</div>",
                        "application/vnd.dataresource+json": {
                            "schema": {
                                "fields": [
                                    {
                                        "name": "TimeGenerated",
                                        "type": "datetime",
                                        "tz": "UTC"
                                    },
                                    {
                                        "name": "Category",
                                        "type": "string"
                                    },
                                    {
                                        "name": "action_name_s",
                                        "type": "string"
                                    },
                                    {
                                        "name": "statement_s",
                                        "type": "string"
                                    }
                                ],
                                "kqmagic_version": "0.1.113.post1"
                            },
                            "data": [
                                {
                                    "TimeGenerated": "2021-05-11T19:17:48.244Z",
                                    "Category": "SQLSecurityAuditEvents",
                                    "action_name_s": "BATCH COMPLETED",
                                    "statement_s": "DROP TABLE IF EXISTS dbo.dt_Employees\r\n"
                                },
                                {
                                    "TimeGenerated": "2021-05-11T19:17:48.244Z",
                                    "Category": "SQLSecurityAuditEvents",
                                    "action_name_s": "BATCH COMPLETED",
                                    "statement_s": "DROP TABLE IF EXISTS dbo.dt_Suppliers;\r\n"
                                },
                                {
                                    "TimeGenerated": "2021-05-11T19:17:13.228Z",
                                    "Category": "SQLSecurityAuditEvents",
                                    "action_name_s": "BATCH COMPLETED",
                                    "statement_s": "\r\nDROP TABLE IF EXISTS dbo.dt_Suppliers;\r\n"
                                },
                                {
                                    "TimeGenerated": "2021-05-11T19:17:13.228Z",
                                    "Category": "SQLSecurityAuditEvents",
                                    "action_name_s": "BATCH COMPLETED",
                                    "statement_s": "DROP TABLE IF EXISTS dbo.dt_Employees;\r\n"
                                },
                                {
                                    "TimeGenerated": "2021-05-11T18:38:46.338Z",
                                    "Category": "SQLSecurityAuditEvents",
                                    "action_name_s": "BATCH COMPLETED",
                                    "statement_s": "DROP TABLE IF EXISTS dbo.dt_Suppliers;\r\nDROP TABLE IF EXISTS dbo.dt_Employees;"
                                },
                                {
                                    "TimeGenerated": "2021-05-11T18:37:33.337Z",
                                    "Category": "SQLSecurityAuditEvents",
                                    "action_name_s": "BATCH COMPLETED",
                                    "statement_s": "DROP TABLE IF EXISTS dbo.dt_Employees;\r\n\r\nCREATE TABLE dbo.dt_Employees (\r\n    EmpId INT IDENTITY,\r\n    EmpName VARCHAR(16),\r\n    Phone VARCHAR(16)\r\n);\r\n\r\nINSERT INTO dbo.dt_Employees (EmpName, Phone)\r\nVALUES ('Martha', '800-555-1212'), ('Jimmy', '619-555-8080');\r\n\r\nDROP TABLE IF EXISTS dbo.dt_Suppliers;\r\n\r\nCREATE TABLE dbo.dt_Suppliers(\r\n    SupplierId INT IDENTITY,\r\n    SupplierName VARCHAR(64),\r\n    Fax VARCHAR(16)\r\n);\r\n\r\nINSERT INTO dbo.dt_Suppliers (SupplierName, Fax)\r\nVALUES ('Acme', '877-555-6060'), ('Rockwell', '800-257-1234');"
                                }
                            ]
                        }
                    },
                    "metadata": {}
                },
                {
                    "output_type": "display_data",
                    "data": {
                        "text/plain": "<IPython.core.display.HTML object>",
                        "text/html": "<html>\n        <head>\n            \n            \n        </head>\n        <body>\n            <div><p style='padding: 10px; color: #3a87ad; background-color: #d9edf7; border-color: #bce9f1'>Done&nbsp;(00:00.276):&nbsp;6&nbsp;records</p></div>\n        </body>\n        </html>"
                    },
                    "metadata": {}
                },
                {
                    "output_type": "execute_result",
                    "execution_count": 37,
                    "data": {
                        "text/plain": "[{'TimeGenerated': datetime.datetime(2021, 5, 11, 19, 17, 48, 244000, tzinfo=tzutc()), 'Category': 'SQLSecurityAuditEvents', 'action_name_s': 'BATCH COMPLETED', 'statement_s': 'DROP TABLE IF EXISTS dbo.dt_Employees\\r\\n'},\n {'TimeGenerated': datetime.datetime(2021, 5, 11, 19, 17, 48, 244000, tzinfo=tzutc()), 'Category': 'SQLSecurityAuditEvents', 'action_name_s': 'BATCH COMPLETED', 'statement_s': 'DROP TABLE IF EXISTS dbo.dt_Suppliers;\\r\\n'},\n {'TimeGenerated': datetime.datetime(2021, 5, 11, 19, 17, 13, 228000, tzinfo=tzutc()), 'Category': 'SQLSecurityAuditEvents', 'action_name_s': 'BATCH COMPLETED', 'statement_s': '\\r\\nDROP TABLE IF EXISTS dbo.dt_Suppliers;\\r\\n'},\n {'TimeGenerated': datetime.datetime(2021, 5, 11, 19, 17, 13, 228000, tzinfo=tzutc()), 'Category': 'SQLSecurityAuditEvents', 'action_name_s': 'BATCH COMPLETED', 'statement_s': 'DROP TABLE IF EXISTS dbo.dt_Employees;\\r\\n'},\n {'TimeGenerated': datetime.datetime(2021, 5, 11, 18, 38, 46, 338000, tzinfo=tzutc()), 'Category': 'SQLSecurityAuditEvents', 'action_name_s': 'BATCH COMPLETED', 'statement_s': 'DROP TABLE IF EXISTS dbo.dt_Suppliers;\\r\\nDROP TABLE IF EXISTS dbo.dt_Employees;'},\n {'TimeGenerated': datetime.datetime(2021, 5, 11, 18, 37, 33, 337000, tzinfo=tzutc()), 'Category': 'SQLSecurityAuditEvents', 'action_name_s': 'BATCH COMPLETED', 'statement_s': \"DROP TABLE IF EXISTS dbo.dt_Employees;\\r\\n\\r\\nCREATE TABLE dbo.dt_Employees (\\r\\n    EmpId INT IDENTITY,\\r\\n    EmpName VARCHAR(16),\\r\\n    Phone VARCHAR(16)\\r\\n);\\r\\n\\r\\nINSERT INTO dbo.dt_Employees (EmpName, Phone)\\r\\nVALUES ('Martha', '800-555-1212'), ('Jimmy', '619-555-8080');\\r\\n\\r\\nDROP TABLE IF EXISTS dbo.dt_Suppliers;\\r\\n\\r\\nCREATE TABLE dbo.dt_Suppliers(\\r\\n    SupplierId INT IDENTITY,\\r\\n    SupplierName VARCHAR(64),\\r\\n    Fax VARCHAR(16)\\r\\n);\\r\\n\\r\\nINSERT INTO dbo.dt_Suppliers (SupplierName, Fax)\\r\\nVALUES ('Acme', '877-555-6060'), ('Rockwell', '800-257-1234');\"}]",
                        "text/html": ""
                    },
                    "metadata": {}
                }
            ],
            "execution_count": 37
        }
    ]
}